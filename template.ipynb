{
 "cells": [
  {
   "cell_type": "markdown",
   "metadata": {},
   "source": [
    "# Your Title Here\n",
    "\n",
    "**Name(s)**: Vinuthna Hasthi and Shreya Musini\n",
    "\n",
    "**Website Link**: (your website link)"
   ]
  },
  {
   "cell_type": "code",
   "execution_count": 1,
   "metadata": {
    "ExecuteTime": {
     "end_time": "2019-10-31T23:36:28.652554Z",
     "start_time": "2019-10-31T23:36:27.180520Z"
    }
   },
   "outputs": [],
   "source": [
    "import pandas as pd\n",
    "import numpy as np\n",
    "from pathlib import Path\n",
    "\n",
    "import plotly.express as px\n",
    "pd.options.plotting.backend = 'plotly'\n",
    "\n",
    "# from dsc80_utils import * # Feel free to uncomment and use this."
   ]
  },
  {
   "cell_type": "code",
   "execution_count": 2,
   "metadata": {},
   "outputs": [
    {
     "name": "stdout",
     "output_type": "stream",
     "text": [
      "Requirement already satisfied: pandas in c:\\users\\vinut\\miniforge3\\envs\\dsc80\\lib\\site-packages (1.3.3)\n",
      "Requirement already satisfied: openpyxl in c:\\users\\vinut\\miniforge3\\envs\\dsc80\\lib\\site-packages (3.1.2)\n",
      "Requirement already satisfied: numpy>=1.17.3 in c:\\users\\vinut\\miniforge3\\envs\\dsc80\\lib\\site-packages (from pandas) (1.21.2)\n",
      "Requirement already satisfied: python-dateutil>=2.7.3 in c:\\users\\vinut\\miniforge3\\envs\\dsc80\\lib\\site-packages (from pandas) (2.8.2)\n",
      "Requirement already satisfied: pytz>=2017.3 in c:\\users\\vinut\\miniforge3\\envs\\dsc80\\lib\\site-packages (from pandas) (2023.3.post1)\n",
      "Requirement already satisfied: et-xmlfile in c:\\users\\vinut\\miniforge3\\envs\\dsc80\\lib\\site-packages (from openpyxl) (1.1.0)\n",
      "Requirement already satisfied: six>=1.5 in c:\\users\\vinut\\miniforge3\\envs\\dsc80\\lib\\site-packages (from python-dateutil>=2.7.3->pandas) (1.16.0)\n",
      "Note: you may need to restart the kernel to use updated packages.\n"
     ]
    }
   ],
   "source": [
    "pip install pandas openpyxl"
   ]
  },
  {
   "cell_type": "markdown",
   "metadata": {},
   "source": [
    "## Step 1: Introduction"
   ]
  },
  {
   "cell_type": "code",
   "execution_count": 3,
   "metadata": {},
   "outputs": [
    {
     "data": {
      "text/html": [
       "<div>\n",
       "<style scoped>\n",
       "    .dataframe tbody tr th:only-of-type {\n",
       "        vertical-align: middle;\n",
       "    }\n",
       "\n",
       "    .dataframe tbody tr th {\n",
       "        vertical-align: top;\n",
       "    }\n",
       "\n",
       "    .dataframe thead th {\n",
       "        text-align: right;\n",
       "    }\n",
       "</style>\n",
       "<table border=\"1\" class=\"dataframe\">\n",
       "  <thead>\n",
       "    <tr style=\"text-align: right;\">\n",
       "      <th></th>\n",
       "      <th>YEAR</th>\n",
       "      <th>MONTH</th>\n",
       "      <th>U.S._STATE</th>\n",
       "      <th>POSTAL.CODE</th>\n",
       "      <th>NERC.REGION</th>\n",
       "      <th>CLIMATE.REGION</th>\n",
       "      <th>ANOMALY.LEVEL</th>\n",
       "      <th>CLIMATE.CATEGORY</th>\n",
       "      <th>OUTAGE.START.DATE</th>\n",
       "      <th>OUTAGE.START.TIME</th>\n",
       "      <th>...</th>\n",
       "      <th>POPPCT_URBAN</th>\n",
       "      <th>POPPCT_UC</th>\n",
       "      <th>POPDEN_URBAN</th>\n",
       "      <th>POPDEN_UC</th>\n",
       "      <th>POPDEN_RURAL</th>\n",
       "      <th>AREAPCT_URBAN</th>\n",
       "      <th>AREAPCT_UC</th>\n",
       "      <th>PCT_LAND</th>\n",
       "      <th>PCT_WATER_TOT</th>\n",
       "      <th>PCT_WATER_INLAND</th>\n",
       "    </tr>\n",
       "  </thead>\n",
       "  <tbody>\n",
       "    <tr>\n",
       "      <th>1</th>\n",
       "      <td>2011.0</td>\n",
       "      <td>7.0</td>\n",
       "      <td>Minnesota</td>\n",
       "      <td>MN</td>\n",
       "      <td>MRO</td>\n",
       "      <td>East North Central</td>\n",
       "      <td>-0.3</td>\n",
       "      <td>normal</td>\n",
       "      <td>2011-07-01 00:00:00</td>\n",
       "      <td>17:00:00</td>\n",
       "      <td>...</td>\n",
       "      <td>73.27</td>\n",
       "      <td>15.28</td>\n",
       "      <td>2279</td>\n",
       "      <td>1700.5</td>\n",
       "      <td>18.2</td>\n",
       "      <td>2.14</td>\n",
       "      <td>0.6</td>\n",
       "      <td>91.592666</td>\n",
       "      <td>8.407334</td>\n",
       "      <td>5.478743</td>\n",
       "    </tr>\n",
       "    <tr>\n",
       "      <th>2</th>\n",
       "      <td>2014.0</td>\n",
       "      <td>5.0</td>\n",
       "      <td>Minnesota</td>\n",
       "      <td>MN</td>\n",
       "      <td>MRO</td>\n",
       "      <td>East North Central</td>\n",
       "      <td>-0.1</td>\n",
       "      <td>normal</td>\n",
       "      <td>2014-05-11 00:00:00</td>\n",
       "      <td>18:38:00</td>\n",
       "      <td>...</td>\n",
       "      <td>73.27</td>\n",
       "      <td>15.28</td>\n",
       "      <td>2279</td>\n",
       "      <td>1700.5</td>\n",
       "      <td>18.2</td>\n",
       "      <td>2.14</td>\n",
       "      <td>0.6</td>\n",
       "      <td>91.592666</td>\n",
       "      <td>8.407334</td>\n",
       "      <td>5.478743</td>\n",
       "    </tr>\n",
       "    <tr>\n",
       "      <th>3</th>\n",
       "      <td>2010.0</td>\n",
       "      <td>10.0</td>\n",
       "      <td>Minnesota</td>\n",
       "      <td>MN</td>\n",
       "      <td>MRO</td>\n",
       "      <td>East North Central</td>\n",
       "      <td>-1.5</td>\n",
       "      <td>cold</td>\n",
       "      <td>2010-10-26 00:00:00</td>\n",
       "      <td>20:00:00</td>\n",
       "      <td>...</td>\n",
       "      <td>73.27</td>\n",
       "      <td>15.28</td>\n",
       "      <td>2279</td>\n",
       "      <td>1700.5</td>\n",
       "      <td>18.2</td>\n",
       "      <td>2.14</td>\n",
       "      <td>0.6</td>\n",
       "      <td>91.592666</td>\n",
       "      <td>8.407334</td>\n",
       "      <td>5.478743</td>\n",
       "    </tr>\n",
       "    <tr>\n",
       "      <th>4</th>\n",
       "      <td>2012.0</td>\n",
       "      <td>6.0</td>\n",
       "      <td>Minnesota</td>\n",
       "      <td>MN</td>\n",
       "      <td>MRO</td>\n",
       "      <td>East North Central</td>\n",
       "      <td>-0.1</td>\n",
       "      <td>normal</td>\n",
       "      <td>2012-06-19 00:00:00</td>\n",
       "      <td>04:30:00</td>\n",
       "      <td>...</td>\n",
       "      <td>73.27</td>\n",
       "      <td>15.28</td>\n",
       "      <td>2279</td>\n",
       "      <td>1700.5</td>\n",
       "      <td>18.2</td>\n",
       "      <td>2.14</td>\n",
       "      <td>0.6</td>\n",
       "      <td>91.592666</td>\n",
       "      <td>8.407334</td>\n",
       "      <td>5.478743</td>\n",
       "    </tr>\n",
       "    <tr>\n",
       "      <th>5</th>\n",
       "      <td>2015.0</td>\n",
       "      <td>7.0</td>\n",
       "      <td>Minnesota</td>\n",
       "      <td>MN</td>\n",
       "      <td>MRO</td>\n",
       "      <td>East North Central</td>\n",
       "      <td>1.2</td>\n",
       "      <td>warm</td>\n",
       "      <td>2015-07-18 00:00:00</td>\n",
       "      <td>02:00:00</td>\n",
       "      <td>...</td>\n",
       "      <td>73.27</td>\n",
       "      <td>15.28</td>\n",
       "      <td>2279</td>\n",
       "      <td>1700.5</td>\n",
       "      <td>18.2</td>\n",
       "      <td>2.14</td>\n",
       "      <td>0.6</td>\n",
       "      <td>91.592666</td>\n",
       "      <td>8.407334</td>\n",
       "      <td>5.478743</td>\n",
       "    </tr>\n",
       "    <tr>\n",
       "      <th>...</th>\n",
       "      <td>...</td>\n",
       "      <td>...</td>\n",
       "      <td>...</td>\n",
       "      <td>...</td>\n",
       "      <td>...</td>\n",
       "      <td>...</td>\n",
       "      <td>...</td>\n",
       "      <td>...</td>\n",
       "      <td>...</td>\n",
       "      <td>...</td>\n",
       "      <td>...</td>\n",
       "      <td>...</td>\n",
       "      <td>...</td>\n",
       "      <td>...</td>\n",
       "      <td>...</td>\n",
       "      <td>...</td>\n",
       "      <td>...</td>\n",
       "      <td>...</td>\n",
       "      <td>...</td>\n",
       "      <td>...</td>\n",
       "      <td>...</td>\n",
       "    </tr>\n",
       "    <tr>\n",
       "      <th>1530</th>\n",
       "      <td>2011.0</td>\n",
       "      <td>12.0</td>\n",
       "      <td>North Dakota</td>\n",
       "      <td>ND</td>\n",
       "      <td>MRO</td>\n",
       "      <td>West North Central</td>\n",
       "      <td>-0.9</td>\n",
       "      <td>cold</td>\n",
       "      <td>2011-12-06 00:00:00</td>\n",
       "      <td>08:00:00</td>\n",
       "      <td>...</td>\n",
       "      <td>59.9</td>\n",
       "      <td>19.9</td>\n",
       "      <td>2192.2</td>\n",
       "      <td>1868.2</td>\n",
       "      <td>3.9</td>\n",
       "      <td>0.27</td>\n",
       "      <td>0.1</td>\n",
       "      <td>97.599649</td>\n",
       "      <td>2.401765</td>\n",
       "      <td>2.401765</td>\n",
       "    </tr>\n",
       "    <tr>\n",
       "      <th>1531</th>\n",
       "      <td>2006.0</td>\n",
       "      <td>NaN</td>\n",
       "      <td>North Dakota</td>\n",
       "      <td>ND</td>\n",
       "      <td>MRO</td>\n",
       "      <td>West North Central</td>\n",
       "      <td>NaN</td>\n",
       "      <td>NaN</td>\n",
       "      <td>NaN</td>\n",
       "      <td>NaN</td>\n",
       "      <td>...</td>\n",
       "      <td>59.9</td>\n",
       "      <td>19.9</td>\n",
       "      <td>2192.2</td>\n",
       "      <td>1868.2</td>\n",
       "      <td>3.9</td>\n",
       "      <td>0.27</td>\n",
       "      <td>0.1</td>\n",
       "      <td>97.599649</td>\n",
       "      <td>2.401765</td>\n",
       "      <td>2.401765</td>\n",
       "    </tr>\n",
       "    <tr>\n",
       "      <th>1532</th>\n",
       "      <td>2009.0</td>\n",
       "      <td>8.0</td>\n",
       "      <td>South Dakota</td>\n",
       "      <td>SD</td>\n",
       "      <td>RFC</td>\n",
       "      <td>West North Central</td>\n",
       "      <td>0.5</td>\n",
       "      <td>warm</td>\n",
       "      <td>2009-08-29 00:00:00</td>\n",
       "      <td>22:54:00</td>\n",
       "      <td>...</td>\n",
       "      <td>56.65</td>\n",
       "      <td>26.73</td>\n",
       "      <td>2038.3</td>\n",
       "      <td>1905.4</td>\n",
       "      <td>4.7</td>\n",
       "      <td>0.3</td>\n",
       "      <td>0.15</td>\n",
       "      <td>98.307744</td>\n",
       "      <td>1.692256</td>\n",
       "      <td>1.692256</td>\n",
       "    </tr>\n",
       "    <tr>\n",
       "      <th>1533</th>\n",
       "      <td>2009.0</td>\n",
       "      <td>8.0</td>\n",
       "      <td>South Dakota</td>\n",
       "      <td>SD</td>\n",
       "      <td>MRO</td>\n",
       "      <td>West North Central</td>\n",
       "      <td>0.5</td>\n",
       "      <td>warm</td>\n",
       "      <td>2009-08-29 00:00:00</td>\n",
       "      <td>11:00:00</td>\n",
       "      <td>...</td>\n",
       "      <td>56.65</td>\n",
       "      <td>26.73</td>\n",
       "      <td>2038.3</td>\n",
       "      <td>1905.4</td>\n",
       "      <td>4.7</td>\n",
       "      <td>0.3</td>\n",
       "      <td>0.15</td>\n",
       "      <td>98.307744</td>\n",
       "      <td>1.692256</td>\n",
       "      <td>1.692256</td>\n",
       "    </tr>\n",
       "    <tr>\n",
       "      <th>1534</th>\n",
       "      <td>2000.0</td>\n",
       "      <td>NaN</td>\n",
       "      <td>Alaska</td>\n",
       "      <td>AK</td>\n",
       "      <td>ASCC</td>\n",
       "      <td>NaN</td>\n",
       "      <td>NaN</td>\n",
       "      <td>NaN</td>\n",
       "      <td>NaN</td>\n",
       "      <td>NaN</td>\n",
       "      <td>...</td>\n",
       "      <td>66.02</td>\n",
       "      <td>21.56</td>\n",
       "      <td>1802.6</td>\n",
       "      <td>1276</td>\n",
       "      <td>0.4</td>\n",
       "      <td>0.05</td>\n",
       "      <td>0.02</td>\n",
       "      <td>85.761154</td>\n",
       "      <td>14.238846</td>\n",
       "      <td>2.901182</td>\n",
       "    </tr>\n",
       "  </tbody>\n",
       "</table>\n",
       "<p>1534 rows × 55 columns</p>\n",
       "</div>"
      ],
      "text/plain": [
       "        YEAR  MONTH    U.S._STATE POSTAL.CODE NERC.REGION      CLIMATE.REGION  \\\n",
       "1     2011.0    7.0     Minnesota          MN         MRO  East North Central   \n",
       "2     2014.0    5.0     Minnesota          MN         MRO  East North Central   \n",
       "3     2010.0   10.0     Minnesota          MN         MRO  East North Central   \n",
       "4     2012.0    6.0     Minnesota          MN         MRO  East North Central   \n",
       "5     2015.0    7.0     Minnesota          MN         MRO  East North Central   \n",
       "...      ...    ...           ...         ...         ...                 ...   \n",
       "1530  2011.0   12.0  North Dakota          ND         MRO  West North Central   \n",
       "1531  2006.0    NaN  North Dakota          ND         MRO  West North Central   \n",
       "1532  2009.0    8.0  South Dakota          SD         RFC  West North Central   \n",
       "1533  2009.0    8.0  South Dakota          SD         MRO  West North Central   \n",
       "1534  2000.0    NaN        Alaska          AK        ASCC                 NaN   \n",
       "\n",
       "     ANOMALY.LEVEL CLIMATE.CATEGORY    OUTAGE.START.DATE OUTAGE.START.TIME  \\\n",
       "1             -0.3           normal  2011-07-01 00:00:00          17:00:00   \n",
       "2             -0.1           normal  2014-05-11 00:00:00          18:38:00   \n",
       "3             -1.5             cold  2010-10-26 00:00:00          20:00:00   \n",
       "4             -0.1           normal  2012-06-19 00:00:00          04:30:00   \n",
       "5              1.2             warm  2015-07-18 00:00:00          02:00:00   \n",
       "...            ...              ...                  ...               ...   \n",
       "1530          -0.9             cold  2011-12-06 00:00:00          08:00:00   \n",
       "1531           NaN              NaN                  NaN               NaN   \n",
       "1532           0.5             warm  2009-08-29 00:00:00          22:54:00   \n",
       "1533           0.5             warm  2009-08-29 00:00:00          11:00:00   \n",
       "1534           NaN              NaN                  NaN               NaN   \n",
       "\n",
       "      ... POPPCT_URBAN POPPCT_UC POPDEN_URBAN POPDEN_UC POPDEN_RURAL  \\\n",
       "1     ...        73.27     15.28         2279    1700.5         18.2   \n",
       "2     ...        73.27     15.28         2279    1700.5         18.2   \n",
       "3     ...        73.27     15.28         2279    1700.5         18.2   \n",
       "4     ...        73.27     15.28         2279    1700.5         18.2   \n",
       "5     ...        73.27     15.28         2279    1700.5         18.2   \n",
       "...   ...          ...       ...          ...       ...          ...   \n",
       "1530  ...         59.9      19.9       2192.2    1868.2          3.9   \n",
       "1531  ...         59.9      19.9       2192.2    1868.2          3.9   \n",
       "1532  ...        56.65     26.73       2038.3    1905.4          4.7   \n",
       "1533  ...        56.65     26.73       2038.3    1905.4          4.7   \n",
       "1534  ...        66.02     21.56       1802.6      1276          0.4   \n",
       "\n",
       "     AREAPCT_URBAN AREAPCT_UC   PCT_LAND PCT_WATER_TOT PCT_WATER_INLAND  \n",
       "1             2.14        0.6  91.592666      8.407334         5.478743  \n",
       "2             2.14        0.6  91.592666      8.407334         5.478743  \n",
       "3             2.14        0.6  91.592666      8.407334         5.478743  \n",
       "4             2.14        0.6  91.592666      8.407334         5.478743  \n",
       "5             2.14        0.6  91.592666      8.407334         5.478743  \n",
       "...            ...        ...        ...           ...              ...  \n",
       "1530          0.27        0.1  97.599649      2.401765         2.401765  \n",
       "1531          0.27        0.1  97.599649      2.401765         2.401765  \n",
       "1532           0.3       0.15  98.307744      1.692256         1.692256  \n",
       "1533           0.3       0.15  98.307744      1.692256         1.692256  \n",
       "1534          0.05       0.02  85.761154     14.238846         2.901182  \n",
       "\n",
       "[1534 rows x 55 columns]"
      ]
     },
     "execution_count": 3,
     "metadata": {},
     "output_type": "execute_result"
    }
   ],
   "source": [
    "df = pd.read_excel('/Users/vinut/OneDrive/Desktop/power_outages-project/data/outage.xlsx', header = 5)\n",
    "df = df.drop([0])\n",
    "df = df.drop(df.columns[0], axis = 1)\n",
    "df = df.drop(df.columns[0], axis = 1)\n",
    "df"
   ]
  },
  {
   "cell_type": "markdown",
   "metadata": {},
   "source": [
    "## Step 2: Data Cleaning and Exploratory Data Analysis"
   ]
  },
  {
   "cell_type": "code",
   "execution_count": 4,
   "metadata": {
    "ExecuteTime": {
     "end_time": "2019-10-31T23:36:28.657068Z",
     "start_time": "2019-10-31T23:36:28.654650Z"
    }
   },
   "outputs": [],
   "source": [
    "# comb = df['OUTAGE.START.DATE'][1].time() + df['OUTAGE.START.TIME'][1]\n",
    "# comb\n",
    "# df['OUTAGE.START.DATE'][1]\n",
    "# df['OUTAGE.START.DATE'][1].time() = df['OUTAGE.START.TIME'][1]\n",
    "# df['OUTAGE.START.TIME'][1]\n",
    "# def replace_time(dt, new_time):\n",
    "#     return pd.datetime.combine(dt.date(), new_time)\n",
    "# comb = df.apply(lambda x: replace_time(x['OUTAGE.START.DATE'], x['OUTAGE.START.TIME']), axis = 1)\n",
    "# comb"
   ]
  },
  {
   "cell_type": "code",
   "execution_count": 5,
   "metadata": {},
   "outputs": [
    {
     "data": {
      "text/plain": [
       "datetime.datetime"
      ]
     },
     "execution_count": 5,
     "metadata": {},
     "output_type": "execute_result"
    }
   ],
   "source": [
    "type(df['OUTAGE.START.DATE'].iloc[1])"
   ]
  },
  {
   "cell_type": "code",
   "execution_count": 6,
   "metadata": {},
   "outputs": [],
   "source": [
    "# df['OUTAGE.START.DATE'] = pd.to_datetime(df['OUTAGE.START.DATE'])\n",
    "df['OUTAGE.START.DATE'] = df['OUTAGE.START.DATE'].astype(str)\n",
    "df['OUTAGE.START.DATE'] = pd.to_datetime(df['OUTAGE.START.DATE'])"
   ]
  },
  {
   "cell_type": "code",
   "execution_count": 7,
   "metadata": {},
   "outputs": [],
   "source": [
    "df['OUTAGE.START.TIME'] = df['OUTAGE.START.TIME'].astype(str)\n",
    "df['OUTAGE.START.TIME'] = pd.to_timedelta(df['OUTAGE.START.TIME'])"
   ]
  },
  {
   "cell_type": "code",
   "execution_count": 8,
   "metadata": {},
   "outputs": [
    {
     "data": {
      "text/plain": [
       "1      2011-07-01 17:00:00\n",
       "2      2014-05-11 18:38:00\n",
       "3      2010-10-26 20:00:00\n",
       "4      2012-06-19 04:30:00\n",
       "5      2015-07-18 02:00:00\n",
       "               ...        \n",
       "1530   2011-12-06 08:00:00\n",
       "1531                   NaT\n",
       "1532   2009-08-29 22:54:00\n",
       "1533   2009-08-29 11:00:00\n",
       "1534                   NaT\n",
       "Name: OUTAGE.START, Length: 1534, dtype: datetime64[ns]"
      ]
     },
     "execution_count": 8,
     "metadata": {},
     "output_type": "execute_result"
    }
   ],
   "source": [
    "df['OUTAGE.START'] = df['OUTAGE.START.DATE'] + df['OUTAGE.START.TIME']\n",
    "df['OUTAGE.START']"
   ]
  },
  {
   "cell_type": "code",
   "execution_count": 9,
   "metadata": {
    "scrolled": false
   },
   "outputs": [
    {
     "data": {
      "text/plain": [
       "1      2011-07-03 20:00:00\n",
       "2      2014-05-11 18:39:00\n",
       "3      2010-10-28 22:00:00\n",
       "4      2012-06-20 23:00:00\n",
       "5      2015-07-19 07:00:00\n",
       "               ...        \n",
       "1530   2011-12-06 20:00:00\n",
       "1531                   NaT\n",
       "1532   2009-08-29 23:53:00\n",
       "1533   2009-08-29 14:01:00\n",
       "1534                   NaT\n",
       "Name: OUTAGE.RESTORATION, Length: 1534, dtype: datetime64[ns]"
      ]
     },
     "execution_count": 9,
     "metadata": {},
     "output_type": "execute_result"
    }
   ],
   "source": [
    "df['OUTAGE.RESTORATION.DATE'] = df['OUTAGE.RESTORATION.DATE'].astype(str)\n",
    "df['OUTAGE.RESTORATION.DATE'] = pd.to_datetime(df['OUTAGE.RESTORATION.DATE'])\n",
    "df['OUTAGE.RESTORATION.TIME'] = df['OUTAGE.RESTORATION.TIME'].astype(str)\n",
    "df['OUTAGE.RESTORATION.TIME'] = pd.to_timedelta(df['OUTAGE.RESTORATION.TIME'])\n",
    "df['OUTAGE.RESTORATION'] = df['OUTAGE.RESTORATION.DATE'] + df['OUTAGE.RESTORATION.TIME']\n",
    "df['OUTAGE.RESTORATION']"
   ]
  },
  {
   "cell_type": "code",
   "execution_count": 10,
   "metadata": {},
   "outputs": [],
   "source": [
    "df.loc[df['POSTAL.CODE'] == 'HI', 'CLIMATE.REGION'] = df['CLIMATE.REGION'].fillna('Hawaii')\n",
    "df.loc[df['POSTAL.CODE'] == 'AK', 'CLIMATE.REGION'] = df['CLIMATE.REGION'].fillna('Alaska')"
   ]
  },
  {
   "cell_type": "code",
   "execution_count": 11,
   "metadata": {},
   "outputs": [],
   "source": [
    "duration = (df['OUTAGE.RESTORATION'] - df['OUTAGE.START'])\n",
    "mean_dur = duration.dropna().mean()\n",
    "df['OUTAGE.RESTORATION'] = df['OUTAGE.RESTORATION'].fillna(df['OUTAGE.START'] + mean_dur)"
   ]
  },
  {
   "cell_type": "code",
   "execution_count": 12,
   "metadata": {},
   "outputs": [],
   "source": [
    "# means = df.groupby('CLIMATE.REGION').agg({\n",
    "#     'OUTAGE.START': lambda x: x.mean(),\n",
    "#     'OUTAGE.RESTORATION': lambda x: x.mean()}).reset_index()\n",
    "# means"
   ]
  },
  {
   "cell_type": "code",
   "execution_count": 13,
   "metadata": {},
   "outputs": [],
   "source": [
    "climate_means = df.groupby('CLIMATE.REGION').agg({\n",
    "    'OUTAGE.START': lambda x: x.mean(),\n",
    "    'OUTAGE.RESTORATION': lambda x: x.mean()}).reset_index()\n",
    "\n",
    "def imputate_by_climate(row, means):\n",
    "    if pd.isna(row['OUTAGE.START']):\n",
    "        row['OUTAGE.START'] = means.loc[means['CLIMATE.REGION'] == row['CLIMATE.REGION'], 'OUTAGE.START'].values[0]\n",
    "    if pd.isna(row['OUTAGE.RESTORATION']):\n",
    "        row['OUTAGE.RESTORATION'] = means.loc[means['CLIMATE.REGION'] == row['CLIMATE.REGION'], 'OUTAGE.RESTORATION'].values[0]\n",
    "    return row\n",
    "    "
   ]
  },
  {
   "cell_type": "code",
   "execution_count": 14,
   "metadata": {},
   "outputs": [
    {
     "data": {
      "text/html": [
       "<div>\n",
       "<style scoped>\n",
       "    .dataframe tbody tr th:only-of-type {\n",
       "        vertical-align: middle;\n",
       "    }\n",
       "\n",
       "    .dataframe tbody tr th {\n",
       "        vertical-align: top;\n",
       "    }\n",
       "\n",
       "    .dataframe thead th {\n",
       "        text-align: right;\n",
       "    }\n",
       "</style>\n",
       "<table border=\"1\" class=\"dataframe\">\n",
       "  <thead>\n",
       "    <tr style=\"text-align: right;\">\n",
       "      <th></th>\n",
       "      <th>CLIMATE.REGION</th>\n",
       "      <th>OUTAGE.START</th>\n",
       "      <th>OUTAGE.RESTORATION</th>\n",
       "    </tr>\n",
       "  </thead>\n",
       "  <tbody>\n",
       "    <tr>\n",
       "      <th>0</th>\n",
       "      <td>Alaska</td>\n",
       "      <td>NaT</td>\n",
       "      <td>NaT</td>\n",
       "    </tr>\n",
       "    <tr>\n",
       "      <th>1</th>\n",
       "      <td>Central</td>\n",
       "      <td>2010-09-16 08:31:48.241206272</td>\n",
       "      <td>2010-09-18 05:29:35.038607616</td>\n",
       "    </tr>\n",
       "    <tr>\n",
       "      <th>2</th>\n",
       "      <td>East North Central</td>\n",
       "      <td>2010-05-24 20:09:41.304347904</td>\n",
       "      <td>2010-05-28 13:03:16.641922816</td>\n",
       "    </tr>\n",
       "    <tr>\n",
       "      <th>3</th>\n",
       "      <td>Hawaii</td>\n",
       "      <td>2008-01-23 22:21:48.000000000</td>\n",
       "      <td>2008-01-24 12:27:12.000000000</td>\n",
       "    </tr>\n",
       "    <tr>\n",
       "      <th>4</th>\n",
       "      <td>Northeast</td>\n",
       "      <td>2011-01-16 22:39:21.489971456</td>\n",
       "      <td>2011-01-19 00:25:04.707526656</td>\n",
       "    </tr>\n",
       "    <tr>\n",
       "      <th>5</th>\n",
       "      <td>Northwest</td>\n",
       "      <td>2012-03-04 01:44:38.181818368</td>\n",
       "      <td>2012-03-05 00:50:15.347376128</td>\n",
       "    </tr>\n",
       "    <tr>\n",
       "      <th>6</th>\n",
       "      <td>South</td>\n",
       "      <td>2010-09-10 14:20:23.259911936</td>\n",
       "      <td>2010-09-12 13:37:28.146556416</td>\n",
       "    </tr>\n",
       "    <tr>\n",
       "      <th>7</th>\n",
       "      <td>Southeast</td>\n",
       "      <td>2008-11-15 01:40:59.200000000</td>\n",
       "      <td>2008-11-16 14:38:40.400000000</td>\n",
       "    </tr>\n",
       "    <tr>\n",
       "      <th>8</th>\n",
       "      <td>Southwest</td>\n",
       "      <td>2011-12-25 09:22:35.217391360</td>\n",
       "      <td>2011-12-26 12:14:46.373276672</td>\n",
       "    </tr>\n",
       "    <tr>\n",
       "      <th>9</th>\n",
       "      <td>West</td>\n",
       "      <td>2009-11-20 17:04:50.875576064</td>\n",
       "      <td>2009-11-21 21:08:35.202877440</td>\n",
       "    </tr>\n",
       "    <tr>\n",
       "      <th>10</th>\n",
       "      <td>West North Central</td>\n",
       "      <td>2010-09-06 16:43:48.750000128</td>\n",
       "      <td>2010-09-07 04:20:22.500000256</td>\n",
       "    </tr>\n",
       "  </tbody>\n",
       "</table>\n",
       "</div>"
      ],
      "text/plain": [
       "        CLIMATE.REGION                  OUTAGE.START  \\\n",
       "0               Alaska                           NaT   \n",
       "1              Central 2010-09-16 08:31:48.241206272   \n",
       "2   East North Central 2010-05-24 20:09:41.304347904   \n",
       "3               Hawaii 2008-01-23 22:21:48.000000000   \n",
       "4            Northeast 2011-01-16 22:39:21.489971456   \n",
       "5            Northwest 2012-03-04 01:44:38.181818368   \n",
       "6                South 2010-09-10 14:20:23.259911936   \n",
       "7            Southeast 2008-11-15 01:40:59.200000000   \n",
       "8            Southwest 2011-12-25 09:22:35.217391360   \n",
       "9                 West 2009-11-20 17:04:50.875576064   \n",
       "10  West North Central 2010-09-06 16:43:48.750000128   \n",
       "\n",
       "              OUTAGE.RESTORATION  \n",
       "0                            NaT  \n",
       "1  2010-09-18 05:29:35.038607616  \n",
       "2  2010-05-28 13:03:16.641922816  \n",
       "3  2008-01-24 12:27:12.000000000  \n",
       "4  2011-01-19 00:25:04.707526656  \n",
       "5  2012-03-05 00:50:15.347376128  \n",
       "6  2010-09-12 13:37:28.146556416  \n",
       "7  2008-11-16 14:38:40.400000000  \n",
       "8  2011-12-26 12:14:46.373276672  \n",
       "9  2009-11-21 21:08:35.202877440  \n",
       "10 2010-09-07 04:20:22.500000256  "
      ]
     },
     "execution_count": 14,
     "metadata": {},
     "output_type": "execute_result"
    }
   ],
   "source": [
    "climate_means"
   ]
  },
  {
   "cell_type": "code",
   "execution_count": 15,
   "metadata": {},
   "outputs": [
    {
     "data": {
      "text/html": [
       "<div>\n",
       "<style scoped>\n",
       "    .dataframe tbody tr th:only-of-type {\n",
       "        vertical-align: middle;\n",
       "    }\n",
       "\n",
       "    .dataframe tbody tr th {\n",
       "        vertical-align: top;\n",
       "    }\n",
       "\n",
       "    .dataframe thead th {\n",
       "        text-align: right;\n",
       "    }\n",
       "</style>\n",
       "<table border=\"1\" class=\"dataframe\">\n",
       "  <thead>\n",
       "    <tr style=\"text-align: right;\">\n",
       "      <th></th>\n",
       "      <th>YEAR</th>\n",
       "      <th>MONTH</th>\n",
       "      <th>U.S._STATE</th>\n",
       "      <th>POSTAL.CODE</th>\n",
       "      <th>NERC.REGION</th>\n",
       "      <th>CLIMATE.REGION</th>\n",
       "      <th>ANOMALY.LEVEL</th>\n",
       "      <th>CLIMATE.CATEGORY</th>\n",
       "      <th>OUTAGE.START.DATE</th>\n",
       "      <th>OUTAGE.START.TIME</th>\n",
       "      <th>...</th>\n",
       "      <th>POPDEN_URBAN</th>\n",
       "      <th>POPDEN_UC</th>\n",
       "      <th>POPDEN_RURAL</th>\n",
       "      <th>AREAPCT_URBAN</th>\n",
       "      <th>AREAPCT_UC</th>\n",
       "      <th>PCT_LAND</th>\n",
       "      <th>PCT_WATER_TOT</th>\n",
       "      <th>PCT_WATER_INLAND</th>\n",
       "      <th>OUTAGE.START</th>\n",
       "      <th>OUTAGE.RESTORATION</th>\n",
       "    </tr>\n",
       "  </thead>\n",
       "  <tbody>\n",
       "    <tr>\n",
       "      <th>1</th>\n",
       "      <td>2011.0</td>\n",
       "      <td>7.0</td>\n",
       "      <td>Minnesota</td>\n",
       "      <td>MN</td>\n",
       "      <td>MRO</td>\n",
       "      <td>East North Central</td>\n",
       "      <td>-0.3</td>\n",
       "      <td>normal</td>\n",
       "      <td>2011-07-01</td>\n",
       "      <td>0 days 17:00:00</td>\n",
       "      <td>...</td>\n",
       "      <td>2279.0</td>\n",
       "      <td>1700.5</td>\n",
       "      <td>18.2</td>\n",
       "      <td>2.14</td>\n",
       "      <td>0.60</td>\n",
       "      <td>91.592666</td>\n",
       "      <td>8.407334</td>\n",
       "      <td>5.478743</td>\n",
       "      <td>2011-07-01 17:00:00.000000000</td>\n",
       "      <td>2011-07-03 20:00:00.000000000</td>\n",
       "    </tr>\n",
       "    <tr>\n",
       "      <th>2</th>\n",
       "      <td>2014.0</td>\n",
       "      <td>5.0</td>\n",
       "      <td>Minnesota</td>\n",
       "      <td>MN</td>\n",
       "      <td>MRO</td>\n",
       "      <td>East North Central</td>\n",
       "      <td>-0.1</td>\n",
       "      <td>normal</td>\n",
       "      <td>2014-05-11</td>\n",
       "      <td>0 days 18:38:00</td>\n",
       "      <td>...</td>\n",
       "      <td>2279.0</td>\n",
       "      <td>1700.5</td>\n",
       "      <td>18.2</td>\n",
       "      <td>2.14</td>\n",
       "      <td>0.60</td>\n",
       "      <td>91.592666</td>\n",
       "      <td>8.407334</td>\n",
       "      <td>5.478743</td>\n",
       "      <td>2014-05-11 18:38:00.000000000</td>\n",
       "      <td>2014-05-11 18:39:00.000000000</td>\n",
       "    </tr>\n",
       "    <tr>\n",
       "      <th>3</th>\n",
       "      <td>2010.0</td>\n",
       "      <td>10.0</td>\n",
       "      <td>Minnesota</td>\n",
       "      <td>MN</td>\n",
       "      <td>MRO</td>\n",
       "      <td>East North Central</td>\n",
       "      <td>-1.5</td>\n",
       "      <td>cold</td>\n",
       "      <td>2010-10-26</td>\n",
       "      <td>0 days 20:00:00</td>\n",
       "      <td>...</td>\n",
       "      <td>2279.0</td>\n",
       "      <td>1700.5</td>\n",
       "      <td>18.2</td>\n",
       "      <td>2.14</td>\n",
       "      <td>0.60</td>\n",
       "      <td>91.592666</td>\n",
       "      <td>8.407334</td>\n",
       "      <td>5.478743</td>\n",
       "      <td>2010-10-26 20:00:00.000000000</td>\n",
       "      <td>2010-10-28 22:00:00.000000000</td>\n",
       "    </tr>\n",
       "    <tr>\n",
       "      <th>4</th>\n",
       "      <td>2012.0</td>\n",
       "      <td>6.0</td>\n",
       "      <td>Minnesota</td>\n",
       "      <td>MN</td>\n",
       "      <td>MRO</td>\n",
       "      <td>East North Central</td>\n",
       "      <td>-0.1</td>\n",
       "      <td>normal</td>\n",
       "      <td>2012-06-19</td>\n",
       "      <td>0 days 04:30:00</td>\n",
       "      <td>...</td>\n",
       "      <td>2279.0</td>\n",
       "      <td>1700.5</td>\n",
       "      <td>18.2</td>\n",
       "      <td>2.14</td>\n",
       "      <td>0.60</td>\n",
       "      <td>91.592666</td>\n",
       "      <td>8.407334</td>\n",
       "      <td>5.478743</td>\n",
       "      <td>2012-06-19 04:30:00.000000000</td>\n",
       "      <td>2012-06-20 23:00:00.000000000</td>\n",
       "    </tr>\n",
       "    <tr>\n",
       "      <th>5</th>\n",
       "      <td>2015.0</td>\n",
       "      <td>7.0</td>\n",
       "      <td>Minnesota</td>\n",
       "      <td>MN</td>\n",
       "      <td>MRO</td>\n",
       "      <td>East North Central</td>\n",
       "      <td>1.2</td>\n",
       "      <td>warm</td>\n",
       "      <td>2015-07-18</td>\n",
       "      <td>0 days 02:00:00</td>\n",
       "      <td>...</td>\n",
       "      <td>2279.0</td>\n",
       "      <td>1700.5</td>\n",
       "      <td>18.2</td>\n",
       "      <td>2.14</td>\n",
       "      <td>0.60</td>\n",
       "      <td>91.592666</td>\n",
       "      <td>8.407334</td>\n",
       "      <td>5.478743</td>\n",
       "      <td>2015-07-18 02:00:00.000000000</td>\n",
       "      <td>2015-07-19 07:00:00.000000000</td>\n",
       "    </tr>\n",
       "    <tr>\n",
       "      <th>...</th>\n",
       "      <td>...</td>\n",
       "      <td>...</td>\n",
       "      <td>...</td>\n",
       "      <td>...</td>\n",
       "      <td>...</td>\n",
       "      <td>...</td>\n",
       "      <td>...</td>\n",
       "      <td>...</td>\n",
       "      <td>...</td>\n",
       "      <td>...</td>\n",
       "      <td>...</td>\n",
       "      <td>...</td>\n",
       "      <td>...</td>\n",
       "      <td>...</td>\n",
       "      <td>...</td>\n",
       "      <td>...</td>\n",
       "      <td>...</td>\n",
       "      <td>...</td>\n",
       "      <td>...</td>\n",
       "      <td>...</td>\n",
       "      <td>...</td>\n",
       "    </tr>\n",
       "    <tr>\n",
       "      <th>1530</th>\n",
       "      <td>2011.0</td>\n",
       "      <td>12.0</td>\n",
       "      <td>North Dakota</td>\n",
       "      <td>ND</td>\n",
       "      <td>MRO</td>\n",
       "      <td>West North Central</td>\n",
       "      <td>-0.9</td>\n",
       "      <td>cold</td>\n",
       "      <td>2011-12-06</td>\n",
       "      <td>0 days 08:00:00</td>\n",
       "      <td>...</td>\n",
       "      <td>2192.2</td>\n",
       "      <td>1868.2</td>\n",
       "      <td>3.9</td>\n",
       "      <td>0.27</td>\n",
       "      <td>0.10</td>\n",
       "      <td>97.599649</td>\n",
       "      <td>2.401765</td>\n",
       "      <td>2.401765</td>\n",
       "      <td>2011-12-06 08:00:00.000000000</td>\n",
       "      <td>2011-12-06 20:00:00.000000000</td>\n",
       "    </tr>\n",
       "    <tr>\n",
       "      <th>1531</th>\n",
       "      <td>2006.0</td>\n",
       "      <td>NaN</td>\n",
       "      <td>North Dakota</td>\n",
       "      <td>ND</td>\n",
       "      <td>MRO</td>\n",
       "      <td>West North Central</td>\n",
       "      <td>NaN</td>\n",
       "      <td>NaN</td>\n",
       "      <td>NaT</td>\n",
       "      <td>NaT</td>\n",
       "      <td>...</td>\n",
       "      <td>2192.2</td>\n",
       "      <td>1868.2</td>\n",
       "      <td>3.9</td>\n",
       "      <td>0.27</td>\n",
       "      <td>0.10</td>\n",
       "      <td>97.599649</td>\n",
       "      <td>2.401765</td>\n",
       "      <td>2.401765</td>\n",
       "      <td>2010-09-06 16:43:48.750000128</td>\n",
       "      <td>2010-09-07 04:20:22.500000256</td>\n",
       "    </tr>\n",
       "    <tr>\n",
       "      <th>1532</th>\n",
       "      <td>2009.0</td>\n",
       "      <td>8.0</td>\n",
       "      <td>South Dakota</td>\n",
       "      <td>SD</td>\n",
       "      <td>RFC</td>\n",
       "      <td>West North Central</td>\n",
       "      <td>0.5</td>\n",
       "      <td>warm</td>\n",
       "      <td>2009-08-29</td>\n",
       "      <td>0 days 22:54:00</td>\n",
       "      <td>...</td>\n",
       "      <td>2038.3</td>\n",
       "      <td>1905.4</td>\n",
       "      <td>4.7</td>\n",
       "      <td>0.30</td>\n",
       "      <td>0.15</td>\n",
       "      <td>98.307744</td>\n",
       "      <td>1.692256</td>\n",
       "      <td>1.692256</td>\n",
       "      <td>2009-08-29 22:54:00.000000000</td>\n",
       "      <td>2009-08-29 23:53:00.000000000</td>\n",
       "    </tr>\n",
       "    <tr>\n",
       "      <th>1533</th>\n",
       "      <td>2009.0</td>\n",
       "      <td>8.0</td>\n",
       "      <td>South Dakota</td>\n",
       "      <td>SD</td>\n",
       "      <td>MRO</td>\n",
       "      <td>West North Central</td>\n",
       "      <td>0.5</td>\n",
       "      <td>warm</td>\n",
       "      <td>2009-08-29</td>\n",
       "      <td>0 days 11:00:00</td>\n",
       "      <td>...</td>\n",
       "      <td>2038.3</td>\n",
       "      <td>1905.4</td>\n",
       "      <td>4.7</td>\n",
       "      <td>0.30</td>\n",
       "      <td>0.15</td>\n",
       "      <td>98.307744</td>\n",
       "      <td>1.692256</td>\n",
       "      <td>1.692256</td>\n",
       "      <td>2009-08-29 11:00:00.000000000</td>\n",
       "      <td>2009-08-29 14:01:00.000000000</td>\n",
       "    </tr>\n",
       "    <tr>\n",
       "      <th>1534</th>\n",
       "      <td>2000.0</td>\n",
       "      <td>NaN</td>\n",
       "      <td>Alaska</td>\n",
       "      <td>AK</td>\n",
       "      <td>ASCC</td>\n",
       "      <td>Alaska</td>\n",
       "      <td>NaN</td>\n",
       "      <td>NaN</td>\n",
       "      <td>NaT</td>\n",
       "      <td>NaT</td>\n",
       "      <td>...</td>\n",
       "      <td>1802.6</td>\n",
       "      <td>1276.0</td>\n",
       "      <td>0.4</td>\n",
       "      <td>0.05</td>\n",
       "      <td>0.02</td>\n",
       "      <td>85.761154</td>\n",
       "      <td>14.238846</td>\n",
       "      <td>2.901182</td>\n",
       "      <td>NaT</td>\n",
       "      <td>NaT</td>\n",
       "    </tr>\n",
       "  </tbody>\n",
       "</table>\n",
       "<p>1534 rows × 57 columns</p>\n",
       "</div>"
      ],
      "text/plain": [
       "        YEAR  MONTH    U.S._STATE POSTAL.CODE NERC.REGION      CLIMATE.REGION  \\\n",
       "1     2011.0    7.0     Minnesota          MN         MRO  East North Central   \n",
       "2     2014.0    5.0     Minnesota          MN         MRO  East North Central   \n",
       "3     2010.0   10.0     Minnesota          MN         MRO  East North Central   \n",
       "4     2012.0    6.0     Minnesota          MN         MRO  East North Central   \n",
       "5     2015.0    7.0     Minnesota          MN         MRO  East North Central   \n",
       "...      ...    ...           ...         ...         ...                 ...   \n",
       "1530  2011.0   12.0  North Dakota          ND         MRO  West North Central   \n",
       "1531  2006.0    NaN  North Dakota          ND         MRO  West North Central   \n",
       "1532  2009.0    8.0  South Dakota          SD         RFC  West North Central   \n",
       "1533  2009.0    8.0  South Dakota          SD         MRO  West North Central   \n",
       "1534  2000.0    NaN        Alaska          AK        ASCC              Alaska   \n",
       "\n",
       "      ANOMALY.LEVEL CLIMATE.CATEGORY OUTAGE.START.DATE OUTAGE.START.TIME  ...  \\\n",
       "1              -0.3           normal        2011-07-01   0 days 17:00:00  ...   \n",
       "2              -0.1           normal        2014-05-11   0 days 18:38:00  ...   \n",
       "3              -1.5             cold        2010-10-26   0 days 20:00:00  ...   \n",
       "4              -0.1           normal        2012-06-19   0 days 04:30:00  ...   \n",
       "5               1.2             warm        2015-07-18   0 days 02:00:00  ...   \n",
       "...             ...              ...               ...               ...  ...   \n",
       "1530           -0.9             cold        2011-12-06   0 days 08:00:00  ...   \n",
       "1531            NaN              NaN               NaT               NaT  ...   \n",
       "1532            0.5             warm        2009-08-29   0 days 22:54:00  ...   \n",
       "1533            0.5             warm        2009-08-29   0 days 11:00:00  ...   \n",
       "1534            NaN              NaN               NaT               NaT  ...   \n",
       "\n",
       "     POPDEN_URBAN POPDEN_UC POPDEN_RURAL AREAPCT_URBAN AREAPCT_UC   PCT_LAND  \\\n",
       "1          2279.0    1700.5         18.2          2.14       0.60  91.592666   \n",
       "2          2279.0    1700.5         18.2          2.14       0.60  91.592666   \n",
       "3          2279.0    1700.5         18.2          2.14       0.60  91.592666   \n",
       "4          2279.0    1700.5         18.2          2.14       0.60  91.592666   \n",
       "5          2279.0    1700.5         18.2          2.14       0.60  91.592666   \n",
       "...           ...       ...          ...           ...        ...        ...   \n",
       "1530       2192.2    1868.2          3.9          0.27       0.10  97.599649   \n",
       "1531       2192.2    1868.2          3.9          0.27       0.10  97.599649   \n",
       "1532       2038.3    1905.4          4.7          0.30       0.15  98.307744   \n",
       "1533       2038.3    1905.4          4.7          0.30       0.15  98.307744   \n",
       "1534       1802.6    1276.0          0.4          0.05       0.02  85.761154   \n",
       "\n",
       "      PCT_WATER_TOT  PCT_WATER_INLAND                  OUTAGE.START  \\\n",
       "1          8.407334          5.478743 2011-07-01 17:00:00.000000000   \n",
       "2          8.407334          5.478743 2014-05-11 18:38:00.000000000   \n",
       "3          8.407334          5.478743 2010-10-26 20:00:00.000000000   \n",
       "4          8.407334          5.478743 2012-06-19 04:30:00.000000000   \n",
       "5          8.407334          5.478743 2015-07-18 02:00:00.000000000   \n",
       "...             ...               ...                           ...   \n",
       "1530       2.401765          2.401765 2011-12-06 08:00:00.000000000   \n",
       "1531       2.401765          2.401765 2010-09-06 16:43:48.750000128   \n",
       "1532       1.692256          1.692256 2009-08-29 22:54:00.000000000   \n",
       "1533       1.692256          1.692256 2009-08-29 11:00:00.000000000   \n",
       "1534      14.238846          2.901182                           NaT   \n",
       "\n",
       "                OUTAGE.RESTORATION  \n",
       "1    2011-07-03 20:00:00.000000000  \n",
       "2    2014-05-11 18:39:00.000000000  \n",
       "3    2010-10-28 22:00:00.000000000  \n",
       "4    2012-06-20 23:00:00.000000000  \n",
       "5    2015-07-19 07:00:00.000000000  \n",
       "...                            ...  \n",
       "1530 2011-12-06 20:00:00.000000000  \n",
       "1531 2010-09-07 04:20:22.500000256  \n",
       "1532 2009-08-29 23:53:00.000000000  \n",
       "1533 2009-08-29 14:01:00.000000000  \n",
       "1534                           NaT  \n",
       "\n",
       "[1534 rows x 57 columns]"
      ]
     },
     "execution_count": 15,
     "metadata": {},
     "output_type": "execute_result"
    }
   ],
   "source": [
    "df = df.apply(imputate_by_climate, axis = 1, means=climate_means)\n",
    "df"
   ]
  },
  {
   "cell_type": "code",
   "execution_count": 16,
   "metadata": {},
   "outputs": [],
   "source": [
    "# df['MONTH'] = df['MONTH'].fillna(df['OUTAGE.START'].dt.month)\n"
   ]
  },
  {
   "cell_type": "code",
   "execution_count": 17,
   "metadata": {},
   "outputs": [],
   "source": [
    "anomaly_means = df.groupby('CLIMATE.REGION').agg({\n",
    "    'ANOMALY.LEVEL': lambda x: x.mean()}).reset_index()\n",
    "\n",
    "def imputate_by_anomaly(row, means):\n",
    "    if pd.isna(row['ANOMALY.LEVEL']):\n",
    "        row['ANOMALY.LEVEL'] = means.loc[means['CLIMATE.REGION'] == row['CLIMATE.REGION'], 'ANOMALY.LEVEL'].values[0]\n",
    "    return row\n",
    "    "
   ]
  },
  {
   "cell_type": "code",
   "execution_count": 18,
   "metadata": {},
   "outputs": [],
   "source": [
    "df = df.apply(imputate_by_anomaly, axis = 1, means=anomaly_means)"
   ]
  },
  {
   "cell_type": "code",
   "execution_count": 19,
   "metadata": {},
   "outputs": [],
   "source": [
    "df = df.drop(columns = ['OUTAGE.START.DATE', 'OUTAGE.START.TIME', 'OUTAGE.RESTORATION.DATE', 'OUTAGE.RESTORATION.TIME'])"
   ]
  },
  {
   "cell_type": "code",
   "execution_count": 20,
   "metadata": {},
   "outputs": [
    {
     "data": {
      "application/vnd.plotly.v1+json": {
       "config": {
        "plotlyServerURL": "https://plot.ly"
       },
       "data": [
        {
         "alignmentgroup": "True",
         "bingroup": "x",
         "hovertemplate": "CAUSE.CATEGORY.DETAIL=vandalism<br>CAUSE.CATEGORY=%{x}<br>count=%{y}<extra></extra>",
         "legendgroup": "vandalism",
         "marker": {
          "color": "#EF553B",
          "pattern": {
           "shape": ""
          }
         },
         "name": "vandalism",
         "offsetgroup": "vandalism",
         "orientation": "v",
         "showlegend": true,
         "type": "histogram",
         "x": [
          "intentional attack",
          "intentional attack",
          "intentional attack",
          "intentional attack",
          "intentional attack",
          "intentional attack",
          "intentional attack",
          "intentional attack",
          "intentional attack",
          "intentional attack",
          "intentional attack",
          "intentional attack",
          "intentional attack",
          "intentional attack",
          "intentional attack",
          "intentional attack",
          "intentional attack",
          "intentional attack",
          "intentional attack",
          "intentional attack",
          "intentional attack",
          "intentional attack",
          "intentional attack",
          "intentional attack",
          "intentional attack",
          "intentional attack",
          "intentional attack",
          "intentional attack",
          "intentional attack",
          "intentional attack",
          "intentional attack",
          "intentional attack",
          "intentional attack",
          "intentional attack",
          "intentional attack",
          "intentional attack",
          "intentional attack",
          "intentional attack",
          "intentional attack",
          "intentional attack",
          "intentional attack",
          "intentional attack",
          "intentional attack",
          "intentional attack",
          "intentional attack",
          "intentional attack",
          "intentional attack",
          "intentional attack",
          "intentional attack",
          "intentional attack",
          "intentional attack",
          "intentional attack",
          "intentional attack",
          "intentional attack",
          "intentional attack",
          "intentional attack",
          "intentional attack",
          "intentional attack",
          "intentional attack",
          "intentional attack",
          "intentional attack",
          "intentional attack",
          "intentional attack",
          "intentional attack",
          "intentional attack",
          "intentional attack",
          "intentional attack",
          "intentional attack",
          "intentional attack",
          "intentional attack",
          "intentional attack",
          "intentional attack",
          "intentional attack",
          "intentional attack",
          "intentional attack",
          "intentional attack",
          "intentional attack",
          "intentional attack",
          "intentional attack",
          "intentional attack",
          "intentional attack",
          "intentional attack",
          "intentional attack",
          "intentional attack",
          "intentional attack",
          "intentional attack",
          "intentional attack",
          "intentional attack",
          "intentional attack",
          "intentional attack",
          "intentional attack",
          "intentional attack",
          "intentional attack",
          "intentional attack",
          "intentional attack",
          "intentional attack",
          "intentional attack",
          "intentional attack",
          "intentional attack",
          "intentional attack",
          "intentional attack",
          "intentional attack",
          "intentional attack",
          "intentional attack",
          "intentional attack",
          "intentional attack",
          "intentional attack",
          "intentional attack",
          "intentional attack",
          "intentional attack",
          "intentional attack",
          "intentional attack",
          "intentional attack",
          "intentional attack",
          "intentional attack",
          "intentional attack",
          "intentional attack",
          "intentional attack",
          "intentional attack",
          "intentional attack",
          "intentional attack",
          "intentional attack",
          "intentional attack",
          "intentional attack",
          "intentional attack",
          "intentional attack",
          "intentional attack",
          "intentional attack",
          "intentional attack",
          "intentional attack",
          "intentional attack",
          "intentional attack",
          "intentional attack",
          "intentional attack",
          "intentional attack",
          "intentional attack",
          "intentional attack",
          "intentional attack",
          "intentional attack",
          "intentional attack",
          "intentional attack",
          "intentional attack",
          "intentional attack",
          "intentional attack",
          "intentional attack",
          "intentional attack",
          "intentional attack",
          "intentional attack",
          "intentional attack",
          "intentional attack",
          "intentional attack",
          "intentional attack",
          "intentional attack",
          "intentional attack",
          "intentional attack",
          "intentional attack",
          "intentional attack",
          "intentional attack",
          "intentional attack",
          "intentional attack",
          "intentional attack",
          "intentional attack",
          "intentional attack",
          "intentional attack",
          "intentional attack",
          "intentional attack",
          "intentional attack",
          "intentional attack",
          "intentional attack",
          "intentional attack",
          "intentional attack",
          "intentional attack",
          "intentional attack",
          "intentional attack",
          "intentional attack",
          "intentional attack",
          "intentional attack",
          "intentional attack",
          "intentional attack",
          "intentional attack",
          "intentional attack",
          "intentional attack",
          "intentional attack",
          "intentional attack",
          "intentional attack",
          "intentional attack",
          "intentional attack",
          "intentional attack",
          "intentional attack",
          "intentional attack",
          "intentional attack",
          "intentional attack",
          "intentional attack",
          "intentional attack",
          "intentional attack",
          "intentional attack",
          "intentional attack",
          "intentional attack",
          "intentional attack",
          "intentional attack",
          "intentional attack",
          "intentional attack",
          "intentional attack",
          "intentional attack",
          "intentional attack",
          "intentional attack",
          "intentional attack",
          "intentional attack",
          "intentional attack",
          "intentional attack",
          "intentional attack",
          "intentional attack",
          "intentional attack",
          "intentional attack",
          "intentional attack",
          "intentional attack",
          "intentional attack",
          "intentional attack",
          "intentional attack",
          "intentional attack",
          "intentional attack",
          "intentional attack",
          "intentional attack",
          "intentional attack",
          "intentional attack",
          "intentional attack",
          "intentional attack",
          "intentional attack",
          "intentional attack",
          "intentional attack",
          "intentional attack",
          "intentional attack",
          "intentional attack",
          "intentional attack",
          "intentional attack",
          "intentional attack",
          "intentional attack",
          "intentional attack",
          "intentional attack",
          "intentional attack",
          "intentional attack",
          "intentional attack",
          "intentional attack",
          "intentional attack",
          "intentional attack",
          "intentional attack",
          "intentional attack",
          "intentional attack",
          "intentional attack",
          "intentional attack",
          "intentional attack",
          "intentional attack",
          "intentional attack",
          "intentional attack",
          "intentional attack",
          "intentional attack",
          "intentional attack",
          "intentional attack",
          "intentional attack",
          "intentional attack",
          "intentional attack",
          "intentional attack",
          "intentional attack",
          "intentional attack",
          "intentional attack",
          "intentional attack",
          "intentional attack",
          "intentional attack",
          "intentional attack",
          "intentional attack",
          "intentional attack",
          "intentional attack",
          "intentional attack",
          "intentional attack",
          "intentional attack",
          "intentional attack",
          "intentional attack",
          "intentional attack",
          "intentional attack",
          "intentional attack",
          "intentional attack",
          "intentional attack",
          "intentional attack",
          "intentional attack",
          "intentional attack",
          "intentional attack",
          "intentional attack",
          "intentional attack",
          "intentional attack",
          "intentional attack",
          "intentional attack",
          "intentional attack",
          "intentional attack",
          "intentional attack",
          "intentional attack",
          "intentional attack",
          "intentional attack",
          "intentional attack",
          "intentional attack",
          "intentional attack",
          "intentional attack",
          "intentional attack",
          "intentional attack",
          "intentional attack",
          "intentional attack",
          "intentional attack",
          "intentional attack",
          "intentional attack",
          "intentional attack",
          "intentional attack",
          "intentional attack",
          "intentional attack",
          "intentional attack",
          "intentional attack",
          "intentional attack",
          "intentional attack",
          "intentional attack",
          "intentional attack",
          "intentional attack",
          "intentional attack",
          "intentional attack",
          "intentional attack",
          "intentional attack",
          "intentional attack",
          "intentional attack",
          "intentional attack",
          "intentional attack",
          "intentional attack",
          "intentional attack",
          "intentional attack",
          "intentional attack",
          "intentional attack",
          "intentional attack",
          "intentional attack",
          "intentional attack"
         ],
         "xaxis": "x",
         "yaxis": "y"
        },
        {
         "alignmentgroup": "True",
         "bingroup": "x",
         "hovertemplate": "CAUSE.CATEGORY.DETAIL=heavy wind<br>CAUSE.CATEGORY=%{x}<br>count=%{y}<extra></extra>",
         "legendgroup": "heavy wind",
         "marker": {
          "color": "#00cc96",
          "pattern": {
           "shape": ""
          }
         },
         "name": "heavy wind",
         "offsetgroup": "heavy wind",
         "orientation": "v",
         "showlegend": true,
         "type": "histogram",
         "x": [
          "severe weather",
          "severe weather",
          "severe weather",
          "severe weather",
          "severe weather",
          "severe weather",
          "severe weather",
          "severe weather",
          "severe weather",
          "severe weather",
          "severe weather",
          "severe weather",
          "severe weather",
          "severe weather",
          "severe weather",
          "severe weather",
          "severe weather",
          "severe weather",
          "severe weather",
          "severe weather",
          "severe weather",
          "severe weather",
          "severe weather",
          "severe weather",
          "severe weather",
          "severe weather",
          "severe weather",
          "severe weather",
          "severe weather",
          "severe weather",
          "severe weather",
          "severe weather",
          "severe weather",
          "severe weather",
          "severe weather",
          "severe weather",
          "severe weather",
          "severe weather",
          "severe weather",
          "severe weather",
          "severe weather",
          "severe weather",
          "severe weather",
          "severe weather",
          "severe weather",
          "severe weather",
          "severe weather",
          "severe weather",
          "severe weather",
          "severe weather",
          "severe weather",
          "severe weather",
          "severe weather",
          "severe weather",
          "severe weather",
          "severe weather",
          "severe weather",
          "severe weather",
          "severe weather",
          "severe weather",
          "severe weather"
         ],
         "xaxis": "x",
         "yaxis": "y"
        },
        {
         "alignmentgroup": "True",
         "bingroup": "x",
         "hovertemplate": "CAUSE.CATEGORY.DETAIL=thunderstorm<br>CAUSE.CATEGORY=%{x}<br>count=%{y}<extra></extra>",
         "legendgroup": "thunderstorm",
         "marker": {
          "color": "#ab63fa",
          "pattern": {
           "shape": ""
          }
         },
         "name": "thunderstorm",
         "offsetgroup": "thunderstorm",
         "orientation": "v",
         "showlegend": true,
         "type": "histogram",
         "x": [
          "severe weather",
          "severe weather",
          "severe weather",
          "severe weather",
          "severe weather",
          "severe weather",
          "severe weather",
          "severe weather",
          "severe weather",
          "severe weather",
          "severe weather",
          "severe weather",
          "severe weather",
          "severe weather",
          "severe weather",
          "severe weather",
          "severe weather",
          "severe weather",
          "severe weather",
          "severe weather",
          "severe weather",
          "severe weather",
          "severe weather",
          "severe weather",
          "severe weather",
          "severe weather",
          "severe weather",
          "severe weather",
          "severe weather",
          "severe weather",
          "severe weather",
          "severe weather",
          "severe weather",
          "severe weather",
          "severe weather",
          "severe weather",
          "severe weather",
          "severe weather",
          "severe weather",
          "severe weather",
          "severe weather",
          "severe weather",
          "severe weather",
          "severe weather",
          "severe weather",
          "severe weather",
          "severe weather",
          "severe weather",
          "severe weather",
          "severe weather",
          "severe weather",
          "severe weather",
          "severe weather",
          "severe weather",
          "severe weather",
          "severe weather",
          "severe weather",
          "severe weather",
          "severe weather",
          "severe weather",
          "severe weather",
          "severe weather",
          "severe weather",
          "severe weather",
          "severe weather",
          "severe weather",
          "severe weather",
          "severe weather",
          "severe weather",
          "severe weather",
          "severe weather",
          "severe weather",
          "severe weather",
          "severe weather",
          "severe weather",
          "severe weather",
          "severe weather",
          "severe weather",
          "severe weather",
          "severe weather",
          "severe weather",
          "severe weather",
          "severe weather",
          "severe weather",
          "severe weather",
          "severe weather",
          "severe weather",
          "severe weather",
          "severe weather",
          "severe weather",
          "severe weather",
          "severe weather",
          "severe weather",
          "severe weather",
          "severe weather",
          "severe weather",
          "severe weather",
          "severe weather",
          "severe weather",
          "severe weather",
          "severe weather",
          "severe weather",
          "severe weather",
          "severe weather",
          "severe weather",
          "severe weather",
          "severe weather",
          "severe weather",
          "severe weather",
          "severe weather",
          "severe weather",
          "severe weather",
          "severe weather",
          "severe weather",
          "severe weather",
          "severe weather",
          "severe weather",
          "severe weather",
          "severe weather",
          "severe weather",
          "severe weather",
          "severe weather",
          "severe weather",
          "severe weather",
          "severe weather",
          "severe weather",
          "severe weather",
          "severe weather",
          "severe weather",
          "severe weather",
          "severe weather",
          "severe weather",
          "severe weather",
          "severe weather",
          "severe weather",
          "severe weather",
          "severe weather",
          "severe weather",
          "severe weather",
          "severe weather",
          "severe weather",
          "severe weather",
          "severe weather",
          "severe weather",
          "severe weather",
          "severe weather",
          "severe weather",
          "severe weather",
          "severe weather",
          "severe weather",
          "severe weather",
          "severe weather",
          "severe weather",
          "severe weather",
          "severe weather",
          "severe weather",
          "severe weather",
          "severe weather",
          "severe weather",
          "severe weather",
          "severe weather",
          "severe weather",
          "severe weather",
          "severe weather",
          "severe weather",
          "severe weather",
          "severe weather",
          "severe weather",
          "severe weather",
          "severe weather",
          "severe weather",
          "severe weather",
          "severe weather",
          "severe weather",
          "severe weather",
          "severe weather",
          "severe weather",
          "severe weather"
         ],
         "xaxis": "x",
         "yaxis": "y"
        },
        {
         "alignmentgroup": "True",
         "bingroup": "x",
         "hovertemplate": "CAUSE.CATEGORY.DETAIL=winter storm<br>CAUSE.CATEGORY=%{x}<br>count=%{y}<extra></extra>",
         "legendgroup": "winter storm",
         "marker": {
          "color": "#FFA15A",
          "pattern": {
           "shape": ""
          }
         },
         "name": "winter storm",
         "offsetgroup": "winter storm",
         "orientation": "v",
         "showlegend": true,
         "type": "histogram",
         "x": [
          "severe weather",
          "severe weather",
          "severe weather",
          "severe weather",
          "severe weather",
          "severe weather",
          "severe weather",
          "severe weather",
          "severe weather",
          "severe weather",
          "severe weather",
          "severe weather",
          "severe weather",
          "severe weather",
          "severe weather",
          "severe weather",
          "severe weather",
          "severe weather",
          "severe weather",
          "severe weather",
          "severe weather",
          "severe weather",
          "severe weather",
          "severe weather",
          "severe weather",
          "severe weather",
          "severe weather",
          "severe weather",
          "severe weather",
          "severe weather",
          "severe weather",
          "severe weather",
          "severe weather",
          "severe weather",
          "severe weather",
          "severe weather",
          "severe weather",
          "severe weather",
          "severe weather",
          "severe weather",
          "severe weather",
          "severe weather",
          "severe weather",
          "severe weather",
          "severe weather",
          "severe weather",
          "severe weather",
          "severe weather",
          "severe weather",
          "severe weather",
          "severe weather",
          "severe weather",
          "severe weather",
          "severe weather",
          "severe weather",
          "severe weather",
          "severe weather",
          "severe weather",
          "severe weather",
          "severe weather",
          "severe weather",
          "severe weather",
          "severe weather",
          "severe weather",
          "severe weather",
          "severe weather",
          "severe weather",
          "severe weather",
          "severe weather",
          "severe weather",
          "severe weather",
          "severe weather",
          "severe weather",
          "severe weather",
          "severe weather",
          "severe weather",
          "severe weather",
          "severe weather",
          "severe weather",
          "severe weather",
          "severe weather",
          "severe weather",
          "severe weather",
          "severe weather",
          "severe weather",
          "severe weather",
          "severe weather",
          "severe weather",
          "severe weather",
          "severe weather",
          "severe weather",
          "severe weather",
          "severe weather",
          "severe weather",
          "severe weather",
          "severe weather",
          "severe weather",
          "severe weather",
          "severe weather",
          "severe weather",
          "severe weather"
         ],
         "xaxis": "x",
         "yaxis": "y"
        },
        {
         "alignmentgroup": "True",
         "bingroup": "x",
         "hovertemplate": "CAUSE.CATEGORY.DETAIL=tornadoes<br>CAUSE.CATEGORY=%{x}<br>count=%{y}<extra></extra>",
         "legendgroup": "tornadoes",
         "marker": {
          "color": "#19d3f3",
          "pattern": {
           "shape": ""
          }
         },
         "name": "tornadoes",
         "offsetgroup": "tornadoes",
         "orientation": "v",
         "showlegend": true,
         "type": "histogram",
         "x": [
          "severe weather",
          "severe weather",
          "severe weather",
          "severe weather",
          "severe weather",
          "severe weather",
          "severe weather",
          "severe weather"
         ],
         "xaxis": "x",
         "yaxis": "y"
        },
        {
         "alignmentgroup": "True",
         "bingroup": "x",
         "hovertemplate": "CAUSE.CATEGORY.DETAIL=sabotage<br>CAUSE.CATEGORY=%{x}<br>count=%{y}<extra></extra>",
         "legendgroup": "sabotage",
         "marker": {
          "color": "#FF6692",
          "pattern": {
           "shape": ""
          }
         },
         "name": "sabotage",
         "offsetgroup": "sabotage",
         "orientation": "v",
         "showlegend": true,
         "type": "histogram",
         "x": [
          "intentional attack",
          "intentional attack",
          "intentional attack",
          "intentional attack",
          "intentional attack",
          "intentional attack",
          "intentional attack",
          "intentional attack",
          "intentional attack",
          "intentional attack",
          "intentional attack",
          "intentional attack",
          "intentional attack",
          "intentional attack",
          "intentional attack",
          "intentional attack",
          "intentional attack",
          "intentional attack",
          "intentional attack",
          "intentional attack",
          "intentional attack",
          "intentional attack",
          "intentional attack",
          "intentional attack",
          "intentional attack",
          "intentional attack",
          "intentional attack",
          "intentional attack",
          "intentional attack",
          "intentional attack",
          "intentional attack",
          "intentional attack"
         ],
         "xaxis": "x",
         "yaxis": "y"
        },
        {
         "alignmentgroup": "True",
         "bingroup": "x",
         "hovertemplate": "CAUSE.CATEGORY.DETAIL=hailstorm<br>CAUSE.CATEGORY=%{x}<br>count=%{y}<extra></extra>",
         "legendgroup": "hailstorm",
         "marker": {
          "color": "#B6E880",
          "pattern": {
           "shape": ""
          }
         },
         "name": "hailstorm",
         "offsetgroup": "hailstorm",
         "orientation": "v",
         "showlegend": true,
         "type": "histogram",
         "x": [
          "severe weather",
          "severe weather",
          "severe weather"
         ],
         "xaxis": "x",
         "yaxis": "y"
        },
        {
         "alignmentgroup": "True",
         "bingroup": "x",
         "hovertemplate": "CAUSE.CATEGORY.DETAIL=uncontrolled loss<br>CAUSE.CATEGORY=%{x}<br>count=%{y}<extra></extra>",
         "legendgroup": "uncontrolled loss",
         "marker": {
          "color": "#FF97FF",
          "pattern": {
           "shape": ""
          }
         },
         "name": "uncontrolled loss",
         "offsetgroup": "uncontrolled loss",
         "orientation": "v",
         "showlegend": true,
         "type": "histogram",
         "x": [
          "system operability disruption",
          "system operability disruption",
          "system operability disruption",
          "system operability disruption",
          "system operability disruption",
          "severe weather",
          "system operability disruption",
          "system operability disruption",
          "system operability disruption",
          "system operability disruption",
          "system operability disruption",
          "severe weather",
          "system operability disruption",
          "system operability disruption"
         ],
         "xaxis": "x",
         "yaxis": "y"
        },
        {
         "alignmentgroup": "True",
         "bingroup": "x",
         "hovertemplate": "CAUSE.CATEGORY.DETAIL=winter<br>CAUSE.CATEGORY=%{x}<br>count=%{y}<extra></extra>",
         "legendgroup": "winter",
         "marker": {
          "color": "#FECB52",
          "pattern": {
           "shape": ""
          }
         },
         "name": "winter",
         "offsetgroup": "winter",
         "orientation": "v",
         "showlegend": true,
         "type": "histogram",
         "x": [
          "severe weather",
          "severe weather",
          "severe weather",
          "severe weather",
          "severe weather",
          "severe weather",
          "severe weather",
          "severe weather",
          "severe weather",
          "severe weather",
          "severe weather",
          "severe weather",
          "severe weather",
          "severe weather",
          "severe weather",
          "severe weather",
          "severe weather",
          "severe weather",
          "severe weather",
          "severe weather",
          "severe weather",
          "severe weather",
          "severe weather"
         ],
         "xaxis": "x",
         "yaxis": "y"
        },
        {
         "alignmentgroup": "True",
         "bingroup": "x",
         "hovertemplate": "CAUSE.CATEGORY.DETAIL=wind storm<br>CAUSE.CATEGORY=%{x}<br>count=%{y}<extra></extra>",
         "legendgroup": "wind storm",
         "marker": {
          "color": "#636efa",
          "pattern": {
           "shape": ""
          }
         },
         "name": "wind storm",
         "offsetgroup": "wind storm",
         "orientation": "v",
         "showlegend": true,
         "type": "histogram",
         "x": [
          "severe weather",
          "severe weather",
          "severe weather",
          "severe weather",
          "severe weather",
          "severe weather"
         ],
         "xaxis": "x",
         "yaxis": "y"
        },
        {
         "alignmentgroup": "True",
         "bingroup": "x",
         "hovertemplate": "CAUSE.CATEGORY.DETAIL=computer hardware<br>CAUSE.CATEGORY=%{x}<br>count=%{y}<extra></extra>",
         "legendgroup": "computer hardware",
         "marker": {
          "color": "#EF553B",
          "pattern": {
           "shape": ""
          }
         },
         "name": "computer hardware",
         "offsetgroup": "computer hardware",
         "orientation": "v",
         "showlegend": true,
         "type": "histogram",
         "x": [
          "equipment failure"
         ],
         "xaxis": "x",
         "yaxis": "y"
        },
        {
         "alignmentgroup": "True",
         "bingroup": "x",
         "hovertemplate": "CAUSE.CATEGORY.DETAIL=public appeal<br>CAUSE.CATEGORY=%{x}<br>count=%{y}<extra></extra>",
         "legendgroup": "public appeal",
         "marker": {
          "color": "#00cc96",
          "pattern": {
           "shape": ""
          }
         },
         "name": "public appeal",
         "offsetgroup": "public appeal",
         "orientation": "v",
         "showlegend": true,
         "type": "histogram",
         "x": [
          "system operability disruption",
          "severe weather"
         ],
         "xaxis": "x",
         "yaxis": "y"
        },
        {
         "alignmentgroup": "True",
         "bingroup": "x",
         "hovertemplate": "CAUSE.CATEGORY.DETAIL=storm<br>CAUSE.CATEGORY=%{x}<br>count=%{y}<extra></extra>",
         "legendgroup": "storm",
         "marker": {
          "color": "#ab63fa",
          "pattern": {
           "shape": ""
          }
         },
         "name": "storm",
         "offsetgroup": "storm",
         "orientation": "v",
         "showlegend": true,
         "type": "histogram",
         "x": [
          "severe weather",
          "severe weather",
          "severe weather",
          "severe weather",
          "severe weather",
          "severe weather",
          "severe weather",
          "severe weather",
          "severe weather",
          "severe weather",
          "severe weather",
          "severe weather",
          "severe weather",
          "severe weather",
          "severe weather",
          "severe weather",
          "severe weather",
          "severe weather",
          "severe weather",
          "severe weather",
          "severe weather",
          "severe weather",
          "severe weather",
          "severe weather",
          "severe weather",
          "severe weather",
          "severe weather",
          "severe weather",
          "severe weather",
          "severe weather",
          "severe weather",
          "severe weather",
          "severe weather",
          "severe weather",
          "severe weather",
          "severe weather",
          "severe weather",
          "severe weather",
          "severe weather",
          "severe weather",
          "severe weather"
         ],
         "xaxis": "x",
         "yaxis": "y"
        },
        {
         "alignmentgroup": "True",
         "bingroup": "x",
         "hovertemplate": "CAUSE.CATEGORY.DETAIL= Coal<br>CAUSE.CATEGORY=%{x}<br>count=%{y}<extra></extra>",
         "legendgroup": " Coal",
         "marker": {
          "color": "#FFA15A",
          "pattern": {
           "shape": ""
          }
         },
         "name": " Coal",
         "offsetgroup": " Coal",
         "orientation": "v",
         "showlegend": true,
         "type": "histogram",
         "x": [
          "fuel supply emergency",
          "fuel supply emergency",
          "fuel supply emergency",
          "fuel supply emergency",
          "fuel supply emergency",
          "fuel supply emergency",
          "fuel supply emergency",
          "fuel supply emergency",
          "fuel supply emergency",
          "fuel supply emergency"
         ],
         "xaxis": "x",
         "yaxis": "y"
        },
        {
         "alignmentgroup": "True",
         "bingroup": "x",
         "hovertemplate": "CAUSE.CATEGORY.DETAIL= Natural Gas<br>CAUSE.CATEGORY=%{x}<br>count=%{y}<extra></extra>",
         "legendgroup": " Natural Gas",
         "marker": {
          "color": "#19d3f3",
          "pattern": {
           "shape": ""
          }
         },
         "name": " Natural Gas",
         "offsetgroup": " Natural Gas",
         "orientation": "v",
         "showlegend": true,
         "type": "histogram",
         "x": [
          "fuel supply emergency",
          "fuel supply emergency",
          "fuel supply emergency",
          "fuel supply emergency",
          "fuel supply emergency",
          "fuel supply emergency",
          "fuel supply emergency"
         ],
         "xaxis": "x",
         "yaxis": "y"
        },
        {
         "alignmentgroup": "True",
         "bingroup": "x",
         "hovertemplate": "CAUSE.CATEGORY.DETAIL=hurricanes<br>CAUSE.CATEGORY=%{x}<br>count=%{y}<extra></extra>",
         "legendgroup": "hurricanes",
         "marker": {
          "color": "#FF6692",
          "pattern": {
           "shape": ""
          }
         },
         "name": "hurricanes",
         "offsetgroup": "hurricanes",
         "orientation": "v",
         "showlegend": true,
         "type": "histogram",
         "x": [
          "severe weather",
          "severe weather",
          "severe weather",
          "severe weather",
          "severe weather",
          "severe weather",
          "severe weather",
          "severe weather",
          "severe weather",
          "severe weather",
          "severe weather",
          "severe weather",
          "severe weather",
          "severe weather",
          "severe weather",
          "severe weather",
          "severe weather",
          "severe weather",
          "severe weather",
          "severe weather",
          "severe weather",
          "severe weather",
          "severe weather",
          "severe weather",
          "severe weather",
          "severe weather",
          "severe weather",
          "severe weather",
          "severe weather",
          "severe weather",
          "severe weather",
          "severe weather",
          "severe weather",
          "severe weather",
          "severe weather",
          "severe weather",
          "severe weather",
          "severe weather",
          "severe weather",
          "severe weather",
          "severe weather",
          "severe weather",
          "severe weather",
          "severe weather",
          "severe weather",
          "severe weather",
          "severe weather",
          "severe weather",
          "severe weather",
          "severe weather",
          "severe weather",
          "severe weather",
          "severe weather",
          "severe weather",
          "severe weather",
          "severe weather",
          "severe weather",
          "severe weather",
          "severe weather",
          "severe weather",
          "severe weather",
          "severe weather",
          "severe weather",
          "severe weather",
          "severe weather",
          "severe weather",
          "severe weather",
          "severe weather",
          "severe weather",
          "severe weather",
          "severe weather",
          "severe weather",
          "severe weather",
          "severe weather"
         ],
         "xaxis": "x",
         "yaxis": "y"
        },
        {
         "alignmentgroup": "True",
         "bingroup": "x",
         "hovertemplate": "CAUSE.CATEGORY.DETAIL=wind/rain<br>CAUSE.CATEGORY=%{x}<br>count=%{y}<extra></extra>",
         "legendgroup": "wind/rain",
         "marker": {
          "color": "#B6E880",
          "pattern": {
           "shape": ""
          }
         },
         "name": "wind/rain",
         "offsetgroup": "wind/rain",
         "orientation": "v",
         "showlegend": true,
         "type": "histogram",
         "x": [
          "severe weather",
          "severe weather",
          "severe weather",
          "severe weather",
          "severe weather",
          "severe weather",
          "severe weather",
          "severe weather",
          "severe weather",
          "severe weather",
          "severe weather",
          "severe weather"
         ],
         "xaxis": "x",
         "yaxis": "y"
        },
        {
         "alignmentgroup": "True",
         "bingroup": "x",
         "hovertemplate": "CAUSE.CATEGORY.DETAIL=snow/ice storm<br>CAUSE.CATEGORY=%{x}<br>count=%{y}<extra></extra>",
         "legendgroup": "snow/ice storm",
         "marker": {
          "color": "#FF97FF",
          "pattern": {
           "shape": ""
          }
         },
         "name": "snow/ice storm",
         "offsetgroup": "snow/ice storm",
         "orientation": "v",
         "showlegend": true,
         "type": "histogram",
         "x": [
          "severe weather"
         ],
         "xaxis": "x",
         "yaxis": "y"
        },
        {
         "alignmentgroup": "True",
         "bingroup": "x",
         "hovertemplate": "CAUSE.CATEGORY.DETAIL=snow/ice <br>CAUSE.CATEGORY=%{x}<br>count=%{y}<extra></extra>",
         "legendgroup": "snow/ice ",
         "marker": {
          "color": "#FECB52",
          "pattern": {
           "shape": ""
          }
         },
         "name": "snow/ice ",
         "offsetgroup": "snow/ice ",
         "orientation": "v",
         "showlegend": true,
         "type": "histogram",
         "x": [
          "severe weather",
          "severe weather",
          "severe weather",
          "severe weather",
          "severe weather",
          "severe weather",
          "severe weather",
          "severe weather",
          "severe weather",
          "severe weather",
          "severe weather",
          "severe weather",
          "severe weather"
         ],
         "xaxis": "x",
         "yaxis": "y"
        },
        {
         "alignmentgroup": "True",
         "bingroup": "x",
         "hovertemplate": "CAUSE.CATEGORY.DETAIL=transmission interruption<br>CAUSE.CATEGORY=%{x}<br>count=%{y}<extra></extra>",
         "legendgroup": "transmission interruption",
         "marker": {
          "color": "#636efa",
          "pattern": {
           "shape": ""
          }
         },
         "name": "transmission interruption",
         "offsetgroup": "transmission interruption",
         "orientation": "v",
         "showlegend": true,
         "type": "histogram",
         "x": [
          "equipment failure",
          "system operability disruption",
          "system operability disruption",
          "system operability disruption",
          "system operability disruption",
          "equipment failure",
          "system operability disruption",
          "system operability disruption",
          "system operability disruption",
          "system operability disruption",
          "system operability disruption",
          "system operability disruption",
          "system operability disruption",
          "system operability disruption",
          "system operability disruption",
          "system operability disruption",
          "system operability disruption",
          "system operability disruption",
          "system operability disruption"
         ],
         "xaxis": "x",
         "yaxis": "y"
        },
        {
         "alignmentgroup": "True",
         "bingroup": "x",
         "hovertemplate": "CAUSE.CATEGORY.DETAIL=flooding<br>CAUSE.CATEGORY=%{x}<br>count=%{y}<extra></extra>",
         "legendgroup": "flooding",
         "marker": {
          "color": "#EF553B",
          "pattern": {
           "shape": ""
          }
         },
         "name": "flooding",
         "offsetgroup": "flooding",
         "orientation": "v",
         "showlegend": true,
         "type": "histogram",
         "x": [
          "severe weather",
          "severe weather",
          "severe weather",
          "severe weather"
         ],
         "xaxis": "x",
         "yaxis": "y"
        },
        {
         "alignmentgroup": "True",
         "bingroup": "x",
         "hovertemplate": "CAUSE.CATEGORY.DETAIL=transformer outage<br>CAUSE.CATEGORY=%{x}<br>count=%{y}<extra></extra>",
         "legendgroup": "transformer outage",
         "marker": {
          "color": "#00cc96",
          "pattern": {
           "shape": ""
          }
         },
         "name": "transformer outage",
         "offsetgroup": "transformer outage",
         "orientation": "v",
         "showlegend": true,
         "type": "histogram",
         "x": [
          "equipment failure",
          "equipment failure",
          "equipment failure"
         ],
         "xaxis": "x",
         "yaxis": "y"
        },
        {
         "alignmentgroup": "True",
         "bingroup": "x",
         "hovertemplate": "CAUSE.CATEGORY.DETAIL=generator trip<br>CAUSE.CATEGORY=%{x}<br>count=%{y}<extra></extra>",
         "legendgroup": "generator trip",
         "marker": {
          "color": "#ab63fa",
          "pattern": {
           "shape": ""
          }
         },
         "name": "generator trip",
         "offsetgroup": "generator trip",
         "orientation": "v",
         "showlegend": true,
         "type": "histogram",
         "x": [
          "equipment failure",
          "equipment failure",
          "equipment failure",
          "equipment failure",
          "equipment failure",
          "equipment failure",
          "equipment failure",
          "equipment failure",
          "equipment failure",
          "equipment failure",
          "equipment failure",
          "equipment failure",
          "equipment failure",
          "equipment failure",
          "equipment failure",
          "equipment failure"
         ],
         "xaxis": "x",
         "yaxis": "y"
        },
        {
         "alignmentgroup": "True",
         "bingroup": "x",
         "hovertemplate": "CAUSE.CATEGORY.DETAIL=relaying malfunction<br>CAUSE.CATEGORY=%{x}<br>count=%{y}<extra></extra>",
         "legendgroup": "relaying malfunction",
         "marker": {
          "color": "#FFA15A",
          "pattern": {
           "shape": ""
          }
         },
         "name": "relaying malfunction",
         "offsetgroup": "relaying malfunction",
         "orientation": "v",
         "showlegend": true,
         "type": "histogram",
         "x": [
          "equipment failure",
          "equipment failure",
          "equipment failure"
         ],
         "xaxis": "x",
         "yaxis": "y"
        },
        {
         "alignmentgroup": "True",
         "bingroup": "x",
         "hovertemplate": "CAUSE.CATEGORY.DETAIL=transmission trip<br>CAUSE.CATEGORY=%{x}<br>count=%{y}<extra></extra>",
         "legendgroup": "transmission trip",
         "marker": {
          "color": "#19d3f3",
          "pattern": {
           "shape": ""
          }
         },
         "name": "transmission trip",
         "offsetgroup": "transmission trip",
         "orientation": "v",
         "showlegend": true,
         "type": "histogram",
         "x": [
          "equipment failure",
          "equipment failure",
          "equipment failure",
          "equipment failure",
          "equipment failure",
          "equipment failure"
         ],
         "xaxis": "x",
         "yaxis": "y"
        },
        {
         "alignmentgroup": "True",
         "bingroup": "x",
         "hovertemplate": "CAUSE.CATEGORY.DETAIL=lightning<br>CAUSE.CATEGORY=%{x}<br>count=%{y}<extra></extra>",
         "legendgroup": "lightning",
         "marker": {
          "color": "#FF6692",
          "pattern": {
           "shape": ""
          }
         },
         "name": "lightning",
         "offsetgroup": "lightning",
         "orientation": "v",
         "showlegend": true,
         "type": "histogram",
         "x": [
          "severe weather",
          "severe weather",
          "severe weather"
         ],
         "xaxis": "x",
         "yaxis": "y"
        },
        {
         "alignmentgroup": "True",
         "bingroup": "x",
         "hovertemplate": "CAUSE.CATEGORY.DETAIL=switching<br>CAUSE.CATEGORY=%{x}<br>count=%{y}<extra></extra>",
         "legendgroup": "switching",
         "marker": {
          "color": "#B6E880",
          "pattern": {
           "shape": ""
          }
         },
         "name": "switching",
         "offsetgroup": "switching",
         "orientation": "v",
         "showlegend": true,
         "type": "histogram",
         "x": [
          "equipment failure",
          "equipment failure"
         ],
         "xaxis": "x",
         "yaxis": "y"
        },
        {
         "alignmentgroup": "True",
         "bingroup": "x",
         "hovertemplate": "CAUSE.CATEGORY.DETAIL=shed load<br>CAUSE.CATEGORY=%{x}<br>count=%{y}<extra></extra>",
         "legendgroup": "shed load",
         "marker": {
          "color": "#FF97FF",
          "pattern": {
           "shape": ""
          }
         },
         "name": "shed load",
         "offsetgroup": "shed load",
         "orientation": "v",
         "showlegend": true,
         "type": "histogram",
         "x": [
          "system operability disruption"
         ],
         "xaxis": "x",
         "yaxis": "y"
        },
        {
         "alignmentgroup": "True",
         "bingroup": "x",
         "hovertemplate": "CAUSE.CATEGORY.DETAIL=line fault<br>CAUSE.CATEGORY=%{x}<br>count=%{y}<extra></extra>",
         "legendgroup": "line fault",
         "marker": {
          "color": "#FECB52",
          "pattern": {
           "shape": ""
          }
         },
         "name": "line fault",
         "offsetgroup": "line fault",
         "orientation": "v",
         "showlegend": true,
         "type": "histogram",
         "x": [
          "equipment failure",
          "equipment failure"
         ],
         "xaxis": "x",
         "yaxis": "y"
        },
        {
         "alignmentgroup": "True",
         "bingroup": "x",
         "hovertemplate": "CAUSE.CATEGORY.DETAIL=breaker trip<br>CAUSE.CATEGORY=%{x}<br>count=%{y}<extra></extra>",
         "legendgroup": "breaker trip",
         "marker": {
          "color": "#636efa",
          "pattern": {
           "shape": ""
          }
         },
         "name": "breaker trip",
         "offsetgroup": "breaker trip",
         "orientation": "v",
         "showlegend": true,
         "type": "histogram",
         "x": [
          "equipment failure",
          "equipment failure",
          "equipment failure",
          "equipment failure"
         ],
         "xaxis": "x",
         "yaxis": "y"
        },
        {
         "alignmentgroup": "True",
         "bingroup": "x",
         "hovertemplate": "CAUSE.CATEGORY.DETAIL=wildfire<br>CAUSE.CATEGORY=%{x}<br>count=%{y}<extra></extra>",
         "legendgroup": "wildfire",
         "marker": {
          "color": "#EF553B",
          "pattern": {
           "shape": ""
          }
         },
         "name": "wildfire",
         "offsetgroup": "wildfire",
         "orientation": "v",
         "showlegend": true,
         "type": "histogram",
         "x": [
          "severe weather",
          "severe weather",
          "severe weather",
          "severe weather",
          "severe weather",
          "severe weather",
          "severe weather",
          "severe weather",
          "severe weather",
          "severe weather",
          "severe weather",
          "severe weather",
          "severe weather",
          "severe weather",
          "severe weather",
          "severe weather",
          "severe weather",
          "severe weather",
          "severe weather",
          "severe weather",
          "severe weather",
          "severe weather",
          "severe weather",
          "severe weather",
          "severe weather",
          "severe weather"
         ],
         "xaxis": "x",
         "yaxis": "y"
        },
        {
         "alignmentgroup": "True",
         "bingroup": "x",
         "hovertemplate": "CAUSE.CATEGORY.DETAIL= Hydro<br>CAUSE.CATEGORY=%{x}<br>count=%{y}<extra></extra>",
         "legendgroup": " Hydro",
         "marker": {
          "color": "#00cc96",
          "pattern": {
           "shape": ""
          }
         },
         "name": " Hydro",
         "offsetgroup": " Hydro",
         "orientation": "v",
         "showlegend": true,
         "type": "histogram",
         "x": [
          "fuel supply emergency"
         ],
         "xaxis": "x",
         "yaxis": "y"
        },
        {
         "alignmentgroup": "True",
         "bingroup": "x",
         "hovertemplate": "CAUSE.CATEGORY.DETAIL=majorsystem interruption<br>CAUSE.CATEGORY=%{x}<br>count=%{y}<extra></extra>",
         "legendgroup": "majorsystem interruption",
         "marker": {
          "color": "#ab63fa",
          "pattern": {
           "shape": ""
          }
         },
         "name": "majorsystem interruption",
         "offsetgroup": "majorsystem interruption",
         "orientation": "v",
         "showlegend": true,
         "type": "histogram",
         "x": [
          "system operability disruption"
         ],
         "xaxis": "x",
         "yaxis": "y"
        },
        {
         "alignmentgroup": "True",
         "bingroup": "x",
         "hovertemplate": "CAUSE.CATEGORY.DETAIL=voltage reduction<br>CAUSE.CATEGORY=%{x}<br>count=%{y}<extra></extra>",
         "legendgroup": "voltage reduction",
         "marker": {
          "color": "#FFA15A",
          "pattern": {
           "shape": ""
          }
         },
         "name": "voltage reduction",
         "offsetgroup": "voltage reduction",
         "orientation": "v",
         "showlegend": true,
         "type": "histogram",
         "x": [
          "system operability disruption"
         ],
         "xaxis": "x",
         "yaxis": "y"
        },
        {
         "alignmentgroup": "True",
         "bingroup": "x",
         "hovertemplate": "CAUSE.CATEGORY.DETAIL=transmission<br>CAUSE.CATEGORY=%{x}<br>count=%{y}<extra></extra>",
         "legendgroup": "transmission",
         "marker": {
          "color": "#19d3f3",
          "pattern": {
           "shape": ""
          }
         },
         "name": "transmission",
         "offsetgroup": "transmission",
         "orientation": "v",
         "showlegend": true,
         "type": "histogram",
         "x": [
          "equipment failure",
          "equipment failure",
          "equipment failure"
         ],
         "xaxis": "x",
         "yaxis": "y"
        },
        {
         "alignmentgroup": "True",
         "bingroup": "x",
         "hovertemplate": "CAUSE.CATEGORY.DETAIL=Coal<br>CAUSE.CATEGORY=%{x}<br>count=%{y}<extra></extra>",
         "legendgroup": "Coal",
         "marker": {
          "color": "#FF6692",
          "pattern": {
           "shape": ""
          }
         },
         "name": "Coal",
         "offsetgroup": "Coal",
         "orientation": "v",
         "showlegend": true,
         "type": "histogram",
         "x": [
          "fuel supply emergency",
          "fuel supply emergency",
          "fuel supply emergency",
          "fuel supply emergency",
          "fuel supply emergency",
          "fuel supply emergency",
          "fuel supply emergency",
          "fuel supply emergency"
         ],
         "xaxis": "x",
         "yaxis": "y"
        },
        {
         "alignmentgroup": "True",
         "bingroup": "x",
         "hovertemplate": "CAUSE.CATEGORY.DETAIL=substation<br>CAUSE.CATEGORY=%{x}<br>count=%{y}<extra></extra>",
         "legendgroup": "substation",
         "marker": {
          "color": "#B6E880",
          "pattern": {
           "shape": ""
          }
         },
         "name": "substation",
         "offsetgroup": "substation",
         "orientation": "v",
         "showlegend": true,
         "type": "histogram",
         "x": [
          "equipment failure",
          "equipment failure"
         ],
         "xaxis": "x",
         "yaxis": "y"
        },
        {
         "alignmentgroup": "True",
         "bingroup": "x",
         "hovertemplate": "CAUSE.CATEGORY.DETAIL=heatwave<br>CAUSE.CATEGORY=%{x}<br>count=%{y}<extra></extra>",
         "legendgroup": "heatwave",
         "marker": {
          "color": "#FF97FF",
          "pattern": {
           "shape": ""
          }
         },
         "name": "heatwave",
         "offsetgroup": "heatwave",
         "orientation": "v",
         "showlegend": true,
         "type": "histogram",
         "x": [
          "severe weather",
          "severe weather",
          "severe weather",
          "severe weather",
          "severe weather",
          "severe weather",
          "severe weather",
          "severe weather",
          "severe weather",
          "severe weather"
         ],
         "xaxis": "x",
         "yaxis": "y"
        },
        {
         "alignmentgroup": "True",
         "bingroup": "x",
         "hovertemplate": "CAUSE.CATEGORY.DETAIL=distribution interruption<br>CAUSE.CATEGORY=%{x}<br>count=%{y}<extra></extra>",
         "legendgroup": "distribution interruption",
         "marker": {
          "color": "#FECB52",
          "pattern": {
           "shape": ""
          }
         },
         "name": "distribution interruption",
         "offsetgroup": "distribution interruption",
         "orientation": "v",
         "showlegend": true,
         "type": "histogram",
         "x": [
          "system operability disruption",
          "system operability disruption"
         ],
         "xaxis": "x",
         "yaxis": "y"
        },
        {
         "alignmentgroup": "True",
         "bingroup": "x",
         "hovertemplate": "CAUSE.CATEGORY.DETAIL=wind<br>CAUSE.CATEGORY=%{x}<br>count=%{y}<extra></extra>",
         "legendgroup": "wind",
         "marker": {
          "color": "#636efa",
          "pattern": {
           "shape": ""
          }
         },
         "name": "wind",
         "offsetgroup": "wind",
         "orientation": "v",
         "showlegend": true,
         "type": "histogram",
         "x": [
          "severe weather",
          "severe weather",
          "severe weather"
         ],
         "xaxis": "x",
         "yaxis": "y"
        },
        {
         "alignmentgroup": "True",
         "bingroup": "x",
         "hovertemplate": "CAUSE.CATEGORY.DETAIL=suspicious activity<br>CAUSE.CATEGORY=%{x}<br>count=%{y}<extra></extra>",
         "legendgroup": "suspicious activity",
         "marker": {
          "color": "#EF553B",
          "pattern": {
           "shape": ""
          }
         },
         "name": "suspicious activity",
         "offsetgroup": "suspicious activity",
         "orientation": "v",
         "showlegend": true,
         "type": "histogram",
         "x": [
          "intentional attack",
          "intentional attack",
          "intentional attack"
         ],
         "xaxis": "x",
         "yaxis": "y"
        },
        {
         "alignmentgroup": "True",
         "bingroup": "x",
         "hovertemplate": "CAUSE.CATEGORY.DETAIL=feeder shutdown<br>CAUSE.CATEGORY=%{x}<br>count=%{y}<extra></extra>",
         "legendgroup": "feeder shutdown",
         "marker": {
          "color": "#00cc96",
          "pattern": {
           "shape": ""
          }
         },
         "name": "feeder shutdown",
         "offsetgroup": "feeder shutdown",
         "orientation": "v",
         "showlegend": true,
         "type": "histogram",
         "x": [
          "equipment failure"
         ],
         "xaxis": "x",
         "yaxis": "y"
        },
        {
         "alignmentgroup": "True",
         "bingroup": "x",
         "hovertemplate": "CAUSE.CATEGORY.DETAIL=100 MW loadshed<br>CAUSE.CATEGORY=%{x}<br>count=%{y}<extra></extra>",
         "legendgroup": "100 MW loadshed",
         "marker": {
          "color": "#ab63fa",
          "pattern": {
           "shape": ""
          }
         },
         "name": "100 MW loadshed",
         "offsetgroup": "100 MW loadshed",
         "orientation": "v",
         "showlegend": true,
         "type": "histogram",
         "x": [
          "system operability disruption"
         ],
         "xaxis": "x",
         "yaxis": "y"
        },
        {
         "alignmentgroup": "True",
         "bingroup": "x",
         "hovertemplate": "CAUSE.CATEGORY.DETAIL=plant trip<br>CAUSE.CATEGORY=%{x}<br>count=%{y}<extra></extra>",
         "legendgroup": "plant trip",
         "marker": {
          "color": "#FFA15A",
          "pattern": {
           "shape": ""
          }
         },
         "name": "plant trip",
         "offsetgroup": "plant trip",
         "orientation": "v",
         "showlegend": true,
         "type": "histogram",
         "x": [
          "equipment failure"
         ],
         "xaxis": "x",
         "yaxis": "y"
        },
        {
         "alignmentgroup": "True",
         "bingroup": "x",
         "hovertemplate": "CAUSE.CATEGORY.DETAIL=fog<br>CAUSE.CATEGORY=%{x}<br>count=%{y}<extra></extra>",
         "legendgroup": "fog",
         "marker": {
          "color": "#19d3f3",
          "pattern": {
           "shape": ""
          }
         },
         "name": "fog",
         "offsetgroup": "fog",
         "orientation": "v",
         "showlegend": true,
         "type": "histogram",
         "x": [
          "severe weather"
         ],
         "xaxis": "x",
         "yaxis": "y"
        },
        {
         "alignmentgroup": "True",
         "bingroup": "x",
         "hovertemplate": "CAUSE.CATEGORY.DETAIL=Hydro<br>CAUSE.CATEGORY=%{x}<br>count=%{y}<extra></extra>",
         "legendgroup": "Hydro",
         "marker": {
          "color": "#FF6692",
          "pattern": {
           "shape": ""
          }
         },
         "name": "Hydro",
         "offsetgroup": "Hydro",
         "orientation": "v",
         "showlegend": true,
         "type": "histogram",
         "x": [
          "fuel supply emergency",
          "fuel supply emergency",
          "fuel supply emergency",
          "fuel supply emergency",
          "fuel supply emergency"
         ],
         "xaxis": "x",
         "yaxis": "y"
        },
        {
         "alignmentgroup": "True",
         "bingroup": "x",
         "hovertemplate": "CAUSE.CATEGORY.DETAIL=earthquake<br>CAUSE.CATEGORY=%{x}<br>count=%{y}<extra></extra>",
         "legendgroup": "earthquake",
         "marker": {
          "color": "#B6E880",
          "pattern": {
           "shape": ""
          }
         },
         "name": "earthquake",
         "offsetgroup": "earthquake",
         "orientation": "v",
         "showlegend": true,
         "type": "histogram",
         "x": [
          "severe weather",
          "severe weather",
          "severe weather",
          "severe weather"
         ],
         "xaxis": "x",
         "yaxis": "y"
        },
        {
         "alignmentgroup": "True",
         "bingroup": "x",
         "hovertemplate": "CAUSE.CATEGORY.DETAIL=HVSubstation interruption<br>CAUSE.CATEGORY=%{x}<br>count=%{y}<extra></extra>",
         "legendgroup": "HVSubstation interruption",
         "marker": {
          "color": "#FF97FF",
          "pattern": {
           "shape": ""
          }
         },
         "name": "HVSubstation interruption",
         "offsetgroup": "HVSubstation interruption",
         "orientation": "v",
         "showlegend": true,
         "type": "histogram",
         "x": [
          "system operability disruption"
         ],
         "xaxis": "x",
         "yaxis": "y"
        },
        {
         "alignmentgroup": "True",
         "bingroup": "x",
         "hovertemplate": "CAUSE.CATEGORY.DETAIL=cables<br>CAUSE.CATEGORY=%{x}<br>count=%{y}<extra></extra>",
         "legendgroup": "cables",
         "marker": {
          "color": "#FECB52",
          "pattern": {
           "shape": ""
          }
         },
         "name": "cables",
         "offsetgroup": "cables",
         "orientation": "v",
         "showlegend": true,
         "type": "histogram",
         "x": [
          "equipment failure"
         ],
         "xaxis": "x",
         "yaxis": "y"
        },
        {
         "alignmentgroup": "True",
         "bingroup": "x",
         "hovertemplate": "CAUSE.CATEGORY.DETAIL=Petroleum<br>CAUSE.CATEGORY=%{x}<br>count=%{y}<extra></extra>",
         "legendgroup": "Petroleum",
         "marker": {
          "color": "#636efa",
          "pattern": {
           "shape": ""
          }
         },
         "name": "Petroleum",
         "offsetgroup": "Petroleum",
         "orientation": "v",
         "showlegend": true,
         "type": "histogram",
         "x": [
          "fuel supply emergency"
         ],
         "xaxis": "x",
         "yaxis": "y"
        },
        {
         "alignmentgroup": "True",
         "bingroup": "x",
         "hovertemplate": "CAUSE.CATEGORY.DETAIL=thunderstorm; islanding<br>CAUSE.CATEGORY=%{x}<br>count=%{y}<extra></extra>",
         "legendgroup": "thunderstorm; islanding",
         "marker": {
          "color": "#EF553B",
          "pattern": {
           "shape": ""
          }
         },
         "name": "thunderstorm; islanding",
         "offsetgroup": "thunderstorm; islanding",
         "orientation": "v",
         "showlegend": true,
         "type": "histogram",
         "x": [
          "severe weather"
         ],
         "xaxis": "x",
         "yaxis": "y"
        },
        {
         "alignmentgroup": "True",
         "bingroup": "x",
         "hovertemplate": "CAUSE.CATEGORY.DETAIL=failure<br>CAUSE.CATEGORY=%{x}<br>count=%{y}<extra></extra>",
         "legendgroup": "failure",
         "marker": {
          "color": "#00cc96",
          "pattern": {
           "shape": ""
          }
         },
         "name": "failure",
         "offsetgroup": "failure",
         "orientation": "v",
         "showlegend": true,
         "type": "histogram",
         "x": [
          "equipment failure"
         ],
         "xaxis": "x",
         "yaxis": "y"
        }
       ],
       "layout": {
        "barmode": "relative",
        "legend": {
         "title": {
          "text": "CAUSE.CATEGORY.DETAIL"
         },
         "tracegroupgap": 0
        },
        "template": {
         "data": {
          "bar": [
           {
            "error_x": {
             "color": "#2a3f5f"
            },
            "error_y": {
             "color": "#2a3f5f"
            },
            "marker": {
             "line": {
              "color": "#E5ECF6",
              "width": 0.5
             },
             "pattern": {
              "fillmode": "overlay",
              "size": 10,
              "solidity": 0.2
             }
            },
            "type": "bar"
           }
          ],
          "barpolar": [
           {
            "marker": {
             "line": {
              "color": "#E5ECF6",
              "width": 0.5
             },
             "pattern": {
              "fillmode": "overlay",
              "size": 10,
              "solidity": 0.2
             }
            },
            "type": "barpolar"
           }
          ],
          "carpet": [
           {
            "aaxis": {
             "endlinecolor": "#2a3f5f",
             "gridcolor": "white",
             "linecolor": "white",
             "minorgridcolor": "white",
             "startlinecolor": "#2a3f5f"
            },
            "baxis": {
             "endlinecolor": "#2a3f5f",
             "gridcolor": "white",
             "linecolor": "white",
             "minorgridcolor": "white",
             "startlinecolor": "#2a3f5f"
            },
            "type": "carpet"
           }
          ],
          "choropleth": [
           {
            "colorbar": {
             "outlinewidth": 0,
             "ticks": ""
            },
            "type": "choropleth"
           }
          ],
          "contour": [
           {
            "colorbar": {
             "outlinewidth": 0,
             "ticks": ""
            },
            "colorscale": [
             [
              0,
              "#0d0887"
             ],
             [
              0.1111111111111111,
              "#46039f"
             ],
             [
              0.2222222222222222,
              "#7201a8"
             ],
             [
              0.3333333333333333,
              "#9c179e"
             ],
             [
              0.4444444444444444,
              "#bd3786"
             ],
             [
              0.5555555555555556,
              "#d8576b"
             ],
             [
              0.6666666666666666,
              "#ed7953"
             ],
             [
              0.7777777777777778,
              "#fb9f3a"
             ],
             [
              0.8888888888888888,
              "#fdca26"
             ],
             [
              1,
              "#f0f921"
             ]
            ],
            "type": "contour"
           }
          ],
          "contourcarpet": [
           {
            "colorbar": {
             "outlinewidth": 0,
             "ticks": ""
            },
            "type": "contourcarpet"
           }
          ],
          "heatmap": [
           {
            "colorbar": {
             "outlinewidth": 0,
             "ticks": ""
            },
            "colorscale": [
             [
              0,
              "#0d0887"
             ],
             [
              0.1111111111111111,
              "#46039f"
             ],
             [
              0.2222222222222222,
              "#7201a8"
             ],
             [
              0.3333333333333333,
              "#9c179e"
             ],
             [
              0.4444444444444444,
              "#bd3786"
             ],
             [
              0.5555555555555556,
              "#d8576b"
             ],
             [
              0.6666666666666666,
              "#ed7953"
             ],
             [
              0.7777777777777778,
              "#fb9f3a"
             ],
             [
              0.8888888888888888,
              "#fdca26"
             ],
             [
              1,
              "#f0f921"
             ]
            ],
            "type": "heatmap"
           }
          ],
          "heatmapgl": [
           {
            "colorbar": {
             "outlinewidth": 0,
             "ticks": ""
            },
            "colorscale": [
             [
              0,
              "#0d0887"
             ],
             [
              0.1111111111111111,
              "#46039f"
             ],
             [
              0.2222222222222222,
              "#7201a8"
             ],
             [
              0.3333333333333333,
              "#9c179e"
             ],
             [
              0.4444444444444444,
              "#bd3786"
             ],
             [
              0.5555555555555556,
              "#d8576b"
             ],
             [
              0.6666666666666666,
              "#ed7953"
             ],
             [
              0.7777777777777778,
              "#fb9f3a"
             ],
             [
              0.8888888888888888,
              "#fdca26"
             ],
             [
              1,
              "#f0f921"
             ]
            ],
            "type": "heatmapgl"
           }
          ],
          "histogram": [
           {
            "marker": {
             "pattern": {
              "fillmode": "overlay",
              "size": 10,
              "solidity": 0.2
             }
            },
            "type": "histogram"
           }
          ],
          "histogram2d": [
           {
            "colorbar": {
             "outlinewidth": 0,
             "ticks": ""
            },
            "colorscale": [
             [
              0,
              "#0d0887"
             ],
             [
              0.1111111111111111,
              "#46039f"
             ],
             [
              0.2222222222222222,
              "#7201a8"
             ],
             [
              0.3333333333333333,
              "#9c179e"
             ],
             [
              0.4444444444444444,
              "#bd3786"
             ],
             [
              0.5555555555555556,
              "#d8576b"
             ],
             [
              0.6666666666666666,
              "#ed7953"
             ],
             [
              0.7777777777777778,
              "#fb9f3a"
             ],
             [
              0.8888888888888888,
              "#fdca26"
             ],
             [
              1,
              "#f0f921"
             ]
            ],
            "type": "histogram2d"
           }
          ],
          "histogram2dcontour": [
           {
            "colorbar": {
             "outlinewidth": 0,
             "ticks": ""
            },
            "colorscale": [
             [
              0,
              "#0d0887"
             ],
             [
              0.1111111111111111,
              "#46039f"
             ],
             [
              0.2222222222222222,
              "#7201a8"
             ],
             [
              0.3333333333333333,
              "#9c179e"
             ],
             [
              0.4444444444444444,
              "#bd3786"
             ],
             [
              0.5555555555555556,
              "#d8576b"
             ],
             [
              0.6666666666666666,
              "#ed7953"
             ],
             [
              0.7777777777777778,
              "#fb9f3a"
             ],
             [
              0.8888888888888888,
              "#fdca26"
             ],
             [
              1,
              "#f0f921"
             ]
            ],
            "type": "histogram2dcontour"
           }
          ],
          "mesh3d": [
           {
            "colorbar": {
             "outlinewidth": 0,
             "ticks": ""
            },
            "type": "mesh3d"
           }
          ],
          "parcoords": [
           {
            "line": {
             "colorbar": {
              "outlinewidth": 0,
              "ticks": ""
             }
            },
            "type": "parcoords"
           }
          ],
          "pie": [
           {
            "automargin": true,
            "type": "pie"
           }
          ],
          "scatter": [
           {
            "fillpattern": {
             "fillmode": "overlay",
             "size": 10,
             "solidity": 0.2
            },
            "type": "scatter"
           }
          ],
          "scatter3d": [
           {
            "line": {
             "colorbar": {
              "outlinewidth": 0,
              "ticks": ""
             }
            },
            "marker": {
             "colorbar": {
              "outlinewidth": 0,
              "ticks": ""
             }
            },
            "type": "scatter3d"
           }
          ],
          "scattercarpet": [
           {
            "marker": {
             "colorbar": {
              "outlinewidth": 0,
              "ticks": ""
             }
            },
            "type": "scattercarpet"
           }
          ],
          "scattergeo": [
           {
            "marker": {
             "colorbar": {
              "outlinewidth": 0,
              "ticks": ""
             }
            },
            "type": "scattergeo"
           }
          ],
          "scattergl": [
           {
            "marker": {
             "colorbar": {
              "outlinewidth": 0,
              "ticks": ""
             }
            },
            "type": "scattergl"
           }
          ],
          "scattermapbox": [
           {
            "marker": {
             "colorbar": {
              "outlinewidth": 0,
              "ticks": ""
             }
            },
            "type": "scattermapbox"
           }
          ],
          "scatterpolar": [
           {
            "marker": {
             "colorbar": {
              "outlinewidth": 0,
              "ticks": ""
             }
            },
            "type": "scatterpolar"
           }
          ],
          "scatterpolargl": [
           {
            "marker": {
             "colorbar": {
              "outlinewidth": 0,
              "ticks": ""
             }
            },
            "type": "scatterpolargl"
           }
          ],
          "scatterternary": [
           {
            "marker": {
             "colorbar": {
              "outlinewidth": 0,
              "ticks": ""
             }
            },
            "type": "scatterternary"
           }
          ],
          "surface": [
           {
            "colorbar": {
             "outlinewidth": 0,
             "ticks": ""
            },
            "colorscale": [
             [
              0,
              "#0d0887"
             ],
             [
              0.1111111111111111,
              "#46039f"
             ],
             [
              0.2222222222222222,
              "#7201a8"
             ],
             [
              0.3333333333333333,
              "#9c179e"
             ],
             [
              0.4444444444444444,
              "#bd3786"
             ],
             [
              0.5555555555555556,
              "#d8576b"
             ],
             [
              0.6666666666666666,
              "#ed7953"
             ],
             [
              0.7777777777777778,
              "#fb9f3a"
             ],
             [
              0.8888888888888888,
              "#fdca26"
             ],
             [
              1,
              "#f0f921"
             ]
            ],
            "type": "surface"
           }
          ],
          "table": [
           {
            "cells": {
             "fill": {
              "color": "#EBF0F8"
             },
             "line": {
              "color": "white"
             }
            },
            "header": {
             "fill": {
              "color": "#C8D4E3"
             },
             "line": {
              "color": "white"
             }
            },
            "type": "table"
           }
          ]
         },
         "layout": {
          "annotationdefaults": {
           "arrowcolor": "#2a3f5f",
           "arrowhead": 0,
           "arrowwidth": 1
          },
          "autotypenumbers": "strict",
          "coloraxis": {
           "colorbar": {
            "outlinewidth": 0,
            "ticks": ""
           }
          },
          "colorscale": {
           "diverging": [
            [
             0,
             "#8e0152"
            ],
            [
             0.1,
             "#c51b7d"
            ],
            [
             0.2,
             "#de77ae"
            ],
            [
             0.3,
             "#f1b6da"
            ],
            [
             0.4,
             "#fde0ef"
            ],
            [
             0.5,
             "#f7f7f7"
            ],
            [
             0.6,
             "#e6f5d0"
            ],
            [
             0.7,
             "#b8e186"
            ],
            [
             0.8,
             "#7fbc41"
            ],
            [
             0.9,
             "#4d9221"
            ],
            [
             1,
             "#276419"
            ]
           ],
           "sequential": [
            [
             0,
             "#0d0887"
            ],
            [
             0.1111111111111111,
             "#46039f"
            ],
            [
             0.2222222222222222,
             "#7201a8"
            ],
            [
             0.3333333333333333,
             "#9c179e"
            ],
            [
             0.4444444444444444,
             "#bd3786"
            ],
            [
             0.5555555555555556,
             "#d8576b"
            ],
            [
             0.6666666666666666,
             "#ed7953"
            ],
            [
             0.7777777777777778,
             "#fb9f3a"
            ],
            [
             0.8888888888888888,
             "#fdca26"
            ],
            [
             1,
             "#f0f921"
            ]
           ],
           "sequentialminus": [
            [
             0,
             "#0d0887"
            ],
            [
             0.1111111111111111,
             "#46039f"
            ],
            [
             0.2222222222222222,
             "#7201a8"
            ],
            [
             0.3333333333333333,
             "#9c179e"
            ],
            [
             0.4444444444444444,
             "#bd3786"
            ],
            [
             0.5555555555555556,
             "#d8576b"
            ],
            [
             0.6666666666666666,
             "#ed7953"
            ],
            [
             0.7777777777777778,
             "#fb9f3a"
            ],
            [
             0.8888888888888888,
             "#fdca26"
            ],
            [
             1,
             "#f0f921"
            ]
           ]
          },
          "colorway": [
           "#636efa",
           "#EF553B",
           "#00cc96",
           "#ab63fa",
           "#FFA15A",
           "#19d3f3",
           "#FF6692",
           "#B6E880",
           "#FF97FF",
           "#FECB52"
          ],
          "font": {
           "color": "#2a3f5f"
          },
          "geo": {
           "bgcolor": "white",
           "lakecolor": "white",
           "landcolor": "#E5ECF6",
           "showlakes": true,
           "showland": true,
           "subunitcolor": "white"
          },
          "hoverlabel": {
           "align": "left"
          },
          "hovermode": "closest",
          "mapbox": {
           "style": "light"
          },
          "paper_bgcolor": "white",
          "plot_bgcolor": "#E5ECF6",
          "polar": {
           "angularaxis": {
            "gridcolor": "white",
            "linecolor": "white",
            "ticks": ""
           },
           "bgcolor": "#E5ECF6",
           "radialaxis": {
            "gridcolor": "white",
            "linecolor": "white",
            "ticks": ""
           }
          },
          "scene": {
           "xaxis": {
            "backgroundcolor": "#E5ECF6",
            "gridcolor": "white",
            "gridwidth": 2,
            "linecolor": "white",
            "showbackground": true,
            "ticks": "",
            "zerolinecolor": "white"
           },
           "yaxis": {
            "backgroundcolor": "#E5ECF6",
            "gridcolor": "white",
            "gridwidth": 2,
            "linecolor": "white",
            "showbackground": true,
            "ticks": "",
            "zerolinecolor": "white"
           },
           "zaxis": {
            "backgroundcolor": "#E5ECF6",
            "gridcolor": "white",
            "gridwidth": 2,
            "linecolor": "white",
            "showbackground": true,
            "ticks": "",
            "zerolinecolor": "white"
           }
          },
          "shapedefaults": {
           "line": {
            "color": "#2a3f5f"
           }
          },
          "ternary": {
           "aaxis": {
            "gridcolor": "white",
            "linecolor": "white",
            "ticks": ""
           },
           "baxis": {
            "gridcolor": "white",
            "linecolor": "white",
            "ticks": ""
           },
           "bgcolor": "#E5ECF6",
           "caxis": {
            "gridcolor": "white",
            "linecolor": "white",
            "ticks": ""
           }
          },
          "title": {
           "x": 0.05
          },
          "xaxis": {
           "automargin": true,
           "gridcolor": "white",
           "linecolor": "white",
           "ticks": "",
           "title": {
            "standoff": 15
           },
           "zerolinecolor": "white",
           "zerolinewidth": 2
          },
          "yaxis": {
           "automargin": true,
           "gridcolor": "white",
           "linecolor": "white",
           "ticks": "",
           "title": {
            "standoff": 15
           },
           "zerolinecolor": "white",
           "zerolinewidth": 2
          }
         }
        },
        "title": {
         "text": "Frequency of Categories"
        },
        "xaxis": {
         "anchor": "y",
         "domain": [
          0,
          1
         ],
         "title": {
          "text": "CAUSE.CATEGORY"
         }
        },
        "yaxis": {
         "anchor": "x",
         "domain": [
          0,
          1
         ],
         "title": {
          "text": "count"
         }
        }
       }
      }
     },
     "metadata": {},
     "output_type": "display_data"
    }
   ],
   "source": [
    "fig = px.histogram(df, x='CAUSE.CATEGORY', \n",
    "                   title='Frequency of Categories', \n",
    "                   color = 'CAUSE.CATEGORY.DETAIL',\n",
    "                   labels={'x': 'Cause', 'y': 'Frequency'})\n",
    "fig.show()"
   ]
  },
  {
   "cell_type": "code",
   "execution_count": 21,
   "metadata": {
    "scrolled": false
   },
   "outputs": [
    {
     "data": {
      "application/vnd.plotly.v1+json": {
       "config": {
        "plotlyServerURL": "https://plot.ly"
       },
       "data": [
        {
         "alignmentgroup": "True",
         "bingroup": "x",
         "hovertemplate": "CAUSE.CATEGORY=severe weather<br>CLIMATE.REGION=%{x}<br>count=%{y}<extra></extra>",
         "legendgroup": "severe weather",
         "marker": {
          "color": "#636efa",
          "pattern": {
           "shape": ""
          }
         },
         "name": "severe weather",
         "offsetgroup": "severe weather",
         "orientation": "v",
         "showlegend": true,
         "type": "histogram",
         "x": [
          "East North Central",
          "East North Central",
          "East North Central",
          "East North Central",
          "East North Central",
          "East North Central",
          "East North Central",
          "East North Central",
          "East North Central",
          "East North Central",
          "East North Central",
          "Central",
          "Central",
          "Central",
          "Central",
          "Central",
          "Central",
          "Central",
          "Central",
          "Central",
          "Central",
          "Central",
          "Central",
          "Central",
          "Central",
          "Central",
          "Central",
          "Central",
          "Central",
          "Central",
          "Central",
          "East North Central",
          "East North Central",
          "East North Central",
          "East North Central",
          "East North Central",
          "East North Central",
          "East North Central",
          "Central",
          "Central",
          "Central",
          "East North Central",
          "East North Central",
          "East North Central",
          "East North Central",
          "East North Central",
          "East North Central",
          "East North Central",
          "East North Central",
          "East North Central",
          "East North Central",
          "East North Central",
          "East North Central",
          "East North Central",
          "East North Central",
          "East North Central",
          "East North Central",
          "East North Central",
          "East North Central",
          "East North Central",
          "East North Central",
          "East North Central",
          "East North Central",
          "East North Central",
          "East North Central",
          "East North Central",
          "East North Central",
          "East North Central",
          "East North Central",
          "East North Central",
          "East North Central",
          "East North Central",
          "East North Central",
          "East North Central",
          "East North Central",
          "East North Central",
          "East North Central",
          "East North Central",
          "East North Central",
          "East North Central",
          "East North Central",
          "East North Central",
          "East North Central",
          "East North Central",
          "East North Central",
          "East North Central",
          "East North Central",
          "East North Central",
          "East North Central",
          "East North Central",
          "East North Central",
          "East North Central",
          "East North Central",
          "East North Central",
          "East North Central",
          "East North Central",
          "East North Central",
          "East North Central",
          "East North Central",
          "East North Central",
          "East North Central",
          "East North Central",
          "East North Central",
          "East North Central",
          "East North Central",
          "East North Central",
          "East North Central",
          "East North Central",
          "East North Central",
          "East North Central",
          "East North Central",
          "East North Central",
          "East North Central",
          "East North Central",
          "East North Central",
          "East North Central",
          "East North Central",
          "East North Central",
          "East North Central",
          "East North Central",
          "East North Central",
          "East North Central",
          "East North Central",
          "East North Central",
          "South",
          "South",
          "South",
          "South",
          "South",
          "South",
          "South",
          "South",
          "South",
          "South",
          "South",
          "South",
          "South",
          "South",
          "South",
          "South",
          "South",
          "South",
          "South",
          "South",
          "South",
          "South",
          "South",
          "South",
          "South",
          "South",
          "South",
          "South",
          "South",
          "South",
          "South",
          "South",
          "South",
          "South",
          "South",
          "South",
          "South",
          "South",
          "South",
          "South",
          "South",
          "South",
          "South",
          "South",
          "South",
          "South",
          "South",
          "South",
          "South",
          "South",
          "South",
          "South",
          "South",
          "South",
          "South",
          "South",
          "South",
          "South",
          "South",
          "South",
          "South",
          "South",
          "South",
          "South",
          "South",
          "Central",
          "Central",
          "Central",
          "Central",
          "Central",
          "Central",
          "Central",
          "Central",
          "Central",
          "Central",
          "Central",
          "Central",
          "Central",
          "Central",
          "Central",
          "Central",
          "Central",
          "Central",
          "Central",
          "Central",
          "Central",
          "Central",
          "Central",
          "Central",
          "Southeast",
          "Southeast",
          "Southeast",
          "Southeast",
          "Southeast",
          "Central",
          "Central",
          "Central",
          "Central",
          "Central",
          "Central",
          "Central",
          "Central",
          "Central",
          "Central",
          "Central",
          "Central",
          "Central",
          "Central",
          "Central",
          "Central",
          "Central",
          "Central",
          "Central",
          "Central",
          "Central",
          "Central",
          "Central",
          "Central",
          "Central",
          "Central",
          "Central",
          "Central",
          "Central",
          "Central",
          "Central",
          "Central",
          "Central",
          "Central",
          "Central",
          "Central",
          "Central",
          "Central",
          "Central",
          "Central",
          "Central",
          "Central",
          "Northwest",
          "Northwest",
          "Northwest",
          "Northwest",
          "Northwest",
          "Northwest",
          "Northwest",
          "Northwest",
          "Northwest",
          "Northwest",
          "Northwest",
          "Northwest",
          "Northwest",
          "Northwest",
          "Northwest",
          "Northwest",
          "Northwest",
          "Northwest",
          "Northwest",
          "Northwest",
          "Northwest",
          "Northwest",
          "Northwest",
          "Northwest",
          "Southwest",
          "Southwest",
          "Southwest",
          "Southwest",
          "Northeast",
          "Northeast",
          "Northeast",
          "Northeast",
          "Northeast",
          "Northeast",
          "Northeast",
          "Northeast",
          "Northeast",
          "Northeast",
          "Northeast",
          "Northeast",
          "Northeast",
          "Northeast",
          "Northeast",
          "Northeast",
          "Northeast",
          "Northeast",
          "Northeast",
          "Northeast",
          "Northeast",
          "Northeast",
          "Northeast",
          "Northeast",
          "Northeast",
          "Northeast",
          "Northeast",
          "Northeast",
          "Northeast",
          "Northeast",
          "Northeast",
          "Northeast",
          "Northeast",
          "Northeast",
          "Northeast",
          "Northeast",
          "Northeast",
          "Northeast",
          "Northeast",
          "Northeast",
          "Northeast",
          "Northeast",
          "Northeast",
          "Northeast",
          "Northeast",
          "Northeast",
          "Northeast",
          "Northeast",
          "Northeast",
          "Northeast",
          "Northeast",
          "Northeast",
          "Northeast",
          "Northeast",
          "Northeast",
          "Northeast",
          "Northeast",
          "Northeast",
          "Northeast",
          "Northeast",
          "Northeast",
          "Northeast",
          "Northeast",
          "Northeast",
          "Northeast",
          "Northeast",
          "Northeast",
          "Northeast",
          "Northeast",
          "Northeast",
          "Northeast",
          "Northeast",
          "Northeast",
          "Northeast",
          "Northeast",
          "Northeast",
          "Northeast",
          "Northeast",
          "Northeast",
          "Northeast",
          "Central",
          "Central",
          "Central",
          "Central",
          "Central",
          "Central",
          "Central",
          "Central",
          "Central",
          "Southwest",
          "Southwest",
          "Central",
          "Central",
          "Central",
          "Central",
          "Central",
          "Central",
          "Central",
          "Central",
          "Central",
          "Central",
          "Central",
          "Central",
          "Central",
          "Central",
          "Central",
          "Central",
          "Central",
          "Central",
          "Central",
          "Central",
          "Central",
          "Central",
          "Central",
          "Central",
          "Central",
          "Central",
          "Southeast",
          "Southeast",
          "Southeast",
          "Southeast",
          "Southeast",
          "Southeast",
          "Southeast",
          "Southeast",
          "Southeast",
          "Southeast",
          "Southeast",
          "Southeast",
          "Southeast",
          "Southeast",
          "Southeast",
          "Southeast",
          "Southeast",
          "Southeast",
          "Southeast",
          "Southeast",
          "Southeast",
          "Southeast",
          "Southeast",
          "Southeast",
          "Southeast",
          "Southeast",
          "Southeast",
          "Southeast",
          "Southeast",
          "Southeast",
          "Southeast",
          "Northeast",
          "Northeast",
          "Northeast",
          "Northeast",
          "Northeast",
          "Northeast",
          "Northeast",
          "Northeast",
          "Northeast",
          "Northeast",
          "Northeast",
          "Northeast",
          "Northeast",
          "Northeast",
          "Northeast",
          "Northeast",
          "Northeast",
          "Northeast",
          "Northeast",
          "Northeast",
          "Northeast",
          "Northeast",
          "Northeast",
          "Southeast",
          "Southeast",
          "Southeast",
          "Southeast",
          "Southeast",
          "Southeast",
          "Southeast",
          "Southeast",
          "Northwest",
          "Northwest",
          "Northwest",
          "Northwest",
          "Northwest",
          "Northeast",
          "Northeast",
          "Northeast",
          "Northeast",
          "Northeast",
          "Northeast",
          "Northeast",
          "Northeast",
          "Northeast",
          "Central",
          "Central",
          "Central",
          "Central",
          "Central",
          "Central",
          "Central",
          "Central",
          "Central",
          "Central",
          "Central",
          "Northeast",
          "Northeast",
          "East North Central",
          "East North Central",
          "East North Central",
          "Northeast",
          "Northeast",
          "Northeast",
          "Northeast",
          "Northeast",
          "Northeast",
          "Northeast",
          "Northeast",
          "Northeast",
          "Northeast",
          "Northeast",
          "Northeast",
          "Northeast",
          "Northeast",
          "Northeast",
          "Northeast",
          "Northeast",
          "Northeast",
          "Northeast",
          "Northeast",
          "Northeast",
          "Northeast",
          "Northeast",
          "Northeast",
          "Northeast",
          "Northeast",
          "Northeast",
          "Northeast",
          "Northeast",
          "Northeast",
          "Northeast",
          "Northeast",
          "Northeast",
          "South",
          "South",
          "South",
          "South",
          "South",
          "South",
          "South",
          "South",
          "South",
          "South",
          "South",
          "South",
          "South",
          "South",
          "South",
          "South",
          "Southeast",
          "Southeast",
          "Southeast",
          "Southeast",
          "Southeast",
          "Southeast",
          "Southeast",
          "Southeast",
          "Southeast",
          "Southeast",
          "Southeast",
          "Southeast",
          "Southeast",
          "Southeast",
          "Southeast",
          "Southeast",
          "Southeast",
          "Southeast",
          "Southeast",
          "Southeast",
          "Southeast",
          "Southeast",
          "Southeast",
          "Southeast",
          "Southeast",
          "Southeast",
          "West",
          "West",
          "West",
          "West",
          "West",
          "West",
          "West",
          "West",
          "West",
          "West",
          "West",
          "West",
          "West",
          "West",
          "West",
          "West",
          "West",
          "West",
          "West",
          "West",
          "West",
          "West",
          "West",
          "West",
          "West",
          "West",
          "West",
          "West",
          "West",
          "West",
          "West",
          "West",
          "West",
          "West",
          "West",
          "West",
          "West",
          "West",
          "West",
          "West",
          "West",
          "West",
          "West",
          "West",
          "West",
          "West",
          "West",
          "West",
          "West",
          "West",
          "West",
          "West",
          "West",
          "West",
          "West",
          "West",
          "West",
          "West",
          "West",
          "West",
          "West",
          "West",
          "West",
          "West",
          "West",
          "West",
          "West",
          "West",
          "West",
          "West",
          "South",
          "South",
          "South",
          "South",
          "South",
          "South",
          "South",
          "South",
          "South",
          "South",
          "Southeast",
          "Southeast",
          "Southeast",
          "Southeast",
          "Southeast",
          "Southeast",
          "Southeast",
          "Southeast",
          "Southeast",
          "Southeast",
          "Southeast",
          "Southeast",
          "Southeast",
          "Southeast",
          "Southeast",
          "Southeast",
          "Southeast",
          "Southeast",
          "Southeast",
          "Southeast",
          "Southeast",
          "Southeast",
          "Southeast",
          "Southeast",
          "Southeast",
          "Southeast",
          "Southeast",
          "Southeast",
          "Southeast",
          "Southeast",
          "Southeast",
          "Southeast",
          "West North Central",
          "West North Central",
          "West North Central",
          "West North Central",
          "Southeast",
          "Southeast",
          "Southeast",
          "Southeast",
          "Southeast",
          "Southeast",
          "Southeast",
          "Southeast",
          "Southeast",
          "Southeast",
          "Southeast",
          "Southeast",
          "Southeast",
          "Southeast",
          "Southeast",
          "Southeast",
          "Northeast",
          "Northeast",
          "Northeast",
          "Northeast",
          "Northeast",
          "Northeast",
          "Northeast",
          "Northeast",
          "Northeast",
          "Northeast",
          "South",
          "South",
          "South",
          "South",
          "South",
          "South",
          "South",
          "South",
          "South",
          "South",
          "South",
          "South",
          "South",
          "South",
          "South",
          "South",
          "South",
          "Northeast",
          "Northeast",
          "Northeast",
          "Northeast",
          "Northeast",
          "Northeast",
          "Northeast",
          "Northeast",
          "Northeast",
          "Northeast",
          "Northeast",
          "Northeast",
          "Northeast",
          "Northeast",
          "Northeast",
          "Northeast",
          "Northeast",
          "Northeast",
          "Northeast",
          "Southwest",
          "Southwest",
          "Southwest",
          "Southwest",
          "South",
          "South",
          "South",
          "South",
          "South",
          "Hawaii",
          "Hawaii",
          "Hawaii",
          "Hawaii"
         ],
         "xaxis": "x",
         "yaxis": "y"
        },
        {
         "alignmentgroup": "True",
         "bingroup": "x",
         "hovertemplate": "CAUSE.CATEGORY=intentional attack<br>CLIMATE.REGION=%{x}<br>count=%{y}<extra></extra>",
         "legendgroup": "intentional attack",
         "marker": {
          "color": "#EF553B",
          "pattern": {
           "shape": ""
          }
         },
         "name": "intentional attack",
         "offsetgroup": "intentional attack",
         "orientation": "v",
         "showlegend": true,
         "type": "histogram",
         "x": [
          "East North Central",
          "East North Central",
          "East North Central",
          "East North Central",
          "Central",
          "Central",
          "Central",
          "Central",
          "Central",
          "Central",
          "Central",
          "Central",
          "East North Central",
          "East North Central",
          "East North Central",
          "East North Central",
          "East North Central",
          "East North Central",
          "East North Central",
          "Central",
          "East North Central",
          "East North Central",
          "East North Central",
          "East North Central",
          "South",
          "South",
          "South",
          "South",
          "South",
          "South",
          "South",
          "South",
          "South",
          "South",
          "South",
          "South",
          "South",
          "Central",
          "Central",
          "Central",
          "Central",
          "Central",
          "Central",
          "Central",
          "Central",
          "Southeast",
          "South",
          "South",
          "South",
          "Central",
          "Northwest",
          "Northwest",
          "Northwest",
          "Northwest",
          "Northwest",
          "Northwest",
          "Northwest",
          "Northwest",
          "Northwest",
          "Northwest",
          "Northwest",
          "Northwest",
          "Northwest",
          "Northwest",
          "Northwest",
          "Northwest",
          "Northwest",
          "Northwest",
          "Northwest",
          "Northwest",
          "Northwest",
          "Northwest",
          "Northwest",
          "Northwest",
          "Northwest",
          "Northwest",
          "Northwest",
          "Northwest",
          "Northwest",
          "Northwest",
          "Northwest",
          "Northwest",
          "Northwest",
          "Northwest",
          "Northwest",
          "Northwest",
          "Northwest",
          "Northwest",
          "Northwest",
          "Northwest",
          "Northwest",
          "Northwest",
          "Northwest",
          "Northwest",
          "Northwest",
          "Northwest",
          "Northwest",
          "Northwest",
          "Northwest",
          "Northwest",
          "Northwest",
          "Northwest",
          "Northwest",
          "Northwest",
          "Northwest",
          "Northwest",
          "Northwest",
          "Northwest",
          "Northwest",
          "Northwest",
          "Northwest",
          "Northwest",
          "Northwest",
          "Northwest",
          "Southwest",
          "Southwest",
          "Southwest",
          "Southwest",
          "Southwest",
          "Southwest",
          "Southwest",
          "Southwest",
          "Southwest",
          "Southwest",
          "Southwest",
          "Southwest",
          "Southwest",
          "Southwest",
          "Southwest",
          "Southwest",
          "Southwest",
          "Southwest",
          "Northeast",
          "Northeast",
          "Northeast",
          "Northeast",
          "Northeast",
          "Northeast",
          "Northeast",
          "Northeast",
          "Northeast",
          "Northeast",
          "Northeast",
          "Northeast",
          "Northeast",
          "Northeast",
          "Northeast",
          "Northeast",
          "Northeast",
          "Northeast",
          "Northeast",
          "Northeast",
          "Northeast",
          "Northeast",
          "Northeast",
          "Northeast",
          "Northeast",
          "Northeast",
          "Northeast",
          "Northeast",
          "Northeast",
          "Northeast",
          "Northeast",
          "Central",
          "Southwest",
          "Southwest",
          "Southwest",
          "Southwest",
          "Southwest",
          "Southwest",
          "Southwest",
          "Southwest",
          "Southwest",
          "Southwest",
          "Southwest",
          "Southwest",
          "Southwest",
          "Southwest",
          "Southwest",
          "Southwest",
          "Southwest",
          "Southwest",
          "Southwest",
          "Southwest",
          "Southwest",
          "Southwest",
          "Southwest",
          "Southwest",
          "Southwest",
          "Southwest",
          "Southwest",
          "Southwest",
          "Southwest",
          "Southwest",
          "Southwest",
          "Southwest",
          "Southwest",
          "Southwest",
          "Southwest",
          "Central",
          "Central",
          "Central",
          "Central",
          "Central",
          "Central",
          "Central",
          "Central",
          "Central",
          "Central",
          "Central",
          "Central",
          "Central",
          "Central",
          "Southeast",
          "Southeast",
          "Southeast",
          "Southeast",
          "Northeast",
          "Northeast",
          "Northeast",
          "Northeast",
          "Northeast",
          "Northeast",
          "Northeast",
          "Northeast",
          "Northeast",
          "Northeast",
          "Northwest",
          "Northwest",
          "Northwest",
          "Northwest",
          "Northwest",
          "Northwest",
          "Northwest",
          "Northwest",
          "Northwest",
          "Northwest",
          "Northwest",
          "Northwest",
          "Northwest",
          "Northwest",
          "Northwest",
          "Northwest",
          "Northwest",
          "Northwest",
          "Northwest",
          "Northwest",
          "Central",
          "Central",
          "Central",
          "Central",
          "Central",
          "Northeast",
          "Northeast",
          "Northeast",
          "Northeast",
          "Northeast",
          "Northeast",
          "Northeast",
          "Northeast",
          "Northeast",
          "Northeast",
          "Northeast",
          "Northeast",
          "Northeast",
          "Northeast",
          "Northeast",
          "Northeast",
          "Northeast",
          "Northeast",
          "Northeast",
          "Northeast",
          "Northeast",
          "Northeast",
          "Northeast",
          "Northeast",
          "Northeast",
          "Northeast",
          "Northeast",
          "Northeast",
          "Northeast",
          "Northeast",
          "Northeast",
          "Northeast",
          "Northeast",
          "Northeast",
          "Northeast",
          "Northeast",
          "Northeast",
          "East North Central",
          "East North Central",
          "East North Central",
          "East North Central",
          "East North Central",
          "West North Central",
          "Northeast",
          "Northeast",
          "Northeast",
          "Northeast",
          "Northeast",
          "Northeast",
          "Northeast",
          "Northeast",
          "Northeast",
          "Northeast",
          "Northeast",
          "Northeast",
          "Northeast",
          "Southeast",
          "Southeast",
          "West",
          "West",
          "West",
          "West",
          "West",
          "West",
          "West",
          "West",
          "West",
          "West",
          "West",
          "West",
          "West",
          "West",
          "West",
          "West",
          "West",
          "West",
          "West",
          "West",
          "West",
          "West",
          "West",
          "West",
          "South",
          "South",
          "South",
          "South",
          "South",
          "South",
          "Southeast",
          "West North Central",
          "West North Central",
          "West North Central",
          "Southwest",
          "Southwest",
          "Southwest",
          "Southwest",
          "Southwest",
          "Southwest",
          "Northeast",
          "Northeast",
          "Northeast",
          "Northeast",
          "Northeast",
          "Northeast",
          "Northeast",
          "Northeast",
          "Northeast",
          "Southeast",
          "Northeast",
          "Northeast",
          "Northeast",
          "Northeast",
          "Northeast",
          "Northeast",
          "Northeast",
          "Northeast",
          "South",
          "South",
          "South",
          "Northeast",
          "Northeast",
          "Northeast",
          "Northeast",
          "Northeast",
          "Northeast",
          "Northeast",
          "Northeast",
          "Northeast",
          "Northeast",
          "Northeast",
          "Northeast",
          "Northeast",
          "Northeast",
          "Northeast",
          "Northeast",
          "Northeast",
          "Northeast",
          "Northeast",
          "Northeast",
          "Northeast",
          "Northeast",
          "Northeast",
          "Northeast",
          "Northeast",
          "Northeast",
          "Northeast",
          "West",
          "West",
          "West",
          "West",
          "West",
          "West",
          "West",
          "Southwest",
          "Southwest",
          "Southwest",
          "Southwest",
          "Southwest",
          "South",
          "South",
          "South",
          "Northwest",
          "Northwest",
          "Northwest",
          "Northwest",
          "Northwest"
         ],
         "xaxis": "x",
         "yaxis": "y"
        },
        {
         "alignmentgroup": "True",
         "bingroup": "x",
         "hovertemplate": "CAUSE.CATEGORY=system operability disruption<br>CLIMATE.REGION=%{x}<br>count=%{y}<extra></extra>",
         "legendgroup": "system operability disruption",
         "marker": {
          "color": "#00cc96",
          "pattern": {
           "shape": ""
          }
         },
         "name": "system operability disruption",
         "offsetgroup": "system operability disruption",
         "orientation": "v",
         "showlegend": true,
         "type": "histogram",
         "x": [
          "Central",
          "Central",
          "Central",
          "East North Central",
          "East North Central",
          "East North Central",
          "South",
          "South",
          "South",
          "South",
          "South",
          "South",
          "South",
          "South",
          "South",
          "South",
          "South",
          "South",
          "South",
          "South",
          "South",
          "South",
          "South",
          "South",
          "South",
          "South",
          "Central",
          "Central",
          "Central",
          "Central",
          "Central",
          "South",
          "Northwest",
          "Southwest",
          "Southwest",
          "Northeast",
          "Northeast",
          "Northeast",
          "Southwest",
          "Southwest",
          "Central",
          "Central",
          "Southeast",
          "Southeast",
          "Southeast",
          "Southeast",
          "Southeast",
          "Northeast",
          "Northeast",
          "Central",
          "Northeast",
          "Northeast",
          "Northeast",
          "Northeast",
          "Northeast",
          "Northeast",
          "Northeast",
          "Northeast",
          "South",
          "South",
          "South",
          "South",
          "South",
          "South",
          "Southeast",
          "Southeast",
          "Southeast",
          "Southeast",
          "Southeast",
          "Southeast",
          "Southeast",
          "Southeast",
          "Southeast",
          "Southeast",
          "West",
          "West",
          "West",
          "West",
          "West",
          "West",
          "West",
          "West",
          "West",
          "West",
          "West",
          "West",
          "West",
          "West",
          "West",
          "West",
          "West",
          "West",
          "West",
          "West",
          "West",
          "West",
          "West",
          "West",
          "West",
          "West",
          "West",
          "West",
          "West",
          "West",
          "West",
          "West",
          "West",
          "West",
          "West",
          "West",
          "West",
          "West",
          "West",
          "West",
          "West",
          "Southeast",
          "Southwest",
          "Northeast",
          "Northeast",
          "Southwest",
          "Southwest",
          "Southwest",
          "Southwest",
          "Hawaii",
          "Northwest",
          "Northwest",
          "Northwest"
         ],
         "xaxis": "x",
         "yaxis": "y"
        },
        {
         "alignmentgroup": "True",
         "bingroup": "x",
         "hovertemplate": "CAUSE.CATEGORY=equipment failure<br>CLIMATE.REGION=%{x}<br>count=%{y}<extra></extra>",
         "legendgroup": "equipment failure",
         "marker": {
          "color": "#ab63fa",
          "pattern": {
           "shape": ""
          }
         },
         "name": "equipment failure",
         "offsetgroup": "equipment failure",
         "orientation": "v",
         "showlegend": true,
         "type": "histogram",
         "x": [
          "Central",
          "Central",
          "East North Central",
          "East North Central",
          "East North Central",
          "South",
          "South",
          "South",
          "South",
          "South",
          "South",
          "Central",
          "Central",
          "Central",
          "Northwest",
          "Southwest",
          "Southwest",
          "Southwest",
          "Southwest",
          "Northeast",
          "Central",
          "Southwest",
          "Central",
          "Northwest",
          "Northeast",
          "Northeast",
          "Northeast",
          "Northeast",
          "South",
          "South",
          "South",
          "Southeast",
          "Southeast",
          "Southeast",
          "Southeast",
          "West",
          "West",
          "West",
          "West",
          "West",
          "West",
          "West",
          "West",
          "West",
          "West",
          "West",
          "West",
          "West",
          "West",
          "West",
          "West",
          "West",
          "West",
          "West",
          "West",
          "West",
          "South",
          "Southeast",
          "West North Central",
          "Alaska"
         ],
         "xaxis": "x",
         "yaxis": "y"
        },
        {
         "alignmentgroup": "True",
         "bingroup": "x",
         "hovertemplate": "CAUSE.CATEGORY=public appeal<br>CLIMATE.REGION=%{x}<br>count=%{y}<extra></extra>",
         "legendgroup": "public appeal",
         "marker": {
          "color": "#FFA15A",
          "pattern": {
           "shape": ""
          }
         },
         "name": "public appeal",
         "offsetgroup": "public appeal",
         "orientation": "v",
         "showlegend": true,
         "type": "histogram",
         "x": [
          "Central",
          "East North Central",
          "East North Central",
          "South",
          "South",
          "South",
          "South",
          "South",
          "South",
          "South",
          "South",
          "South",
          "South",
          "South",
          "South",
          "South",
          "South",
          "South",
          "South",
          "South",
          "Central",
          "Northwest",
          "Southwest",
          "Northeast",
          "Northeast",
          "Northeast",
          "Northeast",
          "South",
          "South",
          "South",
          "South",
          "South",
          "South",
          "South",
          "South",
          "South",
          "South",
          "South",
          "South",
          "South",
          "South",
          "Southeast",
          "Southeast",
          "Southeast",
          "West",
          "West",
          "West",
          "West",
          "West",
          "West",
          "West",
          "West",
          "West",
          "South",
          "South",
          "South",
          "South",
          "South",
          "South",
          "South",
          "Southeast",
          "Southeast",
          "West North Central",
          "South",
          "South",
          "South",
          "South",
          "Northwest",
          "West North Central"
         ],
         "xaxis": "x",
         "yaxis": "y"
        },
        {
         "alignmentgroup": "True",
         "bingroup": "x",
         "hovertemplate": "CAUSE.CATEGORY=fuel supply emergency<br>CLIMATE.REGION=%{x}<br>count=%{y}<extra></extra>",
         "legendgroup": "fuel supply emergency",
         "marker": {
          "color": "#19d3f3",
          "pattern": {
           "shape": ""
          }
         },
         "name": "fuel supply emergency",
         "offsetgroup": "fuel supply emergency",
         "orientation": "v",
         "showlegend": true,
         "type": "histogram",
         "x": [
          "East North Central",
          "East North Central",
          "East North Central",
          "East North Central",
          "East North Central",
          "South",
          "South",
          "South",
          "South",
          "South",
          "South",
          "Central",
          "Central",
          "Northwest",
          "Central",
          "Central",
          "Northeast",
          "Northeast",
          "Northeast",
          "Northeast",
          "Northeast",
          "Northeast",
          "Northeast",
          "Northeast",
          "Northeast",
          "Northeast",
          "Northeast",
          "Northeast",
          "South",
          "West",
          "West",
          "West",
          "West",
          "West",
          "West",
          "West",
          "West",
          "West",
          "West",
          "West",
          "West",
          "West",
          "West",
          "West",
          "West",
          "West",
          "Southwest",
          "Northeast",
          "Northeast",
          "Southwest",
          "West North Central"
         ],
         "xaxis": "x",
         "yaxis": "y"
        },
        {
         "alignmentgroup": "True",
         "bingroup": "x",
         "hovertemplate": "CAUSE.CATEGORY=islanding<br>CLIMATE.REGION=%{x}<br>count=%{y}<extra></extra>",
         "legendgroup": "islanding",
         "marker": {
          "color": "#FF6692",
          "pattern": {
           "shape": ""
          }
         },
         "name": "islanding",
         "offsetgroup": "islanding",
         "orientation": "v",
         "showlegend": true,
         "type": "histogram",
         "x": [
          "East North Central",
          "Central",
          "Central",
          "Central",
          "Northwest",
          "Northwest",
          "Northwest",
          "Northwest",
          "Northwest",
          "West North Central",
          "West North Central",
          "West",
          "West",
          "West",
          "West",
          "West",
          "West",
          "West",
          "West",
          "West",
          "West",
          "West",
          "West",
          "West",
          "West",
          "West",
          "West",
          "West",
          "West",
          "West",
          "West",
          "West",
          "West",
          "West",
          "West",
          "West",
          "West",
          "West",
          "West",
          "South",
          "West North Central",
          "South",
          "Northeast",
          "Southwest",
          "West North Central",
          "West North Central"
         ],
         "xaxis": "x",
         "yaxis": "y"
        }
       ],
       "layout": {
        "barmode": "group",
        "legend": {
         "title": {
          "text": "CAUSE.CATEGORY"
         },
         "tracegroupgap": 0
        },
        "template": {
         "data": {
          "bar": [
           {
            "error_x": {
             "color": "#2a3f5f"
            },
            "error_y": {
             "color": "#2a3f5f"
            },
            "marker": {
             "line": {
              "color": "#E5ECF6",
              "width": 0.5
             },
             "pattern": {
              "fillmode": "overlay",
              "size": 10,
              "solidity": 0.2
             }
            },
            "type": "bar"
           }
          ],
          "barpolar": [
           {
            "marker": {
             "line": {
              "color": "#E5ECF6",
              "width": 0.5
             },
             "pattern": {
              "fillmode": "overlay",
              "size": 10,
              "solidity": 0.2
             }
            },
            "type": "barpolar"
           }
          ],
          "carpet": [
           {
            "aaxis": {
             "endlinecolor": "#2a3f5f",
             "gridcolor": "white",
             "linecolor": "white",
             "minorgridcolor": "white",
             "startlinecolor": "#2a3f5f"
            },
            "baxis": {
             "endlinecolor": "#2a3f5f",
             "gridcolor": "white",
             "linecolor": "white",
             "minorgridcolor": "white",
             "startlinecolor": "#2a3f5f"
            },
            "type": "carpet"
           }
          ],
          "choropleth": [
           {
            "colorbar": {
             "outlinewidth": 0,
             "ticks": ""
            },
            "type": "choropleth"
           }
          ],
          "contour": [
           {
            "colorbar": {
             "outlinewidth": 0,
             "ticks": ""
            },
            "colorscale": [
             [
              0,
              "#0d0887"
             ],
             [
              0.1111111111111111,
              "#46039f"
             ],
             [
              0.2222222222222222,
              "#7201a8"
             ],
             [
              0.3333333333333333,
              "#9c179e"
             ],
             [
              0.4444444444444444,
              "#bd3786"
             ],
             [
              0.5555555555555556,
              "#d8576b"
             ],
             [
              0.6666666666666666,
              "#ed7953"
             ],
             [
              0.7777777777777778,
              "#fb9f3a"
             ],
             [
              0.8888888888888888,
              "#fdca26"
             ],
             [
              1,
              "#f0f921"
             ]
            ],
            "type": "contour"
           }
          ],
          "contourcarpet": [
           {
            "colorbar": {
             "outlinewidth": 0,
             "ticks": ""
            },
            "type": "contourcarpet"
           }
          ],
          "heatmap": [
           {
            "colorbar": {
             "outlinewidth": 0,
             "ticks": ""
            },
            "colorscale": [
             [
              0,
              "#0d0887"
             ],
             [
              0.1111111111111111,
              "#46039f"
             ],
             [
              0.2222222222222222,
              "#7201a8"
             ],
             [
              0.3333333333333333,
              "#9c179e"
             ],
             [
              0.4444444444444444,
              "#bd3786"
             ],
             [
              0.5555555555555556,
              "#d8576b"
             ],
             [
              0.6666666666666666,
              "#ed7953"
             ],
             [
              0.7777777777777778,
              "#fb9f3a"
             ],
             [
              0.8888888888888888,
              "#fdca26"
             ],
             [
              1,
              "#f0f921"
             ]
            ],
            "type": "heatmap"
           }
          ],
          "heatmapgl": [
           {
            "colorbar": {
             "outlinewidth": 0,
             "ticks": ""
            },
            "colorscale": [
             [
              0,
              "#0d0887"
             ],
             [
              0.1111111111111111,
              "#46039f"
             ],
             [
              0.2222222222222222,
              "#7201a8"
             ],
             [
              0.3333333333333333,
              "#9c179e"
             ],
             [
              0.4444444444444444,
              "#bd3786"
             ],
             [
              0.5555555555555556,
              "#d8576b"
             ],
             [
              0.6666666666666666,
              "#ed7953"
             ],
             [
              0.7777777777777778,
              "#fb9f3a"
             ],
             [
              0.8888888888888888,
              "#fdca26"
             ],
             [
              1,
              "#f0f921"
             ]
            ],
            "type": "heatmapgl"
           }
          ],
          "histogram": [
           {
            "marker": {
             "pattern": {
              "fillmode": "overlay",
              "size": 10,
              "solidity": 0.2
             }
            },
            "type": "histogram"
           }
          ],
          "histogram2d": [
           {
            "colorbar": {
             "outlinewidth": 0,
             "ticks": ""
            },
            "colorscale": [
             [
              0,
              "#0d0887"
             ],
             [
              0.1111111111111111,
              "#46039f"
             ],
             [
              0.2222222222222222,
              "#7201a8"
             ],
             [
              0.3333333333333333,
              "#9c179e"
             ],
             [
              0.4444444444444444,
              "#bd3786"
             ],
             [
              0.5555555555555556,
              "#d8576b"
             ],
             [
              0.6666666666666666,
              "#ed7953"
             ],
             [
              0.7777777777777778,
              "#fb9f3a"
             ],
             [
              0.8888888888888888,
              "#fdca26"
             ],
             [
              1,
              "#f0f921"
             ]
            ],
            "type": "histogram2d"
           }
          ],
          "histogram2dcontour": [
           {
            "colorbar": {
             "outlinewidth": 0,
             "ticks": ""
            },
            "colorscale": [
             [
              0,
              "#0d0887"
             ],
             [
              0.1111111111111111,
              "#46039f"
             ],
             [
              0.2222222222222222,
              "#7201a8"
             ],
             [
              0.3333333333333333,
              "#9c179e"
             ],
             [
              0.4444444444444444,
              "#bd3786"
             ],
             [
              0.5555555555555556,
              "#d8576b"
             ],
             [
              0.6666666666666666,
              "#ed7953"
             ],
             [
              0.7777777777777778,
              "#fb9f3a"
             ],
             [
              0.8888888888888888,
              "#fdca26"
             ],
             [
              1,
              "#f0f921"
             ]
            ],
            "type": "histogram2dcontour"
           }
          ],
          "mesh3d": [
           {
            "colorbar": {
             "outlinewidth": 0,
             "ticks": ""
            },
            "type": "mesh3d"
           }
          ],
          "parcoords": [
           {
            "line": {
             "colorbar": {
              "outlinewidth": 0,
              "ticks": ""
             }
            },
            "type": "parcoords"
           }
          ],
          "pie": [
           {
            "automargin": true,
            "type": "pie"
           }
          ],
          "scatter": [
           {
            "fillpattern": {
             "fillmode": "overlay",
             "size": 10,
             "solidity": 0.2
            },
            "type": "scatter"
           }
          ],
          "scatter3d": [
           {
            "line": {
             "colorbar": {
              "outlinewidth": 0,
              "ticks": ""
             }
            },
            "marker": {
             "colorbar": {
              "outlinewidth": 0,
              "ticks": ""
             }
            },
            "type": "scatter3d"
           }
          ],
          "scattercarpet": [
           {
            "marker": {
             "colorbar": {
              "outlinewidth": 0,
              "ticks": ""
             }
            },
            "type": "scattercarpet"
           }
          ],
          "scattergeo": [
           {
            "marker": {
             "colorbar": {
              "outlinewidth": 0,
              "ticks": ""
             }
            },
            "type": "scattergeo"
           }
          ],
          "scattergl": [
           {
            "marker": {
             "colorbar": {
              "outlinewidth": 0,
              "ticks": ""
             }
            },
            "type": "scattergl"
           }
          ],
          "scattermapbox": [
           {
            "marker": {
             "colorbar": {
              "outlinewidth": 0,
              "ticks": ""
             }
            },
            "type": "scattermapbox"
           }
          ],
          "scatterpolar": [
           {
            "marker": {
             "colorbar": {
              "outlinewidth": 0,
              "ticks": ""
             }
            },
            "type": "scatterpolar"
           }
          ],
          "scatterpolargl": [
           {
            "marker": {
             "colorbar": {
              "outlinewidth": 0,
              "ticks": ""
             }
            },
            "type": "scatterpolargl"
           }
          ],
          "scatterternary": [
           {
            "marker": {
             "colorbar": {
              "outlinewidth": 0,
              "ticks": ""
             }
            },
            "type": "scatterternary"
           }
          ],
          "surface": [
           {
            "colorbar": {
             "outlinewidth": 0,
             "ticks": ""
            },
            "colorscale": [
             [
              0,
              "#0d0887"
             ],
             [
              0.1111111111111111,
              "#46039f"
             ],
             [
              0.2222222222222222,
              "#7201a8"
             ],
             [
              0.3333333333333333,
              "#9c179e"
             ],
             [
              0.4444444444444444,
              "#bd3786"
             ],
             [
              0.5555555555555556,
              "#d8576b"
             ],
             [
              0.6666666666666666,
              "#ed7953"
             ],
             [
              0.7777777777777778,
              "#fb9f3a"
             ],
             [
              0.8888888888888888,
              "#fdca26"
             ],
             [
              1,
              "#f0f921"
             ]
            ],
            "type": "surface"
           }
          ],
          "table": [
           {
            "cells": {
             "fill": {
              "color": "#EBF0F8"
             },
             "line": {
              "color": "white"
             }
            },
            "header": {
             "fill": {
              "color": "#C8D4E3"
             },
             "line": {
              "color": "white"
             }
            },
            "type": "table"
           }
          ]
         },
         "layout": {
          "annotationdefaults": {
           "arrowcolor": "#2a3f5f",
           "arrowhead": 0,
           "arrowwidth": 1
          },
          "autotypenumbers": "strict",
          "coloraxis": {
           "colorbar": {
            "outlinewidth": 0,
            "ticks": ""
           }
          },
          "colorscale": {
           "diverging": [
            [
             0,
             "#8e0152"
            ],
            [
             0.1,
             "#c51b7d"
            ],
            [
             0.2,
             "#de77ae"
            ],
            [
             0.3,
             "#f1b6da"
            ],
            [
             0.4,
             "#fde0ef"
            ],
            [
             0.5,
             "#f7f7f7"
            ],
            [
             0.6,
             "#e6f5d0"
            ],
            [
             0.7,
             "#b8e186"
            ],
            [
             0.8,
             "#7fbc41"
            ],
            [
             0.9,
             "#4d9221"
            ],
            [
             1,
             "#276419"
            ]
           ],
           "sequential": [
            [
             0,
             "#0d0887"
            ],
            [
             0.1111111111111111,
             "#46039f"
            ],
            [
             0.2222222222222222,
             "#7201a8"
            ],
            [
             0.3333333333333333,
             "#9c179e"
            ],
            [
             0.4444444444444444,
             "#bd3786"
            ],
            [
             0.5555555555555556,
             "#d8576b"
            ],
            [
             0.6666666666666666,
             "#ed7953"
            ],
            [
             0.7777777777777778,
             "#fb9f3a"
            ],
            [
             0.8888888888888888,
             "#fdca26"
            ],
            [
             1,
             "#f0f921"
            ]
           ],
           "sequentialminus": [
            [
             0,
             "#0d0887"
            ],
            [
             0.1111111111111111,
             "#46039f"
            ],
            [
             0.2222222222222222,
             "#7201a8"
            ],
            [
             0.3333333333333333,
             "#9c179e"
            ],
            [
             0.4444444444444444,
             "#bd3786"
            ],
            [
             0.5555555555555556,
             "#d8576b"
            ],
            [
             0.6666666666666666,
             "#ed7953"
            ],
            [
             0.7777777777777778,
             "#fb9f3a"
            ],
            [
             0.8888888888888888,
             "#fdca26"
            ],
            [
             1,
             "#f0f921"
            ]
           ]
          },
          "colorway": [
           "#636efa",
           "#EF553B",
           "#00cc96",
           "#ab63fa",
           "#FFA15A",
           "#19d3f3",
           "#FF6692",
           "#B6E880",
           "#FF97FF",
           "#FECB52"
          ],
          "font": {
           "color": "#2a3f5f"
          },
          "geo": {
           "bgcolor": "white",
           "lakecolor": "white",
           "landcolor": "#E5ECF6",
           "showlakes": true,
           "showland": true,
           "subunitcolor": "white"
          },
          "hoverlabel": {
           "align": "left"
          },
          "hovermode": "closest",
          "mapbox": {
           "style": "light"
          },
          "paper_bgcolor": "white",
          "plot_bgcolor": "#E5ECF6",
          "polar": {
           "angularaxis": {
            "gridcolor": "white",
            "linecolor": "white",
            "ticks": ""
           },
           "bgcolor": "#E5ECF6",
           "radialaxis": {
            "gridcolor": "white",
            "linecolor": "white",
            "ticks": ""
           }
          },
          "scene": {
           "xaxis": {
            "backgroundcolor": "#E5ECF6",
            "gridcolor": "white",
            "gridwidth": 2,
            "linecolor": "white",
            "showbackground": true,
            "ticks": "",
            "zerolinecolor": "white"
           },
           "yaxis": {
            "backgroundcolor": "#E5ECF6",
            "gridcolor": "white",
            "gridwidth": 2,
            "linecolor": "white",
            "showbackground": true,
            "ticks": "",
            "zerolinecolor": "white"
           },
           "zaxis": {
            "backgroundcolor": "#E5ECF6",
            "gridcolor": "white",
            "gridwidth": 2,
            "linecolor": "white",
            "showbackground": true,
            "ticks": "",
            "zerolinecolor": "white"
           }
          },
          "shapedefaults": {
           "line": {
            "color": "#2a3f5f"
           }
          },
          "ternary": {
           "aaxis": {
            "gridcolor": "white",
            "linecolor": "white",
            "ticks": ""
           },
           "baxis": {
            "gridcolor": "white",
            "linecolor": "white",
            "ticks": ""
           },
           "bgcolor": "#E5ECF6",
           "caxis": {
            "gridcolor": "white",
            "linecolor": "white",
            "ticks": ""
           }
          },
          "title": {
           "x": 0.05
          },
          "xaxis": {
           "automargin": true,
           "gridcolor": "white",
           "linecolor": "white",
           "ticks": "",
           "title": {
            "standoff": 15
           },
           "zerolinecolor": "white",
           "zerolinewidth": 2
          },
          "yaxis": {
           "automargin": true,
           "gridcolor": "white",
           "linecolor": "white",
           "ticks": "",
           "title": {
            "standoff": 15
           },
           "zerolinecolor": "white",
           "zerolinewidth": 2
          }
         }
        },
        "title": {
         "text": "Cause by Region"
        },
        "xaxis": {
         "anchor": "y",
         "domain": [
          0,
          1
         ],
         "title": {
          "text": "CLIMATE.REGION"
         }
        },
        "yaxis": {
         "anchor": "x",
         "domain": [
          0,
          1
         ],
         "title": {
          "text": "count"
         }
        }
       }
      }
     },
     "metadata": {},
     "output_type": "display_data"
    }
   ],
   "source": [
    "fig1 = px.histogram(df, \n",
    "                   x='CLIMATE.REGION', \n",
    "                   title='Cause by Region', \n",
    "                   color = 'CAUSE.CATEGORY',\n",
    "                   barmode = 'group',\n",
    "                   labels={'x': 'Region', 'y': 'Frequency'})\n",
    "fig1.show()"
   ]
  },
  {
   "cell_type": "code",
   "execution_count": 22,
   "metadata": {},
   "outputs": [
    {
     "data": {
      "text/plain": [
       "Index(['YEAR', 'MONTH', 'U.S._STATE', 'POSTAL.CODE', 'NERC.REGION',\n",
       "       'CLIMATE.REGION', 'ANOMALY.LEVEL', 'CLIMATE.CATEGORY', 'CAUSE.CATEGORY',\n",
       "       'CAUSE.CATEGORY.DETAIL', 'HURRICANE.NAMES', 'OUTAGE.DURATION',\n",
       "       'DEMAND.LOSS.MW', 'CUSTOMERS.AFFECTED', 'RES.PRICE', 'COM.PRICE',\n",
       "       'IND.PRICE', 'TOTAL.PRICE', 'RES.SALES', 'COM.SALES', 'IND.SALES',\n",
       "       'TOTAL.SALES', 'RES.PERCEN', 'COM.PERCEN', 'IND.PERCEN',\n",
       "       'RES.CUSTOMERS', 'COM.CUSTOMERS', 'IND.CUSTOMERS', 'TOTAL.CUSTOMERS',\n",
       "       'RES.CUST.PCT', 'COM.CUST.PCT', 'IND.CUST.PCT', 'PC.REALGSP.STATE',\n",
       "       'PC.REALGSP.USA', 'PC.REALGSP.REL', 'PC.REALGSP.CHANGE', 'UTIL.REALGSP',\n",
       "       'TOTAL.REALGSP', 'UTIL.CONTRI', 'PI.UTIL.OFUSA', 'POPULATION',\n",
       "       'POPPCT_URBAN', 'POPPCT_UC', 'POPDEN_URBAN', 'POPDEN_UC',\n",
       "       'POPDEN_RURAL', 'AREAPCT_URBAN', 'AREAPCT_UC', 'PCT_LAND',\n",
       "       'PCT_WATER_TOT', 'PCT_WATER_INLAND', 'OUTAGE.START',\n",
       "       'OUTAGE.RESTORATION'],\n",
       "      dtype='object')"
      ]
     },
     "execution_count": 22,
     "metadata": {},
     "output_type": "execute_result"
    }
   ],
   "source": [
    "df.columns"
   ]
  },
  {
   "cell_type": "code",
   "execution_count": null,
   "metadata": {},
   "outputs": [],
   "source": []
  },
  {
   "cell_type": "code",
   "execution_count": 23,
   "metadata": {
    "scrolled": false
   },
   "outputs": [
    {
     "data": {
      "application/vnd.plotly.v1+json": {
       "config": {
        "plotlyServerURL": "https://plot.ly"
       },
       "data": [
        {
         "alignmentgroup": "True",
         "bingroup": "x",
         "hovertemplate": "CLIMATE.REGION=East North Central<br>MONTH=%{x}<br>count=%{y}<extra></extra>",
         "legendgroup": "East North Central",
         "marker": {
          "color": "#636efa",
          "pattern": {
           "shape": ""
          }
         },
         "name": "East North Central",
         "offsetgroup": "East North Central",
         "orientation": "v",
         "showlegend": true,
         "type": "histogram",
         "x": [
          7,
          5,
          10,
          6,
          7,
          11,
          7,
          6,
          3,
          6,
          6,
          9,
          7,
          5,
          6,
          6,
          1,
          11,
          8,
          1,
          4,
          7,
          1,
          1,
          9,
          8,
          10,
          4,
          1,
          3,
          6,
          8,
          1,
          8,
          1,
          5,
          9,
          11,
          7,
          2,
          7,
          8,
          4,
          5,
          6,
          4,
          3,
          4,
          12,
          11,
          7,
          10,
          6,
          6,
          6,
          11,
          11,
          7,
          2,
          1,
          12,
          10,
          4,
          5,
          8,
          7,
          12,
          7,
          12,
          6,
          9,
          11,
          10,
          1,
          10,
          12,
          9,
          4,
          2,
          5,
          8,
          8,
          3,
          6,
          3,
          7,
          3,
          4,
          12,
          1,
          8,
          9,
          7,
          12,
          6,
          4,
          5,
          6,
          9,
          6,
          7,
          5,
          12,
          5,
          11,
          7,
          12,
          6,
          4,
          7,
          10,
          8,
          8,
          6,
          6,
          11,
          7,
          3,
          8,
          7,
          12,
          5,
          7,
          7,
          1,
          9,
          6,
          7,
          9,
          8,
          3,
          2,
          1,
          3,
          4,
          3,
          2,
          6
         ],
         "xaxis": "x",
         "yaxis": "y"
        },
        {
         "alignmentgroup": "True",
         "bingroup": "x",
         "hovertemplate": "CLIMATE.REGION=Central<br>MONTH=%{x}<br>count=%{y}<extra></extra>",
         "legendgroup": "Central",
         "marker": {
          "color": "#EF553B",
          "pattern": {
           "shape": ""
          }
         },
         "name": "Central",
         "offsetgroup": "Central",
         "orientation": "v",
         "showlegend": true,
         "type": "histogram",
         "x": [
          6,
          8,
          6,
          4,
          2,
          1,
          7,
          7,
          4,
          1,
          7,
          6,
          4,
          6,
          6,
          6,
          4,
          5,
          2,
          6,
          4,
          7,
          1,
          3,
          1,
          4,
          6,
          3,
          1,
          4,
          6,
          1,
          4,
          1,
          3,
          6,
          10,
          6,
          6,
          1,
          7,
          11,
          11,
          5,
          8,
          1,
          12,
          6,
          5,
          11,
          11,
          7,
          10,
          11,
          5,
          10,
          7,
          11,
          1,
          8,
          6,
          4,
          6,
          5,
          5,
          6,
          9,
          7,
          4,
          8,
          7,
          5,
          8,
          11,
          6,
          12,
          1,
          6,
          7,
          6,
          1,
          5,
          6,
          5,
          8,
          6,
          10,
          7,
          11,
          10,
          6,
          6,
          6,
          6,
          6,
          8,
          7,
          7,
          null,
          7,
          5,
          6,
          6,
          7,
          8,
          4,
          8,
          8,
          7,
          3,
          12,
          7,
          8,
          11,
          8,
          1,
          6,
          8,
          10,
          7,
          6,
          7,
          2,
          7,
          6,
          7,
          5,
          7,
          1,
          2,
          8,
          5,
          6,
          9,
          2,
          1,
          1,
          2,
          9,
          1,
          5,
          6,
          5,
          8,
          8,
          11,
          5,
          3,
          9,
          1,
          7,
          6,
          8,
          7,
          2,
          1,
          7,
          8,
          12,
          4,
          7,
          1,
          1,
          7,
          4,
          7,
          5,
          2,
          6,
          9,
          9,
          12,
          7,
          2,
          9,
          10,
          7,
          8,
          6,
          12,
          4,
          10,
          1,
          12,
          5,
          1,
          1,
          1,
          8,
          12,
          8,
          12,
          5,
          5,
          4,
          5,
          5,
          5,
          2,
          1
         ],
         "xaxis": "x",
         "yaxis": "y"
        },
        {
         "alignmentgroup": "True",
         "bingroup": "x",
         "hovertemplate": "CLIMATE.REGION=South<br>MONTH=%{x}<br>count=%{y}<extra></extra>",
         "legendgroup": "South",
         "marker": {
          "color": "#00cc96",
          "pattern": {
           "shape": ""
          }
         },
         "name": "South",
         "offsetgroup": "South",
         "orientation": "v",
         "showlegend": true,
         "type": "histogram",
         "x": [
          7,
          2,
          2,
          7,
          8,
          2,
          1,
          11,
          4,
          5,
          6,
          4,
          6,
          6,
          9,
          8,
          9,
          7,
          7,
          5,
          6,
          3,
          4,
          6,
          4,
          8,
          8,
          4,
          5,
          9,
          3,
          8,
          4,
          3,
          9,
          2,
          10,
          2,
          1,
          12,
          2,
          10,
          9,
          5,
          8,
          1,
          8,
          4,
          2,
          7,
          7,
          12,
          11,
          11,
          3,
          7,
          4,
          8,
          1,
          10,
          8,
          6,
          5,
          2,
          6,
          9,
          6,
          3,
          2,
          4,
          6,
          null,
          12,
          4,
          4,
          7,
          4,
          2,
          2,
          6,
          9,
          9,
          3,
          7,
          6,
          4,
          6,
          4,
          1,
          7,
          4,
          8,
          2,
          8,
          3,
          3,
          10,
          8,
          5,
          5,
          9,
          4,
          5,
          6,
          6,
          12,
          9,
          1,
          6,
          6,
          7,
          4,
          3,
          8,
          12,
          4,
          5,
          6,
          9,
          5,
          8,
          1,
          7,
          3,
          5,
          3,
          12,
          6,
          5,
          5,
          5,
          8,
          7,
          6,
          8,
          8,
          8,
          10,
          8,
          5,
          8,
          7,
          6,
          1,
          7,
          5,
          8,
          4,
          4,
          6,
          10,
          9,
          6,
          7,
          9,
          9,
          9,
          6,
          8,
          8,
          5,
          6,
          7,
          5,
          4,
          10,
          1,
          9,
          8,
          4,
          4,
          1,
          2,
          1,
          3,
          10,
          9,
          8,
          4,
          5,
          4,
          7,
          6,
          6,
          8,
          6,
          2,
          12,
          6,
          7,
          8,
          9,
          4,
          10,
          7,
          11,
          12,
          1,
          1,
          5,
          8,
          1,
          8,
          2,
          12,
          12,
          7,
          8,
          11,
          8,
          5,
          8,
          5,
          7,
          7,
          6,
          11,
          12,
          1,
          5,
          null,
          3,
          12,
          4,
          12,
          12,
          6,
          6,
          1
         ],
         "xaxis": "x",
         "yaxis": "y"
        },
        {
         "alignmentgroup": "True",
         "bingroup": "x",
         "hovertemplate": "CLIMATE.REGION=Southeast<br>MONTH=%{x}<br>count=%{y}<extra></extra>",
         "legendgroup": "Southeast",
         "marker": {
          "color": "#ab63fa",
          "pattern": {
           "shape": ""
          }
         },
         "name": "Southeast",
         "offsetgroup": "Southeast",
         "orientation": "v",
         "showlegend": true,
         "type": "histogram",
         "x": [
          6,
          null,
          12,
          8,
          7,
          4,
          5,
          9,
          6,
          4,
          1,
          2,
          6,
          7,
          2,
          12,
          2,
          7,
          7,
          2,
          8,
          1,
          8,
          5,
          2,
          5,
          9,
          3,
          6,
          12,
          4,
          9,
          9,
          8,
          3,
          10,
          6,
          7,
          12,
          1,
          8,
          null,
          9,
          9,
          6,
          3,
          8,
          6,
          1,
          2,
          1,
          1,
          1,
          1,
          3,
          8,
          8,
          9,
          2,
          8,
          4,
          8,
          3,
          10,
          2,
          5,
          5,
          8,
          4,
          7,
          1,
          8,
          5,
          2,
          1,
          9,
          9,
          8,
          6,
          9,
          8,
          10,
          2,
          2,
          9,
          8,
          9,
          6,
          9,
          9,
          10,
          9,
          8,
          8,
          8,
          9,
          3,
          1,
          12,
          6,
          7,
          8,
          12,
          5,
          7,
          7,
          11,
          null,
          12,
          1,
          1,
          10,
          6,
          5,
          7,
          7,
          7,
          8,
          6,
          3,
          9,
          8,
          3,
          6,
          2,
          3,
          12,
          7,
          7,
          8,
          7,
          9,
          2,
          2,
          6,
          6,
          2,
          1,
          1,
          9,
          5,
          6,
          12,
          2,
          11,
          5,
          11,
          2,
          6,
          2,
          9,
          6,
          4
         ],
         "xaxis": "x",
         "yaxis": "y"
        },
        {
         "alignmentgroup": "True",
         "bingroup": "x",
         "hovertemplate": "CLIMATE.REGION=Northwest<br>MONTH=%{x}<br>count=%{y}<extra></extra>",
         "legendgroup": "Northwest",
         "marker": {
          "color": "#FFA15A",
          "pattern": {
           "shape": ""
          }
         },
         "name": "Northwest",
         "offsetgroup": "Northwest",
         "orientation": "v",
         "showlegend": true,
         "type": "histogram",
         "x": [
          2,
          12,
          2,
          12,
          1,
          8,
          8,
          4,
          4,
          5,
          12,
          6,
          10,
          1,
          11,
          9,
          12,
          1,
          3,
          7,
          12,
          1,
          3,
          7,
          9,
          11,
          12,
          11,
          8,
          3,
          4,
          9,
          3,
          3,
          7,
          2,
          3,
          7,
          8,
          2,
          4,
          4,
          4,
          7,
          12,
          10,
          2,
          1,
          1,
          11,
          8,
          7,
          11,
          2,
          2,
          8,
          8,
          9,
          6,
          6,
          9,
          10,
          3,
          11,
          7,
          7,
          12,
          4,
          6,
          8,
          12,
          5,
          7,
          5,
          12,
          1,
          12,
          6,
          9,
          6,
          4,
          12,
          2,
          12,
          7,
          11,
          6,
          1,
          3,
          12,
          5,
          4,
          8,
          1,
          8,
          1,
          5,
          3,
          12,
          3,
          4,
          8,
          2,
          1,
          12,
          2,
          2,
          12,
          8,
          2,
          7,
          1,
          6,
          12,
          5,
          8,
          8,
          1,
          12,
          5,
          10,
          2,
          9,
          7,
          12,
          6,
          1,
          6,
          6,
          3,
          3,
          7
         ],
         "xaxis": "x",
         "yaxis": "y"
        },
        {
         "alignmentgroup": "True",
         "bingroup": "x",
         "hovertemplate": "CLIMATE.REGION=Southwest<br>MONTH=%{x}<br>count=%{y}<extra></extra>",
         "legendgroup": "Southwest",
         "marker": {
          "color": "#19d3f3",
          "pattern": {
           "shape": ""
          }
         },
         "name": "Southwest",
         "offsetgroup": "Southwest",
         "orientation": "v",
         "showlegend": true,
         "type": "histogram",
         "x": [
          6,
          2,
          2,
          12,
          7,
          7,
          10,
          8,
          7,
          12,
          5,
          1,
          1,
          6,
          4,
          6,
          2,
          1,
          12,
          4,
          12,
          5,
          7,
          2,
          2,
          3,
          6,
          7,
          10,
          10,
          5,
          11,
          11,
          12,
          1,
          4,
          1,
          4,
          5,
          10,
          7,
          1,
          12,
          4,
          7,
          5,
          11,
          2,
          12,
          4,
          6,
          2,
          2,
          4,
          3,
          8,
          9,
          3,
          3,
          4,
          7,
          7,
          5,
          7,
          2,
          11,
          5,
          5,
          8,
          6,
          2,
          3,
          8,
          2,
          1,
          2,
          11,
          5,
          4,
          6,
          10,
          7,
          7,
          2,
          3,
          10,
          6,
          2,
          6,
          10,
          10,
          2
         ],
         "xaxis": "x",
         "yaxis": "y"
        },
        {
         "alignmentgroup": "True",
         "bingroup": "x",
         "hovertemplate": "CLIMATE.REGION=Northeast<br>MONTH=%{x}<br>count=%{y}<extra></extra>",
         "legendgroup": "Northeast",
         "marker": {
          "color": "#FF6692",
          "pattern": {
           "shape": ""
          }
         },
         "name": "Northeast",
         "offsetgroup": "Northeast",
         "orientation": "v",
         "showlegend": true,
         "type": "histogram",
         "x": [
          6,
          1,
          2,
          6,
          12,
          2,
          7,
          1,
          10,
          2,
          10,
          1,
          10,
          3,
          8,
          10,
          3,
          11,
          2,
          11,
          2,
          1,
          7,
          9,
          7,
          10,
          9,
          1,
          6,
          6,
          6,
          5,
          3,
          2,
          10,
          2,
          2,
          11,
          10,
          8,
          6,
          6,
          9,
          6,
          4,
          6,
          4,
          3,
          10,
          10,
          8,
          2,
          7,
          8,
          6,
          4,
          7,
          1,
          7,
          10,
          4,
          5,
          9,
          2,
          10,
          6,
          10,
          9,
          6,
          9,
          7,
          6,
          8,
          1,
          1,
          9,
          12,
          7,
          10,
          7,
          6,
          1,
          2,
          10,
          9,
          2,
          7,
          9,
          3,
          8,
          2,
          7,
          9,
          2,
          7,
          8,
          7,
          2,
          1,
          7,
          5,
          2,
          3,
          1,
          10,
          12,
          8,
          7,
          12,
          10,
          10,
          10,
          10,
          6,
          2,
          6,
          6,
          9,
          8,
          1,
          10,
          5,
          10,
          7,
          6,
          6,
          12,
          9,
          8,
          6,
          1,
          9,
          2,
          6,
          11,
          1,
          10,
          10,
          9,
          6,
          6,
          1,
          10,
          3,
          7,
          8,
          2,
          10,
          10,
          3,
          2,
          8,
          8,
          9,
          1,
          2,
          1,
          6,
          6,
          8,
          7,
          1,
          5,
          11,
          4,
          9,
          6,
          1,
          4,
          4,
          2,
          4,
          10,
          3,
          2,
          7,
          3,
          9,
          9,
          8,
          null,
          4,
          3,
          5,
          11,
          8,
          10,
          6,
          11,
          4,
          6,
          5,
          4,
          7,
          1,
          6,
          6,
          11,
          1,
          1,
          1,
          4,
          10,
          10,
          8,
          5,
          6,
          8,
          10,
          5,
          12,
          7,
          5,
          3,
          5,
          1,
          7,
          8,
          12,
          5,
          11,
          5,
          2,
          7,
          3,
          12,
          5,
          1,
          1,
          3,
          6,
          3,
          8,
          1,
          8,
          7,
          10,
          2,
          6,
          8,
          3,
          7,
          2,
          5,
          2,
          2,
          5,
          8,
          6,
          11,
          1,
          8,
          6,
          8,
          7,
          7,
          9,
          6,
          9,
          10,
          8,
          12,
          10,
          10,
          6,
          8,
          3,
          10,
          2,
          7,
          6,
          2,
          6,
          10,
          11,
          3,
          2,
          7,
          5,
          6,
          4,
          5,
          11,
          8,
          6,
          4,
          7,
          5,
          1,
          3,
          9,
          5,
          7,
          9,
          3,
          11,
          7,
          1,
          10,
          1,
          6,
          8,
          1,
          4,
          3,
          2,
          4,
          10,
          10,
          8,
          3,
          5,
          3,
          12,
          7,
          2,
          11,
          12,
          7,
          8,
          4,
          7,
          12,
          7,
          2,
          1,
          12,
          2,
          11,
          3,
          12,
          5,
          7,
          7,
          10,
          4,
          10,
          11,
          2,
          7,
          3,
          10,
          5,
          5,
          5,
          4,
          5,
          3,
          11,
          11
         ],
         "xaxis": "x",
         "yaxis": "y"
        },
        {
         "alignmentgroup": "True",
         "bingroup": "x",
         "hovertemplate": "CLIMATE.REGION=West North Central<br>MONTH=%{x}<br>count=%{y}<extra></extra>",
         "legendgroup": "West North Central",
         "marker": {
          "color": "#B6E880",
          "pattern": {
           "shape": ""
          }
         },
         "name": "West North Central",
         "offsetgroup": "West North Central",
         "orientation": "v",
         "showlegend": true,
         "type": "histogram",
         "x": [
          3,
          6,
          6,
          8,
          6,
          6,
          12,
          10,
          11,
          5,
          8,
          6,
          11,
          12,
          null,
          8,
          8
         ],
         "xaxis": "x",
         "yaxis": "y"
        },
        {
         "alignmentgroup": "True",
         "bingroup": "x",
         "hovertemplate": "CLIMATE.REGION=West<br>MONTH=%{x}<br>count=%{y}<extra></extra>",
         "legendgroup": "West",
         "marker": {
          "color": "#FF97FF",
          "pattern": {
           "shape": ""
          }
         },
         "name": "West",
         "offsetgroup": "West",
         "orientation": "v",
         "showlegend": true,
         "type": "histogram",
         "x": [
          9,
          5,
          5,
          10,
          2,
          4,
          1,
          7,
          7,
          8,
          9,
          8,
          6,
          7,
          2,
          2,
          3,
          9,
          7,
          9,
          11,
          7,
          9,
          7,
          8,
          2,
          11,
          6,
          1,
          3,
          9,
          12,
          5,
          3,
          2,
          12,
          7,
          2,
          10,
          6,
          1,
          10,
          6,
          2,
          6,
          6,
          4,
          4,
          11,
          3,
          10,
          10,
          3,
          5,
          8,
          1,
          1,
          11,
          4,
          8,
          3,
          7,
          4,
          5,
          2,
          2,
          12,
          7,
          7,
          2,
          4,
          2,
          12,
          5,
          2,
          8,
          7,
          8,
          6,
          8,
          6,
          4,
          11,
          3,
          1,
          1,
          2,
          5,
          10,
          12,
          7,
          12,
          7,
          12,
          3,
          2,
          1,
          2,
          10,
          12,
          1,
          4,
          12,
          10,
          12,
          5,
          10,
          10,
          7,
          5,
          2,
          12,
          8,
          11,
          6,
          12,
          3,
          10,
          7,
          7,
          2,
          6,
          8,
          3,
          4,
          11,
          12,
          7,
          4,
          7,
          12,
          12,
          3,
          10,
          7,
          7,
          8,
          7,
          6,
          3,
          5,
          6,
          11,
          6,
          9,
          6,
          3,
          2,
          10,
          8,
          6,
          9,
          6,
          5,
          7,
          3,
          12,
          7,
          3,
          10,
          12,
          6,
          5,
          10,
          7,
          2,
          10,
          5,
          12,
          5,
          10,
          10,
          1,
          12,
          3,
          10,
          12,
          5,
          4,
          2,
          2,
          1,
          12,
          6,
          5,
          10,
          12,
          5,
          11,
          7,
          3,
          7,
          4,
          12,
          9,
          11,
          6,
          2,
          2,
          4,
          11,
          9,
          7,
          10,
          7,
          2,
          6,
          12,
          11,
          4,
          1,
          6,
          12,
          5,
          10,
          3,
          1
         ],
         "xaxis": "x",
         "yaxis": "y"
        },
        {
         "alignmentgroup": "True",
         "bingroup": "x",
         "hovertemplate": "CLIMATE.REGION=Hawaii<br>MONTH=%{x}<br>count=%{y}<extra></extra>",
         "legendgroup": "Hawaii",
         "marker": {
          "color": "#FECB52",
          "pattern": {
           "shape": ""
          }
         },
         "name": "Hawaii",
         "offsetgroup": "Hawaii",
         "orientation": "v",
         "showlegend": true,
         "type": "histogram",
         "x": [
          12,
          5,
          10,
          6,
          10
         ],
         "xaxis": "x",
         "yaxis": "y"
        },
        {
         "alignmentgroup": "True",
         "bingroup": "x",
         "hovertemplate": "CLIMATE.REGION=Alaska<br>MONTH=%{x}<br>count=%{y}<extra></extra>",
         "legendgroup": "Alaska",
         "marker": {
          "color": "#636efa",
          "pattern": {
           "shape": ""
          }
         },
         "name": "Alaska",
         "offsetgroup": "Alaska",
         "orientation": "v",
         "showlegend": true,
         "type": "histogram",
         "x": [
          null
         ],
         "xaxis": "x",
         "yaxis": "y"
        }
       ],
       "layout": {
        "bargap": 0.2,
        "barmode": "relative",
        "legend": {
         "title": {
          "text": "CLIMATE.REGION"
         },
         "tracegroupgap": 0
        },
        "template": {
         "data": {
          "bar": [
           {
            "error_x": {
             "color": "#2a3f5f"
            },
            "error_y": {
             "color": "#2a3f5f"
            },
            "marker": {
             "line": {
              "color": "#E5ECF6",
              "width": 0.5
             },
             "pattern": {
              "fillmode": "overlay",
              "size": 10,
              "solidity": 0.2
             }
            },
            "type": "bar"
           }
          ],
          "barpolar": [
           {
            "marker": {
             "line": {
              "color": "#E5ECF6",
              "width": 0.5
             },
             "pattern": {
              "fillmode": "overlay",
              "size": 10,
              "solidity": 0.2
             }
            },
            "type": "barpolar"
           }
          ],
          "carpet": [
           {
            "aaxis": {
             "endlinecolor": "#2a3f5f",
             "gridcolor": "white",
             "linecolor": "white",
             "minorgridcolor": "white",
             "startlinecolor": "#2a3f5f"
            },
            "baxis": {
             "endlinecolor": "#2a3f5f",
             "gridcolor": "white",
             "linecolor": "white",
             "minorgridcolor": "white",
             "startlinecolor": "#2a3f5f"
            },
            "type": "carpet"
           }
          ],
          "choropleth": [
           {
            "colorbar": {
             "outlinewidth": 0,
             "ticks": ""
            },
            "type": "choropleth"
           }
          ],
          "contour": [
           {
            "colorbar": {
             "outlinewidth": 0,
             "ticks": ""
            },
            "colorscale": [
             [
              0,
              "#0d0887"
             ],
             [
              0.1111111111111111,
              "#46039f"
             ],
             [
              0.2222222222222222,
              "#7201a8"
             ],
             [
              0.3333333333333333,
              "#9c179e"
             ],
             [
              0.4444444444444444,
              "#bd3786"
             ],
             [
              0.5555555555555556,
              "#d8576b"
             ],
             [
              0.6666666666666666,
              "#ed7953"
             ],
             [
              0.7777777777777778,
              "#fb9f3a"
             ],
             [
              0.8888888888888888,
              "#fdca26"
             ],
             [
              1,
              "#f0f921"
             ]
            ],
            "type": "contour"
           }
          ],
          "contourcarpet": [
           {
            "colorbar": {
             "outlinewidth": 0,
             "ticks": ""
            },
            "type": "contourcarpet"
           }
          ],
          "heatmap": [
           {
            "colorbar": {
             "outlinewidth": 0,
             "ticks": ""
            },
            "colorscale": [
             [
              0,
              "#0d0887"
             ],
             [
              0.1111111111111111,
              "#46039f"
             ],
             [
              0.2222222222222222,
              "#7201a8"
             ],
             [
              0.3333333333333333,
              "#9c179e"
             ],
             [
              0.4444444444444444,
              "#bd3786"
             ],
             [
              0.5555555555555556,
              "#d8576b"
             ],
             [
              0.6666666666666666,
              "#ed7953"
             ],
             [
              0.7777777777777778,
              "#fb9f3a"
             ],
             [
              0.8888888888888888,
              "#fdca26"
             ],
             [
              1,
              "#f0f921"
             ]
            ],
            "type": "heatmap"
           }
          ],
          "heatmapgl": [
           {
            "colorbar": {
             "outlinewidth": 0,
             "ticks": ""
            },
            "colorscale": [
             [
              0,
              "#0d0887"
             ],
             [
              0.1111111111111111,
              "#46039f"
             ],
             [
              0.2222222222222222,
              "#7201a8"
             ],
             [
              0.3333333333333333,
              "#9c179e"
             ],
             [
              0.4444444444444444,
              "#bd3786"
             ],
             [
              0.5555555555555556,
              "#d8576b"
             ],
             [
              0.6666666666666666,
              "#ed7953"
             ],
             [
              0.7777777777777778,
              "#fb9f3a"
             ],
             [
              0.8888888888888888,
              "#fdca26"
             ],
             [
              1,
              "#f0f921"
             ]
            ],
            "type": "heatmapgl"
           }
          ],
          "histogram": [
           {
            "marker": {
             "pattern": {
              "fillmode": "overlay",
              "size": 10,
              "solidity": 0.2
             }
            },
            "type": "histogram"
           }
          ],
          "histogram2d": [
           {
            "colorbar": {
             "outlinewidth": 0,
             "ticks": ""
            },
            "colorscale": [
             [
              0,
              "#0d0887"
             ],
             [
              0.1111111111111111,
              "#46039f"
             ],
             [
              0.2222222222222222,
              "#7201a8"
             ],
             [
              0.3333333333333333,
              "#9c179e"
             ],
             [
              0.4444444444444444,
              "#bd3786"
             ],
             [
              0.5555555555555556,
              "#d8576b"
             ],
             [
              0.6666666666666666,
              "#ed7953"
             ],
             [
              0.7777777777777778,
              "#fb9f3a"
             ],
             [
              0.8888888888888888,
              "#fdca26"
             ],
             [
              1,
              "#f0f921"
             ]
            ],
            "type": "histogram2d"
           }
          ],
          "histogram2dcontour": [
           {
            "colorbar": {
             "outlinewidth": 0,
             "ticks": ""
            },
            "colorscale": [
             [
              0,
              "#0d0887"
             ],
             [
              0.1111111111111111,
              "#46039f"
             ],
             [
              0.2222222222222222,
              "#7201a8"
             ],
             [
              0.3333333333333333,
              "#9c179e"
             ],
             [
              0.4444444444444444,
              "#bd3786"
             ],
             [
              0.5555555555555556,
              "#d8576b"
             ],
             [
              0.6666666666666666,
              "#ed7953"
             ],
             [
              0.7777777777777778,
              "#fb9f3a"
             ],
             [
              0.8888888888888888,
              "#fdca26"
             ],
             [
              1,
              "#f0f921"
             ]
            ],
            "type": "histogram2dcontour"
           }
          ],
          "mesh3d": [
           {
            "colorbar": {
             "outlinewidth": 0,
             "ticks": ""
            },
            "type": "mesh3d"
           }
          ],
          "parcoords": [
           {
            "line": {
             "colorbar": {
              "outlinewidth": 0,
              "ticks": ""
             }
            },
            "type": "parcoords"
           }
          ],
          "pie": [
           {
            "automargin": true,
            "type": "pie"
           }
          ],
          "scatter": [
           {
            "fillpattern": {
             "fillmode": "overlay",
             "size": 10,
             "solidity": 0.2
            },
            "type": "scatter"
           }
          ],
          "scatter3d": [
           {
            "line": {
             "colorbar": {
              "outlinewidth": 0,
              "ticks": ""
             }
            },
            "marker": {
             "colorbar": {
              "outlinewidth": 0,
              "ticks": ""
             }
            },
            "type": "scatter3d"
           }
          ],
          "scattercarpet": [
           {
            "marker": {
             "colorbar": {
              "outlinewidth": 0,
              "ticks": ""
             }
            },
            "type": "scattercarpet"
           }
          ],
          "scattergeo": [
           {
            "marker": {
             "colorbar": {
              "outlinewidth": 0,
              "ticks": ""
             }
            },
            "type": "scattergeo"
           }
          ],
          "scattergl": [
           {
            "marker": {
             "colorbar": {
              "outlinewidth": 0,
              "ticks": ""
             }
            },
            "type": "scattergl"
           }
          ],
          "scattermapbox": [
           {
            "marker": {
             "colorbar": {
              "outlinewidth": 0,
              "ticks": ""
             }
            },
            "type": "scattermapbox"
           }
          ],
          "scatterpolar": [
           {
            "marker": {
             "colorbar": {
              "outlinewidth": 0,
              "ticks": ""
             }
            },
            "type": "scatterpolar"
           }
          ],
          "scatterpolargl": [
           {
            "marker": {
             "colorbar": {
              "outlinewidth": 0,
              "ticks": ""
             }
            },
            "type": "scatterpolargl"
           }
          ],
          "scatterternary": [
           {
            "marker": {
             "colorbar": {
              "outlinewidth": 0,
              "ticks": ""
             }
            },
            "type": "scatterternary"
           }
          ],
          "surface": [
           {
            "colorbar": {
             "outlinewidth": 0,
             "ticks": ""
            },
            "colorscale": [
             [
              0,
              "#0d0887"
             ],
             [
              0.1111111111111111,
              "#46039f"
             ],
             [
              0.2222222222222222,
              "#7201a8"
             ],
             [
              0.3333333333333333,
              "#9c179e"
             ],
             [
              0.4444444444444444,
              "#bd3786"
             ],
             [
              0.5555555555555556,
              "#d8576b"
             ],
             [
              0.6666666666666666,
              "#ed7953"
             ],
             [
              0.7777777777777778,
              "#fb9f3a"
             ],
             [
              0.8888888888888888,
              "#fdca26"
             ],
             [
              1,
              "#f0f921"
             ]
            ],
            "type": "surface"
           }
          ],
          "table": [
           {
            "cells": {
             "fill": {
              "color": "#EBF0F8"
             },
             "line": {
              "color": "white"
             }
            },
            "header": {
             "fill": {
              "color": "#C8D4E3"
             },
             "line": {
              "color": "white"
             }
            },
            "type": "table"
           }
          ]
         },
         "layout": {
          "annotationdefaults": {
           "arrowcolor": "#2a3f5f",
           "arrowhead": 0,
           "arrowwidth": 1
          },
          "autotypenumbers": "strict",
          "coloraxis": {
           "colorbar": {
            "outlinewidth": 0,
            "ticks": ""
           }
          },
          "colorscale": {
           "diverging": [
            [
             0,
             "#8e0152"
            ],
            [
             0.1,
             "#c51b7d"
            ],
            [
             0.2,
             "#de77ae"
            ],
            [
             0.3,
             "#f1b6da"
            ],
            [
             0.4,
             "#fde0ef"
            ],
            [
             0.5,
             "#f7f7f7"
            ],
            [
             0.6,
             "#e6f5d0"
            ],
            [
             0.7,
             "#b8e186"
            ],
            [
             0.8,
             "#7fbc41"
            ],
            [
             0.9,
             "#4d9221"
            ],
            [
             1,
             "#276419"
            ]
           ],
           "sequential": [
            [
             0,
             "#0d0887"
            ],
            [
             0.1111111111111111,
             "#46039f"
            ],
            [
             0.2222222222222222,
             "#7201a8"
            ],
            [
             0.3333333333333333,
             "#9c179e"
            ],
            [
             0.4444444444444444,
             "#bd3786"
            ],
            [
             0.5555555555555556,
             "#d8576b"
            ],
            [
             0.6666666666666666,
             "#ed7953"
            ],
            [
             0.7777777777777778,
             "#fb9f3a"
            ],
            [
             0.8888888888888888,
             "#fdca26"
            ],
            [
             1,
             "#f0f921"
            ]
           ],
           "sequentialminus": [
            [
             0,
             "#0d0887"
            ],
            [
             0.1111111111111111,
             "#46039f"
            ],
            [
             0.2222222222222222,
             "#7201a8"
            ],
            [
             0.3333333333333333,
             "#9c179e"
            ],
            [
             0.4444444444444444,
             "#bd3786"
            ],
            [
             0.5555555555555556,
             "#d8576b"
            ],
            [
             0.6666666666666666,
             "#ed7953"
            ],
            [
             0.7777777777777778,
             "#fb9f3a"
            ],
            [
             0.8888888888888888,
             "#fdca26"
            ],
            [
             1,
             "#f0f921"
            ]
           ]
          },
          "colorway": [
           "#636efa",
           "#EF553B",
           "#00cc96",
           "#ab63fa",
           "#FFA15A",
           "#19d3f3",
           "#FF6692",
           "#B6E880",
           "#FF97FF",
           "#FECB52"
          ],
          "font": {
           "color": "#2a3f5f"
          },
          "geo": {
           "bgcolor": "white",
           "lakecolor": "white",
           "landcolor": "#E5ECF6",
           "showlakes": true,
           "showland": true,
           "subunitcolor": "white"
          },
          "hoverlabel": {
           "align": "left"
          },
          "hovermode": "closest",
          "mapbox": {
           "style": "light"
          },
          "paper_bgcolor": "white",
          "plot_bgcolor": "#E5ECF6",
          "polar": {
           "angularaxis": {
            "gridcolor": "white",
            "linecolor": "white",
            "ticks": ""
           },
           "bgcolor": "#E5ECF6",
           "radialaxis": {
            "gridcolor": "white",
            "linecolor": "white",
            "ticks": ""
           }
          },
          "scene": {
           "xaxis": {
            "backgroundcolor": "#E5ECF6",
            "gridcolor": "white",
            "gridwidth": 2,
            "linecolor": "white",
            "showbackground": true,
            "ticks": "",
            "zerolinecolor": "white"
           },
           "yaxis": {
            "backgroundcolor": "#E5ECF6",
            "gridcolor": "white",
            "gridwidth": 2,
            "linecolor": "white",
            "showbackground": true,
            "ticks": "",
            "zerolinecolor": "white"
           },
           "zaxis": {
            "backgroundcolor": "#E5ECF6",
            "gridcolor": "white",
            "gridwidth": 2,
            "linecolor": "white",
            "showbackground": true,
            "ticks": "",
            "zerolinecolor": "white"
           }
          },
          "shapedefaults": {
           "line": {
            "color": "#2a3f5f"
           }
          },
          "ternary": {
           "aaxis": {
            "gridcolor": "white",
            "linecolor": "white",
            "ticks": ""
           },
           "baxis": {
            "gridcolor": "white",
            "linecolor": "white",
            "ticks": ""
           },
           "bgcolor": "#E5ECF6",
           "caxis": {
            "gridcolor": "white",
            "linecolor": "white",
            "ticks": ""
           }
          },
          "title": {
           "x": 0.05
          },
          "xaxis": {
           "automargin": true,
           "gridcolor": "white",
           "linecolor": "white",
           "ticks": "",
           "title": {
            "standoff": 15
           },
           "zerolinecolor": "white",
           "zerolinewidth": 2
          },
          "yaxis": {
           "automargin": true,
           "gridcolor": "white",
           "linecolor": "white",
           "ticks": "",
           "title": {
            "standoff": 15
           },
           "zerolinecolor": "white",
           "zerolinewidth": 2
          }
         }
        },
        "title": {
         "text": "Distribution of Outage Start Dates by Month and Climate Region"
        },
        "xaxis": {
         "anchor": "y",
         "domain": [
          0,
          1
         ],
         "title": {
          "text": "MONTH"
         }
        },
        "yaxis": {
         "anchor": "x",
         "domain": [
          0,
          1
         ],
         "title": {
          "text": "count"
         }
        }
       }
      }
     },
     "metadata": {},
     "output_type": "display_data"
    }
   ],
   "source": [
    "fig2 = px.histogram(df, \n",
    "                    x='MONTH',  \n",
    "                    color = 'CLIMATE.REGION',\n",
    "                    title='Distribution of Outage Start Dates by Month and Climate Region', \n",
    "                    labels={'OUTAGE.MONTH': 'Outage Start Month'})\n",
    "fig2.update_layout(bargap=0.2)\n",
    "fig2.show()"
   ]
  },
  {
   "cell_type": "code",
   "execution_count": 24,
   "metadata": {},
   "outputs": [],
   "source": [
    "df['MONTH_STRING'] = df['MONTH'].astype(str)"
   ]
  },
  {
   "cell_type": "code",
   "execution_count": 25,
   "metadata": {
    "scrolled": false
   },
   "outputs": [
    {
     "data": {
      "application/vnd.plotly.v1+json": {
       "config": {
        "plotlyServerURL": "https://plot.ly"
       },
       "data": [
        {
         "alignmentgroup": "True",
         "bingroup": "x",
         "hovertemplate": "CAUSE.CATEGORY.DETAIL=vandalism<br>MONTH=%{x}<br>count=%{y}<extra></extra>",
         "legendgroup": "vandalism",
         "marker": {
          "color": "#EF553B",
          "pattern": {
           "shape": ""
          }
         },
         "name": "vandalism",
         "offsetgroup": "vandalism",
         "orientation": "v",
         "showlegend": true,
         "type": "histogram",
         "x": [
          5,
          7,
          5,
          8,
          7,
          6,
          5,
          3,
          6,
          4,
          1,
          1,
          4,
          1,
          1,
          1,
          3,
          1,
          4,
          12,
          5,
          8,
          6,
          3,
          1,
          2,
          1,
          3,
          3,
          12,
          10,
          11,
          4,
          8,
          7,
          6,
          5,
          2,
          12,
          2,
          1,
          8,
          4,
          4,
          6,
          9,
          12,
          3,
          3,
          7,
          9,
          11,
          12,
          8,
          3,
          4,
          9,
          7,
          7,
          2,
          4,
          7,
          2,
          1,
          7,
          2,
          2,
          8,
          9,
          6,
          6,
          9,
          10,
          3,
          7,
          4,
          6,
          8,
          5,
          7,
          12,
          1,
          12,
          9,
          6,
          4,
          7,
          6,
          1,
          5,
          8,
          1,
          1,
          2,
          2,
          7,
          5,
          1,
          1,
          4,
          1,
          5,
          2,
          1,
          10,
          2,
          10,
          3,
          10,
          11,
          2,
          10,
          6,
          5,
          3,
          2,
          2,
          10,
          6,
          6,
          3,
          10,
          10,
          1,
          5,
          1,
          7,
          10,
          10,
          6,
          10,
          10,
          5,
          11,
          11,
          1,
          4,
          4,
          10,
          7,
          1,
          12,
          4,
          5,
          11,
          4,
          2,
          2,
          4,
          3,
          8,
          9,
          3,
          4,
          5,
          7,
          2,
          11,
          5,
          5,
          8,
          8,
          11,
          3,
          12,
          7,
          1,
          5,
          2,
          9,
          7,
          10,
          8,
          1,
          2,
          5,
          7,
          6,
          1,
          10,
          9,
          9,
          11,
          10,
          9,
          12,
          4,
          8,
          1,
          2,
          8,
          2,
          7,
          1,
          6,
          5,
          8,
          1,
          5,
          2,
          9,
          1,
          8,
          5,
          1,
          5,
          11,
          4,
          9,
          1,
          4,
          4,
          2,
          4,
          10,
          3,
          2,
          7,
          3,
          9,
          9,
          8,
          4,
          3,
          5,
          11,
          8,
          10,
          6,
          11,
          4,
          6,
          5,
          4,
          1,
          6,
          11,
          1,
          1,
          3,
          4,
          5,
          5,
          5,
          5,
          9,
          9,
          6,
          8,
          4,
          2,
          7,
          7,
          2,
          4,
          3,
          7,
          4,
          12,
          2,
          4,
          6,
          6,
          6,
          6,
          4,
          2,
          11,
          5,
          8,
          6,
          2,
          8,
          2,
          2,
          6,
          10,
          11,
          3,
          2,
          7,
          5,
          6,
          4,
          4,
          5,
          11,
          4,
          7,
          3,
          9,
          9,
          1,
          1,
          7,
          1,
          1,
          4,
          4,
          5,
          3,
          7,
          11,
          7,
          8,
          7,
          7,
          3,
          5,
          11,
          2,
          7,
          3,
          10,
          5,
          5,
          5,
          5,
          3,
          11,
          11,
          1,
          6,
          5,
          1,
          10,
          10,
          2,
          3,
          12,
          12,
          12,
          1,
          6,
          3
         ],
         "xaxis": "x",
         "yaxis": "y"
        },
        {
         "alignmentgroup": "True",
         "bingroup": "x",
         "hovertemplate": "CAUSE.CATEGORY.DETAIL=heavy wind<br>MONTH=%{x}<br>count=%{y}<extra></extra>",
         "legendgroup": "heavy wind",
         "marker": {
          "color": "#00cc96",
          "pattern": {
           "shape": ""
          }
         },
         "name": "heavy wind",
         "offsetgroup": "heavy wind",
         "orientation": "v",
         "showlegend": true,
         "type": "histogram",
         "x": [
          10,
          10,
          11,
          12,
          12,
          10,
          10,
          12,
          4,
          11,
          4,
          10,
          2,
          11,
          4,
          3,
          6,
          5,
          5,
          11,
          10,
          1,
          11,
          2,
          10,
          12,
          12,
          12,
          2,
          12,
          11,
          12,
          4,
          12,
          11,
          11,
          1,
          9,
          2,
          9,
          1,
          2,
          9,
          12,
          2,
          9,
          2,
          3,
          3,
          12,
          12,
          1,
          11,
          4,
          10,
          10,
          4,
          11,
          2,
          6,
          2
         ],
         "xaxis": "x",
         "yaxis": "y"
        },
        {
         "alignmentgroup": "True",
         "bingroup": "x",
         "hovertemplate": "CAUSE.CATEGORY.DETAIL=thunderstorm<br>MONTH=%{x}<br>count=%{y}<extra></extra>",
         "legendgroup": "thunderstorm",
         "marker": {
          "color": "#ab63fa",
          "pattern": {
           "shape": ""
          }
         },
         "name": "thunderstorm",
         "offsetgroup": "thunderstorm",
         "orientation": "v",
         "showlegend": true,
         "type": "histogram",
         "x": [
          6,
          6,
          6,
          6,
          6,
          11,
          7,
          6,
          8,
          6,
          6,
          9,
          6,
          6,
          11,
          7,
          10,
          5,
          7,
          11,
          6,
          4,
          5,
          6,
          9,
          6,
          5,
          5,
          7,
          6,
          6,
          11,
          7,
          8,
          9,
          6,
          7,
          11,
          6,
          3,
          3,
          8,
          8,
          8,
          6,
          6,
          4,
          6,
          7,
          4,
          5,
          5,
          5,
          6,
          7,
          11,
          11,
          7,
          8,
          6,
          6,
          5,
          7,
          6,
          6,
          7,
          6,
          null,
          6,
          10,
          7,
          11,
          10,
          6,
          7,
          7,
          6,
          6,
          7,
          8,
          7,
          8,
          6,
          7,
          5,
          6,
          7,
          7,
          6,
          6,
          8,
          9,
          6,
          6,
          4,
          8,
          6,
          7,
          7,
          4,
          6,
          9,
          7,
          6,
          9,
          7,
          7,
          8,
          7,
          7,
          6,
          2,
          5,
          5,
          5,
          7,
          6,
          7,
          7,
          7,
          7,
          6,
          6,
          6,
          12,
          6,
          6,
          null,
          7,
          6,
          6,
          8,
          6,
          5,
          8,
          5,
          5,
          7,
          6,
          6,
          6,
          5,
          6,
          2,
          4,
          9,
          8,
          6,
          7,
          6,
          7,
          6,
          9,
          8,
          6,
          7,
          7,
          8,
          7,
          6,
          6,
          5,
          11,
          6,
          6,
          6,
          5,
          7,
          7,
          5,
          7,
          6,
          8,
          4,
          4,
          7,
          4,
          12
         ],
         "xaxis": "x",
         "yaxis": "y"
        },
        {
         "alignmentgroup": "True",
         "bingroup": "x",
         "hovertemplate": "CAUSE.CATEGORY.DETAIL=winter storm<br>MONTH=%{x}<br>count=%{y}<extra></extra>",
         "legendgroup": "winter storm",
         "marker": {
          "color": "#FFA15A",
          "pattern": {
           "shape": ""
          }
         },
         "name": "winter storm",
         "offsetgroup": "winter storm",
         "orientation": "v",
         "showlegend": true,
         "type": "histogram",
         "x": [
          11,
          1,
          1,
          4,
          3,
          4,
          12,
          2,
          1,
          2,
          3,
          1,
          2,
          12,
          2,
          12,
          1,
          1,
          1,
          2,
          1,
          11,
          1,
          11,
          1,
          2,
          2,
          1,
          2,
          2,
          2,
          12,
          12,
          2,
          1,
          1,
          1,
          1,
          4,
          4,
          2,
          2,
          2,
          1,
          1,
          1,
          2,
          1,
          1,
          1,
          2,
          1,
          2,
          2,
          12,
          12,
          2,
          2,
          10,
          10,
          1,
          2,
          2,
          2,
          11,
          1,
          12,
          12,
          1,
          12,
          11,
          2,
          1,
          1,
          12,
          1,
          3,
          3,
          12,
          2,
          10,
          2,
          1,
          1,
          12,
          11,
          1,
          1,
          2,
          12,
          1,
          2,
          2,
          12,
          2,
          11,
          4,
          10,
          null,
          12,
          1
         ],
         "xaxis": "x",
         "yaxis": "y"
        },
        {
         "alignmentgroup": "True",
         "bingroup": "x",
         "hovertemplate": "CAUSE.CATEGORY.DETAIL=tornadoes<br>MONTH=%{x}<br>count=%{y}<extra></extra>",
         "legendgroup": "tornadoes",
         "marker": {
          "color": "#19d3f3",
          "pattern": {
           "shape": ""
          }
         },
         "name": "tornadoes",
         "offsetgroup": "tornadoes",
         "orientation": "v",
         "showlegend": true,
         "type": "histogram",
         "x": [
          7,
          9,
          11,
          4,
          12,
          6,
          5,
          5
         ],
         "xaxis": "x",
         "yaxis": "y"
        },
        {
         "alignmentgroup": "True",
         "bingroup": "x",
         "hovertemplate": "CAUSE.CATEGORY.DETAIL=sabotage<br>MONTH=%{x}<br>count=%{y}<extra></extra>",
         "legendgroup": "sabotage",
         "marker": {
          "color": "#FF6692",
          "pattern": {
           "shape": ""
          }
         },
         "name": "sabotage",
         "offsetgroup": "sabotage",
         "orientation": "v",
         "showlegend": true,
         "type": "histogram",
         "x": [
          3,
          1,
          1,
          4,
          2,
          11,
          5,
          3,
          3,
          8,
          2,
          3,
          4,
          1,
          6,
          2,
          2,
          12,
          5,
          5,
          4,
          5,
          8,
          9,
          11,
          3,
          12,
          12,
          3,
          4,
          2,
          3
         ],
         "xaxis": "x",
         "yaxis": "y"
        },
        {
         "alignmentgroup": "True",
         "bingroup": "x",
         "hovertemplate": "CAUSE.CATEGORY.DETAIL=hailstorm<br>MONTH=%{x}<br>count=%{y}<extra></extra>",
         "legendgroup": "hailstorm",
         "marker": {
          "color": "#B6E880",
          "pattern": {
           "shape": ""
          }
         },
         "name": "hailstorm",
         "offsetgroup": "hailstorm",
         "orientation": "v",
         "showlegend": true,
         "type": "histogram",
         "x": [
          6,
          6,
          10
         ],
         "xaxis": "x",
         "yaxis": "y"
        },
        {
         "alignmentgroup": "True",
         "bingroup": "x",
         "hovertemplate": "CAUSE.CATEGORY.DETAIL=uncontrolled loss<br>MONTH=%{x}<br>count=%{y}<extra></extra>",
         "legendgroup": "uncontrolled loss",
         "marker": {
          "color": "#FF97FF",
          "pattern": {
           "shape": ""
          }
         },
         "name": "uncontrolled loss",
         "offsetgroup": "uncontrolled loss",
         "orientation": "v",
         "showlegend": true,
         "type": "histogram",
         "x": [
          6,
          6,
          7,
          4,
          5,
          6,
          12,
          6,
          8,
          7,
          4,
          7,
          7,
          7
         ],
         "xaxis": "x",
         "yaxis": "y"
        },
        {
         "alignmentgroup": "True",
         "bingroup": "x",
         "hovertemplate": "CAUSE.CATEGORY.DETAIL=winter<br>MONTH=%{x}<br>count=%{y}<extra></extra>",
         "legendgroup": "winter",
         "marker": {
          "color": "#FECB52",
          "pattern": {
           "shape": ""
          }
         },
         "name": "winter",
         "offsetgroup": "winter",
         "orientation": "v",
         "showlegend": true,
         "type": "histogram",
         "x": [
          1,
          1,
          2,
          1,
          1,
          1,
          2,
          1,
          3,
          1,
          1,
          1,
          1,
          1,
          1,
          2,
          1,
          1,
          1,
          1,
          1,
          1,
          2
         ],
         "xaxis": "x",
         "yaxis": "y"
        },
        {
         "alignmentgroup": "True",
         "bingroup": "x",
         "hovertemplate": "CAUSE.CATEGORY.DETAIL=wind storm<br>MONTH=%{x}<br>count=%{y}<extra></extra>",
         "legendgroup": "wind storm",
         "marker": {
          "color": "#636efa",
          "pattern": {
           "shape": ""
          }
         },
         "name": "wind storm",
         "offsetgroup": "wind storm",
         "orientation": "v",
         "showlegend": true,
         "type": "histogram",
         "x": [
          7,
          3,
          3,
          11,
          1,
          1
         ],
         "xaxis": "x",
         "yaxis": "y"
        },
        {
         "alignmentgroup": "True",
         "bingroup": "x",
         "hovertemplate": "CAUSE.CATEGORY.DETAIL=computer hardware<br>MONTH=%{x}<br>count=%{y}<extra></extra>",
         "legendgroup": "computer hardware",
         "marker": {
          "color": "#EF553B",
          "pattern": {
           "shape": ""
          }
         },
         "name": "computer hardware",
         "offsetgroup": "computer hardware",
         "orientation": "v",
         "showlegend": true,
         "type": "histogram",
         "x": [
          7
         ],
         "xaxis": "x",
         "yaxis": "y"
        },
        {
         "alignmentgroup": "True",
         "bingroup": "x",
         "hovertemplate": "CAUSE.CATEGORY.DETAIL=public appeal<br>MONTH=%{x}<br>count=%{y}<extra></extra>",
         "legendgroup": "public appeal",
         "marker": {
          "color": "#00cc96",
          "pattern": {
           "shape": ""
          }
         },
         "name": "public appeal",
         "offsetgroup": "public appeal",
         "orientation": "v",
         "showlegend": true,
         "type": "histogram",
         "x": [
          7,
          12
         ],
         "xaxis": "x",
         "yaxis": "y"
        },
        {
         "alignmentgroup": "True",
         "bingroup": "x",
         "hovertemplate": "CAUSE.CATEGORY.DETAIL=storm<br>MONTH=%{x}<br>count=%{y}<extra></extra>",
         "legendgroup": "storm",
         "marker": {
          "color": "#ab63fa",
          "pattern": {
           "shape": ""
          }
         },
         "name": "storm",
         "offsetgroup": "storm",
         "orientation": "v",
         "showlegend": true,
         "type": "histogram",
         "x": [
          6,
          9,
          7,
          7,
          10,
          6,
          8,
          6,
          5,
          6,
          1,
          8,
          8,
          6,
          8,
          5,
          12,
          7,
          6,
          7,
          2,
          7,
          5,
          6,
          4,
          7,
          6,
          3,
          1,
          1,
          1,
          2,
          1,
          1,
          12,
          3,
          3,
          7,
          5,
          10,
          1
         ],
         "xaxis": "x",
         "yaxis": "y"
        },
        {
         "alignmentgroup": "True",
         "bingroup": "x",
         "hovertemplate": "CAUSE.CATEGORY.DETAIL= Coal<br>MONTH=%{x}<br>count=%{y}<extra></extra>",
         "legendgroup": " Coal",
         "marker": {
          "color": "#FFA15A",
          "pattern": {
           "shape": ""
          }
         },
         "name": " Coal",
         "offsetgroup": " Coal",
         "orientation": "v",
         "showlegend": true,
         "type": "histogram",
         "x": [
          6,
          1,
          4,
          3,
          4,
          12,
          6,
          12,
          2,
          2
         ],
         "xaxis": "x",
         "yaxis": "y"
        },
        {
         "alignmentgroup": "True",
         "bingroup": "x",
         "hovertemplate": "CAUSE.CATEGORY.DETAIL= Natural Gas<br>MONTH=%{x}<br>count=%{y}<extra></extra>",
         "legendgroup": " Natural Gas",
         "marker": {
          "color": "#19d3f3",
          "pattern": {
           "shape": ""
          }
         },
         "name": " Natural Gas",
         "offsetgroup": " Natural Gas",
         "orientation": "v",
         "showlegend": true,
         "type": "histogram",
         "x": [
          8,
          1,
          7,
          2,
          2,
          2,
          2
         ],
         "xaxis": "x",
         "yaxis": "y"
        },
        {
         "alignmentgroup": "True",
         "bingroup": "x",
         "hovertemplate": "CAUSE.CATEGORY.DETAIL=hurricanes<br>MONTH=%{x}<br>count=%{y}<extra></extra>",
         "legendgroup": "hurricanes",
         "marker": {
          "color": "#FF6692",
          "pattern": {
           "shape": ""
          }
         },
         "name": "hurricanes",
         "offsetgroup": "hurricanes",
         "orientation": "v",
         "showlegend": true,
         "type": "histogram",
         "x": [
          10,
          9,
          7,
          9,
          9,
          7,
          9,
          9,
          9,
          9,
          9,
          9,
          10,
          10,
          9,
          10,
          9,
          9,
          10,
          9,
          9,
          10,
          9,
          9,
          9,
          9,
          9,
          9,
          9,
          10,
          10,
          10,
          8,
          9,
          10,
          10,
          10,
          8,
          7,
          8,
          9,
          9,
          9,
          9,
          8,
          8,
          10,
          9,
          8,
          8,
          8,
          10,
          8,
          9,
          8,
          9,
          8,
          10,
          9,
          9,
          9,
          9,
          10,
          9,
          8,
          8,
          9,
          10,
          9,
          9,
          10,
          10,
          10,
          10
         ],
         "xaxis": "x",
         "yaxis": "y"
        },
        {
         "alignmentgroup": "True",
         "bingroup": "x",
         "hovertemplate": "CAUSE.CATEGORY.DETAIL=wind/rain<br>MONTH=%{x}<br>count=%{y}<extra></extra>",
         "legendgroup": "wind/rain",
         "marker": {
          "color": "#B6E880",
          "pattern": {
           "shape": ""
          }
         },
         "name": "wind/rain",
         "offsetgroup": "wind/rain",
         "orientation": "v",
         "showlegend": true,
         "type": "histogram",
         "x": [
          6,
          4,
          8,
          12,
          3,
          3,
          3,
          3,
          10,
          10,
          6,
          3
         ],
         "xaxis": "x",
         "yaxis": "y"
        },
        {
         "alignmentgroup": "True",
         "bingroup": "x",
         "hovertemplate": "CAUSE.CATEGORY.DETAIL=snow/ice storm<br>MONTH=%{x}<br>count=%{y}<extra></extra>",
         "legendgroup": "snow/ice storm",
         "marker": {
          "color": "#FF97FF",
          "pattern": {
           "shape": ""
          }
         },
         "name": "snow/ice storm",
         "offsetgroup": "snow/ice storm",
         "orientation": "v",
         "showlegend": true,
         "type": "histogram",
         "x": [
          11
         ],
         "xaxis": "x",
         "yaxis": "y"
        },
        {
         "alignmentgroup": "True",
         "bingroup": "x",
         "hovertemplate": "CAUSE.CATEGORY.DETAIL=snow/ice <br>MONTH=%{x}<br>count=%{y}<extra></extra>",
         "legendgroup": "snow/ice ",
         "marker": {
          "color": "#FECB52",
          "pattern": {
           "shape": ""
          }
         },
         "name": "snow/ice ",
         "offsetgroup": "snow/ice ",
         "orientation": "v",
         "showlegend": true,
         "type": "histogram",
         "x": [
          12,
          12,
          12,
          2,
          2,
          2,
          2,
          2,
          2,
          12,
          12,
          2,
          12
         ],
         "xaxis": "x",
         "yaxis": "y"
        },
        {
         "alignmentgroup": "True",
         "bingroup": "x",
         "hovertemplate": "CAUSE.CATEGORY.DETAIL=transmission interruption<br>MONTH=%{x}<br>count=%{y}<extra></extra>",
         "legendgroup": "transmission interruption",
         "marker": {
          "color": "#636efa",
          "pattern": {
           "shape": ""
          }
         },
         "name": "transmission interruption",
         "offsetgroup": "transmission interruption",
         "orientation": "v",
         "showlegend": true,
         "type": "histogram",
         "x": [
          9,
          5,
          3,
          10,
          5,
          6,
          12,
          4,
          6,
          12,
          5,
          5,
          12,
          3,
          8,
          10,
          10,
          3,
          3
         ],
         "xaxis": "x",
         "yaxis": "y"
        },
        {
         "alignmentgroup": "True",
         "bingroup": "x",
         "hovertemplate": "CAUSE.CATEGORY.DETAIL=flooding<br>MONTH=%{x}<br>count=%{y}<extra></extra>",
         "legendgroup": "flooding",
         "marker": {
          "color": "#EF553B",
          "pattern": {
           "shape": ""
          }
         },
         "name": "flooding",
         "offsetgroup": "flooding",
         "orientation": "v",
         "showlegend": true,
         "type": "histogram",
         "x": [
          5,
          6,
          3,
          6
         ],
         "xaxis": "x",
         "yaxis": "y"
        },
        {
         "alignmentgroup": "True",
         "bingroup": "x",
         "hovertemplate": "CAUSE.CATEGORY.DETAIL=transformer outage<br>MONTH=%{x}<br>count=%{y}<extra></extra>",
         "legendgroup": "transformer outage",
         "marker": {
          "color": "#00cc96",
          "pattern": {
           "shape": ""
          }
         },
         "name": "transformer outage",
         "offsetgroup": "transformer outage",
         "orientation": "v",
         "showlegend": true,
         "type": "histogram",
         "x": [
          3,
          null,
          7
         ],
         "xaxis": "x",
         "yaxis": "y"
        },
        {
         "alignmentgroup": "True",
         "bingroup": "x",
         "hovertemplate": "CAUSE.CATEGORY.DETAIL=generator trip<br>MONTH=%{x}<br>count=%{y}<extra></extra>",
         "legendgroup": "generator trip",
         "marker": {
          "color": "#ab63fa",
          "pattern": {
           "shape": ""
          }
         },
         "name": "generator trip",
         "offsetgroup": "generator trip",
         "orientation": "v",
         "showlegend": true,
         "type": "histogram",
         "x": [
          9,
          8,
          2,
          1,
          5,
          4,
          7,
          5,
          12,
          4,
          7,
          5,
          7,
          7,
          5,
          7
         ],
         "xaxis": "x",
         "yaxis": "y"
        },
        {
         "alignmentgroup": "True",
         "bingroup": "x",
         "hovertemplate": "CAUSE.CATEGORY.DETAIL=relaying malfunction<br>MONTH=%{x}<br>count=%{y}<extra></extra>",
         "legendgroup": "relaying malfunction",
         "marker": {
          "color": "#FFA15A",
          "pattern": {
           "shape": ""
          }
         },
         "name": "relaying malfunction",
         "offsetgroup": "relaying malfunction",
         "orientation": "v",
         "showlegend": true,
         "type": "histogram",
         "x": [
          4,
          6,
          null
         ],
         "xaxis": "x",
         "yaxis": "y"
        },
        {
         "alignmentgroup": "True",
         "bingroup": "x",
         "hovertemplate": "CAUSE.CATEGORY.DETAIL=transmission trip<br>MONTH=%{x}<br>count=%{y}<extra></extra>",
         "legendgroup": "transmission trip",
         "marker": {
          "color": "#19d3f3",
          "pattern": {
           "shape": ""
          }
         },
         "name": "transmission trip",
         "offsetgroup": "transmission trip",
         "orientation": "v",
         "showlegend": true,
         "type": "histogram",
         "x": [
          9,
          3,
          4,
          2,
          1,
          6
         ],
         "xaxis": "x",
         "yaxis": "y"
        },
        {
         "alignmentgroup": "True",
         "bingroup": "x",
         "hovertemplate": "CAUSE.CATEGORY.DETAIL=lightning<br>MONTH=%{x}<br>count=%{y}<extra></extra>",
         "legendgroup": "lightning",
         "marker": {
          "color": "#FF6692",
          "pattern": {
           "shape": ""
          }
         },
         "name": "lightning",
         "offsetgroup": "lightning",
         "orientation": "v",
         "showlegend": true,
         "type": "histogram",
         "x": [
          8,
          8,
          5
         ],
         "xaxis": "x",
         "yaxis": "y"
        },
        {
         "alignmentgroup": "True",
         "bingroup": "x",
         "hovertemplate": "CAUSE.CATEGORY.DETAIL=switching<br>MONTH=%{x}<br>count=%{y}<extra></extra>",
         "legendgroup": "switching",
         "marker": {
          "color": "#B6E880",
          "pattern": {
           "shape": ""
          }
         },
         "name": "switching",
         "offsetgroup": "switching",
         "orientation": "v",
         "showlegend": true,
         "type": "histogram",
         "x": [
          3,
          11
         ],
         "xaxis": "x",
         "yaxis": "y"
        },
        {
         "alignmentgroup": "True",
         "bingroup": "x",
         "hovertemplate": "CAUSE.CATEGORY.DETAIL=shed load<br>MONTH=%{x}<br>count=%{y}<extra></extra>",
         "legendgroup": "shed load",
         "marker": {
          "color": "#FF97FF",
          "pattern": {
           "shape": ""
          }
         },
         "name": "shed load",
         "offsetgroup": "shed load",
         "orientation": "v",
         "showlegend": true,
         "type": "histogram",
         "x": [
          4
         ],
         "xaxis": "x",
         "yaxis": "y"
        },
        {
         "alignmentgroup": "True",
         "bingroup": "x",
         "hovertemplate": "CAUSE.CATEGORY.DETAIL=line fault<br>MONTH=%{x}<br>count=%{y}<extra></extra>",
         "legendgroup": "line fault",
         "marker": {
          "color": "#FECB52",
          "pattern": {
           "shape": ""
          }
         },
         "name": "line fault",
         "offsetgroup": "line fault",
         "orientation": "v",
         "showlegend": true,
         "type": "histogram",
         "x": [
          8,
          6
         ],
         "xaxis": "x",
         "yaxis": "y"
        },
        {
         "alignmentgroup": "True",
         "bingroup": "x",
         "hovertemplate": "CAUSE.CATEGORY.DETAIL=breaker trip<br>MONTH=%{x}<br>count=%{y}<extra></extra>",
         "legendgroup": "breaker trip",
         "marker": {
          "color": "#636efa",
          "pattern": {
           "shape": ""
          }
         },
         "name": "breaker trip",
         "offsetgroup": "breaker trip",
         "orientation": "v",
         "showlegend": true,
         "type": "histogram",
         "x": [
          6,
          7,
          7,
          5
         ],
         "xaxis": "x",
         "yaxis": "y"
        },
        {
         "alignmentgroup": "True",
         "bingroup": "x",
         "hovertemplate": "CAUSE.CATEGORY.DETAIL=wildfire<br>MONTH=%{x}<br>count=%{y}<extra></extra>",
         "legendgroup": "wildfire",
         "marker": {
          "color": "#EF553B",
          "pattern": {
           "shape": ""
          }
         },
         "name": "wildfire",
         "offsetgroup": "wildfire",
         "orientation": "v",
         "showlegend": true,
         "type": "histogram",
         "x": [
          null,
          7,
          6,
          7,
          7,
          6,
          12,
          12,
          10,
          7,
          5,
          5,
          10,
          11,
          7,
          7,
          10,
          7,
          10,
          10,
          5,
          5,
          10,
          11,
          7,
          12
         ],
         "xaxis": "x",
         "yaxis": "y"
        },
        {
         "alignmentgroup": "True",
         "bingroup": "x",
         "hovertemplate": "CAUSE.CATEGORY.DETAIL= Hydro<br>MONTH=%{x}<br>count=%{y}<extra></extra>",
         "legendgroup": " Hydro",
         "marker": {
          "color": "#00cc96",
          "pattern": {
           "shape": ""
          }
         },
         "name": " Hydro",
         "offsetgroup": " Hydro",
         "orientation": "v",
         "showlegend": true,
         "type": "histogram",
         "x": [
          3
         ],
         "xaxis": "x",
         "yaxis": "y"
        },
        {
         "alignmentgroup": "True",
         "bingroup": "x",
         "hovertemplate": "CAUSE.CATEGORY.DETAIL=majorsystem interruption<br>MONTH=%{x}<br>count=%{y}<extra></extra>",
         "legendgroup": "majorsystem interruption",
         "marker": {
          "color": "#ab63fa",
          "pattern": {
           "shape": ""
          }
         },
         "name": "majorsystem interruption",
         "offsetgroup": "majorsystem interruption",
         "orientation": "v",
         "showlegend": true,
         "type": "histogram",
         "x": [
          6
         ],
         "xaxis": "x",
         "yaxis": "y"
        },
        {
         "alignmentgroup": "True",
         "bingroup": "x",
         "hovertemplate": "CAUSE.CATEGORY.DETAIL=voltage reduction<br>MONTH=%{x}<br>count=%{y}<extra></extra>",
         "legendgroup": "voltage reduction",
         "marker": {
          "color": "#FFA15A",
          "pattern": {
           "shape": ""
          }
         },
         "name": "voltage reduction",
         "offsetgroup": "voltage reduction",
         "orientation": "v",
         "showlegend": true,
         "type": "histogram",
         "x": [
          7
         ],
         "xaxis": "x",
         "yaxis": "y"
        },
        {
         "alignmentgroup": "True",
         "bingroup": "x",
         "hovertemplate": "CAUSE.CATEGORY.DETAIL=transmission<br>MONTH=%{x}<br>count=%{y}<extra></extra>",
         "legendgroup": "transmission",
         "marker": {
          "color": "#19d3f3",
          "pattern": {
           "shape": ""
          }
         },
         "name": "transmission",
         "offsetgroup": "transmission",
         "orientation": "v",
         "showlegend": true,
         "type": "histogram",
         "x": [
          7,
          5,
          11
         ],
         "xaxis": "x",
         "yaxis": "y"
        },
        {
         "alignmentgroup": "True",
         "bingroup": "x",
         "hovertemplate": "CAUSE.CATEGORY.DETAIL=Coal<br>MONTH=%{x}<br>count=%{y}<extra></extra>",
         "legendgroup": "Coal",
         "marker": {
          "color": "#FF6692",
          "pattern": {
           "shape": ""
          }
         },
         "name": "Coal",
         "offsetgroup": "Coal",
         "orientation": "v",
         "showlegend": true,
         "type": "histogram",
         "x": [
          7,
          7,
          1,
          3,
          8,
          3,
          6,
          null
         ],
         "xaxis": "x",
         "yaxis": "y"
        },
        {
         "alignmentgroup": "True",
         "bingroup": "x",
         "hovertemplate": "CAUSE.CATEGORY.DETAIL=substation<br>MONTH=%{x}<br>count=%{y}<extra></extra>",
         "legendgroup": "substation",
         "marker": {
          "color": "#B6E880",
          "pattern": {
           "shape": ""
          }
         },
         "name": "substation",
         "offsetgroup": "substation",
         "orientation": "v",
         "showlegend": true,
         "type": "histogram",
         "x": [
          7,
          8
         ],
         "xaxis": "x",
         "yaxis": "y"
        },
        {
         "alignmentgroup": "True",
         "bingroup": "x",
         "hovertemplate": "CAUSE.CATEGORY.DETAIL=heatwave<br>MONTH=%{x}<br>count=%{y}<extra></extra>",
         "legendgroup": "heatwave",
         "marker": {
          "color": "#FF97FF",
          "pattern": {
           "shape": ""
          }
         },
         "name": "heatwave",
         "offsetgroup": "heatwave",
         "orientation": "v",
         "showlegend": true,
         "type": "histogram",
         "x": [
          8,
          7,
          9,
          7,
          7,
          8,
          7,
          5,
          9,
          7
         ],
         "xaxis": "x",
         "yaxis": "y"
        },
        {
         "alignmentgroup": "True",
         "bingroup": "x",
         "hovertemplate": "CAUSE.CATEGORY.DETAIL=distribution interruption<br>MONTH=%{x}<br>count=%{y}<extra></extra>",
         "legendgroup": "distribution interruption",
         "marker": {
          "color": "#FECB52",
          "pattern": {
           "shape": ""
          }
         },
         "name": "distribution interruption",
         "offsetgroup": "distribution interruption",
         "orientation": "v",
         "showlegend": true,
         "type": "histogram",
         "x": [
          1,
          8
         ],
         "xaxis": "x",
         "yaxis": "y"
        },
        {
         "alignmentgroup": "True",
         "bingroup": "x",
         "hovertemplate": "CAUSE.CATEGORY.DETAIL=wind<br>MONTH=%{x}<br>count=%{y}<extra></extra>",
         "legendgroup": "wind",
         "marker": {
          "color": "#636efa",
          "pattern": {
           "shape": ""
          }
         },
         "name": "wind",
         "offsetgroup": "wind",
         "orientation": "v",
         "showlegend": true,
         "type": "histogram",
         "x": [
          3,
          2,
          4
         ],
         "xaxis": "x",
         "yaxis": "y"
        },
        {
         "alignmentgroup": "True",
         "bingroup": "x",
         "hovertemplate": "CAUSE.CATEGORY.DETAIL=suspicious activity<br>MONTH=%{x}<br>count=%{y}<extra></extra>",
         "legendgroup": "suspicious activity",
         "marker": {
          "color": "#EF553B",
          "pattern": {
           "shape": ""
          }
         },
         "name": "suspicious activity",
         "offsetgroup": "suspicious activity",
         "orientation": "v",
         "showlegend": true,
         "type": "histogram",
         "x": [
          8,
          11,
          7
         ],
         "xaxis": "x",
         "yaxis": "y"
        },
        {
         "alignmentgroup": "True",
         "bingroup": "x",
         "hovertemplate": "CAUSE.CATEGORY.DETAIL=feeder shutdown<br>MONTH=%{x}<br>count=%{y}<extra></extra>",
         "legendgroup": "feeder shutdown",
         "marker": {
          "color": "#00cc96",
          "pattern": {
           "shape": ""
          }
         },
         "name": "feeder shutdown",
         "offsetgroup": "feeder shutdown",
         "orientation": "v",
         "showlegend": true,
         "type": "histogram",
         "x": [
          6
         ],
         "xaxis": "x",
         "yaxis": "y"
        },
        {
         "alignmentgroup": "True",
         "bingroup": "x",
         "hovertemplate": "CAUSE.CATEGORY.DETAIL=100 MW loadshed<br>MONTH=%{x}<br>count=%{y}<extra></extra>",
         "legendgroup": "100 MW loadshed",
         "marker": {
          "color": "#ab63fa",
          "pattern": {
           "shape": ""
          }
         },
         "name": "100 MW loadshed",
         "offsetgroup": "100 MW loadshed",
         "orientation": "v",
         "showlegend": true,
         "type": "histogram",
         "x": [
          6
         ],
         "xaxis": "x",
         "yaxis": "y"
        },
        {
         "alignmentgroup": "True",
         "bingroup": "x",
         "hovertemplate": "CAUSE.CATEGORY.DETAIL=plant trip<br>MONTH=%{x}<br>count=%{y}<extra></extra>",
         "legendgroup": "plant trip",
         "marker": {
          "color": "#FFA15A",
          "pattern": {
           "shape": ""
          }
         },
         "name": "plant trip",
         "offsetgroup": "plant trip",
         "orientation": "v",
         "showlegend": true,
         "type": "histogram",
         "x": [
          8
         ],
         "xaxis": "x",
         "yaxis": "y"
        },
        {
         "alignmentgroup": "True",
         "bingroup": "x",
         "hovertemplate": "CAUSE.CATEGORY.DETAIL=fog<br>MONTH=%{x}<br>count=%{y}<extra></extra>",
         "legendgroup": "fog",
         "marker": {
          "color": "#19d3f3",
          "pattern": {
           "shape": ""
          }
         },
         "name": "fog",
         "offsetgroup": "fog",
         "orientation": "v",
         "showlegend": true,
         "type": "histogram",
         "x": [
          6
         ],
         "xaxis": "x",
         "yaxis": "y"
        },
        {
         "alignmentgroup": "True",
         "bingroup": "x",
         "hovertemplate": "CAUSE.CATEGORY.DETAIL=Hydro<br>MONTH=%{x}<br>count=%{y}<extra></extra>",
         "legendgroup": "Hydro",
         "marker": {
          "color": "#FF6692",
          "pattern": {
           "shape": ""
          }
         },
         "name": "Hydro",
         "offsetgroup": "Hydro",
         "orientation": "v",
         "showlegend": true,
         "type": "histogram",
         "x": [
          5,
          8,
          7,
          6,
          9
         ],
         "xaxis": "x",
         "yaxis": "y"
        },
        {
         "alignmentgroup": "True",
         "bingroup": "x",
         "hovertemplate": "CAUSE.CATEGORY.DETAIL=earthquake<br>MONTH=%{x}<br>count=%{y}<extra></extra>",
         "legendgroup": "earthquake",
         "marker": {
          "color": "#B6E880",
          "pattern": {
           "shape": ""
          }
         },
         "name": "earthquake",
         "offsetgroup": "earthquake",
         "orientation": "v",
         "showlegend": true,
         "type": "histogram",
         "x": [
          12,
          8,
          10,
          10
         ],
         "xaxis": "x",
         "yaxis": "y"
        },
        {
         "alignmentgroup": "True",
         "bingroup": "x",
         "hovertemplate": "CAUSE.CATEGORY.DETAIL=HVSubstation interruption<br>MONTH=%{x}<br>count=%{y}<extra></extra>",
         "legendgroup": "HVSubstation interruption",
         "marker": {
          "color": "#FF97FF",
          "pattern": {
           "shape": ""
          }
         },
         "name": "HVSubstation interruption",
         "offsetgroup": "HVSubstation interruption",
         "orientation": "v",
         "showlegend": true,
         "type": "histogram",
         "x": [
          4
         ],
         "xaxis": "x",
         "yaxis": "y"
        },
        {
         "alignmentgroup": "True",
         "bingroup": "x",
         "hovertemplate": "CAUSE.CATEGORY.DETAIL=cables<br>MONTH=%{x}<br>count=%{y}<extra></extra>",
         "legendgroup": "cables",
         "marker": {
          "color": "#FECB52",
          "pattern": {
           "shape": ""
          }
         },
         "name": "cables",
         "offsetgroup": "cables",
         "orientation": "v",
         "showlegend": true,
         "type": "histogram",
         "x": [
          12
         ],
         "xaxis": "x",
         "yaxis": "y"
        },
        {
         "alignmentgroup": "True",
         "bingroup": "x",
         "hovertemplate": "CAUSE.CATEGORY.DETAIL=Petroleum<br>MONTH=%{x}<br>count=%{y}<extra></extra>",
         "legendgroup": "Petroleum",
         "marker": {
          "color": "#636efa",
          "pattern": {
           "shape": ""
          }
         },
         "name": "Petroleum",
         "offsetgroup": "Petroleum",
         "orientation": "v",
         "showlegend": true,
         "type": "histogram",
         "x": [
          2
         ],
         "xaxis": "x",
         "yaxis": "y"
        },
        {
         "alignmentgroup": "True",
         "bingroup": "x",
         "hovertemplate": "CAUSE.CATEGORY.DETAIL=thunderstorm; islanding<br>MONTH=%{x}<br>count=%{y}<extra></extra>",
         "legendgroup": "thunderstorm; islanding",
         "marker": {
          "color": "#EF553B",
          "pattern": {
           "shape": ""
          }
         },
         "name": "thunderstorm; islanding",
         "offsetgroup": "thunderstorm; islanding",
         "orientation": "v",
         "showlegend": true,
         "type": "histogram",
         "x": [
          7
         ],
         "xaxis": "x",
         "yaxis": "y"
        },
        {
         "alignmentgroup": "True",
         "bingroup": "x",
         "hovertemplate": "CAUSE.CATEGORY.DETAIL=failure<br>MONTH=%{x}<br>count=%{y}<extra></extra>",
         "legendgroup": "failure",
         "marker": {
          "color": "#00cc96",
          "pattern": {
           "shape": ""
          }
         },
         "name": "failure",
         "offsetgroup": "failure",
         "orientation": "v",
         "showlegend": true,
         "type": "histogram",
         "x": [
          null
         ],
         "xaxis": "x",
         "yaxis": "y"
        }
       ],
       "layout": {
        "bargap": 0.2,
        "barmode": "relative",
        "legend": {
         "title": {
          "text": "CAUSE.CATEGORY.DETAIL"
         },
         "tracegroupgap": 0
        },
        "margin": {
         "t": 60
        },
        "template": {
         "data": {
          "bar": [
           {
            "error_x": {
             "color": "#2a3f5f"
            },
            "error_y": {
             "color": "#2a3f5f"
            },
            "marker": {
             "line": {
              "color": "#E5ECF6",
              "width": 0.5
             },
             "pattern": {
              "fillmode": "overlay",
              "size": 10,
              "solidity": 0.2
             }
            },
            "type": "bar"
           }
          ],
          "barpolar": [
           {
            "marker": {
             "line": {
              "color": "#E5ECF6",
              "width": 0.5
             },
             "pattern": {
              "fillmode": "overlay",
              "size": 10,
              "solidity": 0.2
             }
            },
            "type": "barpolar"
           }
          ],
          "carpet": [
           {
            "aaxis": {
             "endlinecolor": "#2a3f5f",
             "gridcolor": "white",
             "linecolor": "white",
             "minorgridcolor": "white",
             "startlinecolor": "#2a3f5f"
            },
            "baxis": {
             "endlinecolor": "#2a3f5f",
             "gridcolor": "white",
             "linecolor": "white",
             "minorgridcolor": "white",
             "startlinecolor": "#2a3f5f"
            },
            "type": "carpet"
           }
          ],
          "choropleth": [
           {
            "colorbar": {
             "outlinewidth": 0,
             "ticks": ""
            },
            "type": "choropleth"
           }
          ],
          "contour": [
           {
            "colorbar": {
             "outlinewidth": 0,
             "ticks": ""
            },
            "colorscale": [
             [
              0,
              "#0d0887"
             ],
             [
              0.1111111111111111,
              "#46039f"
             ],
             [
              0.2222222222222222,
              "#7201a8"
             ],
             [
              0.3333333333333333,
              "#9c179e"
             ],
             [
              0.4444444444444444,
              "#bd3786"
             ],
             [
              0.5555555555555556,
              "#d8576b"
             ],
             [
              0.6666666666666666,
              "#ed7953"
             ],
             [
              0.7777777777777778,
              "#fb9f3a"
             ],
             [
              0.8888888888888888,
              "#fdca26"
             ],
             [
              1,
              "#f0f921"
             ]
            ],
            "type": "contour"
           }
          ],
          "contourcarpet": [
           {
            "colorbar": {
             "outlinewidth": 0,
             "ticks": ""
            },
            "type": "contourcarpet"
           }
          ],
          "heatmap": [
           {
            "colorbar": {
             "outlinewidth": 0,
             "ticks": ""
            },
            "colorscale": [
             [
              0,
              "#0d0887"
             ],
             [
              0.1111111111111111,
              "#46039f"
             ],
             [
              0.2222222222222222,
              "#7201a8"
             ],
             [
              0.3333333333333333,
              "#9c179e"
             ],
             [
              0.4444444444444444,
              "#bd3786"
             ],
             [
              0.5555555555555556,
              "#d8576b"
             ],
             [
              0.6666666666666666,
              "#ed7953"
             ],
             [
              0.7777777777777778,
              "#fb9f3a"
             ],
             [
              0.8888888888888888,
              "#fdca26"
             ],
             [
              1,
              "#f0f921"
             ]
            ],
            "type": "heatmap"
           }
          ],
          "heatmapgl": [
           {
            "colorbar": {
             "outlinewidth": 0,
             "ticks": ""
            },
            "colorscale": [
             [
              0,
              "#0d0887"
             ],
             [
              0.1111111111111111,
              "#46039f"
             ],
             [
              0.2222222222222222,
              "#7201a8"
             ],
             [
              0.3333333333333333,
              "#9c179e"
             ],
             [
              0.4444444444444444,
              "#bd3786"
             ],
             [
              0.5555555555555556,
              "#d8576b"
             ],
             [
              0.6666666666666666,
              "#ed7953"
             ],
             [
              0.7777777777777778,
              "#fb9f3a"
             ],
             [
              0.8888888888888888,
              "#fdca26"
             ],
             [
              1,
              "#f0f921"
             ]
            ],
            "type": "heatmapgl"
           }
          ],
          "histogram": [
           {
            "marker": {
             "pattern": {
              "fillmode": "overlay",
              "size": 10,
              "solidity": 0.2
             }
            },
            "type": "histogram"
           }
          ],
          "histogram2d": [
           {
            "colorbar": {
             "outlinewidth": 0,
             "ticks": ""
            },
            "colorscale": [
             [
              0,
              "#0d0887"
             ],
             [
              0.1111111111111111,
              "#46039f"
             ],
             [
              0.2222222222222222,
              "#7201a8"
             ],
             [
              0.3333333333333333,
              "#9c179e"
             ],
             [
              0.4444444444444444,
              "#bd3786"
             ],
             [
              0.5555555555555556,
              "#d8576b"
             ],
             [
              0.6666666666666666,
              "#ed7953"
             ],
             [
              0.7777777777777778,
              "#fb9f3a"
             ],
             [
              0.8888888888888888,
              "#fdca26"
             ],
             [
              1,
              "#f0f921"
             ]
            ],
            "type": "histogram2d"
           }
          ],
          "histogram2dcontour": [
           {
            "colorbar": {
             "outlinewidth": 0,
             "ticks": ""
            },
            "colorscale": [
             [
              0,
              "#0d0887"
             ],
             [
              0.1111111111111111,
              "#46039f"
             ],
             [
              0.2222222222222222,
              "#7201a8"
             ],
             [
              0.3333333333333333,
              "#9c179e"
             ],
             [
              0.4444444444444444,
              "#bd3786"
             ],
             [
              0.5555555555555556,
              "#d8576b"
             ],
             [
              0.6666666666666666,
              "#ed7953"
             ],
             [
              0.7777777777777778,
              "#fb9f3a"
             ],
             [
              0.8888888888888888,
              "#fdca26"
             ],
             [
              1,
              "#f0f921"
             ]
            ],
            "type": "histogram2dcontour"
           }
          ],
          "mesh3d": [
           {
            "colorbar": {
             "outlinewidth": 0,
             "ticks": ""
            },
            "type": "mesh3d"
           }
          ],
          "parcoords": [
           {
            "line": {
             "colorbar": {
              "outlinewidth": 0,
              "ticks": ""
             }
            },
            "type": "parcoords"
           }
          ],
          "pie": [
           {
            "automargin": true,
            "type": "pie"
           }
          ],
          "scatter": [
           {
            "fillpattern": {
             "fillmode": "overlay",
             "size": 10,
             "solidity": 0.2
            },
            "type": "scatter"
           }
          ],
          "scatter3d": [
           {
            "line": {
             "colorbar": {
              "outlinewidth": 0,
              "ticks": ""
             }
            },
            "marker": {
             "colorbar": {
              "outlinewidth": 0,
              "ticks": ""
             }
            },
            "type": "scatter3d"
           }
          ],
          "scattercarpet": [
           {
            "marker": {
             "colorbar": {
              "outlinewidth": 0,
              "ticks": ""
             }
            },
            "type": "scattercarpet"
           }
          ],
          "scattergeo": [
           {
            "marker": {
             "colorbar": {
              "outlinewidth": 0,
              "ticks": ""
             }
            },
            "type": "scattergeo"
           }
          ],
          "scattergl": [
           {
            "marker": {
             "colorbar": {
              "outlinewidth": 0,
              "ticks": ""
             }
            },
            "type": "scattergl"
           }
          ],
          "scattermapbox": [
           {
            "marker": {
             "colorbar": {
              "outlinewidth": 0,
              "ticks": ""
             }
            },
            "type": "scattermapbox"
           }
          ],
          "scatterpolar": [
           {
            "marker": {
             "colorbar": {
              "outlinewidth": 0,
              "ticks": ""
             }
            },
            "type": "scatterpolar"
           }
          ],
          "scatterpolargl": [
           {
            "marker": {
             "colorbar": {
              "outlinewidth": 0,
              "ticks": ""
             }
            },
            "type": "scatterpolargl"
           }
          ],
          "scatterternary": [
           {
            "marker": {
             "colorbar": {
              "outlinewidth": 0,
              "ticks": ""
             }
            },
            "type": "scatterternary"
           }
          ],
          "surface": [
           {
            "colorbar": {
             "outlinewidth": 0,
             "ticks": ""
            },
            "colorscale": [
             [
              0,
              "#0d0887"
             ],
             [
              0.1111111111111111,
              "#46039f"
             ],
             [
              0.2222222222222222,
              "#7201a8"
             ],
             [
              0.3333333333333333,
              "#9c179e"
             ],
             [
              0.4444444444444444,
              "#bd3786"
             ],
             [
              0.5555555555555556,
              "#d8576b"
             ],
             [
              0.6666666666666666,
              "#ed7953"
             ],
             [
              0.7777777777777778,
              "#fb9f3a"
             ],
             [
              0.8888888888888888,
              "#fdca26"
             ],
             [
              1,
              "#f0f921"
             ]
            ],
            "type": "surface"
           }
          ],
          "table": [
           {
            "cells": {
             "fill": {
              "color": "#EBF0F8"
             },
             "line": {
              "color": "white"
             }
            },
            "header": {
             "fill": {
              "color": "#C8D4E3"
             },
             "line": {
              "color": "white"
             }
            },
            "type": "table"
           }
          ]
         },
         "layout": {
          "annotationdefaults": {
           "arrowcolor": "#2a3f5f",
           "arrowhead": 0,
           "arrowwidth": 1
          },
          "autotypenumbers": "strict",
          "coloraxis": {
           "colorbar": {
            "outlinewidth": 0,
            "ticks": ""
           }
          },
          "colorscale": {
           "diverging": [
            [
             0,
             "#8e0152"
            ],
            [
             0.1,
             "#c51b7d"
            ],
            [
             0.2,
             "#de77ae"
            ],
            [
             0.3,
             "#f1b6da"
            ],
            [
             0.4,
             "#fde0ef"
            ],
            [
             0.5,
             "#f7f7f7"
            ],
            [
             0.6,
             "#e6f5d0"
            ],
            [
             0.7,
             "#b8e186"
            ],
            [
             0.8,
             "#7fbc41"
            ],
            [
             0.9,
             "#4d9221"
            ],
            [
             1,
             "#276419"
            ]
           ],
           "sequential": [
            [
             0,
             "#0d0887"
            ],
            [
             0.1111111111111111,
             "#46039f"
            ],
            [
             0.2222222222222222,
             "#7201a8"
            ],
            [
             0.3333333333333333,
             "#9c179e"
            ],
            [
             0.4444444444444444,
             "#bd3786"
            ],
            [
             0.5555555555555556,
             "#d8576b"
            ],
            [
             0.6666666666666666,
             "#ed7953"
            ],
            [
             0.7777777777777778,
             "#fb9f3a"
            ],
            [
             0.8888888888888888,
             "#fdca26"
            ],
            [
             1,
             "#f0f921"
            ]
           ],
           "sequentialminus": [
            [
             0,
             "#0d0887"
            ],
            [
             0.1111111111111111,
             "#46039f"
            ],
            [
             0.2222222222222222,
             "#7201a8"
            ],
            [
             0.3333333333333333,
             "#9c179e"
            ],
            [
             0.4444444444444444,
             "#bd3786"
            ],
            [
             0.5555555555555556,
             "#d8576b"
            ],
            [
             0.6666666666666666,
             "#ed7953"
            ],
            [
             0.7777777777777778,
             "#fb9f3a"
            ],
            [
             0.8888888888888888,
             "#fdca26"
            ],
            [
             1,
             "#f0f921"
            ]
           ]
          },
          "colorway": [
           "#636efa",
           "#EF553B",
           "#00cc96",
           "#ab63fa",
           "#FFA15A",
           "#19d3f3",
           "#FF6692",
           "#B6E880",
           "#FF97FF",
           "#FECB52"
          ],
          "font": {
           "color": "#2a3f5f"
          },
          "geo": {
           "bgcolor": "white",
           "lakecolor": "white",
           "landcolor": "#E5ECF6",
           "showlakes": true,
           "showland": true,
           "subunitcolor": "white"
          },
          "hoverlabel": {
           "align": "left"
          },
          "hovermode": "closest",
          "mapbox": {
           "style": "light"
          },
          "paper_bgcolor": "white",
          "plot_bgcolor": "#E5ECF6",
          "polar": {
           "angularaxis": {
            "gridcolor": "white",
            "linecolor": "white",
            "ticks": ""
           },
           "bgcolor": "#E5ECF6",
           "radialaxis": {
            "gridcolor": "white",
            "linecolor": "white",
            "ticks": ""
           }
          },
          "scene": {
           "xaxis": {
            "backgroundcolor": "#E5ECF6",
            "gridcolor": "white",
            "gridwidth": 2,
            "linecolor": "white",
            "showbackground": true,
            "ticks": "",
            "zerolinecolor": "white"
           },
           "yaxis": {
            "backgroundcolor": "#E5ECF6",
            "gridcolor": "white",
            "gridwidth": 2,
            "linecolor": "white",
            "showbackground": true,
            "ticks": "",
            "zerolinecolor": "white"
           },
           "zaxis": {
            "backgroundcolor": "#E5ECF6",
            "gridcolor": "white",
            "gridwidth": 2,
            "linecolor": "white",
            "showbackground": true,
            "ticks": "",
            "zerolinecolor": "white"
           }
          },
          "shapedefaults": {
           "line": {
            "color": "#2a3f5f"
           }
          },
          "ternary": {
           "aaxis": {
            "gridcolor": "white",
            "linecolor": "white",
            "ticks": ""
           },
           "baxis": {
            "gridcolor": "white",
            "linecolor": "white",
            "ticks": ""
           },
           "bgcolor": "#E5ECF6",
           "caxis": {
            "gridcolor": "white",
            "linecolor": "white",
            "ticks": ""
           }
          },
          "title": {
           "x": 0.05
          },
          "xaxis": {
           "automargin": true,
           "gridcolor": "white",
           "linecolor": "white",
           "ticks": "",
           "title": {
            "standoff": 15
           },
           "zerolinecolor": "white",
           "zerolinewidth": 2
          },
          "yaxis": {
           "automargin": true,
           "gridcolor": "white",
           "linecolor": "white",
           "ticks": "",
           "title": {
            "standoff": 15
           },
           "zerolinecolor": "white",
           "zerolinewidth": 2
          }
         }
        },
        "xaxis": {
         "anchor": "y",
         "domain": [
          0,
          1
         ],
         "title": {
          "text": "MONTH"
         }
        },
        "yaxis": {
         "anchor": "x",
         "domain": [
          0,
          1
         ],
         "title": {
          "text": "count"
         }
        }
       }
      }
     },
     "metadata": {},
     "output_type": "display_data"
    }
   ],
   "source": [
    "fig4 = px.histogram(df, \n",
    "                   x = 'MONTH',\n",
    "                   color = 'CAUSE.CATEGORY.DETAIL')\n",
    "fig4.update_layout(bargap=0.2)\n",
    "fig4.show()"
   ]
  },
  {
   "cell_type": "code",
   "execution_count": 26,
   "metadata": {
    "scrolled": true
   },
   "outputs": [
    {
     "data": {
      "application/vnd.plotly.v1+json": {
       "config": {
        "plotlyServerURL": "https://plot.ly"
       },
       "data": [
        {
         "alignmentgroup": "True",
         "hovertemplate": "CLIMATE.REGION=%{x}<br>ANOMALY.LEVEL=%{y}<extra></extra>",
         "legendgroup": "East North Central",
         "marker": {
          "color": "#636efa"
         },
         "name": "East North Central",
         "notched": false,
         "offsetgroup": "East North Central",
         "orientation": "v",
         "showlegend": true,
         "type": "box",
         "x": [
          "East North Central",
          "East North Central",
          "East North Central",
          "East North Central",
          "East North Central",
          "East North Central",
          "East North Central",
          "East North Central",
          "East North Central",
          "East North Central",
          "East North Central",
          "East North Central",
          "East North Central",
          "East North Central",
          "East North Central",
          "East North Central",
          "East North Central",
          "East North Central",
          "East North Central",
          "East North Central",
          "East North Central",
          "East North Central",
          "East North Central",
          "East North Central",
          "East North Central",
          "East North Central",
          "East North Central",
          "East North Central",
          "East North Central",
          "East North Central",
          "East North Central",
          "East North Central",
          "East North Central",
          "East North Central",
          "East North Central",
          "East North Central",
          "East North Central",
          "East North Central",
          "East North Central",
          "East North Central",
          "East North Central",
          "East North Central",
          "East North Central",
          "East North Central",
          "East North Central",
          "East North Central",
          "East North Central",
          "East North Central",
          "East North Central",
          "East North Central",
          "East North Central",
          "East North Central",
          "East North Central",
          "East North Central",
          "East North Central",
          "East North Central",
          "East North Central",
          "East North Central",
          "East North Central",
          "East North Central",
          "East North Central",
          "East North Central",
          "East North Central",
          "East North Central",
          "East North Central",
          "East North Central",
          "East North Central",
          "East North Central",
          "East North Central",
          "East North Central",
          "East North Central",
          "East North Central",
          "East North Central",
          "East North Central",
          "East North Central",
          "East North Central",
          "East North Central",
          "East North Central",
          "East North Central",
          "East North Central",
          "East North Central",
          "East North Central",
          "East North Central",
          "East North Central",
          "East North Central",
          "East North Central",
          "East North Central",
          "East North Central",
          "East North Central",
          "East North Central",
          "East North Central",
          "East North Central",
          "East North Central",
          "East North Central",
          "East North Central",
          "East North Central",
          "East North Central",
          "East North Central",
          "East North Central",
          "East North Central",
          "East North Central",
          "East North Central",
          "East North Central",
          "East North Central",
          "East North Central",
          "East North Central",
          "East North Central",
          "East North Central",
          "East North Central",
          "East North Central",
          "East North Central",
          "East North Central",
          "East North Central",
          "East North Central",
          "East North Central",
          "East North Central",
          "East North Central",
          "East North Central",
          "East North Central",
          "East North Central",
          "East North Central",
          "East North Central",
          "East North Central",
          "East North Central",
          "East North Central",
          "East North Central",
          "East North Central",
          "East North Central",
          "East North Central",
          "East North Central",
          "East North Central",
          "East North Central",
          "East North Central",
          "East North Central",
          "East North Central",
          "East North Central",
          "East North Central",
          "East North Central"
         ],
         "x0": " ",
         "xaxis": "x",
         "y": [
          -0.3,
          -0.1,
          -1.5,
          -0.1,
          1.2,
          -1.4,
          -0.9,
          0.2,
          0.6,
          -0.2,
          -0.2,
          0,
          -0.3,
          -0.4,
          0,
          0,
          -0.5,
          -0.5,
          -0.3,
          -0.5,
          -0.2,
          0.1,
          -0.5,
          2.2,
          0,
          -1.2,
          -1.5,
          0,
          -0.5,
          -0.4,
          0,
          -0.3,
          -0.5,
          -0.3,
          -0.5,
          -0.4,
          0,
          0.3,
          -0.3,
          2,
          -0.4,
          0.2,
          0,
          -0.4,
          -0.4,
          -0.2,
          -0.4,
          -0.1,
          -1.3,
          2.2,
          -0.4,
          0.9,
          0.2,
          0.4,
          0.2,
          -0.3,
          -0.5,
          0.1,
          -1,
          -1.3,
          -0.3,
          0.3,
          -0.1,
          0.2,
          1.4,
          -0.3,
          -0.7,
          0.1,
          -0.7,
          1,
          0.2,
          -0.3,
          -1.5,
          -1.4,
          0.7,
          1.3,
          1.7,
          -0.5,
          -0.6,
          -0.2,
          0.5,
          -1.2,
          -0.4,
          -0.5,
          -0.4,
          -0.3,
          -0.4,
          -0.2,
          -1.4,
          -0.4,
          0.2,
          -0.9,
          -0.4,
          -0.7,
          -0.5,
          -0.4,
          0.2,
          0,
          -0.2,
          -0.5,
          -0.9,
          0.2,
          -0.3,
          -0.2,
          0.3,
          -0.3,
          -0.9,
          0.2,
          -0.2,
          -0.3,
          0.7,
          -0.6,
          1.4,
          -0.4,
          0.4,
          -0.5,
          0.1,
          0.1,
          0.5,
          -0.9,
          2.3,
          -0.4,
          -0.3,
          -0.3,
          0.7,
          -1.4,
          -0.2,
          -0.4,
          -0.8,
          -0.6,
          -0.4,
          0.4,
          -0.4,
          -0.4,
          -0.4,
          -0.4,
          0.4,
          -0.5
         ],
         "y0": " ",
         "yaxis": "y"
        },
        {
         "alignmentgroup": "True",
         "hovertemplate": "CLIMATE.REGION=%{x}<br>ANOMALY.LEVEL=%{y}<extra></extra>",
         "legendgroup": "Central",
         "marker": {
          "color": "#EF553B"
         },
         "name": "Central",
         "notched": false,
         "offsetgroup": "Central",
         "orientation": "v",
         "showlegend": true,
         "type": "box",
         "x": [
          "Central",
          "Central",
          "Central",
          "Central",
          "Central",
          "Central",
          "Central",
          "Central",
          "Central",
          "Central",
          "Central",
          "Central",
          "Central",
          "Central",
          "Central",
          "Central",
          "Central",
          "Central",
          "Central",
          "Central",
          "Central",
          "Central",
          "Central",
          "Central",
          "Central",
          "Central",
          "Central",
          "Central",
          "Central",
          "Central",
          "Central",
          "Central",
          "Central",
          "Central",
          "Central",
          "Central",
          "Central",
          "Central",
          "Central",
          "Central",
          "Central",
          "Central",
          "Central",
          "Central",
          "Central",
          "Central",
          "Central",
          "Central",
          "Central",
          "Central",
          "Central",
          "Central",
          "Central",
          "Central",
          "Central",
          "Central",
          "Central",
          "Central",
          "Central",
          "Central",
          "Central",
          "Central",
          "Central",
          "Central",
          "Central",
          "Central",
          "Central",
          "Central",
          "Central",
          "Central",
          "Central",
          "Central",
          "Central",
          "Central",
          "Central",
          "Central",
          "Central",
          "Central",
          "Central",
          "Central",
          "Central",
          "Central",
          "Central",
          "Central",
          "Central",
          "Central",
          "Central",
          "Central",
          "Central",
          "Central",
          "Central",
          "Central",
          "Central",
          "Central",
          "Central",
          "Central",
          "Central",
          "Central",
          "Central",
          "Central",
          "Central",
          "Central",
          "Central",
          "Central",
          "Central",
          "Central",
          "Central",
          "Central",
          "Central",
          "Central",
          "Central",
          "Central",
          "Central",
          "Central",
          "Central",
          "Central",
          "Central",
          "Central",
          "Central",
          "Central",
          "Central",
          "Central",
          "Central",
          "Central",
          "Central",
          "Central",
          "Central",
          "Central",
          "Central",
          "Central",
          "Central",
          "Central",
          "Central",
          "Central",
          "Central",
          "Central",
          "Central",
          "Central",
          "Central",
          "Central",
          "Central",
          "Central",
          "Central",
          "Central",
          "Central",
          "Central",
          "Central",
          "Central",
          "Central",
          "Central",
          "Central",
          "Central",
          "Central",
          "Central",
          "Central",
          "Central",
          "Central",
          "Central",
          "Central",
          "Central",
          "Central",
          "Central",
          "Central",
          "Central",
          "Central",
          "Central",
          "Central",
          "Central",
          "Central",
          "Central",
          "Central",
          "Central",
          "Central",
          "Central",
          "Central",
          "Central",
          "Central",
          "Central",
          "Central",
          "Central",
          "Central",
          "Central",
          "Central",
          "Central",
          "Central",
          "Central",
          "Central",
          "Central",
          "Central",
          "Central",
          "Central",
          "Central",
          "Central",
          "Central",
          "Central",
          "Central",
          "Central",
          "Central",
          "Central",
          "Central"
         ],
         "x0": " ",
         "xaxis": "x",
         "y": [
          1,
          0.3,
          1,
          -0.5,
          -1.3,
          0.6,
          0.1,
          1.2,
          -0.2,
          -0.5,
          0.5,
          -0.3,
          -0.5,
          0,
          -0.1,
          0,
          -0.5,
          0.8,
          0.5,
          0,
          -0.5,
          -0.3,
          -0.5,
          0.6,
          -0.4,
          -0.5,
          0.4,
          -0.4,
          -0.5,
          -0.5,
          0,
          -0.5,
          1.1,
          -0.7,
          0.6,
          0,
          0.3,
          -0.1,
          0,
          -0.7,
          0.5,
          -0.3,
          2.2,
          -0.7,
          -0.5,
          -0.7,
          -0.7,
          -0.5,
          -0.1,
          -0.3,
          -0.3,
          -0.3,
          -0.9,
          -0.3,
          -0.1,
          0.3,
          0.1,
          -1,
          0.7,
          0.3,
          -0.4,
          -0.2,
          -0.2,
          -0.4,
          -0.7,
          -0.5,
          -0.9,
          0.1,
          -0.4,
          0.3,
          -0.3,
          -0.4,
          -0.3,
          -0.3,
          -0.4,
          -0.7,
          -0.7,
          -0.5,
          -0.4,
          -0.4,
          -0.7,
          -0.4,
          -0.4,
          -0.7,
          -0.6,
          -0.1,
          -1.5,
          0.1,
          -0.3,
          0.7,
          -0.4,
          0.2,
          -0.3,
          0,
          0.4,
          0.6,
          -0.3,
          0.1,
          -0.16633165829145732,
          0.1,
          -0.7,
          -0.2,
          -0.3,
          0.1,
          -0.3,
          -0.5,
          -0.3,
          -0.6,
          0.5,
          -0.4,
          -1.3,
          -0.4,
          1.4,
          0.3,
          -0.5,
          -0.5,
          -0.5,
          0.3,
          -1.5,
          0.1,
          -0.3,
          0.1,
          -1,
          -0.3,
          -0.5,
          -0.3,
          0.2,
          -0.3,
          -0.5,
          -0.6,
          -0.6,
          0.2,
          1,
          -0.3,
          -1.3,
          -0.7,
          -0.7,
          -1.3,
          -0.3,
          -0.7,
          0.2,
          -0.7,
          0.2,
          0.3,
          -0.6,
          2.2,
          -0.3,
          -0.7,
          -0.3,
          -1.4,
          0.1,
          -0.1,
          -0.6,
          0.1,
          -0.6,
          0.7,
          -0.3,
          0.2,
          -0.9,
          0.5,
          -0.3,
          -0.5,
          0.9,
          0.1,
          0.5,
          -0.4,
          -0.3,
          -0.4,
          -0.4,
          -0.8,
          -0.3,
          0.9,
          -0.3,
          -0.6,
          -0.3,
          -0.9,
          -0.3,
          -0.6,
          -0.3,
          1.3,
          -0.5,
          0.3,
          -0.5,
          2.3,
          0.2,
          -0.7,
          -0.7,
          -0.5,
          -0.3,
          2.3,
          -0.6,
          -0.7,
          -0.4,
          -0.4,
          -0.5,
          0.6,
          0.6,
          -0.2,
          -0.4,
          -0.2
         ],
         "y0": " ",
         "yaxis": "y"
        },
        {
         "alignmentgroup": "True",
         "hovertemplate": "CLIMATE.REGION=%{x}<br>ANOMALY.LEVEL=%{y}<extra></extra>",
         "legendgroup": "South",
         "marker": {
          "color": "#00cc96"
         },
         "name": "South",
         "notched": false,
         "offsetgroup": "South",
         "orientation": "v",
         "showlegend": true,
         "type": "box",
         "x": [
          "South",
          "South",
          "South",
          "South",
          "South",
          "South",
          "South",
          "South",
          "South",
          "South",
          "South",
          "South",
          "South",
          "South",
          "South",
          "South",
          "South",
          "South",
          "South",
          "South",
          "South",
          "South",
          "South",
          "South",
          "South",
          "South",
          "South",
          "South",
          "South",
          "South",
          "South",
          "South",
          "South",
          "South",
          "South",
          "South",
          "South",
          "South",
          "South",
          "South",
          "South",
          "South",
          "South",
          "South",
          "South",
          "South",
          "South",
          "South",
          "South",
          "South",
          "South",
          "South",
          "South",
          "South",
          "South",
          "South",
          "South",
          "South",
          "South",
          "South",
          "South",
          "South",
          "South",
          "South",
          "South",
          "South",
          "South",
          "South",
          "South",
          "South",
          "South",
          "South",
          "South",
          "South",
          "South",
          "South",
          "South",
          "South",
          "South",
          "South",
          "South",
          "South",
          "South",
          "South",
          "South",
          "South",
          "South",
          "South",
          "South",
          "South",
          "South",
          "South",
          "South",
          "South",
          "South",
          "South",
          "South",
          "South",
          "South",
          "South",
          "South",
          "South",
          "South",
          "South",
          "South",
          "South",
          "South",
          "South",
          "South",
          "South",
          "South",
          "South",
          "South",
          "South",
          "South",
          "South",
          "South",
          "South",
          "South",
          "South",
          "South",
          "South",
          "South",
          "South",
          "South",
          "South",
          "South",
          "South",
          "South",
          "South",
          "South",
          "South",
          "South",
          "South",
          "South",
          "South",
          "South",
          "South",
          "South",
          "South",
          "South",
          "South",
          "South",
          "South",
          "South",
          "South",
          "South",
          "South",
          "South",
          "South",
          "South",
          "South",
          "South",
          "South",
          "South",
          "South",
          "South",
          "South",
          "South",
          "South",
          "South",
          "South",
          "South",
          "South",
          "South",
          "South",
          "South",
          "South",
          "South",
          "South",
          "South",
          "South",
          "South",
          "South",
          "South",
          "South",
          "South",
          "South",
          "South",
          "South",
          "South",
          "South",
          "South",
          "South",
          "South",
          "South",
          "South",
          "South",
          "South",
          "South",
          "South",
          "South",
          "South",
          "South",
          "South",
          "South",
          "South",
          "South",
          "South",
          "South",
          "South",
          "South",
          "South",
          "South",
          "South",
          "South",
          "South",
          "South",
          "South",
          "South",
          "South",
          "South",
          "South",
          "South",
          "South",
          "South",
          "South",
          "South",
          "South",
          "South",
          "South",
          "South",
          "South",
          "South",
          "South",
          "South",
          "South",
          "South",
          "South"
         ],
         "x0": " ",
         "xaxis": "x",
         "y": [
          1.2,
          -1,
          -1,
          -0.3,
          0.3,
          -0.5,
          -0.5,
          0.6,
          0.7,
          0.8,
          0,
          -0.2,
          -0.4,
          -0.4,
          -0.9,
          1.4,
          -0.9,
          -0.3,
          0.1,
          -0.7,
          1,
          -0.4,
          0.7,
          -0.3,
          -0.2,
          -0.6,
          -0.6,
          -0.2,
          0.6,
          0,
          -0.7,
          0.6,
          0,
          0.1,
          -0.3,
          -0.5,
          2,
          -1,
          0.6,
          -0.2,
          -0.5,
          2,
          -0.9,
          -0.2,
          -0.3,
          -0.7,
          0.5,
          1.1,
          -0.6,
          -0.4,
          -0.3,
          -0.3,
          0.1,
          0.9,
          0.2,
          0.1,
          1.1,
          0.5,
          -0.7,
          0.7,
          -0.3,
          -0.3,
          -0.7,
          1.2,
          0,
          0,
          0.4,
          -1.1,
          -1,
          -0.2,
          -0.1,
          0.018061674008810574,
          -0.3,
          0.1,
          -0.2,
          1.2,
          -0.9,
          0.5,
          -0.5,
          -0.3,
          -0.3,
          -1.4,
          -0.4,
          0.5,
          -0.1,
          -0.1,
          -0.5,
          0.7,
          -1.3,
          0.5,
          -0.4,
          0.5,
          -0.5,
          -0.6,
          0.2,
          -0.4,
          -0.3,
          -0.6,
          0.8,
          0.3,
          -0.3,
          -0.2,
          0.8,
          -0.3,
          -0.1,
          -0.3,
          -0.3,
          -0.5,
          0,
          0.3,
          1.2,
          -0.2,
          -0.4,
          -1.2,
          2.3,
          1.1,
          -0.2,
          0.4,
          -0.8,
          0.2,
          1.4,
          -0.7,
          0.5,
          -0.7,
          0.3,
          -0.4,
          -0.9,
          0,
          -0.4,
          -0.1,
          0.8,
          -0.3,
          0.5,
          0.3,
          -1.2,
          -1.2,
          -0.1,
          0.7,
          -1.2,
          0.6,
          -1.2,
          0,
          -0.4,
          -0.7,
          0.5,
          0.6,
          -0.1,
          -0.1,
          -0.5,
          0.4,
          -0.4,
          -0.3,
          -0.4,
          0.5,
          -0.3,
          -0.3,
          0,
          -0.4,
          0.3,
          0.3,
          -0.7,
          -0.4,
          0.5,
          -0.2,
          -0.2,
          1.1,
          1.3,
          0,
          0.3,
          -0.5,
          0.5,
          -0.7,
          -1,
          -0.7,
          -0.4,
          -0.3,
          0.3,
          -0.3,
          -0.5,
          -0.2,
          -0.5,
          1.2,
          -0.1,
          -0.4,
          -0.6,
          -0.3,
          -0.5,
          1.1,
          -0.3,
          0.1,
          -0.1,
          -0.2,
          -0.2,
          -0.3,
          0.1,
          2.2,
          2.3,
          -0.7,
          -0.2,
          -0.3,
          -0.6,
          1.3,
          -0.6,
          1.2,
          -1.3,
          2.3,
          -0.3,
          0.3,
          2.2,
          -0.6,
          -0.2,
          -0.6,
          -0.2,
          -0.3,
          -0.3,
          0.3,
          2.2,
          2.3,
          -0.7,
          -0.4,
          0.018061674008810574,
          0.6,
          2.3,
          0.7,
          -1.3,
          2.3,
          -0.3,
          1,
          0.7
         ],
         "y0": " ",
         "yaxis": "y"
        },
        {
         "alignmentgroup": "True",
         "hovertemplate": "CLIMATE.REGION=%{x}<br>ANOMALY.LEVEL=%{y}<extra></extra>",
         "legendgroup": "Southeast",
         "marker": {
          "color": "#ab63fa"
         },
         "name": "Southeast",
         "notched": false,
         "offsetgroup": "Southeast",
         "orientation": "v",
         "showlegend": true,
         "type": "box",
         "x": [
          "Southeast",
          "Southeast",
          "Southeast",
          "Southeast",
          "Southeast",
          "Southeast",
          "Southeast",
          "Southeast",
          "Southeast",
          "Southeast",
          "Southeast",
          "Southeast",
          "Southeast",
          "Southeast",
          "Southeast",
          "Southeast",
          "Southeast",
          "Southeast",
          "Southeast",
          "Southeast",
          "Southeast",
          "Southeast",
          "Southeast",
          "Southeast",
          "Southeast",
          "Southeast",
          "Southeast",
          "Southeast",
          "Southeast",
          "Southeast",
          "Southeast",
          "Southeast",
          "Southeast",
          "Southeast",
          "Southeast",
          "Southeast",
          "Southeast",
          "Southeast",
          "Southeast",
          "Southeast",
          "Southeast",
          "Southeast",
          "Southeast",
          "Southeast",
          "Southeast",
          "Southeast",
          "Southeast",
          "Southeast",
          "Southeast",
          "Southeast",
          "Southeast",
          "Southeast",
          "Southeast",
          "Southeast",
          "Southeast",
          "Southeast",
          "Southeast",
          "Southeast",
          "Southeast",
          "Southeast",
          "Southeast",
          "Southeast",
          "Southeast",
          "Southeast",
          "Southeast",
          "Southeast",
          "Southeast",
          "Southeast",
          "Southeast",
          "Southeast",
          "Southeast",
          "Southeast",
          "Southeast",
          "Southeast",
          "Southeast",
          "Southeast",
          "Southeast",
          "Southeast",
          "Southeast",
          "Southeast",
          "Southeast",
          "Southeast",
          "Southeast",
          "Southeast",
          "Southeast",
          "Southeast",
          "Southeast",
          "Southeast",
          "Southeast",
          "Southeast",
          "Southeast",
          "Southeast",
          "Southeast",
          "Southeast",
          "Southeast",
          "Southeast",
          "Southeast",
          "Southeast",
          "Southeast",
          "Southeast",
          "Southeast",
          "Southeast",
          "Southeast",
          "Southeast",
          "Southeast",
          "Southeast",
          "Southeast",
          "Southeast",
          "Southeast",
          "Southeast",
          "Southeast",
          "Southeast",
          "Southeast",
          "Southeast",
          "Southeast",
          "Southeast",
          "Southeast",
          "Southeast",
          "Southeast",
          "Southeast",
          "Southeast",
          "Southeast",
          "Southeast",
          "Southeast",
          "Southeast",
          "Southeast",
          "Southeast",
          "Southeast",
          "Southeast",
          "Southeast",
          "Southeast",
          "Southeast",
          "Southeast",
          "Southeast",
          "Southeast",
          "Southeast",
          "Southeast",
          "Southeast",
          "Southeast",
          "Southeast",
          "Southeast",
          "Southeast",
          "Southeast",
          "Southeast",
          "Southeast",
          "Southeast",
          "Southeast",
          "Southeast",
          "Southeast",
          "Southeast",
          "Southeast",
          "Southeast",
          "Southeast"
         ],
         "x0": " ",
         "xaxis": "x",
         "y": [
          0,
          -0.13533333333333336,
          -0.8,
          -0.5,
          1.2,
          -0.2,
          -0.7,
          0,
          0,
          -0.5,
          -0.4,
          -0.5,
          -0.3,
          0.1,
          -0.5,
          -0.2,
          0.5,
          0.1,
          -0.3,
          -1.3,
          -0.5,
          -0.5,
          -0.6,
          -0.1,
          0.7,
          -0.4,
          0.5,
          0.5,
          -0.2,
          -0.2,
          0.5,
          0.2,
          0.7,
          -0.6,
          -0.4,
          -0.3,
          -0.2,
          -0.3,
          1.3,
          -0.5,
          -0.6,
          -0.13533333333333336,
          -0.3,
          0.2,
          -0.4,
          -0.4,
          0.6,
          -0.3,
          -0.5,
          -0.5,
          -1.6,
          0.3,
          -1.6,
          -0.5,
          -0.3,
          0.3,
          -0.1,
          0,
          -1.3,
          -0.3,
          1.1,
          0.8,
          -0.7,
          -0.2,
          -1.3,
          0.2,
          0.2,
          0.6,
          0.1,
          0.5,
          1.3,
          -0.1,
          0.2,
          -1.3,
          -0.7,
          0.7,
          0,
          -0.3,
          -0.2,
          0.7,
          0.6,
          -0.2,
          -1.3,
          -1.3,
          0.7,
          -0.3,
          0.7,
          -0.5,
          0.7,
          0.7,
          -0.2,
          0.7,
          0.6,
          -0.1,
          0.6,
          0.7,
          -0.7,
          -1.3,
          0.3,
          -0.5,
          -0.3,
          -0.6,
          -0.3,
          -0.2,
          0.5,
          1.2,
          0.3,
          -0.13533333333333336,
          -0.9,
          -0.4,
          -1.3,
          0.3,
          -0.3,
          -0.4,
          -0.4,
          -0.9,
          -0.9,
          -0.1,
          -0.1,
          -0.4,
          0.3,
          -1.2,
          -0.4,
          -0.5,
          -1.3,
          -0.3,
          1.1,
          0.1,
          0.1,
          -0.6,
          0.1,
          -1.4,
          -1,
          -0.6,
          -0.2,
          -0.1,
          0.3,
          0.7,
          0.3,
          0.7,
          -0.4,
          -0.3,
          -0.7,
          0.5,
          0.9,
          -0.7,
          0.6,
          -0.5,
          0.4,
          -0.5,
          0.7,
          -0.3,
          -0.4
         ],
         "y0": " ",
         "yaxis": "y"
        },
        {
         "alignmentgroup": "True",
         "hovertemplate": "CLIMATE.REGION=%{x}<br>ANOMALY.LEVEL=%{y}<extra></extra>",
         "legendgroup": "Northwest",
         "marker": {
          "color": "#FFA15A"
         },
         "name": "Northwest",
         "notched": false,
         "offsetgroup": "Northwest",
         "orientation": "v",
         "showlegend": true,
         "type": "box",
         "x": [
          "Northwest",
          "Northwest",
          "Northwest",
          "Northwest",
          "Northwest",
          "Northwest",
          "Northwest",
          "Northwest",
          "Northwest",
          "Northwest",
          "Northwest",
          "Northwest",
          "Northwest",
          "Northwest",
          "Northwest",
          "Northwest",
          "Northwest",
          "Northwest",
          "Northwest",
          "Northwest",
          "Northwest",
          "Northwest",
          "Northwest",
          "Northwest",
          "Northwest",
          "Northwest",
          "Northwest",
          "Northwest",
          "Northwest",
          "Northwest",
          "Northwest",
          "Northwest",
          "Northwest",
          "Northwest",
          "Northwest",
          "Northwest",
          "Northwest",
          "Northwest",
          "Northwest",
          "Northwest",
          "Northwest",
          "Northwest",
          "Northwest",
          "Northwest",
          "Northwest",
          "Northwest",
          "Northwest",
          "Northwest",
          "Northwest",
          "Northwest",
          "Northwest",
          "Northwest",
          "Northwest",
          "Northwest",
          "Northwest",
          "Northwest",
          "Northwest",
          "Northwest",
          "Northwest",
          "Northwest",
          "Northwest",
          "Northwest",
          "Northwest",
          "Northwest",
          "Northwest",
          "Northwest",
          "Northwest",
          "Northwest",
          "Northwest",
          "Northwest",
          "Northwest",
          "Northwest",
          "Northwest",
          "Northwest",
          "Northwest",
          "Northwest",
          "Northwest",
          "Northwest",
          "Northwest",
          "Northwest",
          "Northwest",
          "Northwest",
          "Northwest",
          "Northwest",
          "Northwest",
          "Northwest",
          "Northwest",
          "Northwest",
          "Northwest",
          "Northwest",
          "Northwest",
          "Northwest",
          "Northwest",
          "Northwest",
          "Northwest",
          "Northwest",
          "Northwest",
          "Northwest",
          "Northwest",
          "Northwest",
          "Northwest",
          "Northwest",
          "Northwest",
          "Northwest",
          "Northwest",
          "Northwest",
          "Northwest",
          "Northwest",
          "Northwest",
          "Northwest",
          "Northwest",
          "Northwest",
          "Northwest",
          "Northwest",
          "Northwest",
          "Northwest",
          "Northwest",
          "Northwest",
          "Northwest",
          "Northwest",
          "Northwest",
          "Northwest",
          "Northwest",
          "Northwest",
          "Northwest",
          "Northwest",
          "Northwest",
          "Northwest",
          "Northwest",
          "Northwest",
          "Northwest",
          "Northwest"
         ],
         "x0": " ",
         "xaxis": "x",
         "y": [
          -0.5,
          -0.9,
          -0.5,
          -1.4,
          -0.5,
          1.4,
          -0.6,
          -0.4,
          -0.4,
          0.8,
          -0.2,
          -0.3,
          0.3,
          0.3,
          0.9,
          -0.8,
          -0.9,
          -0.7,
          -0.4,
          1.2,
          2.3,
          0.7,
          -0.4,
          -0.3,
          -0.8,
          -1,
          -0.9,
          -0.3,
          -0.6,
          0.6,
          -0.5,
          -0.8,
          1.6,
          1.6,
          -0.3,
          -0.6,
          1.6,
          -0.3,
          1.4,
          -0.5,
          -0.1,
          -0.4,
          1.1,
          -0.3,
          -0.2,
          -1.1,
          -1,
          -0.4,
          -0.7,
          2.2,
          -0.3,
          -0.3,
          -1.4,
          -0.5,
          -1,
          -0.3,
          0.3,
          -0.8,
          -0.3,
          -0.3,
          -0.8,
          -0.9,
          1.6,
          2.2,
          1.2,
          0.1,
          0.9,
          -0.4,
          0,
          -0.6,
          0.3,
          -0.3,
          -0.3,
          0.6,
          -0.9,
          -0.7,
          -0.9,
          1,
          -0.8,
          -0.3,
          -0.4,
          0.9,
          -0.6,
          0.9,
          -0.3,
          0.9,
          -0.3,
          -0.7,
          -0.4,
          0.9,
          -0.3,
          0.1,
          -0.6,
          -0.7,
          1.4,
          -0.7,
          -0.2,
          -0.7,
          -0.9,
          0.6,
          -0.2,
          -0.3,
          2,
          0.6,
          -0.7,
          -0.5,
          2,
          0.9,
          -0.6,
          -0.5,
          -0.3,
          -0.5,
          -0.2,
          0.9,
          -0.4,
          -0.3,
          -0.6,
          0.6,
          0.9,
          -0.2,
          2,
          -0.5,
          1.7,
          -0.3,
          -0.9,
          0.3,
          -1.3,
          -0.1,
          -0.3,
          1.6,
          1.6,
          -0.3
         ],
         "y0": " ",
         "yaxis": "y"
        },
        {
         "alignmentgroup": "True",
         "hovertemplate": "CLIMATE.REGION=%{x}<br>ANOMALY.LEVEL=%{y}<extra></extra>",
         "legendgroup": "Southwest",
         "marker": {
          "color": "#19d3f3"
         },
         "name": "Southwest",
         "notched": false,
         "offsetgroup": "Southwest",
         "orientation": "v",
         "showlegend": true,
         "type": "box",
         "x": [
          "Southwest",
          "Southwest",
          "Southwest",
          "Southwest",
          "Southwest",
          "Southwest",
          "Southwest",
          "Southwest",
          "Southwest",
          "Southwest",
          "Southwest",
          "Southwest",
          "Southwest",
          "Southwest",
          "Southwest",
          "Southwest",
          "Southwest",
          "Southwest",
          "Southwest",
          "Southwest",
          "Southwest",
          "Southwest",
          "Southwest",
          "Southwest",
          "Southwest",
          "Southwest",
          "Southwest",
          "Southwest",
          "Southwest",
          "Southwest",
          "Southwest",
          "Southwest",
          "Southwest",
          "Southwest",
          "Southwest",
          "Southwest",
          "Southwest",
          "Southwest",
          "Southwest",
          "Southwest",
          "Southwest",
          "Southwest",
          "Southwest",
          "Southwest",
          "Southwest",
          "Southwest",
          "Southwest",
          "Southwest",
          "Southwest",
          "Southwest",
          "Southwest",
          "Southwest",
          "Southwest",
          "Southwest",
          "Southwest",
          "Southwest",
          "Southwest",
          "Southwest",
          "Southwest",
          "Southwest",
          "Southwest",
          "Southwest",
          "Southwest",
          "Southwest",
          "Southwest",
          "Southwest",
          "Southwest",
          "Southwest",
          "Southwest",
          "Southwest",
          "Southwest",
          "Southwest",
          "Southwest",
          "Southwest",
          "Southwest",
          "Southwest",
          "Southwest",
          "Southwest",
          "Southwest",
          "Southwest",
          "Southwest",
          "Southwest",
          "Southwest",
          "Southwest",
          "Southwest",
          "Southwest",
          "Southwest",
          "Southwest",
          "Southwest",
          "Southwest",
          "Southwest",
          "Southwest"
         ],
         "x0": " ",
         "xaxis": "x",
         "y": [
          -0.3,
          0.5,
          0.5,
          -0.3,
          -0.3,
          0.1,
          -0.3,
          -0.3,
          0.5,
          1.3,
          -0.1,
          -0.5,
          -0.5,
          -0.7,
          0.2,
          0,
          2,
          -0.5,
          -0.3,
          -0.5,
          -0.3,
          -0.7,
          0.5,
          0.5,
          -1,
          -0.4,
          0.3,
          0.1,
          -0.9,
          2,
          -0.1,
          -0.3,
          -0.3,
          -0.3,
          -0.5,
          0.7,
          2.2,
          0.7,
          0.6,
          2,
          -0.3,
          -0.5,
          -0.3,
          -0.5,
          -0.4,
          -0.4,
          -0.3,
          -1.3,
          -0.9,
          -0.5,
          0.1,
          -1,
          0.5,
          1.1,
          -0.4,
          -0.6,
          -0.8,
          -0.4,
          -0.7,
          -0.5,
          -0.9,
          0.5,
          -0.1,
          -0.3,
          2,
          -0.3,
          -0.4,
          0.8,
          -0.3,
          -0.1,
          -0.4,
          -1.1,
          -0.3,
          -0.4,
          -0.4,
          -0.4,
          -0.3,
          -0.2,
          -0.2,
          0.2,
          -0.9,
          0.5,
          -0.3,
          0.5,
          1.6,
          0.3,
          -0.4,
          -0.6,
          -0.1,
          0.3,
          0.7,
          -0.5
         ],
         "y0": " ",
         "yaxis": "y"
        },
        {
         "alignmentgroup": "True",
         "hovertemplate": "CLIMATE.REGION=%{x}<br>ANOMALY.LEVEL=%{y}<extra></extra>",
         "legendgroup": "Northeast",
         "marker": {
          "color": "#FF6692"
         },
         "name": "Northeast",
         "notched": false,
         "offsetgroup": "Northeast",
         "orientation": "v",
         "showlegend": true,
         "type": "box",
         "x": [
          "Northeast",
          "Northeast",
          "Northeast",
          "Northeast",
          "Northeast",
          "Northeast",
          "Northeast",
          "Northeast",
          "Northeast",
          "Northeast",
          "Northeast",
          "Northeast",
          "Northeast",
          "Northeast",
          "Northeast",
          "Northeast",
          "Northeast",
          "Northeast",
          "Northeast",
          "Northeast",
          "Northeast",
          "Northeast",
          "Northeast",
          "Northeast",
          "Northeast",
          "Northeast",
          "Northeast",
          "Northeast",
          "Northeast",
          "Northeast",
          "Northeast",
          "Northeast",
          "Northeast",
          "Northeast",
          "Northeast",
          "Northeast",
          "Northeast",
          "Northeast",
          "Northeast",
          "Northeast",
          "Northeast",
          "Northeast",
          "Northeast",
          "Northeast",
          "Northeast",
          "Northeast",
          "Northeast",
          "Northeast",
          "Northeast",
          "Northeast",
          "Northeast",
          "Northeast",
          "Northeast",
          "Northeast",
          "Northeast",
          "Northeast",
          "Northeast",
          "Northeast",
          "Northeast",
          "Northeast",
          "Northeast",
          "Northeast",
          "Northeast",
          "Northeast",
          "Northeast",
          "Northeast",
          "Northeast",
          "Northeast",
          "Northeast",
          "Northeast",
          "Northeast",
          "Northeast",
          "Northeast",
          "Northeast",
          "Northeast",
          "Northeast",
          "Northeast",
          "Northeast",
          "Northeast",
          "Northeast",
          "Northeast",
          "Northeast",
          "Northeast",
          "Northeast",
          "Northeast",
          "Northeast",
          "Northeast",
          "Northeast",
          "Northeast",
          "Northeast",
          "Northeast",
          "Northeast",
          "Northeast",
          "Northeast",
          "Northeast",
          "Northeast",
          "Northeast",
          "Northeast",
          "Northeast",
          "Northeast",
          "Northeast",
          "Northeast",
          "Northeast",
          "Northeast",
          "Northeast",
          "Northeast",
          "Northeast",
          "Northeast",
          "Northeast",
          "Northeast",
          "Northeast",
          "Northeast",
          "Northeast",
          "Northeast",
          "Northeast",
          "Northeast",
          "Northeast",
          "Northeast",
          "Northeast",
          "Northeast",
          "Northeast",
          "Northeast",
          "Northeast",
          "Northeast",
          "Northeast",
          "Northeast",
          "Northeast",
          "Northeast",
          "Northeast",
          "Northeast",
          "Northeast",
          "Northeast",
          "Northeast",
          "Northeast",
          "Northeast",
          "Northeast",
          "Northeast",
          "Northeast",
          "Northeast",
          "Northeast",
          "Northeast",
          "Northeast",
          "Northeast",
          "Northeast",
          "Northeast",
          "Northeast",
          "Northeast",
          "Northeast",
          "Northeast",
          "Northeast",
          "Northeast",
          "Northeast",
          "Northeast",
          "Northeast",
          "Northeast",
          "Northeast",
          "Northeast",
          "Northeast",
          "Northeast",
          "Northeast",
          "Northeast",
          "Northeast",
          "Northeast",
          "Northeast",
          "Northeast",
          "Northeast",
          "Northeast",
          "Northeast",
          "Northeast",
          "Northeast",
          "Northeast",
          "Northeast",
          "Northeast",
          "Northeast",
          "Northeast",
          "Northeast",
          "Northeast",
          "Northeast",
          "Northeast",
          "Northeast",
          "Northeast",
          "Northeast",
          "Northeast",
          "Northeast",
          "Northeast",
          "Northeast",
          "Northeast",
          "Northeast",
          "Northeast",
          "Northeast",
          "Northeast",
          "Northeast",
          "Northeast",
          "Northeast",
          "Northeast",
          "Northeast",
          "Northeast",
          "Northeast",
          "Northeast",
          "Northeast",
          "Northeast",
          "Northeast",
          "Northeast",
          "Northeast",
          "Northeast",
          "Northeast",
          "Northeast",
          "Northeast",
          "Northeast",
          "Northeast",
          "Northeast",
          "Northeast",
          "Northeast",
          "Northeast",
          "Northeast",
          "Northeast",
          "Northeast",
          "Northeast",
          "Northeast",
          "Northeast",
          "Northeast",
          "Northeast",
          "Northeast",
          "Northeast",
          "Northeast",
          "Northeast",
          "Northeast",
          "Northeast",
          "Northeast",
          "Northeast",
          "Northeast",
          "Northeast",
          "Northeast",
          "Northeast",
          "Northeast",
          "Northeast",
          "Northeast",
          "Northeast",
          "Northeast",
          "Northeast",
          "Northeast",
          "Northeast",
          "Northeast",
          "Northeast",
          "Northeast",
          "Northeast",
          "Northeast",
          "Northeast",
          "Northeast",
          "Northeast",
          "Northeast",
          "Northeast",
          "Northeast",
          "Northeast",
          "Northeast",
          "Northeast",
          "Northeast",
          "Northeast",
          "Northeast",
          "Northeast",
          "Northeast",
          "Northeast",
          "Northeast",
          "Northeast",
          "Northeast",
          "Northeast",
          "Northeast",
          "Northeast",
          "Northeast",
          "Northeast",
          "Northeast",
          "Northeast",
          "Northeast",
          "Northeast",
          "Northeast",
          "Northeast",
          "Northeast",
          "Northeast",
          "Northeast",
          "Northeast",
          "Northeast",
          "Northeast",
          "Northeast",
          "Northeast",
          "Northeast",
          "Northeast",
          "Northeast",
          "Northeast",
          "Northeast",
          "Northeast",
          "Northeast",
          "Northeast",
          "Northeast",
          "Northeast",
          "Northeast",
          "Northeast",
          "Northeast",
          "Northeast",
          "Northeast",
          "Northeast",
          "Northeast",
          "Northeast",
          "Northeast",
          "Northeast",
          "Northeast",
          "Northeast",
          "Northeast",
          "Northeast",
          "Northeast",
          "Northeast",
          "Northeast",
          "Northeast",
          "Northeast",
          "Northeast",
          "Northeast",
          "Northeast",
          "Northeast",
          "Northeast",
          "Northeast",
          "Northeast",
          "Northeast",
          "Northeast",
          "Northeast",
          "Northeast",
          "Northeast",
          "Northeast",
          "Northeast",
          "Northeast",
          "Northeast",
          "Northeast",
          "Northeast",
          "Northeast",
          "Northeast",
          "Northeast",
          "Northeast",
          "Northeast",
          "Northeast",
          "Northeast",
          "Northeast",
          "Northeast",
          "Northeast",
          "Northeast",
          "Northeast",
          "Northeast",
          "Northeast",
          "Northeast",
          "Northeast",
          "Northeast",
          "Northeast",
          "Northeast"
         ],
         "x0": " ",
         "xaxis": "x",
         "y": [
          -0.1,
          0.3,
          -0.6,
          -0.5,
          0.7,
          -0.6,
          0,
          -0.4,
          0.3,
          -1,
          0.3,
          -0.5,
          -0.9,
          -0.4,
          -0.6,
          0.3,
          -0.3,
          0.3,
          -1,
          0.1,
          -0.4,
          -0.5,
          0,
          0.3,
          -0.9,
          0.3,
          0.2,
          -1.3,
          -0.2,
          0,
          -0.1,
          -0.4,
          -0.3,
          -0.4,
          0.3,
          -0.4,
          -0.5,
          0.3,
          0.3,
          0.2,
          -0.1,
          -0.2,
          0.3,
          -0.5,
          1.1,
          0.4,
          -0.1,
          -0.7,
          0.3,
          0.3,
          0.2,
          0.4,
          -0.9,
          -0.6,
          -0.1,
          0.7,
          0,
          -0.4,
          0.1,
          -0.9,
          0.5,
          -0.4,
          -0.2,
          1.2,
          -0.9,
          -0.5,
          0.3,
          0.5,
          0,
          -1.4,
          0.1,
          0.2,
          -0.6,
          -0.7,
          2.2,
          -1.4,
          0.7,
          0.1,
          -0.9,
          0,
          1,
          -0.5,
          -1,
          0.3,
          -0.3,
          -1,
          -0.3,
          -0.3,
          0.9,
          -0.6,
          -0.5,
          -0.3,
          -0.3,
          -0.6,
          0.1,
          -0.6,
          0.1,
          -0.5,
          -0.5,
          -0.9,
          -0.4,
          -0.5,
          -1.1,
          -0.5,
          -0.9,
          1.1,
          -0.6,
          0.1,
          1.1,
          -0.9,
          -0.9,
          0.3,
          2,
          -0.4,
          1.2,
          0.1,
          1,
          0.5,
          -0.6,
          -0.5,
          -0.9,
          -0.7,
          -0.9,
          0.1,
          1,
          -0.5,
          -0.7,
          -0.8,
          -0.6,
          1,
          2.2,
          -0.8,
          -0.6,
          -0.5,
          -1,
          -0.5,
          0.3,
          -0.9,
          -0.8,
          -0.4,
          -0.1,
          -0.5,
          0.3,
          0.9,
          -0.3,
          -0.6,
          1.2,
          0.3,
          -0.9,
          0.9,
          1.2,
          -0.6,
          -1.2,
          0.2,
          -1.3,
          -0.4,
          -0.5,
          -0.2,
          -0.1,
          -1.2,
          -0.9,
          -0.7,
          -0.2,
          0.1,
          -0.5,
          -0.8,
          -0.1,
          -1.3,
          -0.4,
          -0.2,
          -1,
          -0.2,
          0.3,
          -0.3,
          2,
          0.1,
          -0.4,
          -0.8,
          -0.8,
          -0.3,
          -0.17621776504297976,
          -0.4,
          -0.4,
          -0.2,
          0.1,
          -0.3,
          0.3,
          0.1,
          0.1,
          -0.2,
          -0.2,
          -0.2,
          -0.4,
          -0.3,
          2.2,
          1,
          -0.2,
          -0.3,
          -0.5,
          -1.3,
          -0.7,
          0,
          0.3,
          0.3,
          -0.6,
          -0.7,
          -0.1,
          -0.6,
          -0.9,
          -0.4,
          -0.3,
          -0.4,
          0.6,
          -0.4,
          0.6,
          0.3,
          0.1,
          -1.2,
          -0.7,
          -0.2,
          2.2,
          -0.2,
          -0.5,
          -0.3,
          0.9,
          -0.7,
          -0.4,
          -1.4,
          -1.3,
          -0.7,
          -0.5,
          -0.4,
          0.2,
          -1.3,
          -0.6,
          -0.3,
          -0.9,
          2,
          -0.3,
          -0.6,
          0.9,
          -0.3,
          1.2,
          -0.4,
          -0.6,
          1.2,
          0.6,
          0.2,
          -0.4,
          0.3,
          0.3,
          -0.6,
          0.2,
          -0.6,
          1.2,
          -0.3,
          1.7,
          -0.5,
          -0.8,
          0.7,
          -0.6,
          -1.4,
          0.7,
          0.3,
          -0.1,
          -0.3,
          -0.7,
          -0.9,
          0.3,
          0.1,
          -0.3,
          -0.5,
          -0.2,
          0.3,
          0.1,
          -0.4,
          -0.5,
          -0.3,
          -0.3,
          -0.3,
          -0.4,
          -0.4,
          -0.3,
          -0.6,
          0.4,
          -0.2,
          -0.3,
          -0.7,
          -0.4,
          -0.3,
          -0.8,
          -0.2,
          -0.9,
          -0.8,
          0.9,
          1.2,
          0.1,
          -0.7,
          -0.4,
          -1.3,
          -0.1,
          -0.6,
          -1.3,
          -0.4,
          -0.4,
          -0.4,
          -0.4,
          0.3,
          0.3,
          0.6,
          1.6,
          -0.3,
          -0.3,
          0.3,
          -0.3,
          -0.4,
          0.1,
          -1.3,
          -0.3,
          -0.6,
          -0.1,
          -0.3,
          2.3,
          -0.3,
          -0.6,
          -0.7,
          -0.7,
          -1.3,
          -1.4,
          -1.1,
          -0.3,
          -0.2,
          0.5,
          -0.4,
          0.3,
          -0.1,
          0.3,
          0.1,
          -0.5,
          -0.3,
          -0.7,
          0.3,
          -0.4,
          -0.4,
          -0.2,
          -0.1,
          -0.4,
          -0.7,
          -1,
          0.1
         ],
         "y0": " ",
         "yaxis": "y"
        },
        {
         "alignmentgroup": "True",
         "hovertemplate": "CLIMATE.REGION=%{x}<br>ANOMALY.LEVEL=%{y}<extra></extra>",
         "legendgroup": "West North Central",
         "marker": {
          "color": "#B6E880"
         },
         "name": "West North Central",
         "notched": false,
         "offsetgroup": "West North Central",
         "orientation": "v",
         "showlegend": true,
         "type": "box",
         "x": [
          "West North Central",
          "West North Central",
          "West North Central",
          "West North Central",
          "West North Central",
          "West North Central",
          "West North Central",
          "West North Central",
          "West North Central",
          "West North Central",
          "West North Central",
          "West North Central",
          "West North Central",
          "West North Central",
          "West North Central",
          "West North Central",
          "West North Central"
         ],
         "x0": " ",
         "xaxis": "x",
         "y": [
          -0.4,
          -0.2,
          -0.4,
          -1.2,
          -0.5,
          0.3,
          0.9,
          0.9,
          -1,
          -0.4,
          -0.3,
          -0.2,
          -1.4,
          -0.9,
          -0.23750000000000004,
          0.5,
          0.5
         ],
         "y0": " ",
         "yaxis": "y"
        },
        {
         "alignmentgroup": "True",
         "hovertemplate": "CLIMATE.REGION=%{x}<br>ANOMALY.LEVEL=%{y}<extra></extra>",
         "legendgroup": "West",
         "marker": {
          "color": "#FF97FF"
         },
         "name": "West",
         "notched": false,
         "offsetgroup": "West",
         "orientation": "v",
         "showlegend": true,
         "type": "box",
         "x": [
          "West",
          "West",
          "West",
          "West",
          "West",
          "West",
          "West",
          "West",
          "West",
          "West",
          "West",
          "West",
          "West",
          "West",
          "West",
          "West",
          "West",
          "West",
          "West",
          "West",
          "West",
          "West",
          "West",
          "West",
          "West",
          "West",
          "West",
          "West",
          "West",
          "West",
          "West",
          "West",
          "West",
          "West",
          "West",
          "West",
          "West",
          "West",
          "West",
          "West",
          "West",
          "West",
          "West",
          "West",
          "West",
          "West",
          "West",
          "West",
          "West",
          "West",
          "West",
          "West",
          "West",
          "West",
          "West",
          "West",
          "West",
          "West",
          "West",
          "West",
          "West",
          "West",
          "West",
          "West",
          "West",
          "West",
          "West",
          "West",
          "West",
          "West",
          "West",
          "West",
          "West",
          "West",
          "West",
          "West",
          "West",
          "West",
          "West",
          "West",
          "West",
          "West",
          "West",
          "West",
          "West",
          "West",
          "West",
          "West",
          "West",
          "West",
          "West",
          "West",
          "West",
          "West",
          "West",
          "West",
          "West",
          "West",
          "West",
          "West",
          "West",
          "West",
          "West",
          "West",
          "West",
          "West",
          "West",
          "West",
          "West",
          "West",
          "West",
          "West",
          "West",
          "West",
          "West",
          "West",
          "West",
          "West",
          "West",
          "West",
          "West",
          "West",
          "West",
          "West",
          "West",
          "West",
          "West",
          "West",
          "West",
          "West",
          "West",
          "West",
          "West",
          "West",
          "West",
          "West",
          "West",
          "West",
          "West",
          "West",
          "West",
          "West",
          "West",
          "West",
          "West",
          "West",
          "West",
          "West",
          "West",
          "West",
          "West",
          "West",
          "West",
          "West",
          "West",
          "West",
          "West",
          "West",
          "West",
          "West",
          "West",
          "West",
          "West",
          "West",
          "West",
          "West",
          "West",
          "West",
          "West",
          "West",
          "West",
          "West",
          "West",
          "West",
          "West",
          "West",
          "West",
          "West",
          "West",
          "West",
          "West",
          "West",
          "West",
          "West",
          "West",
          "West",
          "West",
          "West",
          "West",
          "West",
          "West",
          "West",
          "West",
          "West",
          "West",
          "West",
          "West",
          "West",
          "West",
          "West",
          "West",
          "West",
          "West",
          "West",
          "West",
          "West",
          "West",
          "West",
          "West",
          "West",
          "West",
          "West",
          "West",
          "West",
          "West",
          "West",
          "West"
         ],
         "x0": " ",
         "xaxis": "x",
         "y": [
          -0.9,
          -0.7,
          0,
          2,
          -0.5,
          -0.2,
          -1.4,
          0.1,
          0,
          -0.3,
          0,
          -0.1,
          -0.2,
          -0.4,
          0.5,
          -0.4,
          -0.7,
          -1.4,
          -0.3,
          1.7,
          -1,
          1.2,
          -1.4,
          -0.3,
          -0.6,
          -1,
          1.1,
          1,
          -1.4,
          0.9,
          -0.3,
          0.9,
          -0.2,
          0.2,
          -1.3,
          0.9,
          -0.4,
          -1.3,
          0.7,
          -0.5,
          1.3,
          0.7,
          1,
          -0.5,
          1,
          1,
          0.7,
          -0.2,
          -0.3,
          -0.3,
          0.9,
          -0.3,
          -0.4,
          0,
          -0.6,
          0.7,
          1.3,
          -0.3,
          -0.4,
          0.8,
          0.6,
          -0.3,
          1.1,
          -0.2,
          2,
          -0.6,
          -0.9,
          0.1,
          1.2,
          -1,
          -0.2,
          -1,
          2.3,
          0,
          0.3,
          -0.1,
          -0.4,
          -0.1,
          -0.2,
          -0.6,
          1,
          -0.1,
          1.2,
          -0.7,
          -1.4,
          -0.7,
          1.2,
          -0.2,
          -1.5,
          0.3,
          -0.4,
          -1.4,
          -0.3,
          -1.4,
          0.9,
          0.5,
          1.3,
          0,
          0.7,
          0.7,
          1.3,
          -0.4,
          -0.7,
          0.3,
          0.3,
          -0.1,
          0.3,
          0.9,
          1.2,
          -0.2,
          -1.3,
          2.3,
          0.6,
          -0.5,
          -0.1,
          1.3,
          -0.4,
          0.9,
          -0.9,
          -0.4,
          0.5,
          0.4,
          -1.2,
          -0.7,
          -0.1,
          -0.6,
          -0.7,
          0.1,
          -0.1,
          0.1,
          1.1,
          -0.2,
          1.6,
          2,
          0.1,
          1.2,
          0.3,
          0,
          -0.7,
          0.6,
          -0.1,
          -0.3,
          -1.4,
          -0.4,
          -1.4,
          -0.3,
          -0.4,
          -1,
          -1.5,
          0.5,
          1,
          -0.3,
          -0.3,
          -0.2,
          -0.4,
          -0.7,
          -1.4,
          1.2,
          -0.7,
          -1.5,
          -0.2,
          -0.1,
          0.2,
          -1.1,
          -0.9,
          2,
          0.3,
          -0.2,
          -0.9,
          -0.2,
          -1.1,
          -1.1,
          0.3,
          -0.7,
          -0.4,
          -1.1,
          -0.7,
          -0.1,
          -0.1,
          0.3,
          -0.5,
          -0.7,
          1.1,
          0.4,
          -0.1,
          -1.1,
          2.3,
          0.8,
          -1.4,
          -0.3,
          -0.4,
          0.5,
          0.7,
          1.3,
          -0.9,
          -0.6,
          -0.4,
          -1.3,
          -0.5,
          0.5,
          -1.4,
          0.3,
          0.5,
          -0.3,
          -0.4,
          0.4,
          -0.3,
          0.3,
          -0.6,
          -0.2,
          -1.3,
          -0.2,
          2.3,
          -0.4,
          0.3,
          1.6,
          -0.7
         ],
         "y0": " ",
         "yaxis": "y"
        },
        {
         "alignmentgroup": "True",
         "hovertemplate": "CLIMATE.REGION=%{x}<br>ANOMALY.LEVEL=%{y}<extra></extra>",
         "legendgroup": "Hawaii",
         "marker": {
          "color": "#FECB52"
         },
         "name": "Hawaii",
         "notched": false,
         "offsetgroup": "Hawaii",
         "orientation": "v",
         "showlegend": true,
         "type": "box",
         "x": [
          "Hawaii",
          "Hawaii",
          "Hawaii",
          "Hawaii",
          "Hawaii"
         ],
         "x0": " ",
         "xaxis": "x",
         "y": [
          -0.7,
          -0.4,
          0.7,
          0,
          0.7
         ],
         "y0": " ",
         "yaxis": "y"
        },
        {
         "alignmentgroup": "True",
         "hovertemplate": "CLIMATE.REGION=%{x}<br>ANOMALY.LEVEL=%{y}<extra></extra>",
         "legendgroup": "Alaska",
         "marker": {
          "color": "#636efa"
         },
         "name": "Alaska",
         "notched": false,
         "offsetgroup": "Alaska",
         "orientation": "v",
         "showlegend": true,
         "type": "box",
         "x": [
          "Alaska"
         ],
         "x0": " ",
         "xaxis": "x",
         "y": [
          null
         ],
         "y0": " ",
         "yaxis": "y"
        }
       ],
       "layout": {
        "boxmode": "overlay",
        "legend": {
         "title": {
          "text": "CLIMATE.REGION"
         },
         "tracegroupgap": 0
        },
        "template": {
         "data": {
          "bar": [
           {
            "error_x": {
             "color": "#2a3f5f"
            },
            "error_y": {
             "color": "#2a3f5f"
            },
            "marker": {
             "line": {
              "color": "#E5ECF6",
              "width": 0.5
             },
             "pattern": {
              "fillmode": "overlay",
              "size": 10,
              "solidity": 0.2
             }
            },
            "type": "bar"
           }
          ],
          "barpolar": [
           {
            "marker": {
             "line": {
              "color": "#E5ECF6",
              "width": 0.5
             },
             "pattern": {
              "fillmode": "overlay",
              "size": 10,
              "solidity": 0.2
             }
            },
            "type": "barpolar"
           }
          ],
          "carpet": [
           {
            "aaxis": {
             "endlinecolor": "#2a3f5f",
             "gridcolor": "white",
             "linecolor": "white",
             "minorgridcolor": "white",
             "startlinecolor": "#2a3f5f"
            },
            "baxis": {
             "endlinecolor": "#2a3f5f",
             "gridcolor": "white",
             "linecolor": "white",
             "minorgridcolor": "white",
             "startlinecolor": "#2a3f5f"
            },
            "type": "carpet"
           }
          ],
          "choropleth": [
           {
            "colorbar": {
             "outlinewidth": 0,
             "ticks": ""
            },
            "type": "choropleth"
           }
          ],
          "contour": [
           {
            "colorbar": {
             "outlinewidth": 0,
             "ticks": ""
            },
            "colorscale": [
             [
              0,
              "#0d0887"
             ],
             [
              0.1111111111111111,
              "#46039f"
             ],
             [
              0.2222222222222222,
              "#7201a8"
             ],
             [
              0.3333333333333333,
              "#9c179e"
             ],
             [
              0.4444444444444444,
              "#bd3786"
             ],
             [
              0.5555555555555556,
              "#d8576b"
             ],
             [
              0.6666666666666666,
              "#ed7953"
             ],
             [
              0.7777777777777778,
              "#fb9f3a"
             ],
             [
              0.8888888888888888,
              "#fdca26"
             ],
             [
              1,
              "#f0f921"
             ]
            ],
            "type": "contour"
           }
          ],
          "contourcarpet": [
           {
            "colorbar": {
             "outlinewidth": 0,
             "ticks": ""
            },
            "type": "contourcarpet"
           }
          ],
          "heatmap": [
           {
            "colorbar": {
             "outlinewidth": 0,
             "ticks": ""
            },
            "colorscale": [
             [
              0,
              "#0d0887"
             ],
             [
              0.1111111111111111,
              "#46039f"
             ],
             [
              0.2222222222222222,
              "#7201a8"
             ],
             [
              0.3333333333333333,
              "#9c179e"
             ],
             [
              0.4444444444444444,
              "#bd3786"
             ],
             [
              0.5555555555555556,
              "#d8576b"
             ],
             [
              0.6666666666666666,
              "#ed7953"
             ],
             [
              0.7777777777777778,
              "#fb9f3a"
             ],
             [
              0.8888888888888888,
              "#fdca26"
             ],
             [
              1,
              "#f0f921"
             ]
            ],
            "type": "heatmap"
           }
          ],
          "heatmapgl": [
           {
            "colorbar": {
             "outlinewidth": 0,
             "ticks": ""
            },
            "colorscale": [
             [
              0,
              "#0d0887"
             ],
             [
              0.1111111111111111,
              "#46039f"
             ],
             [
              0.2222222222222222,
              "#7201a8"
             ],
             [
              0.3333333333333333,
              "#9c179e"
             ],
             [
              0.4444444444444444,
              "#bd3786"
             ],
             [
              0.5555555555555556,
              "#d8576b"
             ],
             [
              0.6666666666666666,
              "#ed7953"
             ],
             [
              0.7777777777777778,
              "#fb9f3a"
             ],
             [
              0.8888888888888888,
              "#fdca26"
             ],
             [
              1,
              "#f0f921"
             ]
            ],
            "type": "heatmapgl"
           }
          ],
          "histogram": [
           {
            "marker": {
             "pattern": {
              "fillmode": "overlay",
              "size": 10,
              "solidity": 0.2
             }
            },
            "type": "histogram"
           }
          ],
          "histogram2d": [
           {
            "colorbar": {
             "outlinewidth": 0,
             "ticks": ""
            },
            "colorscale": [
             [
              0,
              "#0d0887"
             ],
             [
              0.1111111111111111,
              "#46039f"
             ],
             [
              0.2222222222222222,
              "#7201a8"
             ],
             [
              0.3333333333333333,
              "#9c179e"
             ],
             [
              0.4444444444444444,
              "#bd3786"
             ],
             [
              0.5555555555555556,
              "#d8576b"
             ],
             [
              0.6666666666666666,
              "#ed7953"
             ],
             [
              0.7777777777777778,
              "#fb9f3a"
             ],
             [
              0.8888888888888888,
              "#fdca26"
             ],
             [
              1,
              "#f0f921"
             ]
            ],
            "type": "histogram2d"
           }
          ],
          "histogram2dcontour": [
           {
            "colorbar": {
             "outlinewidth": 0,
             "ticks": ""
            },
            "colorscale": [
             [
              0,
              "#0d0887"
             ],
             [
              0.1111111111111111,
              "#46039f"
             ],
             [
              0.2222222222222222,
              "#7201a8"
             ],
             [
              0.3333333333333333,
              "#9c179e"
             ],
             [
              0.4444444444444444,
              "#bd3786"
             ],
             [
              0.5555555555555556,
              "#d8576b"
             ],
             [
              0.6666666666666666,
              "#ed7953"
             ],
             [
              0.7777777777777778,
              "#fb9f3a"
             ],
             [
              0.8888888888888888,
              "#fdca26"
             ],
             [
              1,
              "#f0f921"
             ]
            ],
            "type": "histogram2dcontour"
           }
          ],
          "mesh3d": [
           {
            "colorbar": {
             "outlinewidth": 0,
             "ticks": ""
            },
            "type": "mesh3d"
           }
          ],
          "parcoords": [
           {
            "line": {
             "colorbar": {
              "outlinewidth": 0,
              "ticks": ""
             }
            },
            "type": "parcoords"
           }
          ],
          "pie": [
           {
            "automargin": true,
            "type": "pie"
           }
          ],
          "scatter": [
           {
            "fillpattern": {
             "fillmode": "overlay",
             "size": 10,
             "solidity": 0.2
            },
            "type": "scatter"
           }
          ],
          "scatter3d": [
           {
            "line": {
             "colorbar": {
              "outlinewidth": 0,
              "ticks": ""
             }
            },
            "marker": {
             "colorbar": {
              "outlinewidth": 0,
              "ticks": ""
             }
            },
            "type": "scatter3d"
           }
          ],
          "scattercarpet": [
           {
            "marker": {
             "colorbar": {
              "outlinewidth": 0,
              "ticks": ""
             }
            },
            "type": "scattercarpet"
           }
          ],
          "scattergeo": [
           {
            "marker": {
             "colorbar": {
              "outlinewidth": 0,
              "ticks": ""
             }
            },
            "type": "scattergeo"
           }
          ],
          "scattergl": [
           {
            "marker": {
             "colorbar": {
              "outlinewidth": 0,
              "ticks": ""
             }
            },
            "type": "scattergl"
           }
          ],
          "scattermapbox": [
           {
            "marker": {
             "colorbar": {
              "outlinewidth": 0,
              "ticks": ""
             }
            },
            "type": "scattermapbox"
           }
          ],
          "scatterpolar": [
           {
            "marker": {
             "colorbar": {
              "outlinewidth": 0,
              "ticks": ""
             }
            },
            "type": "scatterpolar"
           }
          ],
          "scatterpolargl": [
           {
            "marker": {
             "colorbar": {
              "outlinewidth": 0,
              "ticks": ""
             }
            },
            "type": "scatterpolargl"
           }
          ],
          "scatterternary": [
           {
            "marker": {
             "colorbar": {
              "outlinewidth": 0,
              "ticks": ""
             }
            },
            "type": "scatterternary"
           }
          ],
          "surface": [
           {
            "colorbar": {
             "outlinewidth": 0,
             "ticks": ""
            },
            "colorscale": [
             [
              0,
              "#0d0887"
             ],
             [
              0.1111111111111111,
              "#46039f"
             ],
             [
              0.2222222222222222,
              "#7201a8"
             ],
             [
              0.3333333333333333,
              "#9c179e"
             ],
             [
              0.4444444444444444,
              "#bd3786"
             ],
             [
              0.5555555555555556,
              "#d8576b"
             ],
             [
              0.6666666666666666,
              "#ed7953"
             ],
             [
              0.7777777777777778,
              "#fb9f3a"
             ],
             [
              0.8888888888888888,
              "#fdca26"
             ],
             [
              1,
              "#f0f921"
             ]
            ],
            "type": "surface"
           }
          ],
          "table": [
           {
            "cells": {
             "fill": {
              "color": "#EBF0F8"
             },
             "line": {
              "color": "white"
             }
            },
            "header": {
             "fill": {
              "color": "#C8D4E3"
             },
             "line": {
              "color": "white"
             }
            },
            "type": "table"
           }
          ]
         },
         "layout": {
          "annotationdefaults": {
           "arrowcolor": "#2a3f5f",
           "arrowhead": 0,
           "arrowwidth": 1
          },
          "autotypenumbers": "strict",
          "coloraxis": {
           "colorbar": {
            "outlinewidth": 0,
            "ticks": ""
           }
          },
          "colorscale": {
           "diverging": [
            [
             0,
             "#8e0152"
            ],
            [
             0.1,
             "#c51b7d"
            ],
            [
             0.2,
             "#de77ae"
            ],
            [
             0.3,
             "#f1b6da"
            ],
            [
             0.4,
             "#fde0ef"
            ],
            [
             0.5,
             "#f7f7f7"
            ],
            [
             0.6,
             "#e6f5d0"
            ],
            [
             0.7,
             "#b8e186"
            ],
            [
             0.8,
             "#7fbc41"
            ],
            [
             0.9,
             "#4d9221"
            ],
            [
             1,
             "#276419"
            ]
           ],
           "sequential": [
            [
             0,
             "#0d0887"
            ],
            [
             0.1111111111111111,
             "#46039f"
            ],
            [
             0.2222222222222222,
             "#7201a8"
            ],
            [
             0.3333333333333333,
             "#9c179e"
            ],
            [
             0.4444444444444444,
             "#bd3786"
            ],
            [
             0.5555555555555556,
             "#d8576b"
            ],
            [
             0.6666666666666666,
             "#ed7953"
            ],
            [
             0.7777777777777778,
             "#fb9f3a"
            ],
            [
             0.8888888888888888,
             "#fdca26"
            ],
            [
             1,
             "#f0f921"
            ]
           ],
           "sequentialminus": [
            [
             0,
             "#0d0887"
            ],
            [
             0.1111111111111111,
             "#46039f"
            ],
            [
             0.2222222222222222,
             "#7201a8"
            ],
            [
             0.3333333333333333,
             "#9c179e"
            ],
            [
             0.4444444444444444,
             "#bd3786"
            ],
            [
             0.5555555555555556,
             "#d8576b"
            ],
            [
             0.6666666666666666,
             "#ed7953"
            ],
            [
             0.7777777777777778,
             "#fb9f3a"
            ],
            [
             0.8888888888888888,
             "#fdca26"
            ],
            [
             1,
             "#f0f921"
            ]
           ]
          },
          "colorway": [
           "#636efa",
           "#EF553B",
           "#00cc96",
           "#ab63fa",
           "#FFA15A",
           "#19d3f3",
           "#FF6692",
           "#B6E880",
           "#FF97FF",
           "#FECB52"
          ],
          "font": {
           "color": "#2a3f5f"
          },
          "geo": {
           "bgcolor": "white",
           "lakecolor": "white",
           "landcolor": "#E5ECF6",
           "showlakes": true,
           "showland": true,
           "subunitcolor": "white"
          },
          "hoverlabel": {
           "align": "left"
          },
          "hovermode": "closest",
          "mapbox": {
           "style": "light"
          },
          "paper_bgcolor": "white",
          "plot_bgcolor": "#E5ECF6",
          "polar": {
           "angularaxis": {
            "gridcolor": "white",
            "linecolor": "white",
            "ticks": ""
           },
           "bgcolor": "#E5ECF6",
           "radialaxis": {
            "gridcolor": "white",
            "linecolor": "white",
            "ticks": ""
           }
          },
          "scene": {
           "xaxis": {
            "backgroundcolor": "#E5ECF6",
            "gridcolor": "white",
            "gridwidth": 2,
            "linecolor": "white",
            "showbackground": true,
            "ticks": "",
            "zerolinecolor": "white"
           },
           "yaxis": {
            "backgroundcolor": "#E5ECF6",
            "gridcolor": "white",
            "gridwidth": 2,
            "linecolor": "white",
            "showbackground": true,
            "ticks": "",
            "zerolinecolor": "white"
           },
           "zaxis": {
            "backgroundcolor": "#E5ECF6",
            "gridcolor": "white",
            "gridwidth": 2,
            "linecolor": "white",
            "showbackground": true,
            "ticks": "",
            "zerolinecolor": "white"
           }
          },
          "shapedefaults": {
           "line": {
            "color": "#2a3f5f"
           }
          },
          "ternary": {
           "aaxis": {
            "gridcolor": "white",
            "linecolor": "white",
            "ticks": ""
           },
           "baxis": {
            "gridcolor": "white",
            "linecolor": "white",
            "ticks": ""
           },
           "bgcolor": "#E5ECF6",
           "caxis": {
            "gridcolor": "white",
            "linecolor": "white",
            "ticks": ""
           }
          },
          "title": {
           "x": 0.05
          },
          "xaxis": {
           "automargin": true,
           "gridcolor": "white",
           "linecolor": "white",
           "ticks": "",
           "title": {
            "standoff": 15
           },
           "zerolinecolor": "white",
           "zerolinewidth": 2
          },
          "yaxis": {
           "automargin": true,
           "gridcolor": "white",
           "linecolor": "white",
           "ticks": "",
           "title": {
            "standoff": 15
           },
           "zerolinecolor": "white",
           "zerolinewidth": 2
          }
         }
        },
        "title": {
         "text": "Box Plot of Monthly Values"
        },
        "xaxis": {
         "anchor": "y",
         "categoryarray": [
          "East North Central",
          "Central",
          "South",
          "Southeast",
          "Northwest",
          "Southwest",
          "Northeast",
          "West North Central",
          "West",
          "Hawaii",
          "Alaska"
         ],
         "categoryorder": "array",
         "domain": [
          0,
          1
         ],
         "title": {
          "text": "CLIMATE.REGION"
         }
        },
        "yaxis": {
         "anchor": "x",
         "domain": [
          0,
          1
         ],
         "title": {
          "text": "ANOMALY.LEVEL"
         }
        }
       }
      }
     },
     "metadata": {},
     "output_type": "display_data"
    }
   ],
   "source": [
    "fig3 = px.box(df, x='CLIMATE.REGION', \n",
    "              y='ANOMALY.LEVEL', \n",
    "              title='Box Plot of Monthly Values',\n",
    "             color = 'CLIMATE.REGION')\n",
    "fig3.show()"
   ]
  },
  {
   "cell_type": "code",
   "execution_count": 27,
   "metadata": {
    "scrolled": true
   },
   "outputs": [
    {
     "data": {
      "text/html": [
       "<div>\n",
       "<style scoped>\n",
       "    .dataframe tbody tr th:only-of-type {\n",
       "        vertical-align: middle;\n",
       "    }\n",
       "\n",
       "    .dataframe tbody tr th {\n",
       "        vertical-align: top;\n",
       "    }\n",
       "\n",
       "    .dataframe thead th {\n",
       "        text-align: right;\n",
       "    }\n",
       "</style>\n",
       "<table border=\"1\" class=\"dataframe\">\n",
       "  <thead>\n",
       "    <tr style=\"text-align: right;\">\n",
       "      <th>MONTH</th>\n",
       "      <th>1.0</th>\n",
       "      <th>2.0</th>\n",
       "      <th>3.0</th>\n",
       "      <th>4.0</th>\n",
       "      <th>5.0</th>\n",
       "      <th>6.0</th>\n",
       "      <th>7.0</th>\n",
       "      <th>8.0</th>\n",
       "      <th>9.0</th>\n",
       "      <th>10.0</th>\n",
       "      <th>11.0</th>\n",
       "      <th>12.0</th>\n",
       "    </tr>\n",
       "    <tr>\n",
       "      <th>CAUSE.CATEGORY</th>\n",
       "      <th></th>\n",
       "      <th></th>\n",
       "      <th></th>\n",
       "      <th></th>\n",
       "      <th></th>\n",
       "      <th></th>\n",
       "      <th></th>\n",
       "      <th></th>\n",
       "      <th></th>\n",
       "      <th></th>\n",
       "      <th></th>\n",
       "      <th></th>\n",
       "    </tr>\n",
       "  </thead>\n",
       "  <tbody>\n",
       "    <tr>\n",
       "      <th>equipment failure</th>\n",
       "      <td>15500.00</td>\n",
       "      <td>318192.000000</td>\n",
       "      <td>116000.000000</td>\n",
       "      <td>57610.000000</td>\n",
       "      <td>21800.000000</td>\n",
       "      <td>44837.000000</td>\n",
       "      <td>45553.625000</td>\n",
       "      <td>153000.000000</td>\n",
       "      <td>900000.000000</td>\n",
       "      <td>NaN</td>\n",
       "      <td>NaN</td>\n",
       "      <td>60001.500000</td>\n",
       "    </tr>\n",
       "    <tr>\n",
       "      <th>fuel supply emergency</th>\n",
       "      <td>NaN</td>\n",
       "      <td>0.333333</td>\n",
       "      <td>0.000000</td>\n",
       "      <td>NaN</td>\n",
       "      <td>NaN</td>\n",
       "      <td>0.000000</td>\n",
       "      <td>0.000000</td>\n",
       "      <td>NaN</td>\n",
       "      <td>NaN</td>\n",
       "      <td>NaN</td>\n",
       "      <td>NaN</td>\n",
       "      <td>0.000000</td>\n",
       "    </tr>\n",
       "    <tr>\n",
       "      <th>intentional attack</th>\n",
       "      <td>0.00</td>\n",
       "      <td>159.705882</td>\n",
       "      <td>13870.083333</td>\n",
       "      <td>223.076923</td>\n",
       "      <td>8.958333</td>\n",
       "      <td>108.666667</td>\n",
       "      <td>138.888889</td>\n",
       "      <td>473.428571</td>\n",
       "      <td>0.000000</td>\n",
       "      <td>1848.000000</td>\n",
       "      <td>0.000000</td>\n",
       "      <td>10625.000000</td>\n",
       "    </tr>\n",
       "    <tr>\n",
       "      <th>islanding</th>\n",
       "      <td>NaN</td>\n",
       "      <td>4223.800000</td>\n",
       "      <td>0.000000</td>\n",
       "      <td>0.500000</td>\n",
       "      <td>22465.000000</td>\n",
       "      <td>2706.428571</td>\n",
       "      <td>184.666667</td>\n",
       "      <td>7313.500000</td>\n",
       "      <td>11533.333333</td>\n",
       "      <td>1714.000000</td>\n",
       "      <td>18493.666667</td>\n",
       "      <td>4783.333333</td>\n",
       "    </tr>\n",
       "    <tr>\n",
       "      <th>public appeal</th>\n",
       "      <td>18600.00</td>\n",
       "      <td>18600.000000</td>\n",
       "      <td>NaN</td>\n",
       "      <td>NaN</td>\n",
       "      <td>0.000000</td>\n",
       "      <td>7682.333333</td>\n",
       "      <td>4000.000000</td>\n",
       "      <td>2600.000000</td>\n",
       "      <td>NaN</td>\n",
       "      <td>NaN</td>\n",
       "      <td>NaN</td>\n",
       "      <td>34500.000000</td>\n",
       "    </tr>\n",
       "    <tr>\n",
       "      <th>severe weather</th>\n",
       "      <td>271436.24</td>\n",
       "      <td>162669.568966</td>\n",
       "      <td>122335.724138</td>\n",
       "      <td>142020.024390</td>\n",
       "      <td>170372.666667</td>\n",
       "      <td>163493.120000</td>\n",
       "      <td>136308.272727</td>\n",
       "      <td>191764.679012</td>\n",
       "      <td>310147.392857</td>\n",
       "      <td>254645.033333</td>\n",
       "      <td>134215.972973</td>\n",
       "      <td>194949.461538</td>\n",
       "    </tr>\n",
       "    <tr>\n",
       "      <th>system operability disruption</th>\n",
       "      <td>10650.25</td>\n",
       "      <td>206822.222222</td>\n",
       "      <td>171875.818182</td>\n",
       "      <td>124625.800000</td>\n",
       "      <td>295876.111111</td>\n",
       "      <td>53208.153846</td>\n",
       "      <td>66452.200000</td>\n",
       "      <td>769504.800000</td>\n",
       "      <td>NaN</td>\n",
       "      <td>75814.500000</td>\n",
       "      <td>182500.000000</td>\n",
       "      <td>48985.800000</td>\n",
       "    </tr>\n",
       "  </tbody>\n",
       "</table>\n",
       "</div>"
      ],
      "text/plain": [
       "MONTH                               1.0            2.0            3.0   \\\n",
       "CAUSE.CATEGORY                                                           \n",
       "equipment failure               15500.00  318192.000000  116000.000000   \n",
       "fuel supply emergency                NaN       0.333333       0.000000   \n",
       "intentional attack                  0.00     159.705882   13870.083333   \n",
       "islanding                            NaN    4223.800000       0.000000   \n",
       "public appeal                   18600.00   18600.000000            NaN   \n",
       "severe weather                 271436.24  162669.568966  122335.724138   \n",
       "system operability disruption   10650.25  206822.222222  171875.818182   \n",
       "\n",
       "MONTH                                   4.0            5.0            6.0   \\\n",
       "CAUSE.CATEGORY                                                               \n",
       "equipment failure               57610.000000   21800.000000   44837.000000   \n",
       "fuel supply emergency                    NaN            NaN       0.000000   \n",
       "intentional attack                223.076923       8.958333     108.666667   \n",
       "islanding                           0.500000   22465.000000    2706.428571   \n",
       "public appeal                            NaN       0.000000    7682.333333   \n",
       "severe weather                 142020.024390  170372.666667  163493.120000   \n",
       "system operability disruption  124625.800000  295876.111111   53208.153846   \n",
       "\n",
       "MONTH                                   7.0            8.0            9.0   \\\n",
       "CAUSE.CATEGORY                                                               \n",
       "equipment failure               45553.625000  153000.000000  900000.000000   \n",
       "fuel supply emergency               0.000000            NaN            NaN   \n",
       "intentional attack                138.888889     473.428571       0.000000   \n",
       "islanding                         184.666667    7313.500000   11533.333333   \n",
       "public appeal                    4000.000000    2600.000000            NaN   \n",
       "severe weather                 136308.272727  191764.679012  310147.392857   \n",
       "system operability disruption   66452.200000  769504.800000            NaN   \n",
       "\n",
       "MONTH                                   10.0           11.0           12.0  \n",
       "CAUSE.CATEGORY                                                              \n",
       "equipment failure                        NaN            NaN   60001.500000  \n",
       "fuel supply emergency                    NaN            NaN       0.000000  \n",
       "intentional attack               1848.000000       0.000000   10625.000000  \n",
       "islanding                        1714.000000   18493.666667    4783.333333  \n",
       "public appeal                            NaN            NaN   34500.000000  \n",
       "severe weather                 254645.033333  134215.972973  194949.461538  \n",
       "system operability disruption   75814.500000  182500.000000   48985.800000  "
      ]
     },
     "execution_count": 27,
     "metadata": {},
     "output_type": "execute_result"
    }
   ],
   "source": [
    "pd.pivot_table(df, index = 'CAUSE.CATEGORY', values = 'CUSTOMERS.AFFECTED', columns = 'MONTH', aggfunc = 'mean')"
   ]
  },
  {
   "cell_type": "code",
   "execution_count": 28,
   "metadata": {},
   "outputs": [
    {
     "data": {
      "text/html": [
       "<div>\n",
       "<style scoped>\n",
       "    .dataframe tbody tr th:only-of-type {\n",
       "        vertical-align: middle;\n",
       "    }\n",
       "\n",
       "    .dataframe tbody tr th {\n",
       "        vertical-align: top;\n",
       "    }\n",
       "\n",
       "    .dataframe thead tr th {\n",
       "        text-align: left;\n",
       "    }\n",
       "\n",
       "    .dataframe thead tr:last-of-type th {\n",
       "        text-align: right;\n",
       "    }\n",
       "</style>\n",
       "<table border=\"1\" class=\"dataframe\">\n",
       "  <thead>\n",
       "    <tr>\n",
       "      <th>CLIMATE.CATEGORY</th>\n",
       "      <th colspan=\"7\" halign=\"left\">cold</th>\n",
       "      <th colspan=\"7\" halign=\"left\">normal</th>\n",
       "      <th colspan=\"7\" halign=\"left\">warm</th>\n",
       "    </tr>\n",
       "    <tr>\n",
       "      <th>CAUSE.CATEGORY</th>\n",
       "      <th>equipment failure</th>\n",
       "      <th>fuel supply emergency</th>\n",
       "      <th>intentional attack</th>\n",
       "      <th>islanding</th>\n",
       "      <th>public appeal</th>\n",
       "      <th>severe weather</th>\n",
       "      <th>system operability disruption</th>\n",
       "      <th>equipment failure</th>\n",
       "      <th>fuel supply emergency</th>\n",
       "      <th>intentional attack</th>\n",
       "      <th>...</th>\n",
       "      <th>public appeal</th>\n",
       "      <th>severe weather</th>\n",
       "      <th>system operability disruption</th>\n",
       "      <th>equipment failure</th>\n",
       "      <th>fuel supply emergency</th>\n",
       "      <th>intentional attack</th>\n",
       "      <th>islanding</th>\n",
       "      <th>public appeal</th>\n",
       "      <th>severe weather</th>\n",
       "      <th>system operability disruption</th>\n",
       "    </tr>\n",
       "    <tr>\n",
       "      <th>CLIMATE.REGION</th>\n",
       "      <th></th>\n",
       "      <th></th>\n",
       "      <th></th>\n",
       "      <th></th>\n",
       "      <th></th>\n",
       "      <th></th>\n",
       "      <th></th>\n",
       "      <th></th>\n",
       "      <th></th>\n",
       "      <th></th>\n",
       "      <th></th>\n",
       "      <th></th>\n",
       "      <th></th>\n",
       "      <th></th>\n",
       "      <th></th>\n",
       "      <th></th>\n",
       "      <th></th>\n",
       "      <th></th>\n",
       "      <th></th>\n",
       "      <th></th>\n",
       "      <th></th>\n",
       "    </tr>\n",
       "  </thead>\n",
       "  <tbody>\n",
       "    <tr>\n",
       "      <th>Central</th>\n",
       "      <td>124000.0</td>\n",
       "      <td>0.0</td>\n",
       "      <td>2000.0</td>\n",
       "      <td>29000.0</td>\n",
       "      <td>NaN</td>\n",
       "      <td>4693826.0</td>\n",
       "      <td>19400.0</td>\n",
       "      <td>51500.0</td>\n",
       "      <td>0.0</td>\n",
       "      <td>0.0</td>\n",
       "      <td>...</td>\n",
       "      <td>0.0</td>\n",
       "      <td>11805878.0</td>\n",
       "      <td>1243300.0</td>\n",
       "      <td>0.0</td>\n",
       "      <td>NaN</td>\n",
       "      <td>325.0</td>\n",
       "      <td>NaN</td>\n",
       "      <td>NaN</td>\n",
       "      <td>1928921.0</td>\n",
       "      <td>0.0</td>\n",
       "    </tr>\n",
       "    <tr>\n",
       "      <th>East North Central</th>\n",
       "      <td>0.0</td>\n",
       "      <td>0.0</td>\n",
       "      <td>0.0</td>\n",
       "      <td>NaN</td>\n",
       "      <td>7600.0</td>\n",
       "      <td>3615720.0</td>\n",
       "      <td>NaN</td>\n",
       "      <td>0.0</td>\n",
       "      <td>0.0</td>\n",
       "      <td>0.0</td>\n",
       "      <td>...</td>\n",
       "      <td>0.0</td>\n",
       "      <td>8698277.0</td>\n",
       "      <td>2279213.0</td>\n",
       "      <td>NaN</td>\n",
       "      <td>NaN</td>\n",
       "      <td>5941.0</td>\n",
       "      <td>NaN</td>\n",
       "      <td>NaN</td>\n",
       "      <td>1723143.0</td>\n",
       "      <td>NaN</td>\n",
       "    </tr>\n",
       "    <tr>\n",
       "      <th>Hawaii</th>\n",
       "      <td>NaN</td>\n",
       "      <td>NaN</td>\n",
       "      <td>NaN</td>\n",
       "      <td>NaN</td>\n",
       "      <td>NaN</td>\n",
       "      <td>294000.0</td>\n",
       "      <td>NaN</td>\n",
       "      <td>NaN</td>\n",
       "      <td>NaN</td>\n",
       "      <td>NaN</td>\n",
       "      <td>...</td>\n",
       "      <td>NaN</td>\n",
       "      <td>62000.0</td>\n",
       "      <td>29300.0</td>\n",
       "      <td>NaN</td>\n",
       "      <td>NaN</td>\n",
       "      <td>NaN</td>\n",
       "      <td>NaN</td>\n",
       "      <td>NaN</td>\n",
       "      <td>350886.0</td>\n",
       "      <td>NaN</td>\n",
       "    </tr>\n",
       "    <tr>\n",
       "      <th>Northeast</th>\n",
       "      <td>62303.0</td>\n",
       "      <td>0.0</td>\n",
       "      <td>0.0</td>\n",
       "      <td>NaN</td>\n",
       "      <td>NaN</td>\n",
       "      <td>11631659.0</td>\n",
       "      <td>217729.0</td>\n",
       "      <td>52000.0</td>\n",
       "      <td>1.0</td>\n",
       "      <td>2.0</td>\n",
       "      <td>...</td>\n",
       "      <td>55800.0</td>\n",
       "      <td>12519513.0</td>\n",
       "      <td>3284600.0</td>\n",
       "      <td>NaN</td>\n",
       "      <td>0.0</td>\n",
       "      <td>85500.0</td>\n",
       "      <td>0.0</td>\n",
       "      <td>NaN</td>\n",
       "      <td>4319273.0</td>\n",
       "      <td>212983.0</td>\n",
       "    </tr>\n",
       "    <tr>\n",
       "      <th>Northwest</th>\n",
       "      <td>3.0</td>\n",
       "      <td>NaN</td>\n",
       "      <td>2500.0</td>\n",
       "      <td>NaN</td>\n",
       "      <td>NaN</td>\n",
       "      <td>1074452.0</td>\n",
       "      <td>NaN</td>\n",
       "      <td>93300.0</td>\n",
       "      <td>0.0</td>\n",
       "      <td>0.0</td>\n",
       "      <td>...</td>\n",
       "      <td>8000.0</td>\n",
       "      <td>637000.0</td>\n",
       "      <td>35000.0</td>\n",
       "      <td>NaN</td>\n",
       "      <td>NaN</td>\n",
       "      <td>0.0</td>\n",
       "      <td>0.0</td>\n",
       "      <td>NaN</td>\n",
       "      <td>3197785.0</td>\n",
       "      <td>0.0</td>\n",
       "    </tr>\n",
       "    <tr>\n",
       "      <th>South</th>\n",
       "      <td>11000.0</td>\n",
       "      <td>0.0</td>\n",
       "      <td>0.0</td>\n",
       "      <td>14500.0</td>\n",
       "      <td>0.0</td>\n",
       "      <td>2673019.0</td>\n",
       "      <td>3255744.0</td>\n",
       "      <td>322330.0</td>\n",
       "      <td>0.0</td>\n",
       "      <td>12514.0</td>\n",
       "      <td>...</td>\n",
       "      <td>54094.0</td>\n",
       "      <td>16415404.0</td>\n",
       "      <td>1296088.0</td>\n",
       "      <td>0.0</td>\n",
       "      <td>NaN</td>\n",
       "      <td>0.0</td>\n",
       "      <td>NaN</td>\n",
       "      <td>0.0</td>\n",
       "      <td>3857616.0</td>\n",
       "      <td>217311.0</td>\n",
       "    </tr>\n",
       "    <tr>\n",
       "      <th>Southeast</th>\n",
       "      <td>647977.0</td>\n",
       "      <td>NaN</td>\n",
       "      <td>0.0</td>\n",
       "      <td>NaN</td>\n",
       "      <td>0.0</td>\n",
       "      <td>4866660.0</td>\n",
       "      <td>329726.0</td>\n",
       "      <td>NaN</td>\n",
       "      <td>NaN</td>\n",
       "      <td>0.0</td>\n",
       "      <td>...</td>\n",
       "      <td>0.0</td>\n",
       "      <td>10112960.0</td>\n",
       "      <td>749231.0</td>\n",
       "      <td>42124.0</td>\n",
       "      <td>NaN</td>\n",
       "      <td>0.0</td>\n",
       "      <td>NaN</td>\n",
       "      <td>NaN</td>\n",
       "      <td>8767100.0</td>\n",
       "      <td>54376.0</td>\n",
       "    </tr>\n",
       "    <tr>\n",
       "      <th>Southwest</th>\n",
       "      <td>0.0</td>\n",
       "      <td>NaN</td>\n",
       "      <td>0.0</td>\n",
       "      <td>NaN</td>\n",
       "      <td>0.0</td>\n",
       "      <td>304911.0</td>\n",
       "      <td>643031.0</td>\n",
       "      <td>167000.0</td>\n",
       "      <td>0.0</td>\n",
       "      <td>0.0</td>\n",
       "      <td>...</td>\n",
       "      <td>NaN</td>\n",
       "      <td>0.0</td>\n",
       "      <td>221379.0</td>\n",
       "      <td>0.0</td>\n",
       "      <td>NaN</td>\n",
       "      <td>8513.0</td>\n",
       "      <td>NaN</td>\n",
       "      <td>NaN</td>\n",
       "      <td>291058.0</td>\n",
       "      <td>85179.0</td>\n",
       "    </tr>\n",
       "    <tr>\n",
       "      <th>West</th>\n",
       "      <td>0.0</td>\n",
       "      <td>0.0</td>\n",
       "      <td>0.0</td>\n",
       "      <td>49114.0</td>\n",
       "      <td>0.0</td>\n",
       "      <td>6076208.0</td>\n",
       "      <td>923800.0</td>\n",
       "      <td>1208256.0</td>\n",
       "      <td>0.0</td>\n",
       "      <td>129020.0</td>\n",
       "      <td>...</td>\n",
       "      <td>0.0</td>\n",
       "      <td>6785114.0</td>\n",
       "      <td>1861632.0</td>\n",
       "      <td>182001.0</td>\n",
       "      <td>0.0</td>\n",
       "      <td>110000.0</td>\n",
       "      <td>6065.0</td>\n",
       "      <td>0.0</td>\n",
       "      <td>7718038.0</td>\n",
       "      <td>559458.0</td>\n",
       "    </tr>\n",
       "    <tr>\n",
       "      <th>West North Central</th>\n",
       "      <td>0.0</td>\n",
       "      <td>NaN</td>\n",
       "      <td>0.0</td>\n",
       "      <td>NaN</td>\n",
       "      <td>34500.0</td>\n",
       "      <td>126000.0</td>\n",
       "      <td>NaN</td>\n",
       "      <td>NaN</td>\n",
       "      <td>NaN</td>\n",
       "      <td>0.0</td>\n",
       "      <td>...</td>\n",
       "      <td>NaN</td>\n",
       "      <td>120212.0</td>\n",
       "      <td>NaN</td>\n",
       "      <td>NaN</td>\n",
       "      <td>NaN</td>\n",
       "      <td>NaN</td>\n",
       "      <td>0.0</td>\n",
       "      <td>NaN</td>\n",
       "      <td>50500.0</td>\n",
       "      <td>NaN</td>\n",
       "    </tr>\n",
       "  </tbody>\n",
       "</table>\n",
       "<p>10 rows × 21 columns</p>\n",
       "</div>"
      ],
      "text/plain": [
       "CLIMATE.CATEGORY                cold                                           \\\n",
       "CAUSE.CATEGORY     equipment failure fuel supply emergency intentional attack   \n",
       "CLIMATE.REGION                                                                  \n",
       "Central                     124000.0                   0.0             2000.0   \n",
       "East North Central               0.0                   0.0                0.0   \n",
       "Hawaii                           NaN                   NaN                NaN   \n",
       "Northeast                    62303.0                   0.0                0.0   \n",
       "Northwest                        3.0                   NaN             2500.0   \n",
       "South                        11000.0                   0.0                0.0   \n",
       "Southeast                   647977.0                   NaN                0.0   \n",
       "Southwest                        0.0                   NaN                0.0   \n",
       "West                             0.0                   0.0                0.0   \n",
       "West North Central               0.0                   NaN                0.0   \n",
       "\n",
       "CLIMATE.CATEGORY                                           \\\n",
       "CAUSE.CATEGORY     islanding public appeal severe weather   \n",
       "CLIMATE.REGION                                              \n",
       "Central              29000.0           NaN      4693826.0   \n",
       "East North Central       NaN        7600.0      3615720.0   \n",
       "Hawaii                   NaN           NaN       294000.0   \n",
       "Northeast                NaN           NaN     11631659.0   \n",
       "Northwest                NaN           NaN      1074452.0   \n",
       "South                14500.0           0.0      2673019.0   \n",
       "Southeast                NaN           0.0      4866660.0   \n",
       "Southwest                NaN           0.0       304911.0   \n",
       "West                 49114.0           0.0      6076208.0   \n",
       "West North Central       NaN       34500.0       126000.0   \n",
       "\n",
       "CLIMATE.CATEGORY                                            normal  \\\n",
       "CAUSE.CATEGORY     system operability disruption equipment failure   \n",
       "CLIMATE.REGION                                                       \n",
       "Central                                  19400.0           51500.0   \n",
       "East North Central                           NaN               0.0   \n",
       "Hawaii                                       NaN               NaN   \n",
       "Northeast                               217729.0           52000.0   \n",
       "Northwest                                    NaN           93300.0   \n",
       "South                                  3255744.0          322330.0   \n",
       "Southeast                               329726.0               NaN   \n",
       "Southwest                               643031.0          167000.0   \n",
       "West                                    923800.0         1208256.0   \n",
       "West North Central                           NaN               NaN   \n",
       "\n",
       "CLIMATE.CATEGORY                                             ...  \\\n",
       "CAUSE.CATEGORY     fuel supply emergency intentional attack  ...   \n",
       "CLIMATE.REGION                                               ...   \n",
       "Central                              0.0                0.0  ...   \n",
       "East North Central                   0.0                0.0  ...   \n",
       "Hawaii                               NaN                NaN  ...   \n",
       "Northeast                            1.0                2.0  ...   \n",
       "Northwest                            0.0                0.0  ...   \n",
       "South                                0.0            12514.0  ...   \n",
       "Southeast                            NaN                0.0  ...   \n",
       "Southwest                            0.0                0.0  ...   \n",
       "West                                 0.0           129020.0  ...   \n",
       "West North Central                   NaN                0.0  ...   \n",
       "\n",
       "CLIMATE.CATEGORY                                                               \\\n",
       "CAUSE.CATEGORY     public appeal severe weather system operability disruption   \n",
       "CLIMATE.REGION                                                                  \n",
       "Central                      0.0     11805878.0                     1243300.0   \n",
       "East North Central           0.0      8698277.0                     2279213.0   \n",
       "Hawaii                       NaN        62000.0                       29300.0   \n",
       "Northeast                55800.0     12519513.0                     3284600.0   \n",
       "Northwest                 8000.0       637000.0                       35000.0   \n",
       "South                    54094.0     16415404.0                     1296088.0   \n",
       "Southeast                    0.0     10112960.0                      749231.0   \n",
       "Southwest                    NaN            0.0                      221379.0   \n",
       "West                         0.0      6785114.0                     1861632.0   \n",
       "West North Central           NaN       120212.0                           NaN   \n",
       "\n",
       "CLIMATE.CATEGORY                warm                                           \\\n",
       "CAUSE.CATEGORY     equipment failure fuel supply emergency intentional attack   \n",
       "CLIMATE.REGION                                                                  \n",
       "Central                          0.0                   NaN              325.0   \n",
       "East North Central               NaN                   NaN             5941.0   \n",
       "Hawaii                           NaN                   NaN                NaN   \n",
       "Northeast                        NaN                   0.0            85500.0   \n",
       "Northwest                        NaN                   NaN                0.0   \n",
       "South                            0.0                   NaN                0.0   \n",
       "Southeast                    42124.0                   NaN                0.0   \n",
       "Southwest                        0.0                   NaN             8513.0   \n",
       "West                        182001.0                   0.0           110000.0   \n",
       "West North Central               NaN                   NaN                NaN   \n",
       "\n",
       "CLIMATE.CATEGORY                                           \\\n",
       "CAUSE.CATEGORY     islanding public appeal severe weather   \n",
       "CLIMATE.REGION                                              \n",
       "Central                  NaN           NaN      1928921.0   \n",
       "East North Central       NaN           NaN      1723143.0   \n",
       "Hawaii                   NaN           NaN       350886.0   \n",
       "Northeast                0.0           NaN      4319273.0   \n",
       "Northwest                0.0           NaN      3197785.0   \n",
       "South                    NaN           0.0      3857616.0   \n",
       "Southeast                NaN           NaN      8767100.0   \n",
       "Southwest                NaN           NaN       291058.0   \n",
       "West                  6065.0           0.0      7718038.0   \n",
       "West North Central       0.0           NaN        50500.0   \n",
       "\n",
       "CLIMATE.CATEGORY                                  \n",
       "CAUSE.CATEGORY     system operability disruption  \n",
       "CLIMATE.REGION                                    \n",
       "Central                                      0.0  \n",
       "East North Central                           NaN  \n",
       "Hawaii                                       NaN  \n",
       "Northeast                               212983.0  \n",
       "Northwest                                    0.0  \n",
       "South                                   217311.0  \n",
       "Southeast                                54376.0  \n",
       "Southwest                                85179.0  \n",
       "West                                    559458.0  \n",
       "West North Central                           NaN  \n",
       "\n",
       "[10 rows x 21 columns]"
      ]
     },
     "execution_count": 28,
     "metadata": {},
     "output_type": "execute_result"
    }
   ],
   "source": [
    "pd.pivot_table(df, index = 'CLIMATE.REGION', \n",
    "               values = 'CUSTOMERS.AFFECTED', \n",
    "               columns = ['CLIMATE.CATEGORY', 'CAUSE.CATEGORY'], \n",
    "                aggfunc = 'sum')"
   ]
  },
  {
   "cell_type": "code",
   "execution_count": 29,
   "metadata": {},
   "outputs": [
    {
     "data": {
      "text/html": [
       "<div>\n",
       "<style scoped>\n",
       "    .dataframe tbody tr th:only-of-type {\n",
       "        vertical-align: middle;\n",
       "    }\n",
       "\n",
       "    .dataframe tbody tr th {\n",
       "        vertical-align: top;\n",
       "    }\n",
       "\n",
       "    .dataframe thead th {\n",
       "        text-align: right;\n",
       "    }\n",
       "</style>\n",
       "<table border=\"1\" class=\"dataframe\">\n",
       "  <thead>\n",
       "    <tr style=\"text-align: right;\">\n",
       "      <th>CLIMATE.CATEGORY</th>\n",
       "      <th>cold</th>\n",
       "      <th>normal</th>\n",
       "      <th>warm</th>\n",
       "    </tr>\n",
       "    <tr>\n",
       "      <th>CLIMATE.REGION</th>\n",
       "      <th></th>\n",
       "      <th></th>\n",
       "      <th></th>\n",
       "    </tr>\n",
       "  </thead>\n",
       "  <tbody>\n",
       "    <tr>\n",
       "      <th>Central</th>\n",
       "      <td>4868226.0</td>\n",
       "      <td>13100678.0</td>\n",
       "      <td>1929246.0</td>\n",
       "    </tr>\n",
       "    <tr>\n",
       "      <th>East North Central</th>\n",
       "      <td>3623320.0</td>\n",
       "      <td>10977490.0</td>\n",
       "      <td>1729084.0</td>\n",
       "    </tr>\n",
       "    <tr>\n",
       "      <th>Hawaii</th>\n",
       "      <td>294000.0</td>\n",
       "      <td>91300.0</td>\n",
       "      <td>350886.0</td>\n",
       "    </tr>\n",
       "    <tr>\n",
       "      <th>Northeast</th>\n",
       "      <td>11911691.0</td>\n",
       "      <td>15911916.0</td>\n",
       "      <td>4617756.0</td>\n",
       "    </tr>\n",
       "    <tr>\n",
       "      <th>Northwest</th>\n",
       "      <td>1076955.0</td>\n",
       "      <td>773300.0</td>\n",
       "      <td>3197785.0</td>\n",
       "    </tr>\n",
       "    <tr>\n",
       "      <th>South</th>\n",
       "      <td>5954263.0</td>\n",
       "      <td>18100430.0</td>\n",
       "      <td>4074927.0</td>\n",
       "    </tr>\n",
       "    <tr>\n",
       "      <th>Southeast</th>\n",
       "      <td>5844363.0</td>\n",
       "      <td>10862191.0</td>\n",
       "      <td>8863600.0</td>\n",
       "    </tr>\n",
       "    <tr>\n",
       "      <th>Southwest</th>\n",
       "      <td>947942.0</td>\n",
       "      <td>423609.0</td>\n",
       "      <td>384750.0</td>\n",
       "    </tr>\n",
       "    <tr>\n",
       "      <th>West</th>\n",
       "      <td>7049122.0</td>\n",
       "      <td>10059862.0</td>\n",
       "      <td>8575562.0</td>\n",
       "    </tr>\n",
       "    <tr>\n",
       "      <th>West North Central</th>\n",
       "      <td>160500.0</td>\n",
       "      <td>120212.0</td>\n",
       "      <td>50500.0</td>\n",
       "    </tr>\n",
       "  </tbody>\n",
       "</table>\n",
       "</div>"
      ],
      "text/plain": [
       "CLIMATE.CATEGORY          cold      normal       warm\n",
       "CLIMATE.REGION                                       \n",
       "Central              4868226.0  13100678.0  1929246.0\n",
       "East North Central   3623320.0  10977490.0  1729084.0\n",
       "Hawaii                294000.0     91300.0   350886.0\n",
       "Northeast           11911691.0  15911916.0  4617756.0\n",
       "Northwest            1076955.0    773300.0  3197785.0\n",
       "South                5954263.0  18100430.0  4074927.0\n",
       "Southeast            5844363.0  10862191.0  8863600.0\n",
       "Southwest             947942.0    423609.0   384750.0\n",
       "West                 7049122.0  10059862.0  8575562.0\n",
       "West North Central    160500.0    120212.0    50500.0"
      ]
     },
     "execution_count": 29,
     "metadata": {},
     "output_type": "execute_result"
    }
   ],
   "source": [
    "pd.pivot_table(df, index = 'CLIMATE.REGION', \n",
    "               values = 'CUSTOMERS.AFFECTED', \n",
    "               columns = 'CLIMATE.CATEGORY', \n",
    "                aggfunc = 'sum')"
   ]
  },
  {
   "cell_type": "code",
   "execution_count": 30,
   "metadata": {},
   "outputs": [
    {
     "data": {
      "text/plain": [
       "41730382.0"
      ]
     },
     "execution_count": 30,
     "metadata": {},
     "output_type": "execute_result"
    }
   ],
   "source": [
    "pd.pivot_table(df, index = 'CLIMATE.REGION', \n",
    "               values = 'CUSTOMERS.AFFECTED', \n",
    "               columns = 'CLIMATE.CATEGORY', \n",
    "                aggfunc = 'sum')['cold'].sum()"
   ]
  },
  {
   "cell_type": "code",
   "execution_count": 31,
   "metadata": {},
   "outputs": [
    {
     "data": {
      "text/plain": [
       "80420988.0"
      ]
     },
     "execution_count": 31,
     "metadata": {},
     "output_type": "execute_result"
    }
   ],
   "source": [
    "pd.pivot_table(df, index = 'CLIMATE.REGION', \n",
    "               values = 'CUSTOMERS.AFFECTED', \n",
    "               columns = 'CLIMATE.CATEGORY', \n",
    "                aggfunc = 'sum')['normal'].sum()"
   ]
  },
  {
   "cell_type": "code",
   "execution_count": 32,
   "metadata": {},
   "outputs": [
    {
     "data": {
      "text/plain": [
       "33774096.0"
      ]
     },
     "execution_count": 32,
     "metadata": {},
     "output_type": "execute_result"
    }
   ],
   "source": [
    "pd.pivot_table(df, index = 'CLIMATE.REGION', \n",
    "               values = 'CUSTOMERS.AFFECTED', \n",
    "               columns = 'CLIMATE.CATEGORY', \n",
    "                aggfunc = 'sum')['warm'].sum()"
   ]
  },
  {
   "cell_type": "code",
   "execution_count": 33,
   "metadata": {},
   "outputs": [
    {
     "data": {
      "text/plain": [
       "67156358.0"
      ]
     },
     "execution_count": 33,
     "metadata": {},
     "output_type": "execute_result"
    }
   ],
   "source": [
    "pd.pivot_table(df, index = 'CLIMATE.REGION', \n",
    "               values = 'CUSTOMERS.AFFECTED', \n",
    "               columns = ['CLIMATE.CATEGORY', 'CAUSE.CATEGORY'], \n",
    "                aggfunc = 'sum').reset_index()['normal']['severe weather'].sum()"
   ]
  },
  {
   "cell_type": "code",
   "execution_count": 34,
   "metadata": {},
   "outputs": [
    {
     "data": {
      "text/plain": [
       "35356455.0"
      ]
     },
     "execution_count": 34,
     "metadata": {},
     "output_type": "execute_result"
    }
   ],
   "source": [
    "pd.pivot_table(df, index = 'CLIMATE.REGION', \n",
    "               values = 'CUSTOMERS.AFFECTED', \n",
    "               columns = ['CLIMATE.CATEGORY', 'CAUSE.CATEGORY'], \n",
    "                aggfunc = 'sum').reset_index()['cold']['severe weather'].sum()"
   ]
  },
  {
   "cell_type": "code",
   "execution_count": 35,
   "metadata": {},
   "outputs": [
    {
     "data": {
      "text/plain": [
       "32204320.0"
      ]
     },
     "execution_count": 35,
     "metadata": {},
     "output_type": "execute_result"
    }
   ],
   "source": [
    "pd.pivot_table(df, index = 'CLIMATE.REGION', \n",
    "               values = 'CUSTOMERS.AFFECTED', \n",
    "               columns = ['CLIMATE.CATEGORY', 'CAUSE.CATEGORY'], \n",
    "                aggfunc = 'sum').reset_index()['warm']['severe weather'].sum()"
   ]
  },
  {
   "cell_type": "code",
   "execution_count": 36,
   "metadata": {},
   "outputs": [
    {
     "data": {
      "text/html": [
       "<div>\n",
       "<style scoped>\n",
       "    .dataframe tbody tr th:only-of-type {\n",
       "        vertical-align: middle;\n",
       "    }\n",
       "\n",
       "    .dataframe tbody tr th {\n",
       "        vertical-align: top;\n",
       "    }\n",
       "\n",
       "    .dataframe thead th {\n",
       "        text-align: right;\n",
       "    }\n",
       "</style>\n",
       "<table border=\"1\" class=\"dataframe\">\n",
       "  <thead>\n",
       "    <tr style=\"text-align: right;\">\n",
       "      <th>CLIMATE.REGION</th>\n",
       "      <th>Alaska</th>\n",
       "      <th>Central</th>\n",
       "      <th>East North Central</th>\n",
       "      <th>Hawaii</th>\n",
       "      <th>Northeast</th>\n",
       "      <th>Northwest</th>\n",
       "      <th>South</th>\n",
       "      <th>Southeast</th>\n",
       "      <th>Southwest</th>\n",
       "      <th>West</th>\n",
       "      <th>West North Central</th>\n",
       "    </tr>\n",
       "    <tr>\n",
       "      <th>CAUSE.CATEGORY</th>\n",
       "      <th></th>\n",
       "      <th></th>\n",
       "      <th></th>\n",
       "      <th></th>\n",
       "      <th></th>\n",
       "      <th></th>\n",
       "      <th></th>\n",
       "      <th></th>\n",
       "      <th></th>\n",
       "      <th></th>\n",
       "      <th></th>\n",
       "    </tr>\n",
       "  </thead>\n",
       "  <tbody>\n",
       "    <tr>\n",
       "      <th>equipment failure</th>\n",
       "      <td>14273.0</td>\n",
       "      <td>87750.000000</td>\n",
       "      <td>NaN</td>\n",
       "      <td>NaN</td>\n",
       "      <td>28575.750000</td>\n",
       "      <td>46651.500000</td>\n",
       "      <td>62721.666667</td>\n",
       "      <td>145420.200000</td>\n",
       "      <td>55666.666667</td>\n",
       "      <td>198608.142857</td>\n",
       "      <td>NaN</td>\n",
       "    </tr>\n",
       "    <tr>\n",
       "      <th>fuel supply emergency</th>\n",
       "      <td>NaN</td>\n",
       "      <td>0.000000</td>\n",
       "      <td>NaN</td>\n",
       "      <td>NaN</td>\n",
       "      <td>0.500000</td>\n",
       "      <td>NaN</td>\n",
       "      <td>NaN</td>\n",
       "      <td>NaN</td>\n",
       "      <td>0.000000</td>\n",
       "      <td>0.000000</td>\n",
       "      <td>NaN</td>\n",
       "    </tr>\n",
       "    <tr>\n",
       "      <th>intentional attack</th>\n",
       "      <td>NaN</td>\n",
       "      <td>110.714286</td>\n",
       "      <td>660.111111</td>\n",
       "      <td>NaN</td>\n",
       "      <td>1055.580247</td>\n",
       "      <td>92.592593</td>\n",
       "      <td>1042.833333</td>\n",
       "      <td>0.000000</td>\n",
       "      <td>327.423077</td>\n",
       "      <td>14060.000000</td>\n",
       "      <td>0.0</td>\n",
       "    </tr>\n",
       "    <tr>\n",
       "      <th>islanding</th>\n",
       "      <td>NaN</td>\n",
       "      <td>9666.666667</td>\n",
       "      <td>0.000000</td>\n",
       "      <td>NaN</td>\n",
       "      <td>0.000000</td>\n",
       "      <td>0.000000</td>\n",
       "      <td>14500.000000</td>\n",
       "      <td>NaN</td>\n",
       "      <td>35230.000000</td>\n",
       "      <td>5039.192308</td>\n",
       "      <td>NaN</td>\n",
       "    </tr>\n",
       "    <tr>\n",
       "      <th>public appeal</th>\n",
       "      <td>NaN</td>\n",
       "      <td>NaN</td>\n",
       "      <td>7600.000000</td>\n",
       "      <td>NaN</td>\n",
       "      <td>18600.000000</td>\n",
       "      <td>4000.000000</td>\n",
       "      <td>4917.636364</td>\n",
       "      <td>0.000000</td>\n",
       "      <td>NaN</td>\n",
       "      <td>NaN</td>\n",
       "      <td>34500.0</td>\n",
       "    </tr>\n",
       "    <tr>\n",
       "      <th>severe weather</th>\n",
       "      <td>NaN</td>\n",
       "      <td>148706.653226</td>\n",
       "      <td>134972.500000</td>\n",
       "      <td>176721.5</td>\n",
       "      <td>169466.934524</td>\n",
       "      <td>169284.034483</td>\n",
       "      <td>223231.144231</td>\n",
       "      <td>206523.448276</td>\n",
       "      <td>85138.428571</td>\n",
       "      <td>361041.403509</td>\n",
       "      <td>74178.0</td>\n",
       "    </tr>\n",
       "    <tr>\n",
       "      <th>system operability disruption</th>\n",
       "      <td>NaN</td>\n",
       "      <td>210450.000000</td>\n",
       "      <td>759737.666667</td>\n",
       "      <td>29300.0</td>\n",
       "      <td>530758.857143</td>\n",
       "      <td>35000.000000</td>\n",
       "      <td>227102.047619</td>\n",
       "      <td>75555.533333</td>\n",
       "      <td>135655.571429</td>\n",
       "      <td>152040.454545</td>\n",
       "      <td>NaN</td>\n",
       "    </tr>\n",
       "  </tbody>\n",
       "</table>\n",
       "</div>"
      ],
      "text/plain": [
       "CLIMATE.REGION                  Alaska        Central  East North Central  \\\n",
       "CAUSE.CATEGORY                                                              \n",
       "equipment failure              14273.0   87750.000000                 NaN   \n",
       "fuel supply emergency              NaN       0.000000                 NaN   \n",
       "intentional attack                 NaN     110.714286          660.111111   \n",
       "islanding                          NaN    9666.666667            0.000000   \n",
       "public appeal                      NaN            NaN         7600.000000   \n",
       "severe weather                     NaN  148706.653226       134972.500000   \n",
       "system operability disruption      NaN  210450.000000       759737.666667   \n",
       "\n",
       "CLIMATE.REGION                   Hawaii      Northeast      Northwest  \\\n",
       "CAUSE.CATEGORY                                                          \n",
       "equipment failure                   NaN   28575.750000   46651.500000   \n",
       "fuel supply emergency               NaN       0.500000            NaN   \n",
       "intentional attack                  NaN    1055.580247      92.592593   \n",
       "islanding                           NaN       0.000000       0.000000   \n",
       "public appeal                       NaN   18600.000000    4000.000000   \n",
       "severe weather                 176721.5  169466.934524  169284.034483   \n",
       "system operability disruption   29300.0  530758.857143   35000.000000   \n",
       "\n",
       "CLIMATE.REGION                         South      Southeast      Southwest  \\\n",
       "CAUSE.CATEGORY                                                               \n",
       "equipment failure               62721.666667  145420.200000   55666.666667   \n",
       "fuel supply emergency                    NaN            NaN       0.000000   \n",
       "intentional attack               1042.833333       0.000000     327.423077   \n",
       "islanding                       14500.000000            NaN   35230.000000   \n",
       "public appeal                    4917.636364       0.000000            NaN   \n",
       "severe weather                 223231.144231  206523.448276   85138.428571   \n",
       "system operability disruption  227102.047619   75555.533333  135655.571429   \n",
       "\n",
       "CLIMATE.REGION                          West  West North Central  \n",
       "CAUSE.CATEGORY                                                    \n",
       "equipment failure              198608.142857                 NaN  \n",
       "fuel supply emergency               0.000000                 NaN  \n",
       "intentional attack              14060.000000                 0.0  \n",
       "islanding                        5039.192308                 NaN  \n",
       "public appeal                            NaN             34500.0  \n",
       "severe weather                 361041.403509             74178.0  \n",
       "system operability disruption  152040.454545                 NaN  "
      ]
     },
     "execution_count": 36,
     "metadata": {},
     "output_type": "execute_result"
    }
   ],
   "source": [
    "pd.pivot_table(df, index = 'CAUSE.CATEGORY', values = 'CUSTOMERS.AFFECTED', columns = 'CLIMATE.REGION', aggfunc = 'mean')"
   ]
  },
  {
   "cell_type": "code",
   "execution_count": 37,
   "metadata": {
    "scrolled": false
   },
   "outputs": [
    {
     "data": {
      "text/plain": [
       "917          NaN\n",
       "918          NaN\n",
       "919          NaN\n",
       "1348         NaN\n",
       "1349    126000.0\n",
       "1350    120212.0\n",
       "1351     15000.0\n",
       "1352     35500.0\n",
       "1353         0.0\n",
       "1354         0.0\n",
       "1355         NaN\n",
       "1356         NaN\n",
       "1357         NaN\n",
       "1530     34500.0\n",
       "1531         NaN\n",
       "1532         NaN\n",
       "1533         NaN\n",
       "Name: CUSTOMERS.AFFECTED, dtype: float64"
      ]
     },
     "execution_count": 37,
     "metadata": {},
     "output_type": "execute_result"
    }
   ],
   "source": [
    "df[df['CLIMATE.REGION'] == 'West North Central']['CUSTOMERS.AFFECTED']"
   ]
  },
  {
   "cell_type": "code",
   "execution_count": 38,
   "metadata": {
    "scrolled": true
   },
   "outputs": [
    {
     "data": {
      "text/html": [
       "<div>\n",
       "<style scoped>\n",
       "    .dataframe tbody tr th:only-of-type {\n",
       "        vertical-align: middle;\n",
       "    }\n",
       "\n",
       "    .dataframe tbody tr th {\n",
       "        vertical-align: top;\n",
       "    }\n",
       "\n",
       "    .dataframe thead th {\n",
       "        text-align: right;\n",
       "    }\n",
       "</style>\n",
       "<table border=\"1\" class=\"dataframe\">\n",
       "  <thead>\n",
       "    <tr style=\"text-align: right;\">\n",
       "      <th>MONTH</th>\n",
       "      <th>1.0</th>\n",
       "      <th>2.0</th>\n",
       "      <th>3.0</th>\n",
       "      <th>4.0</th>\n",
       "      <th>5.0</th>\n",
       "      <th>6.0</th>\n",
       "      <th>7.0</th>\n",
       "      <th>8.0</th>\n",
       "      <th>9.0</th>\n",
       "      <th>10.0</th>\n",
       "      <th>11.0</th>\n",
       "      <th>12.0</th>\n",
       "    </tr>\n",
       "    <tr>\n",
       "      <th>CLIMATE.REGION</th>\n",
       "      <th></th>\n",
       "      <th></th>\n",
       "      <th></th>\n",
       "      <th></th>\n",
       "      <th></th>\n",
       "      <th></th>\n",
       "      <th></th>\n",
       "      <th></th>\n",
       "      <th></th>\n",
       "      <th></th>\n",
       "      <th></th>\n",
       "      <th></th>\n",
       "    </tr>\n",
       "  </thead>\n",
       "  <tbody>\n",
       "    <tr>\n",
       "      <th>Central</th>\n",
       "      <td>113265.083333</td>\n",
       "      <td>87544.400000</td>\n",
       "      <td>65652.000000</td>\n",
       "      <td>94666.666667</td>\n",
       "      <td>76470.105263</td>\n",
       "      <td>148398.592593</td>\n",
       "      <td>129868.440000</td>\n",
       "      <td>228977.944444</td>\n",
       "      <td>186784.571429</td>\n",
       "      <td>193834.000000</td>\n",
       "      <td>49663.888889</td>\n",
       "      <td>57113.500000</td>\n",
       "    </tr>\n",
       "    <tr>\n",
       "      <th>East North Central</th>\n",
       "      <td>72604.400000</td>\n",
       "      <td>182480.600000</td>\n",
       "      <td>93188.200000</td>\n",
       "      <td>116152.666667</td>\n",
       "      <td>97558.222222</td>\n",
       "      <td>147612.200000</td>\n",
       "      <td>125544.250000</td>\n",
       "      <td>243036.333333</td>\n",
       "      <td>104444.857143</td>\n",
       "      <td>129806.714286</td>\n",
       "      <td>148742.222222</td>\n",
       "      <td>130712.400000</td>\n",
       "    </tr>\n",
       "    <tr>\n",
       "      <th>Hawaii</th>\n",
       "      <td>NaN</td>\n",
       "      <td>NaN</td>\n",
       "      <td>NaN</td>\n",
       "      <td>NaN</td>\n",
       "      <td>62000.000000</td>\n",
       "      <td>29300.000000</td>\n",
       "      <td>NaN</td>\n",
       "      <td>NaN</td>\n",
       "      <td>NaN</td>\n",
       "      <td>175443.000000</td>\n",
       "      <td>NaN</td>\n",
       "      <td>294000.000000</td>\n",
       "    </tr>\n",
       "    <tr>\n",
       "      <th>Northeast</th>\n",
       "      <td>53952.850000</td>\n",
       "      <td>112550.258065</td>\n",
       "      <td>131156.636364</td>\n",
       "      <td>58865.769231</td>\n",
       "      <td>29225.941176</td>\n",
       "      <td>132704.181818</td>\n",
       "      <td>87873.517241</td>\n",
       "      <td>328874.920000</td>\n",
       "      <td>100821.300000</td>\n",
       "      <td>147204.439024</td>\n",
       "      <td>42326.923077</td>\n",
       "      <td>108994.461538</td>\n",
       "    </tr>\n",
       "    <tr>\n",
       "      <th>Northwest</th>\n",
       "      <td>170358.250000</td>\n",
       "      <td>43971.166667</td>\n",
       "      <td>17000.000000</td>\n",
       "      <td>56060.000000</td>\n",
       "      <td>0.000000</td>\n",
       "      <td>5833.333333</td>\n",
       "      <td>0.000000</td>\n",
       "      <td>164400.000000</td>\n",
       "      <td>NaN</td>\n",
       "      <td>53333.333333</td>\n",
       "      <td>104503.857143</td>\n",
       "      <td>129196.866667</td>\n",
       "    </tr>\n",
       "    <tr>\n",
       "      <th>South</th>\n",
       "      <td>240488.818182</td>\n",
       "      <td>296757.333333</td>\n",
       "      <td>96000.000000</td>\n",
       "      <td>133375.086957</td>\n",
       "      <td>216216.050000</td>\n",
       "      <td>134691.000000</td>\n",
       "      <td>79163.642857</td>\n",
       "      <td>114185.950000</td>\n",
       "      <td>484205.066667</td>\n",
       "      <td>138369.750000</td>\n",
       "      <td>73152.250000</td>\n",
       "      <td>155830.818182</td>\n",
       "    </tr>\n",
       "    <tr>\n",
       "      <th>Southeast</th>\n",
       "      <td>180449.083333</td>\n",
       "      <td>157101.529412</td>\n",
       "      <td>133859.625000</td>\n",
       "      <td>107094.000000</td>\n",
       "      <td>80665.250000</td>\n",
       "      <td>148058.555556</td>\n",
       "      <td>72649.866667</td>\n",
       "      <td>202762.272727</td>\n",
       "      <td>318934.000000</td>\n",
       "      <td>717467.400000</td>\n",
       "      <td>86483.333333</td>\n",
       "      <td>51928.777778</td>\n",
       "    </tr>\n",
       "    <tr>\n",
       "      <th>Southwest</th>\n",
       "      <td>0.000000</td>\n",
       "      <td>24290.666667</td>\n",
       "      <td>166666.666667</td>\n",
       "      <td>725.000000</td>\n",
       "      <td>30102.250000</td>\n",
       "      <td>36536.250000</td>\n",
       "      <td>55764.500000</td>\n",
       "      <td>0.000000</td>\n",
       "      <td>0.000000</td>\n",
       "      <td>44833.333333</td>\n",
       "      <td>NaN</td>\n",
       "      <td>100000.000000</td>\n",
       "    </tr>\n",
       "    <tr>\n",
       "      <th>West</th>\n",
       "      <td>538915.400000</td>\n",
       "      <td>131236.285714</td>\n",
       "      <td>118163.833333</td>\n",
       "      <td>64872.250000</td>\n",
       "      <td>418267.000000</td>\n",
       "      <td>19730.538462</td>\n",
       "      <td>123490.437500</td>\n",
       "      <td>148225.400000</td>\n",
       "      <td>308333.333333</td>\n",
       "      <td>148514.562500</td>\n",
       "      <td>194948.100000</td>\n",
       "      <td>298282.555556</td>\n",
       "    </tr>\n",
       "    <tr>\n",
       "      <th>West North Central</th>\n",
       "      <td>NaN</td>\n",
       "      <td>NaN</td>\n",
       "      <td>NaN</td>\n",
       "      <td>NaN</td>\n",
       "      <td>0.000000</td>\n",
       "      <td>123106.000000</td>\n",
       "      <td>NaN</td>\n",
       "      <td>NaN</td>\n",
       "      <td>NaN</td>\n",
       "      <td>35500.000000</td>\n",
       "      <td>0.000000</td>\n",
       "      <td>24750.000000</td>\n",
       "    </tr>\n",
       "  </tbody>\n",
       "</table>\n",
       "</div>"
      ],
      "text/plain": [
       "MONTH                        1.0            2.0            3.0   \\\n",
       "CLIMATE.REGION                                                    \n",
       "Central             113265.083333   87544.400000   65652.000000   \n",
       "East North Central   72604.400000  182480.600000   93188.200000   \n",
       "Hawaii                        NaN            NaN            NaN   \n",
       "Northeast            53952.850000  112550.258065  131156.636364   \n",
       "Northwest           170358.250000   43971.166667   17000.000000   \n",
       "South               240488.818182  296757.333333   96000.000000   \n",
       "Southeast           180449.083333  157101.529412  133859.625000   \n",
       "Southwest                0.000000   24290.666667  166666.666667   \n",
       "West                538915.400000  131236.285714  118163.833333   \n",
       "West North Central            NaN            NaN            NaN   \n",
       "\n",
       "MONTH                        4.0            5.0            6.0   \\\n",
       "CLIMATE.REGION                                                    \n",
       "Central              94666.666667   76470.105263  148398.592593   \n",
       "East North Central  116152.666667   97558.222222  147612.200000   \n",
       "Hawaii                        NaN   62000.000000   29300.000000   \n",
       "Northeast            58865.769231   29225.941176  132704.181818   \n",
       "Northwest            56060.000000       0.000000    5833.333333   \n",
       "South               133375.086957  216216.050000  134691.000000   \n",
       "Southeast           107094.000000   80665.250000  148058.555556   \n",
       "Southwest              725.000000   30102.250000   36536.250000   \n",
       "West                 64872.250000  418267.000000   19730.538462   \n",
       "West North Central            NaN       0.000000  123106.000000   \n",
       "\n",
       "MONTH                        7.0            8.0            9.0   \\\n",
       "CLIMATE.REGION                                                    \n",
       "Central             129868.440000  228977.944444  186784.571429   \n",
       "East North Central  125544.250000  243036.333333  104444.857143   \n",
       "Hawaii                        NaN            NaN            NaN   \n",
       "Northeast            87873.517241  328874.920000  100821.300000   \n",
       "Northwest                0.000000  164400.000000            NaN   \n",
       "South                79163.642857  114185.950000  484205.066667   \n",
       "Southeast            72649.866667  202762.272727  318934.000000   \n",
       "Southwest            55764.500000       0.000000       0.000000   \n",
       "West                123490.437500  148225.400000  308333.333333   \n",
       "West North Central            NaN            NaN            NaN   \n",
       "\n",
       "MONTH                        10.0           11.0           12.0  \n",
       "CLIMATE.REGION                                                   \n",
       "Central             193834.000000   49663.888889   57113.500000  \n",
       "East North Central  129806.714286  148742.222222  130712.400000  \n",
       "Hawaii              175443.000000            NaN  294000.000000  \n",
       "Northeast           147204.439024   42326.923077  108994.461538  \n",
       "Northwest            53333.333333  104503.857143  129196.866667  \n",
       "South               138369.750000   73152.250000  155830.818182  \n",
       "Southeast           717467.400000   86483.333333   51928.777778  \n",
       "Southwest            44833.333333            NaN  100000.000000  \n",
       "West                148514.562500  194948.100000  298282.555556  \n",
       "West North Central   35500.000000       0.000000   24750.000000  "
      ]
     },
     "execution_count": 38,
     "metadata": {},
     "output_type": "execute_result"
    }
   ],
   "source": [
    "pd.pivot_table(df, index = 'CLIMATE.REGION', values = 'CUSTOMERS.AFFECTED', columns = 'MONTH', aggfunc = 'mean')"
   ]
  },
  {
   "cell_type": "code",
   "execution_count": null,
   "metadata": {},
   "outputs": [],
   "source": []
  },
  {
   "cell_type": "markdown",
   "metadata": {},
   "source": [
    "## Step 3: Assessment of Missingness"
   ]
  },
  {
   "cell_type": "code",
   "execution_count": 39,
   "metadata": {
    "ExecuteTime": {
     "end_time": "2019-10-31T23:36:28.662099Z",
     "start_time": "2019-10-31T23:36:28.660016Z"
    }
   },
   "outputs": [
    {
     "ename": "FileNotFoundError",
     "evalue": "[Errno 2] No such file or directory: '/Users/shreyamusini/Downloads/outage.xlsx'",
     "output_type": "error",
     "traceback": [
      "\u001b[1;31m---------------------------------------------------------------------------\u001b[0m",
      "\u001b[1;31mFileNotFoundError\u001b[0m                         Traceback (most recent call last)",
      "Cell \u001b[1;32mIn[39], line 1\u001b[0m\n\u001b[1;32m----> 1\u001b[0m df_missing \u001b[38;5;241m=\u001b[39m \u001b[43mpd\u001b[49m\u001b[38;5;241;43m.\u001b[39;49m\u001b[43mread_excel\u001b[49m\u001b[43m(\u001b[49m\u001b[38;5;124;43m'\u001b[39;49m\u001b[38;5;124;43m/Users/shreyamusini/Downloads/outage.xlsx\u001b[39;49m\u001b[38;5;124;43m'\u001b[39;49m\u001b[43m,\u001b[49m\u001b[43m \u001b[49m\u001b[43mheader\u001b[49m\u001b[43m \u001b[49m\u001b[38;5;241;43m=\u001b[39;49m\u001b[43m \u001b[49m\u001b[38;5;241;43m5\u001b[39;49m\u001b[43m)\u001b[49m\n\u001b[0;32m      2\u001b[0m df_missing \u001b[38;5;241m=\u001b[39m df\u001b[38;5;241m.\u001b[39mdrop([\u001b[38;5;241m0\u001b[39m])\n\u001b[0;32m      3\u001b[0m df_ \u001b[38;5;241m=\u001b[39m df\u001b[38;5;241m.\u001b[39mdrop(df\u001b[38;5;241m.\u001b[39mcolumns[\u001b[38;5;241m0\u001b[39m], axis \u001b[38;5;241m=\u001b[39m \u001b[38;5;241m1\u001b[39m)\n",
      "File \u001b[1;32mc:\\Users\\vinut\\miniforge3\\envs\\dsc80\\lib\\site-packages\\pandas\\util\\_decorators.py:311\u001b[0m, in \u001b[0;36mdeprecate_nonkeyword_arguments.<locals>.decorate.<locals>.wrapper\u001b[1;34m(*args, **kwargs)\u001b[0m\n\u001b[0;32m    305\u001b[0m \u001b[38;5;28;01mif\u001b[39;00m \u001b[38;5;28mlen\u001b[39m(args) \u001b[38;5;241m>\u001b[39m num_allow_args:\n\u001b[0;32m    306\u001b[0m     warnings\u001b[38;5;241m.\u001b[39mwarn(\n\u001b[0;32m    307\u001b[0m         msg\u001b[38;5;241m.\u001b[39mformat(arguments\u001b[38;5;241m=\u001b[39marguments),\n\u001b[0;32m    308\u001b[0m         \u001b[38;5;167;01mFutureWarning\u001b[39;00m,\n\u001b[0;32m    309\u001b[0m         stacklevel\u001b[38;5;241m=\u001b[39mstacklevel,\n\u001b[0;32m    310\u001b[0m     )\n\u001b[1;32m--> 311\u001b[0m \u001b[38;5;28;01mreturn\u001b[39;00m \u001b[43mfunc\u001b[49m\u001b[43m(\u001b[49m\u001b[38;5;241;43m*\u001b[39;49m\u001b[43margs\u001b[49m\u001b[43m,\u001b[49m\u001b[43m \u001b[49m\u001b[38;5;241;43m*\u001b[39;49m\u001b[38;5;241;43m*\u001b[39;49m\u001b[43mkwargs\u001b[49m\u001b[43m)\u001b[49m\n",
      "File \u001b[1;32mc:\\Users\\vinut\\miniforge3\\envs\\dsc80\\lib\\site-packages\\pandas\\io\\excel\\_base.py:364\u001b[0m, in \u001b[0;36mread_excel\u001b[1;34m(io, sheet_name, header, names, index_col, usecols, squeeze, dtype, engine, converters, true_values, false_values, skiprows, nrows, na_values, keep_default_na, na_filter, verbose, parse_dates, date_parser, thousands, comment, skipfooter, convert_float, mangle_dupe_cols, storage_options)\u001b[0m\n\u001b[0;32m    362\u001b[0m \u001b[38;5;28;01mif\u001b[39;00m \u001b[38;5;129;01mnot\u001b[39;00m \u001b[38;5;28misinstance\u001b[39m(io, ExcelFile):\n\u001b[0;32m    363\u001b[0m     should_close \u001b[38;5;241m=\u001b[39m \u001b[38;5;28;01mTrue\u001b[39;00m\n\u001b[1;32m--> 364\u001b[0m     io \u001b[38;5;241m=\u001b[39m \u001b[43mExcelFile\u001b[49m\u001b[43m(\u001b[49m\u001b[43mio\u001b[49m\u001b[43m,\u001b[49m\u001b[43m \u001b[49m\u001b[43mstorage_options\u001b[49m\u001b[38;5;241;43m=\u001b[39;49m\u001b[43mstorage_options\u001b[49m\u001b[43m,\u001b[49m\u001b[43m \u001b[49m\u001b[43mengine\u001b[49m\u001b[38;5;241;43m=\u001b[39;49m\u001b[43mengine\u001b[49m\u001b[43m)\u001b[49m\n\u001b[0;32m    365\u001b[0m \u001b[38;5;28;01melif\u001b[39;00m engine \u001b[38;5;129;01mand\u001b[39;00m engine \u001b[38;5;241m!=\u001b[39m io\u001b[38;5;241m.\u001b[39mengine:\n\u001b[0;32m    366\u001b[0m     \u001b[38;5;28;01mraise\u001b[39;00m \u001b[38;5;167;01mValueError\u001b[39;00m(\n\u001b[0;32m    367\u001b[0m         \u001b[38;5;124m\"\u001b[39m\u001b[38;5;124mEngine should not be specified when passing \u001b[39m\u001b[38;5;124m\"\u001b[39m\n\u001b[0;32m    368\u001b[0m         \u001b[38;5;124m\"\u001b[39m\u001b[38;5;124man ExcelFile - ExcelFile already has the engine set\u001b[39m\u001b[38;5;124m\"\u001b[39m\n\u001b[0;32m    369\u001b[0m     )\n",
      "File \u001b[1;32mc:\\Users\\vinut\\miniforge3\\envs\\dsc80\\lib\\site-packages\\pandas\\io\\excel\\_base.py:1191\u001b[0m, in \u001b[0;36mExcelFile.__init__\u001b[1;34m(self, path_or_buffer, engine, storage_options)\u001b[0m\n\u001b[0;32m   1189\u001b[0m     ext \u001b[38;5;241m=\u001b[39m \u001b[38;5;124m\"\u001b[39m\u001b[38;5;124mxls\u001b[39m\u001b[38;5;124m\"\u001b[39m\n\u001b[0;32m   1190\u001b[0m \u001b[38;5;28;01melse\u001b[39;00m:\n\u001b[1;32m-> 1191\u001b[0m     ext \u001b[38;5;241m=\u001b[39m \u001b[43minspect_excel_format\u001b[49m\u001b[43m(\u001b[49m\n\u001b[0;32m   1192\u001b[0m \u001b[43m        \u001b[49m\u001b[43mcontent_or_path\u001b[49m\u001b[38;5;241;43m=\u001b[39;49m\u001b[43mpath_or_buffer\u001b[49m\u001b[43m,\u001b[49m\u001b[43m \u001b[49m\u001b[43mstorage_options\u001b[49m\u001b[38;5;241;43m=\u001b[39;49m\u001b[43mstorage_options\u001b[49m\n\u001b[0;32m   1193\u001b[0m \u001b[43m    \u001b[49m\u001b[43m)\u001b[49m\n\u001b[0;32m   1194\u001b[0m     \u001b[38;5;28;01mif\u001b[39;00m ext \u001b[38;5;129;01mis\u001b[39;00m \u001b[38;5;28;01mNone\u001b[39;00m:\n\u001b[0;32m   1195\u001b[0m         \u001b[38;5;28;01mraise\u001b[39;00m \u001b[38;5;167;01mValueError\u001b[39;00m(\n\u001b[0;32m   1196\u001b[0m             \u001b[38;5;124m\"\u001b[39m\u001b[38;5;124mExcel file format cannot be determined, you must specify \u001b[39m\u001b[38;5;124m\"\u001b[39m\n\u001b[0;32m   1197\u001b[0m             \u001b[38;5;124m\"\u001b[39m\u001b[38;5;124man engine manually.\u001b[39m\u001b[38;5;124m\"\u001b[39m\n\u001b[0;32m   1198\u001b[0m         )\n",
      "File \u001b[1;32mc:\\Users\\vinut\\miniforge3\\envs\\dsc80\\lib\\site-packages\\pandas\\io\\excel\\_base.py:1070\u001b[0m, in \u001b[0;36minspect_excel_format\u001b[1;34m(content_or_path, storage_options)\u001b[0m\n\u001b[0;32m   1067\u001b[0m \u001b[38;5;28;01mif\u001b[39;00m \u001b[38;5;28misinstance\u001b[39m(content_or_path, \u001b[38;5;28mbytes\u001b[39m):\n\u001b[0;32m   1068\u001b[0m     content_or_path \u001b[38;5;241m=\u001b[39m BytesIO(content_or_path)\n\u001b[1;32m-> 1070\u001b[0m \u001b[38;5;28;01mwith\u001b[39;00m \u001b[43mget_handle\u001b[49m\u001b[43m(\u001b[49m\n\u001b[0;32m   1071\u001b[0m \u001b[43m    \u001b[49m\u001b[43mcontent_or_path\u001b[49m\u001b[43m,\u001b[49m\u001b[43m \u001b[49m\u001b[38;5;124;43m\"\u001b[39;49m\u001b[38;5;124;43mrb\u001b[39;49m\u001b[38;5;124;43m\"\u001b[39;49m\u001b[43m,\u001b[49m\u001b[43m \u001b[49m\u001b[43mstorage_options\u001b[49m\u001b[38;5;241;43m=\u001b[39;49m\u001b[43mstorage_options\u001b[49m\u001b[43m,\u001b[49m\u001b[43m \u001b[49m\u001b[43mis_text\u001b[49m\u001b[38;5;241;43m=\u001b[39;49m\u001b[38;5;28;43;01mFalse\u001b[39;49;00m\n\u001b[0;32m   1072\u001b[0m \u001b[43m\u001b[49m\u001b[43m)\u001b[49m \u001b[38;5;28;01mas\u001b[39;00m handle:\n\u001b[0;32m   1073\u001b[0m     stream \u001b[38;5;241m=\u001b[39m handle\u001b[38;5;241m.\u001b[39mhandle\n\u001b[0;32m   1074\u001b[0m     stream\u001b[38;5;241m.\u001b[39mseek(\u001b[38;5;241m0\u001b[39m)\n",
      "File \u001b[1;32mc:\\Users\\vinut\\miniforge3\\envs\\dsc80\\lib\\site-packages\\pandas\\io\\common.py:711\u001b[0m, in \u001b[0;36mget_handle\u001b[1;34m(path_or_buf, mode, encoding, compression, memory_map, is_text, errors, storage_options)\u001b[0m\n\u001b[0;32m    702\u001b[0m         handle \u001b[38;5;241m=\u001b[39m \u001b[38;5;28mopen\u001b[39m(\n\u001b[0;32m    703\u001b[0m             handle,\n\u001b[0;32m    704\u001b[0m             ioargs\u001b[38;5;241m.\u001b[39mmode,\n\u001b[1;32m   (...)\u001b[0m\n\u001b[0;32m    707\u001b[0m             newline\u001b[38;5;241m=\u001b[39m\u001b[38;5;124m\"\u001b[39m\u001b[38;5;124m\"\u001b[39m,\n\u001b[0;32m    708\u001b[0m         )\n\u001b[0;32m    709\u001b[0m     \u001b[38;5;28;01melse\u001b[39;00m:\n\u001b[0;32m    710\u001b[0m         \u001b[38;5;66;03m# Binary mode\u001b[39;00m\n\u001b[1;32m--> 711\u001b[0m         handle \u001b[38;5;241m=\u001b[39m \u001b[38;5;28;43mopen\u001b[39;49m\u001b[43m(\u001b[49m\u001b[43mhandle\u001b[49m\u001b[43m,\u001b[49m\u001b[43m \u001b[49m\u001b[43mioargs\u001b[49m\u001b[38;5;241;43m.\u001b[39;49m\u001b[43mmode\u001b[49m\u001b[43m)\u001b[49m\n\u001b[0;32m    712\u001b[0m     handles\u001b[38;5;241m.\u001b[39mappend(handle)\n\u001b[0;32m    714\u001b[0m \u001b[38;5;66;03m# Convert BytesIO or file objects passed with an encoding\u001b[39;00m\n",
      "\u001b[1;31mFileNotFoundError\u001b[0m: [Errno 2] No such file or directory: '/Users/shreyamusini/Downloads/outage.xlsx'"
     ]
    }
   ],
   "source": [
    "df_missing = pd.read_excel('/Users/shreyamusini/Downloads/outage.xlsx', header = 5)\n",
    "df_missing = df.drop([0])\n",
    "df_ = df.drop(df.columns[0], axis = 1)\n",
    "df = df.drop(df.columns[0], axis = 1)\n",
    "df"
   ]
  },
  {
   "cell_type": "code",
   "execution_count": null,
   "metadata": {},
   "outputs": [
    {
     "data": {
      "text/plain": [
       "Index(['YEAR', 'MONTH', 'U.S._STATE', 'POSTAL.CODE', 'NERC.REGION',\n",
       "       'CLIMATE.REGION', 'ANOMALY.LEVEL', 'CLIMATE.CATEGORY',\n",
       "       'OUTAGE.START.DATE', 'OUTAGE.START.TIME', 'OUTAGE.RESTORATION.DATE',\n",
       "       'OUTAGE.RESTORATION.TIME', 'CAUSE.CATEGORY', 'CAUSE.CATEGORY.DETAIL',\n",
       "       'HURRICANE.NAMES', 'OUTAGE.DURATION', 'DEMAND.LOSS.MW',\n",
       "       'CUSTOMERS.AFFECTED', 'RES.PRICE', 'COM.PRICE', 'IND.PRICE',\n",
       "       'TOTAL.PRICE', 'RES.SALES', 'COM.SALES', 'IND.SALES', 'TOTAL.SALES',\n",
       "       'RES.PERCEN', 'COM.PERCEN', 'IND.PERCEN', 'RES.CUSTOMERS',\n",
       "       'COM.CUSTOMERS', 'IND.CUSTOMERS', 'TOTAL.CUSTOMERS', 'RES.CUST.PCT',\n",
       "       'COM.CUST.PCT', 'IND.CUST.PCT', 'PC.REALGSP.STATE', 'PC.REALGSP.USA',\n",
       "       'PC.REALGSP.REL', 'PC.REALGSP.CHANGE', 'UTIL.REALGSP', 'TOTAL.REALGSP',\n",
       "       'UTIL.CONTRI', 'PI.UTIL.OFUSA', 'POPULATION', 'POPPCT_URBAN',\n",
       "       'POPPCT_UC', 'POPDEN_URBAN', 'POPDEN_UC', 'POPDEN_RURAL',\n",
       "       'AREAPCT_URBAN', 'AREAPCT_UC', 'PCT_LAND', 'PCT_WATER_TOT',\n",
       "       'PCT_WATER_INLAND'],\n",
       "      dtype='object')"
      ]
     },
     "execution_count": 85,
     "metadata": {},
     "output_type": "execute_result"
    }
   ],
   "source": [
    "df.columns"
   ]
  },
  {
   "cell_type": "code",
   "execution_count": null,
   "metadata": {},
   "outputs": [
    {
     "data": {
      "text/html": [
       "<div>\n",
       "<style scoped>\n",
       "    .dataframe tbody tr th:only-of-type {\n",
       "        vertical-align: middle;\n",
       "    }\n",
       "\n",
       "    .dataframe tbody tr th {\n",
       "        vertical-align: top;\n",
       "    }\n",
       "\n",
       "    .dataframe thead th {\n",
       "        text-align: right;\n",
       "    }\n",
       "</style>\n",
       "<table border=\"1\" class=\"dataframe\">\n",
       "  <thead>\n",
       "    <tr style=\"text-align: right;\">\n",
       "      <th></th>\n",
       "      <th>YEAR</th>\n",
       "      <th>MONTH</th>\n",
       "      <th>U.S._STATE</th>\n",
       "      <th>POSTAL.CODE</th>\n",
       "      <th>NERC.REGION</th>\n",
       "      <th>CLIMATE.REGION</th>\n",
       "      <th>ANOMALY.LEVEL</th>\n",
       "      <th>CLIMATE.CATEGORY</th>\n",
       "      <th>CAUSE.CATEGORY</th>\n",
       "      <th>CAUSE.CATEGORY.DETAIL</th>\n",
       "      <th>...</th>\n",
       "      <th>POPDEN_UC</th>\n",
       "      <th>POPDEN_RURAL</th>\n",
       "      <th>AREAPCT_URBAN</th>\n",
       "      <th>AREAPCT_UC</th>\n",
       "      <th>PCT_LAND</th>\n",
       "      <th>PCT_WATER_TOT</th>\n",
       "      <th>PCT_WATER_INLAND</th>\n",
       "      <th>OUTAGE.START</th>\n",
       "      <th>OUTAGE.RESTORATION</th>\n",
       "      <th>MONTH_STRING</th>\n",
       "    </tr>\n",
       "  </thead>\n",
       "  <tbody>\n",
       "    <tr>\n",
       "      <th>1</th>\n",
       "      <td>2011.0</td>\n",
       "      <td>7.0</td>\n",
       "      <td>Minnesota</td>\n",
       "      <td>MN</td>\n",
       "      <td>MRO</td>\n",
       "      <td>East North Central</td>\n",
       "      <td>-0.3000</td>\n",
       "      <td>normal</td>\n",
       "      <td>severe weather</td>\n",
       "      <td>NaN</td>\n",
       "      <td>...</td>\n",
       "      <td>1700.5</td>\n",
       "      <td>18.2</td>\n",
       "      <td>2.14</td>\n",
       "      <td>0.60</td>\n",
       "      <td>91.592666</td>\n",
       "      <td>8.407334</td>\n",
       "      <td>5.478743</td>\n",
       "      <td>2011-07-01 17:00:00.000000000</td>\n",
       "      <td>2011-07-03 20:00:00.000000000</td>\n",
       "      <td>7.0</td>\n",
       "    </tr>\n",
       "    <tr>\n",
       "      <th>2</th>\n",
       "      <td>2014.0</td>\n",
       "      <td>5.0</td>\n",
       "      <td>Minnesota</td>\n",
       "      <td>MN</td>\n",
       "      <td>MRO</td>\n",
       "      <td>East North Central</td>\n",
       "      <td>-0.1000</td>\n",
       "      <td>normal</td>\n",
       "      <td>intentional attack</td>\n",
       "      <td>vandalism</td>\n",
       "      <td>...</td>\n",
       "      <td>1700.5</td>\n",
       "      <td>18.2</td>\n",
       "      <td>2.14</td>\n",
       "      <td>0.60</td>\n",
       "      <td>91.592666</td>\n",
       "      <td>8.407334</td>\n",
       "      <td>5.478743</td>\n",
       "      <td>2014-05-11 18:38:00.000000000</td>\n",
       "      <td>2014-05-11 18:39:00.000000000</td>\n",
       "      <td>5.0</td>\n",
       "    </tr>\n",
       "    <tr>\n",
       "      <th>3</th>\n",
       "      <td>2010.0</td>\n",
       "      <td>10.0</td>\n",
       "      <td>Minnesota</td>\n",
       "      <td>MN</td>\n",
       "      <td>MRO</td>\n",
       "      <td>East North Central</td>\n",
       "      <td>-1.5000</td>\n",
       "      <td>cold</td>\n",
       "      <td>severe weather</td>\n",
       "      <td>heavy wind</td>\n",
       "      <td>...</td>\n",
       "      <td>1700.5</td>\n",
       "      <td>18.2</td>\n",
       "      <td>2.14</td>\n",
       "      <td>0.60</td>\n",
       "      <td>91.592666</td>\n",
       "      <td>8.407334</td>\n",
       "      <td>5.478743</td>\n",
       "      <td>2010-10-26 20:00:00.000000000</td>\n",
       "      <td>2010-10-28 22:00:00.000000000</td>\n",
       "      <td>10.0</td>\n",
       "    </tr>\n",
       "    <tr>\n",
       "      <th>4</th>\n",
       "      <td>2012.0</td>\n",
       "      <td>6.0</td>\n",
       "      <td>Minnesota</td>\n",
       "      <td>MN</td>\n",
       "      <td>MRO</td>\n",
       "      <td>East North Central</td>\n",
       "      <td>-0.1000</td>\n",
       "      <td>normal</td>\n",
       "      <td>severe weather</td>\n",
       "      <td>thunderstorm</td>\n",
       "      <td>...</td>\n",
       "      <td>1700.5</td>\n",
       "      <td>18.2</td>\n",
       "      <td>2.14</td>\n",
       "      <td>0.60</td>\n",
       "      <td>91.592666</td>\n",
       "      <td>8.407334</td>\n",
       "      <td>5.478743</td>\n",
       "      <td>2012-06-19 04:30:00.000000000</td>\n",
       "      <td>2012-06-20 23:00:00.000000000</td>\n",
       "      <td>6.0</td>\n",
       "    </tr>\n",
       "    <tr>\n",
       "      <th>5</th>\n",
       "      <td>2015.0</td>\n",
       "      <td>7.0</td>\n",
       "      <td>Minnesota</td>\n",
       "      <td>MN</td>\n",
       "      <td>MRO</td>\n",
       "      <td>East North Central</td>\n",
       "      <td>1.2000</td>\n",
       "      <td>warm</td>\n",
       "      <td>severe weather</td>\n",
       "      <td>NaN</td>\n",
       "      <td>...</td>\n",
       "      <td>1700.5</td>\n",
       "      <td>18.2</td>\n",
       "      <td>2.14</td>\n",
       "      <td>0.60</td>\n",
       "      <td>91.592666</td>\n",
       "      <td>8.407334</td>\n",
       "      <td>5.478743</td>\n",
       "      <td>2015-07-18 02:00:00.000000000</td>\n",
       "      <td>2015-07-19 07:00:00.000000000</td>\n",
       "      <td>7.0</td>\n",
       "    </tr>\n",
       "    <tr>\n",
       "      <th>...</th>\n",
       "      <td>...</td>\n",
       "      <td>...</td>\n",
       "      <td>...</td>\n",
       "      <td>...</td>\n",
       "      <td>...</td>\n",
       "      <td>...</td>\n",
       "      <td>...</td>\n",
       "      <td>...</td>\n",
       "      <td>...</td>\n",
       "      <td>...</td>\n",
       "      <td>...</td>\n",
       "      <td>...</td>\n",
       "      <td>...</td>\n",
       "      <td>...</td>\n",
       "      <td>...</td>\n",
       "      <td>...</td>\n",
       "      <td>...</td>\n",
       "      <td>...</td>\n",
       "      <td>...</td>\n",
       "      <td>...</td>\n",
       "      <td>...</td>\n",
       "    </tr>\n",
       "    <tr>\n",
       "      <th>1530</th>\n",
       "      <td>2011.0</td>\n",
       "      <td>12.0</td>\n",
       "      <td>North Dakota</td>\n",
       "      <td>ND</td>\n",
       "      <td>MRO</td>\n",
       "      <td>West North Central</td>\n",
       "      <td>-0.9000</td>\n",
       "      <td>cold</td>\n",
       "      <td>public appeal</td>\n",
       "      <td>NaN</td>\n",
       "      <td>...</td>\n",
       "      <td>1868.2</td>\n",
       "      <td>3.9</td>\n",
       "      <td>0.27</td>\n",
       "      <td>0.10</td>\n",
       "      <td>97.599649</td>\n",
       "      <td>2.401765</td>\n",
       "      <td>2.401765</td>\n",
       "      <td>2011-12-06 08:00:00.000000000</td>\n",
       "      <td>2011-12-06 20:00:00.000000000</td>\n",
       "      <td>12.0</td>\n",
       "    </tr>\n",
       "    <tr>\n",
       "      <th>1531</th>\n",
       "      <td>2006.0</td>\n",
       "      <td>NaN</td>\n",
       "      <td>North Dakota</td>\n",
       "      <td>ND</td>\n",
       "      <td>MRO</td>\n",
       "      <td>West North Central</td>\n",
       "      <td>-0.2375</td>\n",
       "      <td>NaN</td>\n",
       "      <td>fuel supply emergency</td>\n",
       "      <td>Coal</td>\n",
       "      <td>...</td>\n",
       "      <td>1868.2</td>\n",
       "      <td>3.9</td>\n",
       "      <td>0.27</td>\n",
       "      <td>0.10</td>\n",
       "      <td>97.599649</td>\n",
       "      <td>2.401765</td>\n",
       "      <td>2.401765</td>\n",
       "      <td>2010-09-06 16:43:48.750000128</td>\n",
       "      <td>2010-09-07 04:20:22.500000256</td>\n",
       "      <td>nan</td>\n",
       "    </tr>\n",
       "    <tr>\n",
       "      <th>1532</th>\n",
       "      <td>2009.0</td>\n",
       "      <td>8.0</td>\n",
       "      <td>South Dakota</td>\n",
       "      <td>SD</td>\n",
       "      <td>RFC</td>\n",
       "      <td>West North Central</td>\n",
       "      <td>0.5000</td>\n",
       "      <td>warm</td>\n",
       "      <td>islanding</td>\n",
       "      <td>NaN</td>\n",
       "      <td>...</td>\n",
       "      <td>1905.4</td>\n",
       "      <td>4.7</td>\n",
       "      <td>0.30</td>\n",
       "      <td>0.15</td>\n",
       "      <td>98.307744</td>\n",
       "      <td>1.692256</td>\n",
       "      <td>1.692256</td>\n",
       "      <td>2009-08-29 22:54:00.000000000</td>\n",
       "      <td>2009-08-29 23:53:00.000000000</td>\n",
       "      <td>8.0</td>\n",
       "    </tr>\n",
       "    <tr>\n",
       "      <th>1533</th>\n",
       "      <td>2009.0</td>\n",
       "      <td>8.0</td>\n",
       "      <td>South Dakota</td>\n",
       "      <td>SD</td>\n",
       "      <td>MRO</td>\n",
       "      <td>West North Central</td>\n",
       "      <td>0.5000</td>\n",
       "      <td>warm</td>\n",
       "      <td>islanding</td>\n",
       "      <td>NaN</td>\n",
       "      <td>...</td>\n",
       "      <td>1905.4</td>\n",
       "      <td>4.7</td>\n",
       "      <td>0.30</td>\n",
       "      <td>0.15</td>\n",
       "      <td>98.307744</td>\n",
       "      <td>1.692256</td>\n",
       "      <td>1.692256</td>\n",
       "      <td>2009-08-29 11:00:00.000000000</td>\n",
       "      <td>2009-08-29 14:01:00.000000000</td>\n",
       "      <td>8.0</td>\n",
       "    </tr>\n",
       "    <tr>\n",
       "      <th>1534</th>\n",
       "      <td>2000.0</td>\n",
       "      <td>NaN</td>\n",
       "      <td>Alaska</td>\n",
       "      <td>AK</td>\n",
       "      <td>ASCC</td>\n",
       "      <td>Alaska</td>\n",
       "      <td>NaN</td>\n",
       "      <td>NaN</td>\n",
       "      <td>equipment failure</td>\n",
       "      <td>failure</td>\n",
       "      <td>...</td>\n",
       "      <td>1276.0</td>\n",
       "      <td>0.4</td>\n",
       "      <td>0.05</td>\n",
       "      <td>0.02</td>\n",
       "      <td>85.761154</td>\n",
       "      <td>14.238846</td>\n",
       "      <td>2.901182</td>\n",
       "      <td>NaT</td>\n",
       "      <td>NaT</td>\n",
       "      <td>nan</td>\n",
       "    </tr>\n",
       "  </tbody>\n",
       "</table>\n",
       "<p>1534 rows × 54 columns</p>\n",
       "</div>"
      ],
      "text/plain": [
       "        YEAR  MONTH    U.S._STATE POSTAL.CODE NERC.REGION      CLIMATE.REGION  \\\n",
       "1     2011.0    7.0     Minnesota          MN         MRO  East North Central   \n",
       "2     2014.0    5.0     Minnesota          MN         MRO  East North Central   \n",
       "3     2010.0   10.0     Minnesota          MN         MRO  East North Central   \n",
       "4     2012.0    6.0     Minnesota          MN         MRO  East North Central   \n",
       "5     2015.0    7.0     Minnesota          MN         MRO  East North Central   \n",
       "...      ...    ...           ...         ...         ...                 ...   \n",
       "1530  2011.0   12.0  North Dakota          ND         MRO  West North Central   \n",
       "1531  2006.0    NaN  North Dakota          ND         MRO  West North Central   \n",
       "1532  2009.0    8.0  South Dakota          SD         RFC  West North Central   \n",
       "1533  2009.0    8.0  South Dakota          SD         MRO  West North Central   \n",
       "1534  2000.0    NaN        Alaska          AK        ASCC              Alaska   \n",
       "\n",
       "      ANOMALY.LEVEL CLIMATE.CATEGORY         CAUSE.CATEGORY  \\\n",
       "1           -0.3000           normal         severe weather   \n",
       "2           -0.1000           normal     intentional attack   \n",
       "3           -1.5000             cold         severe weather   \n",
       "4           -0.1000           normal         severe weather   \n",
       "5            1.2000             warm         severe weather   \n",
       "...             ...              ...                    ...   \n",
       "1530        -0.9000             cold          public appeal   \n",
       "1531        -0.2375              NaN  fuel supply emergency   \n",
       "1532         0.5000             warm              islanding   \n",
       "1533         0.5000             warm              islanding   \n",
       "1534            NaN              NaN      equipment failure   \n",
       "\n",
       "     CAUSE.CATEGORY.DETAIL  ... POPDEN_UC  POPDEN_RURAL  AREAPCT_URBAN  \\\n",
       "1                      NaN  ...    1700.5          18.2           2.14   \n",
       "2                vandalism  ...    1700.5          18.2           2.14   \n",
       "3               heavy wind  ...    1700.5          18.2           2.14   \n",
       "4             thunderstorm  ...    1700.5          18.2           2.14   \n",
       "5                      NaN  ...    1700.5          18.2           2.14   \n",
       "...                    ...  ...       ...           ...            ...   \n",
       "1530                   NaN  ...    1868.2           3.9           0.27   \n",
       "1531                  Coal  ...    1868.2           3.9           0.27   \n",
       "1532                   NaN  ...    1905.4           4.7           0.30   \n",
       "1533                   NaN  ...    1905.4           4.7           0.30   \n",
       "1534               failure  ...    1276.0           0.4           0.05   \n",
       "\n",
       "      AREAPCT_UC   PCT_LAND  PCT_WATER_TOT  PCT_WATER_INLAND  \\\n",
       "1           0.60  91.592666       8.407334          5.478743   \n",
       "2           0.60  91.592666       8.407334          5.478743   \n",
       "3           0.60  91.592666       8.407334          5.478743   \n",
       "4           0.60  91.592666       8.407334          5.478743   \n",
       "5           0.60  91.592666       8.407334          5.478743   \n",
       "...          ...        ...            ...               ...   \n",
       "1530        0.10  97.599649       2.401765          2.401765   \n",
       "1531        0.10  97.599649       2.401765          2.401765   \n",
       "1532        0.15  98.307744       1.692256          1.692256   \n",
       "1533        0.15  98.307744       1.692256          1.692256   \n",
       "1534        0.02  85.761154      14.238846          2.901182   \n",
       "\n",
       "                      OUTAGE.START            OUTAGE.RESTORATION  MONTH_STRING  \n",
       "1    2011-07-01 17:00:00.000000000 2011-07-03 20:00:00.000000000           7.0  \n",
       "2    2014-05-11 18:38:00.000000000 2014-05-11 18:39:00.000000000           5.0  \n",
       "3    2010-10-26 20:00:00.000000000 2010-10-28 22:00:00.000000000          10.0  \n",
       "4    2012-06-19 04:30:00.000000000 2012-06-20 23:00:00.000000000           6.0  \n",
       "5    2015-07-18 02:00:00.000000000 2015-07-19 07:00:00.000000000           7.0  \n",
       "...                            ...                           ...           ...  \n",
       "1530 2011-12-06 08:00:00.000000000 2011-12-06 20:00:00.000000000          12.0  \n",
       "1531 2010-09-06 16:43:48.750000128 2010-09-07 04:20:22.500000256           nan  \n",
       "1532 2009-08-29 22:54:00.000000000 2009-08-29 23:53:00.000000000           8.0  \n",
       "1533 2009-08-29 11:00:00.000000000 2009-08-29 14:01:00.000000000           8.0  \n",
       "1534                           NaT                           NaT           nan  \n",
       "\n",
       "[1534 rows x 54 columns]"
      ]
     },
     "execution_count": 63,
     "metadata": {},
     "output_type": "execute_result"
    }
   ],
   "source": [
    "df"
   ]
  },
  {
   "cell_type": "code",
   "execution_count": null,
   "metadata": {},
   "outputs": [],
   "source": [
    "severe_weather_df = df[df['CAUSE.CATEGORY'] == 'severe weather']\n",
    "\n",
    "# # Separate data by climate conditions\n",
    "# normal_climate = severe_weather_df[severe_weather_df['CLIMATE.CATEGORY'] == 'normal']\n",
    "# warm_climate = severe_weather_df[severe_weather_df['CLIMATE.CATEGORY'] == 'warm']\n",
    "\n",
    "# # Calculate the number of affected customers\n",
    "# normal_affected = normal_climate['CUSTOMERS.AFFECTED']\n",
    "# warm_affected = warm_climate['CUSTOMERS.AFFECTED']\n",
    "def observed_statistic(df):\n",
    "    normal_climate = df[df['CLIMATE.CATEGORY'] == 'normal']\n",
    "    warm_climate = df[df['CLIMATE.CATEGORY'] == 'warm']\n",
    "    normal_affected = normal_climate['CUSTOMERS.AFFECTED'].sum()\n",
    "    warm_affected = warm_climate['CUSTOMERS.AFFECTED'].sum()\n",
    "    return normal_affected / len(normal_climate), warm_affected / len(warm_climate)\n",
    "\n",
    "def simulate_null_distribution(df, N):\n",
    "    np.random.seed(0)\n",
    "    total_customers = df['CUSTOMERS.AFFECTED'].sum()\n",
    "    proportions = [len(df[df['CLIMATE.CATEGORY'] == 'normal']) / len(df),\n",
    "                   len(df[df['CLIMATE.CATEGORY'] == 'warm']) / len(df)]\n",
    "    \n",
    "    null_stats = []\n",
    "    \n",
    "    for _ in range(N):\n",
    "        climate_categories = df['CLIMATE.CATEGORY'].values\n",
    "        np.random.shuffle(climate_categories)\n",
    "        df['CLIMATE.CATEGORY'] = climate_categories\n",
    "        normal_ratio, warm_ratio = observed_statistic(df)\n",
    "        null_stats.append(normal_ratio - warm_ratio)\n",
    "    \n",
    "    return np.array(null_stats)"
   ]
  },
  {
   "cell_type": "code",
   "execution_count": null,
   "metadata": {},
   "outputs": [],
   "source": [
    "normal_ratio, warm_ratio = observed_statistic(severe_weather_df)\n",
    "observed_stat = normal_ratio - warm_ratio"
   ]
  },
  {
   "cell_type": "code",
   "execution_count": null,
   "metadata": {},
   "outputs": [
    {
     "name": "stderr",
     "output_type": "stream",
     "text": [
      "C:\\Users\\vinut\\AppData\\Local\\Temp\\ipykernel_26868\\889644102.py:28: SettingWithCopyWarning:\n",
      "\n",
      "\n",
      "A value is trying to be set on a copy of a slice from a DataFrame.\n",
      "Try using .loc[row_indexer,col_indexer] = value instead\n",
      "\n",
      "See the caveats in the documentation: https://pandas.pydata.org/pandas-docs/stable/user_guide/indexing.html#returning-a-view-versus-a-copy\n",
      "\n"
     ]
    }
   ],
   "source": [
    "N = 10000\n",
    "null_distribution = simulate_null_distribution(severe_weather_df, N)"
   ]
  },
  {
   "cell_type": "code",
   "execution_count": null,
   "metadata": {},
   "outputs": [
    {
     "name": "stdout",
     "output_type": "stream",
     "text": [
      "Observed statistic: -4294.701722142781\n",
      "P-value: 0.4335\n"
     ]
    }
   ],
   "source": [
    "p_value = (null_distribution <= observed_stat).mean()\n",
    "\n",
    "# Output the result\n",
    "print(f'Observed statistic: {observed_stat}')\n",
    "print(f'P-value: {p_value}')\n",
    "\n",
    "# Conclude based on the p-value\n",
    "alpha = 0.1\n"
   ]
  },
  {
   "cell_type": "code",
   "execution_count": null,
   "metadata": {},
   "outputs": [
    {
     "name": "stdout",
     "output_type": "stream",
     "text": [
      "Fail to reject the null hypothesis\n"
     ]
    }
   ],
   "source": [
    "if p_value < alpha:\n",
    "    print(\"Reject the null hypothesis\")\n",
    "else:\n",
    "    print(\"Fail to reject the null hypothesis\")"
   ]
  },
  {
   "cell_type": "code",
   "execution_count": null,
   "metadata": {},
   "outputs": [],
   "source": []
  },
  {
   "cell_type": "code",
   "execution_count": null,
   "metadata": {},
   "outputs": [],
   "source": []
  },
  {
   "cell_type": "markdown",
   "metadata": {},
   "source": [
    "## Step 4: Hypothesis Testing"
   ]
  },
  {
   "cell_type": "markdown",
   "metadata": {
    "ExecuteTime": {
     "end_time": "2019-10-31T23:36:28.666489Z",
     "start_time": "2019-10-31T23:36:28.664381Z"
    }
   },
   "source": [
    "### Hypotheses\n",
    "The same amount of customers were affected by power outages due to severe weather in normal and warm climate coniditons\n",
    "\n",
    "1. Null Hypothesis: The same amount of customers were affected by power outages due to severe weather in normal and warm climate coniditons\n",
    "\n",
    "2. Alternative Hypothesis: More customers were affected by power outages due to severe weather in normal climate conditions than warm climate conditions\n",
    "\n",
    "if the above doesn't work, amend the null and alternative to look at customers affected by power outages in normal climate and warm climate conditions"
   ]
  },
  {
   "cell_type": "markdown",
   "metadata": {},
   "source": []
  },
  {
   "cell_type": "code",
   "execution_count": null,
   "metadata": {},
   "outputs": [],
   "source": []
  },
  {
   "cell_type": "code",
   "execution_count": null,
   "metadata": {},
   "outputs": [],
   "source": []
  },
  {
   "cell_type": "code",
   "execution_count": null,
   "metadata": {},
   "outputs": [],
   "source": []
  },
  {
   "cell_type": "code",
   "execution_count": null,
   "metadata": {},
   "outputs": [],
   "source": []
  },
  {
   "cell_type": "code",
   "execution_count": null,
   "metadata": {},
   "outputs": [],
   "source": []
  },
  {
   "cell_type": "code",
   "execution_count": null,
   "metadata": {},
   "outputs": [],
   "source": []
  },
  {
   "cell_type": "code",
   "execution_count": null,
   "metadata": {},
   "outputs": [],
   "source": []
  },
  {
   "cell_type": "code",
   "execution_count": null,
   "metadata": {},
   "outputs": [],
   "source": []
  },
  {
   "cell_type": "code",
   "execution_count": null,
   "metadata": {},
   "outputs": [],
   "source": []
  },
  {
   "cell_type": "markdown",
   "metadata": {},
   "source": [
    "## Step 5: Framing a Prediction Problem"
   ]
  },
  {
   "cell_type": "code",
   "execution_count": null,
   "metadata": {
    "ExecuteTime": {
     "end_time": "2019-10-31T23:36:28.657068Z",
     "start_time": "2019-10-31T23:36:28.654650Z"
    }
   },
   "outputs": [],
   "source": [
    "# TODO"
   ]
  },
  {
   "cell_type": "markdown",
   "metadata": {},
   "source": [
    "## Step 6: Baseline Model"
   ]
  },
  {
   "cell_type": "code",
   "execution_count": null,
   "metadata": {
    "ExecuteTime": {
     "end_time": "2019-10-31T23:36:28.662099Z",
     "start_time": "2019-10-31T23:36:28.660016Z"
    }
   },
   "outputs": [],
   "source": [
    "# TODO"
   ]
  },
  {
   "cell_type": "markdown",
   "metadata": {},
   "source": [
    "## Step 7: Final Model"
   ]
  },
  {
   "cell_type": "code",
   "execution_count": null,
   "metadata": {
    "ExecuteTime": {
     "end_time": "2019-10-31T23:36:28.662099Z",
     "start_time": "2019-10-31T23:36:28.660016Z"
    }
   },
   "outputs": [],
   "source": [
    "# TODO"
   ]
  },
  {
   "cell_type": "markdown",
   "metadata": {},
   "source": [
    "## Step 8: Fairness Analysis"
   ]
  },
  {
   "cell_type": "code",
   "execution_count": null,
   "metadata": {
    "ExecuteTime": {
     "end_time": "2019-10-31T23:36:28.666489Z",
     "start_time": "2019-10-31T23:36:28.664381Z"
    }
   },
   "outputs": [],
   "source": [
    "# TODO"
   ]
  }
 ],
 "metadata": {
  "kernelspec": {
   "display_name": "Python 3 (ipykernel)",
   "language": "python",
   "name": "python3"
  },
  "language_info": {
   "codemirror_mode": {
    "name": "ipython",
    "version": 3
   },
   "file_extension": ".py",
   "mimetype": "text/x-python",
   "name": "python",
   "nbconvert_exporter": "python",
   "pygments_lexer": "ipython3",
   "version": "3.8.19"
  }
 },
 "nbformat": 4,
 "nbformat_minor": 2
}
