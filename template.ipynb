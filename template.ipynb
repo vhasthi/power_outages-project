{
 "cells": [
  {
   "cell_type": "markdown",
   "metadata": {},
   "source": [
    "# Your Title Here\n",
    "\n",
    "**Name(s)**: Vinuthna Hasthi and Shreya Musini\n",
    "\n",
    "**Website Link**: (your website link)"
   ]
  },
  {
   "cell_type": "code",
   "execution_count": 111,
   "metadata": {
    "ExecuteTime": {
     "end_time": "2019-10-31T23:36:28.652554Z",
     "start_time": "2019-10-31T23:36:27.180520Z"
    }
   },
   "outputs": [],
   "source": [
    "import pandas as pd\n",
    "import numpy as np\n",
    "from pathlib import Path\n",
    "\n",
    "import plotly.express as px\n",
    "pd.options.plotting.backend = 'plotly'\n",
    "\n",
    "# from dsc80_utils import * # Feel free to uncomment and use this."
   ]
  },
  {
   "cell_type": "code",
   "execution_count": 112,
   "metadata": {},
   "outputs": [
    {
     "name": "stdout",
     "output_type": "stream",
     "text": [
      "Requirement already satisfied: pandas in /Users/shreyamusini/miniforge3/envs/dsc80/lib/python3.8/site-packages (1.3.3)\n",
      "Requirement already satisfied: openpyxl in /Users/shreyamusini/miniforge3/envs/dsc80/lib/python3.8/site-packages (3.1.2)\n",
      "Requirement already satisfied: numpy>=1.17.3 in /Users/shreyamusini/miniforge3/envs/dsc80/lib/python3.8/site-packages (from pandas) (1.21.2)\n",
      "Requirement already satisfied: python-dateutil>=2.7.3 in /Users/shreyamusini/miniforge3/envs/dsc80/lib/python3.8/site-packages (from pandas) (2.8.2)\n",
      "Requirement already satisfied: pytz>=2017.3 in /Users/shreyamusini/miniforge3/envs/dsc80/lib/python3.8/site-packages (from pandas) (2023.3.post1)\n",
      "Requirement already satisfied: et-xmlfile in /Users/shreyamusini/miniforge3/envs/dsc80/lib/python3.8/site-packages (from openpyxl) (1.1.0)\n",
      "Requirement already satisfied: six>=1.5 in /Users/shreyamusini/miniforge3/envs/dsc80/lib/python3.8/site-packages (from python-dateutil>=2.7.3->pandas) (1.16.0)\n",
      "Note: you may need to restart the kernel to use updated packages.\n"
     ]
    }
   ],
   "source": [
    "pip install pandas openpyxl"
   ]
  },
  {
   "cell_type": "markdown",
   "metadata": {},
   "source": [
    "## Step 1: Introduction"
   ]
  },
  {
   "cell_type": "code",
   "execution_count": 134,
   "metadata": {},
   "outputs": [
    {
     "data": {
      "text/html": [
       "<div>\n",
       "<style scoped>\n",
       "    .dataframe tbody tr th:only-of-type {\n",
       "        vertical-align: middle;\n",
       "    }\n",
       "\n",
       "    .dataframe tbody tr th {\n",
       "        vertical-align: top;\n",
       "    }\n",
       "\n",
       "    .dataframe thead th {\n",
       "        text-align: right;\n",
       "    }\n",
       "</style>\n",
       "<table border=\"1\" class=\"dataframe\">\n",
       "  <thead>\n",
       "    <tr style=\"text-align: right;\">\n",
       "      <th></th>\n",
       "      <th>YEAR</th>\n",
       "      <th>MONTH</th>\n",
       "      <th>U.S._STATE</th>\n",
       "      <th>POSTAL.CODE</th>\n",
       "      <th>NERC.REGION</th>\n",
       "      <th>CLIMATE.REGION</th>\n",
       "      <th>ANOMALY.LEVEL</th>\n",
       "      <th>CLIMATE.CATEGORY</th>\n",
       "      <th>OUTAGE.START.DATE</th>\n",
       "      <th>OUTAGE.START.TIME</th>\n",
       "      <th>...</th>\n",
       "      <th>POPPCT_URBAN</th>\n",
       "      <th>POPPCT_UC</th>\n",
       "      <th>POPDEN_URBAN</th>\n",
       "      <th>POPDEN_UC</th>\n",
       "      <th>POPDEN_RURAL</th>\n",
       "      <th>AREAPCT_URBAN</th>\n",
       "      <th>AREAPCT_UC</th>\n",
       "      <th>PCT_LAND</th>\n",
       "      <th>PCT_WATER_TOT</th>\n",
       "      <th>PCT_WATER_INLAND</th>\n",
       "    </tr>\n",
       "  </thead>\n",
       "  <tbody>\n",
       "    <tr>\n",
       "      <th>1</th>\n",
       "      <td>2011.0</td>\n",
       "      <td>7.0</td>\n",
       "      <td>Minnesota</td>\n",
       "      <td>MN</td>\n",
       "      <td>MRO</td>\n",
       "      <td>East North Central</td>\n",
       "      <td>-0.3</td>\n",
       "      <td>normal</td>\n",
       "      <td>2011-07-01 00:00:00</td>\n",
       "      <td>17:00:00</td>\n",
       "      <td>...</td>\n",
       "      <td>73.27</td>\n",
       "      <td>15.28</td>\n",
       "      <td>2279</td>\n",
       "      <td>1700.5</td>\n",
       "      <td>18.2</td>\n",
       "      <td>2.14</td>\n",
       "      <td>0.6</td>\n",
       "      <td>91.592666</td>\n",
       "      <td>8.407334</td>\n",
       "      <td>5.478743</td>\n",
       "    </tr>\n",
       "    <tr>\n",
       "      <th>2</th>\n",
       "      <td>2014.0</td>\n",
       "      <td>5.0</td>\n",
       "      <td>Minnesota</td>\n",
       "      <td>MN</td>\n",
       "      <td>MRO</td>\n",
       "      <td>East North Central</td>\n",
       "      <td>-0.1</td>\n",
       "      <td>normal</td>\n",
       "      <td>2014-05-11 00:00:00</td>\n",
       "      <td>18:38:00</td>\n",
       "      <td>...</td>\n",
       "      <td>73.27</td>\n",
       "      <td>15.28</td>\n",
       "      <td>2279</td>\n",
       "      <td>1700.5</td>\n",
       "      <td>18.2</td>\n",
       "      <td>2.14</td>\n",
       "      <td>0.6</td>\n",
       "      <td>91.592666</td>\n",
       "      <td>8.407334</td>\n",
       "      <td>5.478743</td>\n",
       "    </tr>\n",
       "    <tr>\n",
       "      <th>3</th>\n",
       "      <td>2010.0</td>\n",
       "      <td>10.0</td>\n",
       "      <td>Minnesota</td>\n",
       "      <td>MN</td>\n",
       "      <td>MRO</td>\n",
       "      <td>East North Central</td>\n",
       "      <td>-1.5</td>\n",
       "      <td>cold</td>\n",
       "      <td>2010-10-26 00:00:00</td>\n",
       "      <td>20:00:00</td>\n",
       "      <td>...</td>\n",
       "      <td>73.27</td>\n",
       "      <td>15.28</td>\n",
       "      <td>2279</td>\n",
       "      <td>1700.5</td>\n",
       "      <td>18.2</td>\n",
       "      <td>2.14</td>\n",
       "      <td>0.6</td>\n",
       "      <td>91.592666</td>\n",
       "      <td>8.407334</td>\n",
       "      <td>5.478743</td>\n",
       "    </tr>\n",
       "    <tr>\n",
       "      <th>4</th>\n",
       "      <td>2012.0</td>\n",
       "      <td>6.0</td>\n",
       "      <td>Minnesota</td>\n",
       "      <td>MN</td>\n",
       "      <td>MRO</td>\n",
       "      <td>East North Central</td>\n",
       "      <td>-0.1</td>\n",
       "      <td>normal</td>\n",
       "      <td>2012-06-19 00:00:00</td>\n",
       "      <td>04:30:00</td>\n",
       "      <td>...</td>\n",
       "      <td>73.27</td>\n",
       "      <td>15.28</td>\n",
       "      <td>2279</td>\n",
       "      <td>1700.5</td>\n",
       "      <td>18.2</td>\n",
       "      <td>2.14</td>\n",
       "      <td>0.6</td>\n",
       "      <td>91.592666</td>\n",
       "      <td>8.407334</td>\n",
       "      <td>5.478743</td>\n",
       "    </tr>\n",
       "    <tr>\n",
       "      <th>5</th>\n",
       "      <td>2015.0</td>\n",
       "      <td>7.0</td>\n",
       "      <td>Minnesota</td>\n",
       "      <td>MN</td>\n",
       "      <td>MRO</td>\n",
       "      <td>East North Central</td>\n",
       "      <td>1.2</td>\n",
       "      <td>warm</td>\n",
       "      <td>2015-07-18 00:00:00</td>\n",
       "      <td>02:00:00</td>\n",
       "      <td>...</td>\n",
       "      <td>73.27</td>\n",
       "      <td>15.28</td>\n",
       "      <td>2279</td>\n",
       "      <td>1700.5</td>\n",
       "      <td>18.2</td>\n",
       "      <td>2.14</td>\n",
       "      <td>0.6</td>\n",
       "      <td>91.592666</td>\n",
       "      <td>8.407334</td>\n",
       "      <td>5.478743</td>\n",
       "    </tr>\n",
       "    <tr>\n",
       "      <th>...</th>\n",
       "      <td>...</td>\n",
       "      <td>...</td>\n",
       "      <td>...</td>\n",
       "      <td>...</td>\n",
       "      <td>...</td>\n",
       "      <td>...</td>\n",
       "      <td>...</td>\n",
       "      <td>...</td>\n",
       "      <td>...</td>\n",
       "      <td>...</td>\n",
       "      <td>...</td>\n",
       "      <td>...</td>\n",
       "      <td>...</td>\n",
       "      <td>...</td>\n",
       "      <td>...</td>\n",
       "      <td>...</td>\n",
       "      <td>...</td>\n",
       "      <td>...</td>\n",
       "      <td>...</td>\n",
       "      <td>...</td>\n",
       "      <td>...</td>\n",
       "    </tr>\n",
       "    <tr>\n",
       "      <th>1530</th>\n",
       "      <td>2011.0</td>\n",
       "      <td>12.0</td>\n",
       "      <td>North Dakota</td>\n",
       "      <td>ND</td>\n",
       "      <td>MRO</td>\n",
       "      <td>West North Central</td>\n",
       "      <td>-0.9</td>\n",
       "      <td>cold</td>\n",
       "      <td>2011-12-06 00:00:00</td>\n",
       "      <td>08:00:00</td>\n",
       "      <td>...</td>\n",
       "      <td>59.9</td>\n",
       "      <td>19.9</td>\n",
       "      <td>2192.2</td>\n",
       "      <td>1868.2</td>\n",
       "      <td>3.9</td>\n",
       "      <td>0.27</td>\n",
       "      <td>0.1</td>\n",
       "      <td>97.599649</td>\n",
       "      <td>2.401765</td>\n",
       "      <td>2.401765</td>\n",
       "    </tr>\n",
       "    <tr>\n",
       "      <th>1531</th>\n",
       "      <td>2006.0</td>\n",
       "      <td>NaN</td>\n",
       "      <td>North Dakota</td>\n",
       "      <td>ND</td>\n",
       "      <td>MRO</td>\n",
       "      <td>West North Central</td>\n",
       "      <td>NaN</td>\n",
       "      <td>NaN</td>\n",
       "      <td>NaN</td>\n",
       "      <td>NaN</td>\n",
       "      <td>...</td>\n",
       "      <td>59.9</td>\n",
       "      <td>19.9</td>\n",
       "      <td>2192.2</td>\n",
       "      <td>1868.2</td>\n",
       "      <td>3.9</td>\n",
       "      <td>0.27</td>\n",
       "      <td>0.1</td>\n",
       "      <td>97.599649</td>\n",
       "      <td>2.401765</td>\n",
       "      <td>2.401765</td>\n",
       "    </tr>\n",
       "    <tr>\n",
       "      <th>1532</th>\n",
       "      <td>2009.0</td>\n",
       "      <td>8.0</td>\n",
       "      <td>South Dakota</td>\n",
       "      <td>SD</td>\n",
       "      <td>RFC</td>\n",
       "      <td>West North Central</td>\n",
       "      <td>0.5</td>\n",
       "      <td>warm</td>\n",
       "      <td>2009-08-29 00:00:00</td>\n",
       "      <td>22:54:00</td>\n",
       "      <td>...</td>\n",
       "      <td>56.65</td>\n",
       "      <td>26.73</td>\n",
       "      <td>2038.3</td>\n",
       "      <td>1905.4</td>\n",
       "      <td>4.7</td>\n",
       "      <td>0.3</td>\n",
       "      <td>0.15</td>\n",
       "      <td>98.307744</td>\n",
       "      <td>1.692256</td>\n",
       "      <td>1.692256</td>\n",
       "    </tr>\n",
       "    <tr>\n",
       "      <th>1533</th>\n",
       "      <td>2009.0</td>\n",
       "      <td>8.0</td>\n",
       "      <td>South Dakota</td>\n",
       "      <td>SD</td>\n",
       "      <td>MRO</td>\n",
       "      <td>West North Central</td>\n",
       "      <td>0.5</td>\n",
       "      <td>warm</td>\n",
       "      <td>2009-08-29 00:00:00</td>\n",
       "      <td>11:00:00</td>\n",
       "      <td>...</td>\n",
       "      <td>56.65</td>\n",
       "      <td>26.73</td>\n",
       "      <td>2038.3</td>\n",
       "      <td>1905.4</td>\n",
       "      <td>4.7</td>\n",
       "      <td>0.3</td>\n",
       "      <td>0.15</td>\n",
       "      <td>98.307744</td>\n",
       "      <td>1.692256</td>\n",
       "      <td>1.692256</td>\n",
       "    </tr>\n",
       "    <tr>\n",
       "      <th>1534</th>\n",
       "      <td>2000.0</td>\n",
       "      <td>NaN</td>\n",
       "      <td>Alaska</td>\n",
       "      <td>AK</td>\n",
       "      <td>ASCC</td>\n",
       "      <td>NaN</td>\n",
       "      <td>NaN</td>\n",
       "      <td>NaN</td>\n",
       "      <td>NaN</td>\n",
       "      <td>NaN</td>\n",
       "      <td>...</td>\n",
       "      <td>66.02</td>\n",
       "      <td>21.56</td>\n",
       "      <td>1802.6</td>\n",
       "      <td>1276</td>\n",
       "      <td>0.4</td>\n",
       "      <td>0.05</td>\n",
       "      <td>0.02</td>\n",
       "      <td>85.761154</td>\n",
       "      <td>14.238846</td>\n",
       "      <td>2.901182</td>\n",
       "    </tr>\n",
       "  </tbody>\n",
       "</table>\n",
       "<p>1534 rows × 55 columns</p>\n",
       "</div>"
      ],
      "text/plain": [
       "        YEAR  MONTH    U.S._STATE POSTAL.CODE NERC.REGION      CLIMATE.REGION  \\\n",
       "1     2011.0    7.0     Minnesota          MN         MRO  East North Central   \n",
       "2     2014.0    5.0     Minnesota          MN         MRO  East North Central   \n",
       "3     2010.0   10.0     Minnesota          MN         MRO  East North Central   \n",
       "4     2012.0    6.0     Minnesota          MN         MRO  East North Central   \n",
       "5     2015.0    7.0     Minnesota          MN         MRO  East North Central   \n",
       "...      ...    ...           ...         ...         ...                 ...   \n",
       "1530  2011.0   12.0  North Dakota          ND         MRO  West North Central   \n",
       "1531  2006.0    NaN  North Dakota          ND         MRO  West North Central   \n",
       "1532  2009.0    8.0  South Dakota          SD         RFC  West North Central   \n",
       "1533  2009.0    8.0  South Dakota          SD         MRO  West North Central   \n",
       "1534  2000.0    NaN        Alaska          AK        ASCC                 NaN   \n",
       "\n",
       "     ANOMALY.LEVEL CLIMATE.CATEGORY    OUTAGE.START.DATE OUTAGE.START.TIME  \\\n",
       "1             -0.3           normal  2011-07-01 00:00:00          17:00:00   \n",
       "2             -0.1           normal  2014-05-11 00:00:00          18:38:00   \n",
       "3             -1.5             cold  2010-10-26 00:00:00          20:00:00   \n",
       "4             -0.1           normal  2012-06-19 00:00:00          04:30:00   \n",
       "5              1.2             warm  2015-07-18 00:00:00          02:00:00   \n",
       "...            ...              ...                  ...               ...   \n",
       "1530          -0.9             cold  2011-12-06 00:00:00          08:00:00   \n",
       "1531           NaN              NaN                  NaN               NaN   \n",
       "1532           0.5             warm  2009-08-29 00:00:00          22:54:00   \n",
       "1533           0.5             warm  2009-08-29 00:00:00          11:00:00   \n",
       "1534           NaN              NaN                  NaN               NaN   \n",
       "\n",
       "      ... POPPCT_URBAN POPPCT_UC POPDEN_URBAN POPDEN_UC POPDEN_RURAL  \\\n",
       "1     ...        73.27     15.28         2279    1700.5         18.2   \n",
       "2     ...        73.27     15.28         2279    1700.5         18.2   \n",
       "3     ...        73.27     15.28         2279    1700.5         18.2   \n",
       "4     ...        73.27     15.28         2279    1700.5         18.2   \n",
       "5     ...        73.27     15.28         2279    1700.5         18.2   \n",
       "...   ...          ...       ...          ...       ...          ...   \n",
       "1530  ...         59.9      19.9       2192.2    1868.2          3.9   \n",
       "1531  ...         59.9      19.9       2192.2    1868.2          3.9   \n",
       "1532  ...        56.65     26.73       2038.3    1905.4          4.7   \n",
       "1533  ...        56.65     26.73       2038.3    1905.4          4.7   \n",
       "1534  ...        66.02     21.56       1802.6      1276          0.4   \n",
       "\n",
       "     AREAPCT_URBAN AREAPCT_UC   PCT_LAND PCT_WATER_TOT PCT_WATER_INLAND  \n",
       "1             2.14        0.6  91.592666      8.407334         5.478743  \n",
       "2             2.14        0.6  91.592666      8.407334         5.478743  \n",
       "3             2.14        0.6  91.592666      8.407334         5.478743  \n",
       "4             2.14        0.6  91.592666      8.407334         5.478743  \n",
       "5             2.14        0.6  91.592666      8.407334         5.478743  \n",
       "...            ...        ...        ...           ...              ...  \n",
       "1530          0.27        0.1  97.599649      2.401765         2.401765  \n",
       "1531          0.27        0.1  97.599649      2.401765         2.401765  \n",
       "1532           0.3       0.15  98.307744      1.692256         1.692256  \n",
       "1533           0.3       0.15  98.307744      1.692256         1.692256  \n",
       "1534          0.05       0.02  85.761154     14.238846         2.901182  \n",
       "\n",
       "[1534 rows x 55 columns]"
      ]
     },
     "execution_count": 134,
     "metadata": {},
     "output_type": "execute_result"
    }
   ],
   "source": [
    "df = pd.read_excel('/Users/shreyamusini/Downloads/outage.xlsx', header = 5)\n",
    "df = df.drop([0])\n",
    "df = df.drop(df.columns[0], axis = 1)\n",
    "df = df.drop(df.columns[0], axis = 1)\n",
    "df"
   ]
  },
  {
   "cell_type": "markdown",
   "metadata": {},
   "source": [
    "## Step 2: Data Cleaning and Exploratory Data Analysis"
   ]
  },
  {
   "cell_type": "code",
   "execution_count": 135,
   "metadata": {
    "ExecuteTime": {
     "end_time": "2019-10-31T23:36:28.657068Z",
     "start_time": "2019-10-31T23:36:28.654650Z"
    }
   },
   "outputs": [],
   "source": [
    "# comb = df['OUTAGE.START.DATE'][1].time() + df['OUTAGE.START.TIME'][1]\n",
    "# comb\n",
    "# df['OUTAGE.START.DATE'][1]\n",
    "# df['OUTAGE.START.DATE'][1].time() = df['OUTAGE.START.TIME'][1]\n",
    "# df['OUTAGE.START.TIME'][1]\n",
    "# def replace_time(dt, new_time):\n",
    "#     return pd.datetime.combine(dt.date(), new_time)\n",
    "# comb = df.apply(lambda x: replace_time(x['OUTAGE.START.DATE'], x['OUTAGE.START.TIME']), axis = 1)\n",
    "# comb"
   ]
  },
  {
   "cell_type": "code",
   "execution_count": 136,
   "metadata": {},
   "outputs": [
    {
     "data": {
      "text/plain": [
       "datetime.datetime"
      ]
     },
     "execution_count": 136,
     "metadata": {},
     "output_type": "execute_result"
    }
   ],
   "source": [
    "type(df['OUTAGE.START.DATE'].iloc[1])"
   ]
  },
  {
   "cell_type": "code",
   "execution_count": 137,
   "metadata": {},
   "outputs": [],
   "source": [
    "# df['OUTAGE.START.DATE'] = pd.to_datetime(df['OUTAGE.START.DATE'])\n",
    "df['OUTAGE.START.DATE'] = df['OUTAGE.START.DATE'].astype(str)\n",
    "df['OUTAGE.START.DATE'] = pd.to_datetime(df['OUTAGE.START.DATE'])"
   ]
  },
  {
   "cell_type": "code",
   "execution_count": 138,
   "metadata": {},
   "outputs": [],
   "source": [
    "df['OUTAGE.START.TIME'] = df['OUTAGE.START.TIME'].astype(str)\n",
    "df['OUTAGE.START.TIME'] = pd.to_timedelta(df['OUTAGE.START.TIME'])"
   ]
  },
  {
   "cell_type": "code",
   "execution_count": 139,
   "metadata": {},
   "outputs": [
    {
     "data": {
      "text/plain": [
       "1      2011-07-01 17:00:00\n",
       "2      2014-05-11 18:38:00\n",
       "3      2010-10-26 20:00:00\n",
       "4      2012-06-19 04:30:00\n",
       "5      2015-07-18 02:00:00\n",
       "               ...        \n",
       "1530   2011-12-06 08:00:00\n",
       "1531                   NaT\n",
       "1532   2009-08-29 22:54:00\n",
       "1533   2009-08-29 11:00:00\n",
       "1534                   NaT\n",
       "Name: OUTAGE.START, Length: 1534, dtype: datetime64[ns]"
      ]
     },
     "execution_count": 139,
     "metadata": {},
     "output_type": "execute_result"
    }
   ],
   "source": [
    "df['OUTAGE.START'] = df['OUTAGE.START.DATE'] + df['OUTAGE.START.TIME']\n",
    "df['OUTAGE.START']"
   ]
  },
  {
   "cell_type": "code",
   "execution_count": 140,
   "metadata": {},
   "outputs": [
    {
     "data": {
      "text/plain": [
       "1      2011-07-03 20:00:00\n",
       "2      2014-05-11 18:39:00\n",
       "3      2010-10-28 22:00:00\n",
       "4      2012-06-20 23:00:00\n",
       "5      2015-07-19 07:00:00\n",
       "               ...        \n",
       "1530   2011-12-06 20:00:00\n",
       "1531                   NaT\n",
       "1532   2009-08-29 23:53:00\n",
       "1533   2009-08-29 14:01:00\n",
       "1534                   NaT\n",
       "Name: OUTAGE.RESTORATION, Length: 1534, dtype: datetime64[ns]"
      ]
     },
     "execution_count": 140,
     "metadata": {},
     "output_type": "execute_result"
    }
   ],
   "source": [
    "df['OUTAGE.RESTORATION.DATE.DATE'] = df['OUTAGE.RESTORATION.DATE'].astype(str)\n",
    "df['OUTAGE.RESTORATION.DATE'] = pd.to_datetime(df['OUTAGE.RESTORATION.DATE'])\n",
    "df['OUTAGE.RESTORATION.TIME'] = df['OUTAGE.RESTORATION.TIME'].astype(str)\n",
    "df['OUTAGE.RESTORATION.TIME'] = pd.to_timedelta(df['OUTAGE.RESTORATION.TIME'])\n",
    "df['OUTAGE.RESTORATION'] = df['OUTAGE.RESTORATION.DATE'] + df['OUTAGE.RESTORATION.TIME']\n",
    "df['OUTAGE.RESTORATION']"
   ]
  },
  {
   "cell_type": "code",
   "execution_count": 142,
   "metadata": {},
   "outputs": [],
   "source": [
    "df = df.drop(columns = ['OUTAGE.START.DATE', 'OUTAGE.START.TIME', 'OUTAGE.RESTORATION.DATE','OUTAGE.RESTORATION.DATE.DATE', 'OUTAGE.RESTORATION.TIME'])"
   ]
  },
  {
   "cell_type": "code",
   "execution_count": 143,
   "metadata": {},
   "outputs": [
    {
     "data": {
      "text/html": [
       "<div>\n",
       "<style scoped>\n",
       "    .dataframe tbody tr th:only-of-type {\n",
       "        vertical-align: middle;\n",
       "    }\n",
       "\n",
       "    .dataframe tbody tr th {\n",
       "        vertical-align: top;\n",
       "    }\n",
       "\n",
       "    .dataframe thead th {\n",
       "        text-align: right;\n",
       "    }\n",
       "</style>\n",
       "<table border=\"1\" class=\"dataframe\">\n",
       "  <thead>\n",
       "    <tr style=\"text-align: right;\">\n",
       "      <th></th>\n",
       "      <th>YEAR</th>\n",
       "      <th>MONTH</th>\n",
       "      <th>U.S._STATE</th>\n",
       "      <th>POSTAL.CODE</th>\n",
       "      <th>NERC.REGION</th>\n",
       "      <th>CLIMATE.REGION</th>\n",
       "      <th>ANOMALY.LEVEL</th>\n",
       "      <th>CLIMATE.CATEGORY</th>\n",
       "      <th>CAUSE.CATEGORY</th>\n",
       "      <th>CAUSE.CATEGORY.DETAIL</th>\n",
       "      <th>...</th>\n",
       "      <th>POPDEN_URBAN</th>\n",
       "      <th>POPDEN_UC</th>\n",
       "      <th>POPDEN_RURAL</th>\n",
       "      <th>AREAPCT_URBAN</th>\n",
       "      <th>AREAPCT_UC</th>\n",
       "      <th>PCT_LAND</th>\n",
       "      <th>PCT_WATER_TOT</th>\n",
       "      <th>PCT_WATER_INLAND</th>\n",
       "      <th>OUTAGE.START</th>\n",
       "      <th>OUTAGE.RESTORATION</th>\n",
       "    </tr>\n",
       "  </thead>\n",
       "  <tbody>\n",
       "    <tr>\n",
       "      <th>1</th>\n",
       "      <td>2011.0</td>\n",
       "      <td>7.0</td>\n",
       "      <td>Minnesota</td>\n",
       "      <td>MN</td>\n",
       "      <td>MRO</td>\n",
       "      <td>East North Central</td>\n",
       "      <td>-0.3</td>\n",
       "      <td>normal</td>\n",
       "      <td>severe weather</td>\n",
       "      <td>NaN</td>\n",
       "      <td>...</td>\n",
       "      <td>2279</td>\n",
       "      <td>1700.5</td>\n",
       "      <td>18.2</td>\n",
       "      <td>2.14</td>\n",
       "      <td>0.6</td>\n",
       "      <td>91.592666</td>\n",
       "      <td>8.407334</td>\n",
       "      <td>5.478743</td>\n",
       "      <td>2011-07-01 17:00:00</td>\n",
       "      <td>2011-07-03 20:00:00</td>\n",
       "    </tr>\n",
       "    <tr>\n",
       "      <th>2</th>\n",
       "      <td>2014.0</td>\n",
       "      <td>5.0</td>\n",
       "      <td>Minnesota</td>\n",
       "      <td>MN</td>\n",
       "      <td>MRO</td>\n",
       "      <td>East North Central</td>\n",
       "      <td>-0.1</td>\n",
       "      <td>normal</td>\n",
       "      <td>intentional attack</td>\n",
       "      <td>vandalism</td>\n",
       "      <td>...</td>\n",
       "      <td>2279</td>\n",
       "      <td>1700.5</td>\n",
       "      <td>18.2</td>\n",
       "      <td>2.14</td>\n",
       "      <td>0.6</td>\n",
       "      <td>91.592666</td>\n",
       "      <td>8.407334</td>\n",
       "      <td>5.478743</td>\n",
       "      <td>2014-05-11 18:38:00</td>\n",
       "      <td>2014-05-11 18:39:00</td>\n",
       "    </tr>\n",
       "    <tr>\n",
       "      <th>3</th>\n",
       "      <td>2010.0</td>\n",
       "      <td>10.0</td>\n",
       "      <td>Minnesota</td>\n",
       "      <td>MN</td>\n",
       "      <td>MRO</td>\n",
       "      <td>East North Central</td>\n",
       "      <td>-1.5</td>\n",
       "      <td>cold</td>\n",
       "      <td>severe weather</td>\n",
       "      <td>heavy wind</td>\n",
       "      <td>...</td>\n",
       "      <td>2279</td>\n",
       "      <td>1700.5</td>\n",
       "      <td>18.2</td>\n",
       "      <td>2.14</td>\n",
       "      <td>0.6</td>\n",
       "      <td>91.592666</td>\n",
       "      <td>8.407334</td>\n",
       "      <td>5.478743</td>\n",
       "      <td>2010-10-26 20:00:00</td>\n",
       "      <td>2010-10-28 22:00:00</td>\n",
       "    </tr>\n",
       "    <tr>\n",
       "      <th>4</th>\n",
       "      <td>2012.0</td>\n",
       "      <td>6.0</td>\n",
       "      <td>Minnesota</td>\n",
       "      <td>MN</td>\n",
       "      <td>MRO</td>\n",
       "      <td>East North Central</td>\n",
       "      <td>-0.1</td>\n",
       "      <td>normal</td>\n",
       "      <td>severe weather</td>\n",
       "      <td>thunderstorm</td>\n",
       "      <td>...</td>\n",
       "      <td>2279</td>\n",
       "      <td>1700.5</td>\n",
       "      <td>18.2</td>\n",
       "      <td>2.14</td>\n",
       "      <td>0.6</td>\n",
       "      <td>91.592666</td>\n",
       "      <td>8.407334</td>\n",
       "      <td>5.478743</td>\n",
       "      <td>2012-06-19 04:30:00</td>\n",
       "      <td>2012-06-20 23:00:00</td>\n",
       "    </tr>\n",
       "    <tr>\n",
       "      <th>5</th>\n",
       "      <td>2015.0</td>\n",
       "      <td>7.0</td>\n",
       "      <td>Minnesota</td>\n",
       "      <td>MN</td>\n",
       "      <td>MRO</td>\n",
       "      <td>East North Central</td>\n",
       "      <td>1.2</td>\n",
       "      <td>warm</td>\n",
       "      <td>severe weather</td>\n",
       "      <td>NaN</td>\n",
       "      <td>...</td>\n",
       "      <td>2279</td>\n",
       "      <td>1700.5</td>\n",
       "      <td>18.2</td>\n",
       "      <td>2.14</td>\n",
       "      <td>0.6</td>\n",
       "      <td>91.592666</td>\n",
       "      <td>8.407334</td>\n",
       "      <td>5.478743</td>\n",
       "      <td>2015-07-18 02:00:00</td>\n",
       "      <td>2015-07-19 07:00:00</td>\n",
       "    </tr>\n",
       "    <tr>\n",
       "      <th>...</th>\n",
       "      <td>...</td>\n",
       "      <td>...</td>\n",
       "      <td>...</td>\n",
       "      <td>...</td>\n",
       "      <td>...</td>\n",
       "      <td>...</td>\n",
       "      <td>...</td>\n",
       "      <td>...</td>\n",
       "      <td>...</td>\n",
       "      <td>...</td>\n",
       "      <td>...</td>\n",
       "      <td>...</td>\n",
       "      <td>...</td>\n",
       "      <td>...</td>\n",
       "      <td>...</td>\n",
       "      <td>...</td>\n",
       "      <td>...</td>\n",
       "      <td>...</td>\n",
       "      <td>...</td>\n",
       "      <td>...</td>\n",
       "      <td>...</td>\n",
       "    </tr>\n",
       "    <tr>\n",
       "      <th>1530</th>\n",
       "      <td>2011.0</td>\n",
       "      <td>12.0</td>\n",
       "      <td>North Dakota</td>\n",
       "      <td>ND</td>\n",
       "      <td>MRO</td>\n",
       "      <td>West North Central</td>\n",
       "      <td>-0.9</td>\n",
       "      <td>cold</td>\n",
       "      <td>public appeal</td>\n",
       "      <td>NaN</td>\n",
       "      <td>...</td>\n",
       "      <td>2192.2</td>\n",
       "      <td>1868.2</td>\n",
       "      <td>3.9</td>\n",
       "      <td>0.27</td>\n",
       "      <td>0.1</td>\n",
       "      <td>97.599649</td>\n",
       "      <td>2.401765</td>\n",
       "      <td>2.401765</td>\n",
       "      <td>2011-12-06 08:00:00</td>\n",
       "      <td>2011-12-06 20:00:00</td>\n",
       "    </tr>\n",
       "    <tr>\n",
       "      <th>1531</th>\n",
       "      <td>2006.0</td>\n",
       "      <td>NaN</td>\n",
       "      <td>North Dakota</td>\n",
       "      <td>ND</td>\n",
       "      <td>MRO</td>\n",
       "      <td>West North Central</td>\n",
       "      <td>NaN</td>\n",
       "      <td>NaN</td>\n",
       "      <td>fuel supply emergency</td>\n",
       "      <td>Coal</td>\n",
       "      <td>...</td>\n",
       "      <td>2192.2</td>\n",
       "      <td>1868.2</td>\n",
       "      <td>3.9</td>\n",
       "      <td>0.27</td>\n",
       "      <td>0.1</td>\n",
       "      <td>97.599649</td>\n",
       "      <td>2.401765</td>\n",
       "      <td>2.401765</td>\n",
       "      <td>NaT</td>\n",
       "      <td>NaT</td>\n",
       "    </tr>\n",
       "    <tr>\n",
       "      <th>1532</th>\n",
       "      <td>2009.0</td>\n",
       "      <td>8.0</td>\n",
       "      <td>South Dakota</td>\n",
       "      <td>SD</td>\n",
       "      <td>RFC</td>\n",
       "      <td>West North Central</td>\n",
       "      <td>0.5</td>\n",
       "      <td>warm</td>\n",
       "      <td>islanding</td>\n",
       "      <td>NaN</td>\n",
       "      <td>...</td>\n",
       "      <td>2038.3</td>\n",
       "      <td>1905.4</td>\n",
       "      <td>4.7</td>\n",
       "      <td>0.3</td>\n",
       "      <td>0.15</td>\n",
       "      <td>98.307744</td>\n",
       "      <td>1.692256</td>\n",
       "      <td>1.692256</td>\n",
       "      <td>2009-08-29 22:54:00</td>\n",
       "      <td>2009-08-29 23:53:00</td>\n",
       "    </tr>\n",
       "    <tr>\n",
       "      <th>1533</th>\n",
       "      <td>2009.0</td>\n",
       "      <td>8.0</td>\n",
       "      <td>South Dakota</td>\n",
       "      <td>SD</td>\n",
       "      <td>MRO</td>\n",
       "      <td>West North Central</td>\n",
       "      <td>0.5</td>\n",
       "      <td>warm</td>\n",
       "      <td>islanding</td>\n",
       "      <td>NaN</td>\n",
       "      <td>...</td>\n",
       "      <td>2038.3</td>\n",
       "      <td>1905.4</td>\n",
       "      <td>4.7</td>\n",
       "      <td>0.3</td>\n",
       "      <td>0.15</td>\n",
       "      <td>98.307744</td>\n",
       "      <td>1.692256</td>\n",
       "      <td>1.692256</td>\n",
       "      <td>2009-08-29 11:00:00</td>\n",
       "      <td>2009-08-29 14:01:00</td>\n",
       "    </tr>\n",
       "    <tr>\n",
       "      <th>1534</th>\n",
       "      <td>2000.0</td>\n",
       "      <td>NaN</td>\n",
       "      <td>Alaska</td>\n",
       "      <td>AK</td>\n",
       "      <td>ASCC</td>\n",
       "      <td>NaN</td>\n",
       "      <td>NaN</td>\n",
       "      <td>NaN</td>\n",
       "      <td>equipment failure</td>\n",
       "      <td>failure</td>\n",
       "      <td>...</td>\n",
       "      <td>1802.6</td>\n",
       "      <td>1276</td>\n",
       "      <td>0.4</td>\n",
       "      <td>0.05</td>\n",
       "      <td>0.02</td>\n",
       "      <td>85.761154</td>\n",
       "      <td>14.238846</td>\n",
       "      <td>2.901182</td>\n",
       "      <td>NaT</td>\n",
       "      <td>NaT</td>\n",
       "    </tr>\n",
       "  </tbody>\n",
       "</table>\n",
       "<p>1534 rows × 53 columns</p>\n",
       "</div>"
      ],
      "text/plain": [
       "        YEAR  MONTH    U.S._STATE POSTAL.CODE NERC.REGION      CLIMATE.REGION  \\\n",
       "1     2011.0    7.0     Minnesota          MN         MRO  East North Central   \n",
       "2     2014.0    5.0     Minnesota          MN         MRO  East North Central   \n",
       "3     2010.0   10.0     Minnesota          MN         MRO  East North Central   \n",
       "4     2012.0    6.0     Minnesota          MN         MRO  East North Central   \n",
       "5     2015.0    7.0     Minnesota          MN         MRO  East North Central   \n",
       "...      ...    ...           ...         ...         ...                 ...   \n",
       "1530  2011.0   12.0  North Dakota          ND         MRO  West North Central   \n",
       "1531  2006.0    NaN  North Dakota          ND         MRO  West North Central   \n",
       "1532  2009.0    8.0  South Dakota          SD         RFC  West North Central   \n",
       "1533  2009.0    8.0  South Dakota          SD         MRO  West North Central   \n",
       "1534  2000.0    NaN        Alaska          AK        ASCC                 NaN   \n",
       "\n",
       "     ANOMALY.LEVEL CLIMATE.CATEGORY         CAUSE.CATEGORY  \\\n",
       "1             -0.3           normal         severe weather   \n",
       "2             -0.1           normal     intentional attack   \n",
       "3             -1.5             cold         severe weather   \n",
       "4             -0.1           normal         severe weather   \n",
       "5              1.2             warm         severe weather   \n",
       "...            ...              ...                    ...   \n",
       "1530          -0.9             cold          public appeal   \n",
       "1531           NaN              NaN  fuel supply emergency   \n",
       "1532           0.5             warm              islanding   \n",
       "1533           0.5             warm              islanding   \n",
       "1534           NaN              NaN      equipment failure   \n",
       "\n",
       "     CAUSE.CATEGORY.DETAIL  ... POPDEN_URBAN POPDEN_UC POPDEN_RURAL  \\\n",
       "1                      NaN  ...         2279    1700.5         18.2   \n",
       "2                vandalism  ...         2279    1700.5         18.2   \n",
       "3               heavy wind  ...         2279    1700.5         18.2   \n",
       "4             thunderstorm  ...         2279    1700.5         18.2   \n",
       "5                      NaN  ...         2279    1700.5         18.2   \n",
       "...                    ...  ...          ...       ...          ...   \n",
       "1530                   NaN  ...       2192.2    1868.2          3.9   \n",
       "1531                  Coal  ...       2192.2    1868.2          3.9   \n",
       "1532                   NaN  ...       2038.3    1905.4          4.7   \n",
       "1533                   NaN  ...       2038.3    1905.4          4.7   \n",
       "1534               failure  ...       1802.6      1276          0.4   \n",
       "\n",
       "      AREAPCT_URBAN AREAPCT_UC   PCT_LAND PCT_WATER_TOT PCT_WATER_INLAND  \\\n",
       "1              2.14        0.6  91.592666      8.407334         5.478743   \n",
       "2              2.14        0.6  91.592666      8.407334         5.478743   \n",
       "3              2.14        0.6  91.592666      8.407334         5.478743   \n",
       "4              2.14        0.6  91.592666      8.407334         5.478743   \n",
       "5              2.14        0.6  91.592666      8.407334         5.478743   \n",
       "...             ...        ...        ...           ...              ...   \n",
       "1530           0.27        0.1  97.599649      2.401765         2.401765   \n",
       "1531           0.27        0.1  97.599649      2.401765         2.401765   \n",
       "1532            0.3       0.15  98.307744      1.692256         1.692256   \n",
       "1533            0.3       0.15  98.307744      1.692256         1.692256   \n",
       "1534           0.05       0.02  85.761154     14.238846         2.901182   \n",
       "\n",
       "            OUTAGE.START  OUTAGE.RESTORATION  \n",
       "1    2011-07-01 17:00:00 2011-07-03 20:00:00  \n",
       "2    2014-05-11 18:38:00 2014-05-11 18:39:00  \n",
       "3    2010-10-26 20:00:00 2010-10-28 22:00:00  \n",
       "4    2012-06-19 04:30:00 2012-06-20 23:00:00  \n",
       "5    2015-07-18 02:00:00 2015-07-19 07:00:00  \n",
       "...                  ...                 ...  \n",
       "1530 2011-12-06 08:00:00 2011-12-06 20:00:00  \n",
       "1531                 NaT                 NaT  \n",
       "1532 2009-08-29 22:54:00 2009-08-29 23:53:00  \n",
       "1533 2009-08-29 11:00:00 2009-08-29 14:01:00  \n",
       "1534                 NaT                 NaT  \n",
       "\n",
       "[1534 rows x 53 columns]"
      ]
     },
     "execution_count": 143,
     "metadata": {},
     "output_type": "execute_result"
    }
   ],
   "source": [
    "df"
   ]
  },
  {
   "cell_type": "code",
   "execution_count": 149,
   "metadata": {},
   "outputs": [],
   "source": [
    "condition = df['POSTAL.CODE'] == \"HI\""
   ]
  },
  {
   "cell_type": "code",
   "execution_count": 150,
   "metadata": {},
   "outputs": [
    {
     "ename": "KeyError",
     "evalue": "'A'",
     "output_type": "error",
     "traceback": [
      "\u001b[0;31m---------------------------------------------------------------------------\u001b[0m",
      "\u001b[0;31mKeyError\u001b[0m                                  Traceback (most recent call last)",
      "File \u001b[0;32m~/miniforge3/envs/dsc80/lib/python3.8/site-packages/pandas/core/indexes/base.py:3361\u001b[0m, in \u001b[0;36mIndex.get_loc\u001b[0;34m(self, key, method, tolerance)\u001b[0m\n\u001b[1;32m   3360\u001b[0m \u001b[38;5;28;01mtry\u001b[39;00m:\n\u001b[0;32m-> 3361\u001b[0m     \u001b[38;5;28;01mreturn\u001b[39;00m \u001b[38;5;28;43mself\u001b[39;49m\u001b[38;5;241;43m.\u001b[39;49m\u001b[43m_engine\u001b[49m\u001b[38;5;241;43m.\u001b[39;49m\u001b[43mget_loc\u001b[49m\u001b[43m(\u001b[49m\u001b[43mcasted_key\u001b[49m\u001b[43m)\u001b[49m\n\u001b[1;32m   3362\u001b[0m \u001b[38;5;28;01mexcept\u001b[39;00m \u001b[38;5;167;01mKeyError\u001b[39;00m \u001b[38;5;28;01mas\u001b[39;00m err:\n",
      "File \u001b[0;32m~/miniforge3/envs/dsc80/lib/python3.8/site-packages/pandas/_libs/index.pyx:76\u001b[0m, in \u001b[0;36mpandas._libs.index.IndexEngine.get_loc\u001b[0;34m()\u001b[0m\n",
      "File \u001b[0;32m~/miniforge3/envs/dsc80/lib/python3.8/site-packages/pandas/_libs/index.pyx:108\u001b[0m, in \u001b[0;36mpandas._libs.index.IndexEngine.get_loc\u001b[0;34m()\u001b[0m\n",
      "File \u001b[0;32mpandas/_libs/hashtable_class_helper.pxi:5198\u001b[0m, in \u001b[0;36mpandas._libs.hashtable.PyObjectHashTable.get_item\u001b[0;34m()\u001b[0m\n",
      "File \u001b[0;32mpandas/_libs/hashtable_class_helper.pxi:5206\u001b[0m, in \u001b[0;36mpandas._libs.hashtable.PyObjectHashTable.get_item\u001b[0;34m()\u001b[0m\n",
      "\u001b[0;31mKeyError\u001b[0m: 'A'",
      "\nThe above exception was the direct cause of the following exception:\n",
      "\u001b[0;31mKeyError\u001b[0m                                  Traceback (most recent call last)",
      "Cell \u001b[0;32mIn[150], line 1\u001b[0m\n\u001b[0;32m----> 1\u001b[0m df\u001b[38;5;241m.\u001b[39mloc[condition, \u001b[38;5;124m'\u001b[39m\u001b[38;5;124mCLIMATE.REGION\u001b[39m\u001b[38;5;124m'\u001b[39m] \u001b[38;5;241m=\u001b[39m \u001b[43mdf\u001b[49m\u001b[43m[\u001b[49m\u001b[38;5;124;43m'\u001b[39;49m\u001b[38;5;124;43mA\u001b[39;49m\u001b[38;5;124;43m'\u001b[39;49m\u001b[43m]\u001b[49m\u001b[38;5;241m.\u001b[39mfillna(\u001b[38;5;124m'\u001b[39m\u001b[38;5;124mHawaii\u001b[39m\u001b[38;5;124m'\u001b[39m)\n",
      "File \u001b[0;32m~/miniforge3/envs/dsc80/lib/python3.8/site-packages/pandas/core/frame.py:3458\u001b[0m, in \u001b[0;36mDataFrame.__getitem__\u001b[0;34m(self, key)\u001b[0m\n\u001b[1;32m   3456\u001b[0m \u001b[38;5;28;01mif\u001b[39;00m \u001b[38;5;28mself\u001b[39m\u001b[38;5;241m.\u001b[39mcolumns\u001b[38;5;241m.\u001b[39mnlevels \u001b[38;5;241m>\u001b[39m \u001b[38;5;241m1\u001b[39m:\n\u001b[1;32m   3457\u001b[0m     \u001b[38;5;28;01mreturn\u001b[39;00m \u001b[38;5;28mself\u001b[39m\u001b[38;5;241m.\u001b[39m_getitem_multilevel(key)\n\u001b[0;32m-> 3458\u001b[0m indexer \u001b[38;5;241m=\u001b[39m \u001b[38;5;28;43mself\u001b[39;49m\u001b[38;5;241;43m.\u001b[39;49m\u001b[43mcolumns\u001b[49m\u001b[38;5;241;43m.\u001b[39;49m\u001b[43mget_loc\u001b[49m\u001b[43m(\u001b[49m\u001b[43mkey\u001b[49m\u001b[43m)\u001b[49m\n\u001b[1;32m   3459\u001b[0m \u001b[38;5;28;01mif\u001b[39;00m is_integer(indexer):\n\u001b[1;32m   3460\u001b[0m     indexer \u001b[38;5;241m=\u001b[39m [indexer]\n",
      "File \u001b[0;32m~/miniforge3/envs/dsc80/lib/python3.8/site-packages/pandas/core/indexes/base.py:3363\u001b[0m, in \u001b[0;36mIndex.get_loc\u001b[0;34m(self, key, method, tolerance)\u001b[0m\n\u001b[1;32m   3361\u001b[0m         \u001b[38;5;28;01mreturn\u001b[39;00m \u001b[38;5;28mself\u001b[39m\u001b[38;5;241m.\u001b[39m_engine\u001b[38;5;241m.\u001b[39mget_loc(casted_key)\n\u001b[1;32m   3362\u001b[0m     \u001b[38;5;28;01mexcept\u001b[39;00m \u001b[38;5;167;01mKeyError\u001b[39;00m \u001b[38;5;28;01mas\u001b[39;00m err:\n\u001b[0;32m-> 3363\u001b[0m         \u001b[38;5;28;01mraise\u001b[39;00m \u001b[38;5;167;01mKeyError\u001b[39;00m(key) \u001b[38;5;28;01mfrom\u001b[39;00m \u001b[38;5;21;01merr\u001b[39;00m\n\u001b[1;32m   3365\u001b[0m \u001b[38;5;28;01mif\u001b[39;00m is_scalar(key) \u001b[38;5;129;01mand\u001b[39;00m isna(key) \u001b[38;5;129;01mand\u001b[39;00m \u001b[38;5;129;01mnot\u001b[39;00m \u001b[38;5;28mself\u001b[39m\u001b[38;5;241m.\u001b[39mhasnans:\n\u001b[1;32m   3366\u001b[0m     \u001b[38;5;28;01mraise\u001b[39;00m \u001b[38;5;167;01mKeyError\u001b[39;00m(key)\n",
      "\u001b[0;31mKeyError\u001b[0m: 'A'"
     ]
    }
   ],
   "source": [
    "df.loc[condition, ''] = df['CLIMATE.REGION'].fillna('Hawaii')"
   ]
  },
  {
   "cell_type": "code",
   "execution_count": 146,
   "metadata": {},
   "outputs": [
    {
     "data": {
      "text/html": [
       "<div>\n",
       "<style scoped>\n",
       "    .dataframe tbody tr th:only-of-type {\n",
       "        vertical-align: middle;\n",
       "    }\n",
       "\n",
       "    .dataframe tbody tr th {\n",
       "        vertical-align: top;\n",
       "    }\n",
       "\n",
       "    .dataframe thead th {\n",
       "        text-align: right;\n",
       "    }\n",
       "</style>\n",
       "<table border=\"1\" class=\"dataframe\">\n",
       "  <thead>\n",
       "    <tr style=\"text-align: right;\">\n",
       "      <th></th>\n",
       "      <th>YEAR</th>\n",
       "      <th>MONTH</th>\n",
       "      <th>U.S._STATE</th>\n",
       "      <th>POSTAL.CODE</th>\n",
       "      <th>NERC.REGION</th>\n",
       "      <th>CLIMATE.REGION</th>\n",
       "      <th>ANOMALY.LEVEL</th>\n",
       "      <th>CLIMATE.CATEGORY</th>\n",
       "      <th>CAUSE.CATEGORY</th>\n",
       "      <th>CAUSE.CATEGORY.DETAIL</th>\n",
       "      <th>...</th>\n",
       "      <th>POPDEN_URBAN</th>\n",
       "      <th>POPDEN_UC</th>\n",
       "      <th>POPDEN_RURAL</th>\n",
       "      <th>AREAPCT_URBAN</th>\n",
       "      <th>AREAPCT_UC</th>\n",
       "      <th>PCT_LAND</th>\n",
       "      <th>PCT_WATER_TOT</th>\n",
       "      <th>PCT_WATER_INLAND</th>\n",
       "      <th>OUTAGE.START</th>\n",
       "      <th>OUTAGE.RESTORATION</th>\n",
       "    </tr>\n",
       "  </thead>\n",
       "  <tbody>\n",
       "    <tr>\n",
       "      <th>1516</th>\n",
       "      <td>2008.0</td>\n",
       "      <td>12.0</td>\n",
       "      <td>Hawaii</td>\n",
       "      <td>HI</td>\n",
       "      <td>HI</td>\n",
       "      <td>NaN</td>\n",
       "      <td>-0.7</td>\n",
       "      <td>cold</td>\n",
       "      <td>severe weather</td>\n",
       "      <td>thunderstorm</td>\n",
       "      <td>...</td>\n",
       "      <td>3180.8</td>\n",
       "      <td>1664.7</td>\n",
       "      <td>18.2</td>\n",
       "      <td>6.12</td>\n",
       "      <td>2.6</td>\n",
       "      <td>58.754116</td>\n",
       "      <td>41.245884</td>\n",
       "      <td>0.384193</td>\n",
       "      <td>2008-12-26 18:13:00</td>\n",
       "      <td>2008-12-27 17:00:00</td>\n",
       "    </tr>\n",
       "    <tr>\n",
       "      <th>1517</th>\n",
       "      <td>2011.0</td>\n",
       "      <td>5.0</td>\n",
       "      <td>Hawaii</td>\n",
       "      <td>HI</td>\n",
       "      <td>PR</td>\n",
       "      <td>NaN</td>\n",
       "      <td>-0.4</td>\n",
       "      <td>normal</td>\n",
       "      <td>severe weather</td>\n",
       "      <td>NaN</td>\n",
       "      <td>...</td>\n",
       "      <td>3180.8</td>\n",
       "      <td>1664.7</td>\n",
       "      <td>18.2</td>\n",
       "      <td>6.12</td>\n",
       "      <td>2.6</td>\n",
       "      <td>58.754116</td>\n",
       "      <td>41.245884</td>\n",
       "      <td>0.384193</td>\n",
       "      <td>2011-05-02 17:06:00</td>\n",
       "      <td>2011-05-02 20:00:00</td>\n",
       "    </tr>\n",
       "    <tr>\n",
       "      <th>1518</th>\n",
       "      <td>2006.0</td>\n",
       "      <td>10.0</td>\n",
       "      <td>Hawaii</td>\n",
       "      <td>HI</td>\n",
       "      <td>HECO</td>\n",
       "      <td>NaN</td>\n",
       "      <td>0.7</td>\n",
       "      <td>warm</td>\n",
       "      <td>severe weather</td>\n",
       "      <td>earthquake</td>\n",
       "      <td>...</td>\n",
       "      <td>3180.8</td>\n",
       "      <td>1664.7</td>\n",
       "      <td>18.2</td>\n",
       "      <td>6.12</td>\n",
       "      <td>2.6</td>\n",
       "      <td>58.754116</td>\n",
       "      <td>41.245884</td>\n",
       "      <td>0.384193</td>\n",
       "      <td>2006-10-15 07:09:00</td>\n",
       "      <td>2006-10-15 16:12:00</td>\n",
       "    </tr>\n",
       "    <tr>\n",
       "      <th>1519</th>\n",
       "      <td>2006.0</td>\n",
       "      <td>6.0</td>\n",
       "      <td>Hawaii</td>\n",
       "      <td>HI</td>\n",
       "      <td>HECO</td>\n",
       "      <td>NaN</td>\n",
       "      <td>0</td>\n",
       "      <td>normal</td>\n",
       "      <td>system operability disruption</td>\n",
       "      <td>NaN</td>\n",
       "      <td>...</td>\n",
       "      <td>3180.8</td>\n",
       "      <td>1664.7</td>\n",
       "      <td>18.2</td>\n",
       "      <td>6.12</td>\n",
       "      <td>2.6</td>\n",
       "      <td>58.754116</td>\n",
       "      <td>41.245884</td>\n",
       "      <td>0.384193</td>\n",
       "      <td>2006-06-01 14:12:00</td>\n",
       "      <td>2006-06-01 18:09:00</td>\n",
       "    </tr>\n",
       "    <tr>\n",
       "      <th>1520</th>\n",
       "      <td>2006.0</td>\n",
       "      <td>10.0</td>\n",
       "      <td>Hawaii</td>\n",
       "      <td>HI</td>\n",
       "      <td>HECO</td>\n",
       "      <td>NaN</td>\n",
       "      <td>0.7</td>\n",
       "      <td>warm</td>\n",
       "      <td>severe weather</td>\n",
       "      <td>earthquake</td>\n",
       "      <td>...</td>\n",
       "      <td>3180.8</td>\n",
       "      <td>1664.7</td>\n",
       "      <td>18.2</td>\n",
       "      <td>6.12</td>\n",
       "      <td>2.6</td>\n",
       "      <td>58.754116</td>\n",
       "      <td>41.245884</td>\n",
       "      <td>0.384193</td>\n",
       "      <td>2006-10-15 07:09:00</td>\n",
       "      <td>2006-10-16 14:55:00</td>\n",
       "    </tr>\n",
       "    <tr>\n",
       "      <th>1534</th>\n",
       "      <td>2000.0</td>\n",
       "      <td>NaN</td>\n",
       "      <td>Alaska</td>\n",
       "      <td>AK</td>\n",
       "      <td>ASCC</td>\n",
       "      <td>NaN</td>\n",
       "      <td>NaN</td>\n",
       "      <td>NaN</td>\n",
       "      <td>equipment failure</td>\n",
       "      <td>failure</td>\n",
       "      <td>...</td>\n",
       "      <td>1802.6</td>\n",
       "      <td>1276</td>\n",
       "      <td>0.4</td>\n",
       "      <td>0.05</td>\n",
       "      <td>0.02</td>\n",
       "      <td>85.761154</td>\n",
       "      <td>14.238846</td>\n",
       "      <td>2.901182</td>\n",
       "      <td>NaT</td>\n",
       "      <td>NaT</td>\n",
       "    </tr>\n",
       "  </tbody>\n",
       "</table>\n",
       "<p>6 rows × 53 columns</p>\n",
       "</div>"
      ],
      "text/plain": [
       "        YEAR  MONTH U.S._STATE POSTAL.CODE NERC.REGION CLIMATE.REGION  \\\n",
       "1516  2008.0   12.0     Hawaii          HI          HI            NaN   \n",
       "1517  2011.0    5.0     Hawaii          HI          PR            NaN   \n",
       "1518  2006.0   10.0     Hawaii          HI        HECO            NaN   \n",
       "1519  2006.0    6.0     Hawaii          HI        HECO            NaN   \n",
       "1520  2006.0   10.0     Hawaii          HI        HECO            NaN   \n",
       "1534  2000.0    NaN     Alaska          AK        ASCC            NaN   \n",
       "\n",
       "     ANOMALY.LEVEL CLIMATE.CATEGORY                 CAUSE.CATEGORY  \\\n",
       "1516          -0.7             cold                 severe weather   \n",
       "1517          -0.4           normal                 severe weather   \n",
       "1518           0.7             warm                 severe weather   \n",
       "1519             0           normal  system operability disruption   \n",
       "1520           0.7             warm                 severe weather   \n",
       "1534           NaN              NaN              equipment failure   \n",
       "\n",
       "     CAUSE.CATEGORY.DETAIL  ... POPDEN_URBAN POPDEN_UC POPDEN_RURAL  \\\n",
       "1516          thunderstorm  ...       3180.8    1664.7         18.2   \n",
       "1517                   NaN  ...       3180.8    1664.7         18.2   \n",
       "1518            earthquake  ...       3180.8    1664.7         18.2   \n",
       "1519                   NaN  ...       3180.8    1664.7         18.2   \n",
       "1520            earthquake  ...       3180.8    1664.7         18.2   \n",
       "1534               failure  ...       1802.6      1276          0.4   \n",
       "\n",
       "      AREAPCT_URBAN AREAPCT_UC   PCT_LAND PCT_WATER_TOT PCT_WATER_INLAND  \\\n",
       "1516           6.12        2.6  58.754116     41.245884         0.384193   \n",
       "1517           6.12        2.6  58.754116     41.245884         0.384193   \n",
       "1518           6.12        2.6  58.754116     41.245884         0.384193   \n",
       "1519           6.12        2.6  58.754116     41.245884         0.384193   \n",
       "1520           6.12        2.6  58.754116     41.245884         0.384193   \n",
       "1534           0.05       0.02  85.761154     14.238846         2.901182   \n",
       "\n",
       "            OUTAGE.START  OUTAGE.RESTORATION  \n",
       "1516 2008-12-26 18:13:00 2008-12-27 17:00:00  \n",
       "1517 2011-05-02 17:06:00 2011-05-02 20:00:00  \n",
       "1518 2006-10-15 07:09:00 2006-10-15 16:12:00  \n",
       "1519 2006-06-01 14:12:00 2006-06-01 18:09:00  \n",
       "1520 2006-10-15 07:09:00 2006-10-16 14:55:00  \n",
       "1534                 NaT                 NaT  \n",
       "\n",
       "[6 rows x 53 columns]"
      ]
     },
     "execution_count": 146,
     "metadata": {},
     "output_type": "execute_result"
    }
   ],
   "source": [
    "df[df['CLIMATE.REGION'].isna()]"
   ]
  },
  {
   "cell_type": "code",
   "execution_count": 131,
   "metadata": {},
   "outputs": [
    {
     "data": {
      "application/vnd.plotly.v1+json": {
       "config": {
        "plotlyServerURL": "https://plot.ly"
       },
       "data": [
        {
         "alignmentgroup": "True",
         "bingroup": "x",
         "hovertemplate": "CAUSE.CATEGORY.DETAIL=vandalism<br>CAUSE.CATEGORY=%{x}<br>count=%{y}<extra></extra>",
         "legendgroup": "vandalism",
         "marker": {
          "color": "#EF553B",
          "pattern": {
           "shape": ""
          }
         },
         "name": "vandalism",
         "offsetgroup": "vandalism",
         "orientation": "v",
         "showlegend": true,
         "type": "histogram",
         "x": [
          "intentional attack",
          "intentional attack",
          "intentional attack",
          "intentional attack",
          "intentional attack",
          "intentional attack",
          "intentional attack",
          "intentional attack",
          "intentional attack",
          "intentional attack",
          "intentional attack",
          "intentional attack",
          "intentional attack",
          "intentional attack",
          "intentional attack",
          "intentional attack",
          "intentional attack",
          "intentional attack",
          "intentional attack",
          "intentional attack",
          "intentional attack",
          "intentional attack",
          "intentional attack",
          "intentional attack",
          "intentional attack",
          "intentional attack",
          "intentional attack",
          "intentional attack",
          "intentional attack",
          "intentional attack",
          "intentional attack",
          "intentional attack",
          "intentional attack",
          "intentional attack",
          "intentional attack",
          "intentional attack",
          "intentional attack",
          "intentional attack",
          "intentional attack",
          "intentional attack",
          "intentional attack",
          "intentional attack",
          "intentional attack",
          "intentional attack",
          "intentional attack",
          "intentional attack",
          "intentional attack",
          "intentional attack",
          "intentional attack",
          "intentional attack",
          "intentional attack",
          "intentional attack",
          "intentional attack",
          "intentional attack",
          "intentional attack",
          "intentional attack",
          "intentional attack",
          "intentional attack",
          "intentional attack",
          "intentional attack",
          "intentional attack",
          "intentional attack",
          "intentional attack",
          "intentional attack",
          "intentional attack",
          "intentional attack",
          "intentional attack",
          "intentional attack",
          "intentional attack",
          "intentional attack",
          "intentional attack",
          "intentional attack",
          "intentional attack",
          "intentional attack",
          "intentional attack",
          "intentional attack",
          "intentional attack",
          "intentional attack",
          "intentional attack",
          "intentional attack",
          "intentional attack",
          "intentional attack",
          "intentional attack",
          "intentional attack",
          "intentional attack",
          "intentional attack",
          "intentional attack",
          "intentional attack",
          "intentional attack",
          "intentional attack",
          "intentional attack",
          "intentional attack",
          "intentional attack",
          "intentional attack",
          "intentional attack",
          "intentional attack",
          "intentional attack",
          "intentional attack",
          "intentional attack",
          "intentional attack",
          "intentional attack",
          "intentional attack",
          "intentional attack",
          "intentional attack",
          "intentional attack",
          "intentional attack",
          "intentional attack",
          "intentional attack",
          "intentional attack",
          "intentional attack",
          "intentional attack",
          "intentional attack",
          "intentional attack",
          "intentional attack",
          "intentional attack",
          "intentional attack",
          "intentional attack",
          "intentional attack",
          "intentional attack",
          "intentional attack",
          "intentional attack",
          "intentional attack",
          "intentional attack",
          "intentional attack",
          "intentional attack",
          "intentional attack",
          "intentional attack",
          "intentional attack",
          "intentional attack",
          "intentional attack",
          "intentional attack",
          "intentional attack",
          "intentional attack",
          "intentional attack",
          "intentional attack",
          "intentional attack",
          "intentional attack",
          "intentional attack",
          "intentional attack",
          "intentional attack",
          "intentional attack",
          "intentional attack",
          "intentional attack",
          "intentional attack",
          "intentional attack",
          "intentional attack",
          "intentional attack",
          "intentional attack",
          "intentional attack",
          "intentional attack",
          "intentional attack",
          "intentional attack",
          "intentional attack",
          "intentional attack",
          "intentional attack",
          "intentional attack",
          "intentional attack",
          "intentional attack",
          "intentional attack",
          "intentional attack",
          "intentional attack",
          "intentional attack",
          "intentional attack",
          "intentional attack",
          "intentional attack",
          "intentional attack",
          "intentional attack",
          "intentional attack",
          "intentional attack",
          "intentional attack",
          "intentional attack",
          "intentional attack",
          "intentional attack",
          "intentional attack",
          "intentional attack",
          "intentional attack",
          "intentional attack",
          "intentional attack",
          "intentional attack",
          "intentional attack",
          "intentional attack",
          "intentional attack",
          "intentional attack",
          "intentional attack",
          "intentional attack",
          "intentional attack",
          "intentional attack",
          "intentional attack",
          "intentional attack",
          "intentional attack",
          "intentional attack",
          "intentional attack",
          "intentional attack",
          "intentional attack",
          "intentional attack",
          "intentional attack",
          "intentional attack",
          "intentional attack",
          "intentional attack",
          "intentional attack",
          "intentional attack",
          "intentional attack",
          "intentional attack",
          "intentional attack",
          "intentional attack",
          "intentional attack",
          "intentional attack",
          "intentional attack",
          "intentional attack",
          "intentional attack",
          "intentional attack",
          "intentional attack",
          "intentional attack",
          "intentional attack",
          "intentional attack",
          "intentional attack",
          "intentional attack",
          "intentional attack",
          "intentional attack",
          "intentional attack",
          "intentional attack",
          "intentional attack",
          "intentional attack",
          "intentional attack",
          "intentional attack",
          "intentional attack",
          "intentional attack",
          "intentional attack",
          "intentional attack",
          "intentional attack",
          "intentional attack",
          "intentional attack",
          "intentional attack",
          "intentional attack",
          "intentional attack",
          "intentional attack",
          "intentional attack",
          "intentional attack",
          "intentional attack",
          "intentional attack",
          "intentional attack",
          "intentional attack",
          "intentional attack",
          "intentional attack",
          "intentional attack",
          "intentional attack",
          "intentional attack",
          "intentional attack",
          "intentional attack",
          "intentional attack",
          "intentional attack",
          "intentional attack",
          "intentional attack",
          "intentional attack",
          "intentional attack",
          "intentional attack",
          "intentional attack",
          "intentional attack",
          "intentional attack",
          "intentional attack",
          "intentional attack",
          "intentional attack",
          "intentional attack",
          "intentional attack",
          "intentional attack",
          "intentional attack",
          "intentional attack",
          "intentional attack",
          "intentional attack",
          "intentional attack",
          "intentional attack",
          "intentional attack",
          "intentional attack",
          "intentional attack",
          "intentional attack",
          "intentional attack",
          "intentional attack",
          "intentional attack",
          "intentional attack",
          "intentional attack",
          "intentional attack",
          "intentional attack",
          "intentional attack",
          "intentional attack",
          "intentional attack",
          "intentional attack",
          "intentional attack",
          "intentional attack",
          "intentional attack",
          "intentional attack",
          "intentional attack",
          "intentional attack",
          "intentional attack",
          "intentional attack",
          "intentional attack",
          "intentional attack",
          "intentional attack",
          "intentional attack",
          "intentional attack",
          "intentional attack",
          "intentional attack",
          "intentional attack",
          "intentional attack",
          "intentional attack",
          "intentional attack",
          "intentional attack",
          "intentional attack",
          "intentional attack",
          "intentional attack",
          "intentional attack",
          "intentional attack",
          "intentional attack",
          "intentional attack",
          "intentional attack",
          "intentional attack",
          "intentional attack",
          "intentional attack",
          "intentional attack",
          "intentional attack",
          "intentional attack",
          "intentional attack",
          "intentional attack",
          "intentional attack",
          "intentional attack",
          "intentional attack",
          "intentional attack",
          "intentional attack",
          "intentional attack",
          "intentional attack",
          "intentional attack",
          "intentional attack",
          "intentional attack",
          "intentional attack",
          "intentional attack",
          "intentional attack"
         ],
         "xaxis": "x",
         "yaxis": "y"
        },
        {
         "alignmentgroup": "True",
         "bingroup": "x",
         "hovertemplate": "CAUSE.CATEGORY.DETAIL=heavy wind<br>CAUSE.CATEGORY=%{x}<br>count=%{y}<extra></extra>",
         "legendgroup": "heavy wind",
         "marker": {
          "color": "#00cc96",
          "pattern": {
           "shape": ""
          }
         },
         "name": "heavy wind",
         "offsetgroup": "heavy wind",
         "orientation": "v",
         "showlegend": true,
         "type": "histogram",
         "x": [
          "severe weather",
          "severe weather",
          "severe weather",
          "severe weather",
          "severe weather",
          "severe weather",
          "severe weather",
          "severe weather",
          "severe weather",
          "severe weather",
          "severe weather",
          "severe weather",
          "severe weather",
          "severe weather",
          "severe weather",
          "severe weather",
          "severe weather",
          "severe weather",
          "severe weather",
          "severe weather",
          "severe weather",
          "severe weather",
          "severe weather",
          "severe weather",
          "severe weather",
          "severe weather",
          "severe weather",
          "severe weather",
          "severe weather",
          "severe weather",
          "severe weather",
          "severe weather",
          "severe weather",
          "severe weather",
          "severe weather",
          "severe weather",
          "severe weather",
          "severe weather",
          "severe weather",
          "severe weather",
          "severe weather",
          "severe weather",
          "severe weather",
          "severe weather",
          "severe weather",
          "severe weather",
          "severe weather",
          "severe weather",
          "severe weather",
          "severe weather",
          "severe weather",
          "severe weather",
          "severe weather",
          "severe weather",
          "severe weather",
          "severe weather",
          "severe weather",
          "severe weather",
          "severe weather",
          "severe weather",
          "severe weather"
         ],
         "xaxis": "x",
         "yaxis": "y"
        },
        {
         "alignmentgroup": "True",
         "bingroup": "x",
         "hovertemplate": "CAUSE.CATEGORY.DETAIL=thunderstorm<br>CAUSE.CATEGORY=%{x}<br>count=%{y}<extra></extra>",
         "legendgroup": "thunderstorm",
         "marker": {
          "color": "#ab63fa",
          "pattern": {
           "shape": ""
          }
         },
         "name": "thunderstorm",
         "offsetgroup": "thunderstorm",
         "orientation": "v",
         "showlegend": true,
         "type": "histogram",
         "x": [
          "severe weather",
          "severe weather",
          "severe weather",
          "severe weather",
          "severe weather",
          "severe weather",
          "severe weather",
          "severe weather",
          "severe weather",
          "severe weather",
          "severe weather",
          "severe weather",
          "severe weather",
          "severe weather",
          "severe weather",
          "severe weather",
          "severe weather",
          "severe weather",
          "severe weather",
          "severe weather",
          "severe weather",
          "severe weather",
          "severe weather",
          "severe weather",
          "severe weather",
          "severe weather",
          "severe weather",
          "severe weather",
          "severe weather",
          "severe weather",
          "severe weather",
          "severe weather",
          "severe weather",
          "severe weather",
          "severe weather",
          "severe weather",
          "severe weather",
          "severe weather",
          "severe weather",
          "severe weather",
          "severe weather",
          "severe weather",
          "severe weather",
          "severe weather",
          "severe weather",
          "severe weather",
          "severe weather",
          "severe weather",
          "severe weather",
          "severe weather",
          "severe weather",
          "severe weather",
          "severe weather",
          "severe weather",
          "severe weather",
          "severe weather",
          "severe weather",
          "severe weather",
          "severe weather",
          "severe weather",
          "severe weather",
          "severe weather",
          "severe weather",
          "severe weather",
          "severe weather",
          "severe weather",
          "severe weather",
          "severe weather",
          "severe weather",
          "severe weather",
          "severe weather",
          "severe weather",
          "severe weather",
          "severe weather",
          "severe weather",
          "severe weather",
          "severe weather",
          "severe weather",
          "severe weather",
          "severe weather",
          "severe weather",
          "severe weather",
          "severe weather",
          "severe weather",
          "severe weather",
          "severe weather",
          "severe weather",
          "severe weather",
          "severe weather",
          "severe weather",
          "severe weather",
          "severe weather",
          "severe weather",
          "severe weather",
          "severe weather",
          "severe weather",
          "severe weather",
          "severe weather",
          "severe weather",
          "severe weather",
          "severe weather",
          "severe weather",
          "severe weather",
          "severe weather",
          "severe weather",
          "severe weather",
          "severe weather",
          "severe weather",
          "severe weather",
          "severe weather",
          "severe weather",
          "severe weather",
          "severe weather",
          "severe weather",
          "severe weather",
          "severe weather",
          "severe weather",
          "severe weather",
          "severe weather",
          "severe weather",
          "severe weather",
          "severe weather",
          "severe weather",
          "severe weather",
          "severe weather",
          "severe weather",
          "severe weather",
          "severe weather",
          "severe weather",
          "severe weather",
          "severe weather",
          "severe weather",
          "severe weather",
          "severe weather",
          "severe weather",
          "severe weather",
          "severe weather",
          "severe weather",
          "severe weather",
          "severe weather",
          "severe weather",
          "severe weather",
          "severe weather",
          "severe weather",
          "severe weather",
          "severe weather",
          "severe weather",
          "severe weather",
          "severe weather",
          "severe weather",
          "severe weather",
          "severe weather",
          "severe weather",
          "severe weather",
          "severe weather",
          "severe weather",
          "severe weather",
          "severe weather",
          "severe weather",
          "severe weather",
          "severe weather",
          "severe weather",
          "severe weather",
          "severe weather",
          "severe weather",
          "severe weather",
          "severe weather",
          "severe weather",
          "severe weather",
          "severe weather",
          "severe weather",
          "severe weather",
          "severe weather",
          "severe weather",
          "severe weather",
          "severe weather",
          "severe weather",
          "severe weather"
         ],
         "xaxis": "x",
         "yaxis": "y"
        },
        {
         "alignmentgroup": "True",
         "bingroup": "x",
         "hovertemplate": "CAUSE.CATEGORY.DETAIL=winter storm<br>CAUSE.CATEGORY=%{x}<br>count=%{y}<extra></extra>",
         "legendgroup": "winter storm",
         "marker": {
          "color": "#FFA15A",
          "pattern": {
           "shape": ""
          }
         },
         "name": "winter storm",
         "offsetgroup": "winter storm",
         "orientation": "v",
         "showlegend": true,
         "type": "histogram",
         "x": [
          "severe weather",
          "severe weather",
          "severe weather",
          "severe weather",
          "severe weather",
          "severe weather",
          "severe weather",
          "severe weather",
          "severe weather",
          "severe weather",
          "severe weather",
          "severe weather",
          "severe weather",
          "severe weather",
          "severe weather",
          "severe weather",
          "severe weather",
          "severe weather",
          "severe weather",
          "severe weather",
          "severe weather",
          "severe weather",
          "severe weather",
          "severe weather",
          "severe weather",
          "severe weather",
          "severe weather",
          "severe weather",
          "severe weather",
          "severe weather",
          "severe weather",
          "severe weather",
          "severe weather",
          "severe weather",
          "severe weather",
          "severe weather",
          "severe weather",
          "severe weather",
          "severe weather",
          "severe weather",
          "severe weather",
          "severe weather",
          "severe weather",
          "severe weather",
          "severe weather",
          "severe weather",
          "severe weather",
          "severe weather",
          "severe weather",
          "severe weather",
          "severe weather",
          "severe weather",
          "severe weather",
          "severe weather",
          "severe weather",
          "severe weather",
          "severe weather",
          "severe weather",
          "severe weather",
          "severe weather",
          "severe weather",
          "severe weather",
          "severe weather",
          "severe weather",
          "severe weather",
          "severe weather",
          "severe weather",
          "severe weather",
          "severe weather",
          "severe weather",
          "severe weather",
          "severe weather",
          "severe weather",
          "severe weather",
          "severe weather",
          "severe weather",
          "severe weather",
          "severe weather",
          "severe weather",
          "severe weather",
          "severe weather",
          "severe weather",
          "severe weather",
          "severe weather",
          "severe weather",
          "severe weather",
          "severe weather",
          "severe weather",
          "severe weather",
          "severe weather",
          "severe weather",
          "severe weather",
          "severe weather",
          "severe weather",
          "severe weather",
          "severe weather",
          "severe weather",
          "severe weather",
          "severe weather",
          "severe weather",
          "severe weather"
         ],
         "xaxis": "x",
         "yaxis": "y"
        },
        {
         "alignmentgroup": "True",
         "bingroup": "x",
         "hovertemplate": "CAUSE.CATEGORY.DETAIL=tornadoes<br>CAUSE.CATEGORY=%{x}<br>count=%{y}<extra></extra>",
         "legendgroup": "tornadoes",
         "marker": {
          "color": "#19d3f3",
          "pattern": {
           "shape": ""
          }
         },
         "name": "tornadoes",
         "offsetgroup": "tornadoes",
         "orientation": "v",
         "showlegend": true,
         "type": "histogram",
         "x": [
          "severe weather",
          "severe weather",
          "severe weather",
          "severe weather",
          "severe weather",
          "severe weather",
          "severe weather",
          "severe weather"
         ],
         "xaxis": "x",
         "yaxis": "y"
        },
        {
         "alignmentgroup": "True",
         "bingroup": "x",
         "hovertemplate": "CAUSE.CATEGORY.DETAIL=sabotage<br>CAUSE.CATEGORY=%{x}<br>count=%{y}<extra></extra>",
         "legendgroup": "sabotage",
         "marker": {
          "color": "#FF6692",
          "pattern": {
           "shape": ""
          }
         },
         "name": "sabotage",
         "offsetgroup": "sabotage",
         "orientation": "v",
         "showlegend": true,
         "type": "histogram",
         "x": [
          "intentional attack",
          "intentional attack",
          "intentional attack",
          "intentional attack",
          "intentional attack",
          "intentional attack",
          "intentional attack",
          "intentional attack",
          "intentional attack",
          "intentional attack",
          "intentional attack",
          "intentional attack",
          "intentional attack",
          "intentional attack",
          "intentional attack",
          "intentional attack",
          "intentional attack",
          "intentional attack",
          "intentional attack",
          "intentional attack",
          "intentional attack",
          "intentional attack",
          "intentional attack",
          "intentional attack",
          "intentional attack",
          "intentional attack",
          "intentional attack",
          "intentional attack",
          "intentional attack",
          "intentional attack",
          "intentional attack",
          "intentional attack"
         ],
         "xaxis": "x",
         "yaxis": "y"
        },
        {
         "alignmentgroup": "True",
         "bingroup": "x",
         "hovertemplate": "CAUSE.CATEGORY.DETAIL=hailstorm<br>CAUSE.CATEGORY=%{x}<br>count=%{y}<extra></extra>",
         "legendgroup": "hailstorm",
         "marker": {
          "color": "#B6E880",
          "pattern": {
           "shape": ""
          }
         },
         "name": "hailstorm",
         "offsetgroup": "hailstorm",
         "orientation": "v",
         "showlegend": true,
         "type": "histogram",
         "x": [
          "severe weather",
          "severe weather",
          "severe weather"
         ],
         "xaxis": "x",
         "yaxis": "y"
        },
        {
         "alignmentgroup": "True",
         "bingroup": "x",
         "hovertemplate": "CAUSE.CATEGORY.DETAIL=uncontrolled loss<br>CAUSE.CATEGORY=%{x}<br>count=%{y}<extra></extra>",
         "legendgroup": "uncontrolled loss",
         "marker": {
          "color": "#FF97FF",
          "pattern": {
           "shape": ""
          }
         },
         "name": "uncontrolled loss",
         "offsetgroup": "uncontrolled loss",
         "orientation": "v",
         "showlegend": true,
         "type": "histogram",
         "x": [
          "system operability disruption",
          "system operability disruption",
          "system operability disruption",
          "system operability disruption",
          "system operability disruption",
          "severe weather",
          "system operability disruption",
          "system operability disruption",
          "system operability disruption",
          "system operability disruption",
          "system operability disruption",
          "severe weather",
          "system operability disruption",
          "system operability disruption"
         ],
         "xaxis": "x",
         "yaxis": "y"
        },
        {
         "alignmentgroup": "True",
         "bingroup": "x",
         "hovertemplate": "CAUSE.CATEGORY.DETAIL=winter<br>CAUSE.CATEGORY=%{x}<br>count=%{y}<extra></extra>",
         "legendgroup": "winter",
         "marker": {
          "color": "#FECB52",
          "pattern": {
           "shape": ""
          }
         },
         "name": "winter",
         "offsetgroup": "winter",
         "orientation": "v",
         "showlegend": true,
         "type": "histogram",
         "x": [
          "severe weather",
          "severe weather",
          "severe weather",
          "severe weather",
          "severe weather",
          "severe weather",
          "severe weather",
          "severe weather",
          "severe weather",
          "severe weather",
          "severe weather",
          "severe weather",
          "severe weather",
          "severe weather",
          "severe weather",
          "severe weather",
          "severe weather",
          "severe weather",
          "severe weather",
          "severe weather",
          "severe weather",
          "severe weather",
          "severe weather"
         ],
         "xaxis": "x",
         "yaxis": "y"
        },
        {
         "alignmentgroup": "True",
         "bingroup": "x",
         "hovertemplate": "CAUSE.CATEGORY.DETAIL=wind storm<br>CAUSE.CATEGORY=%{x}<br>count=%{y}<extra></extra>",
         "legendgroup": "wind storm",
         "marker": {
          "color": "#636efa",
          "pattern": {
           "shape": ""
          }
         },
         "name": "wind storm",
         "offsetgroup": "wind storm",
         "orientation": "v",
         "showlegend": true,
         "type": "histogram",
         "x": [
          "severe weather",
          "severe weather",
          "severe weather",
          "severe weather",
          "severe weather",
          "severe weather"
         ],
         "xaxis": "x",
         "yaxis": "y"
        },
        {
         "alignmentgroup": "True",
         "bingroup": "x",
         "hovertemplate": "CAUSE.CATEGORY.DETAIL=computer hardware<br>CAUSE.CATEGORY=%{x}<br>count=%{y}<extra></extra>",
         "legendgroup": "computer hardware",
         "marker": {
          "color": "#EF553B",
          "pattern": {
           "shape": ""
          }
         },
         "name": "computer hardware",
         "offsetgroup": "computer hardware",
         "orientation": "v",
         "showlegend": true,
         "type": "histogram",
         "x": [
          "equipment failure"
         ],
         "xaxis": "x",
         "yaxis": "y"
        },
        {
         "alignmentgroup": "True",
         "bingroup": "x",
         "hovertemplate": "CAUSE.CATEGORY.DETAIL=public appeal<br>CAUSE.CATEGORY=%{x}<br>count=%{y}<extra></extra>",
         "legendgroup": "public appeal",
         "marker": {
          "color": "#00cc96",
          "pattern": {
           "shape": ""
          }
         },
         "name": "public appeal",
         "offsetgroup": "public appeal",
         "orientation": "v",
         "showlegend": true,
         "type": "histogram",
         "x": [
          "system operability disruption",
          "severe weather"
         ],
         "xaxis": "x",
         "yaxis": "y"
        },
        {
         "alignmentgroup": "True",
         "bingroup": "x",
         "hovertemplate": "CAUSE.CATEGORY.DETAIL=storm<br>CAUSE.CATEGORY=%{x}<br>count=%{y}<extra></extra>",
         "legendgroup": "storm",
         "marker": {
          "color": "#ab63fa",
          "pattern": {
           "shape": ""
          }
         },
         "name": "storm",
         "offsetgroup": "storm",
         "orientation": "v",
         "showlegend": true,
         "type": "histogram",
         "x": [
          "severe weather",
          "severe weather",
          "severe weather",
          "severe weather",
          "severe weather",
          "severe weather",
          "severe weather",
          "severe weather",
          "severe weather",
          "severe weather",
          "severe weather",
          "severe weather",
          "severe weather",
          "severe weather",
          "severe weather",
          "severe weather",
          "severe weather",
          "severe weather",
          "severe weather",
          "severe weather",
          "severe weather",
          "severe weather",
          "severe weather",
          "severe weather",
          "severe weather",
          "severe weather",
          "severe weather",
          "severe weather",
          "severe weather",
          "severe weather",
          "severe weather",
          "severe weather",
          "severe weather",
          "severe weather",
          "severe weather",
          "severe weather",
          "severe weather",
          "severe weather",
          "severe weather",
          "severe weather",
          "severe weather"
         ],
         "xaxis": "x",
         "yaxis": "y"
        },
        {
         "alignmentgroup": "True",
         "bingroup": "x",
         "hovertemplate": "CAUSE.CATEGORY.DETAIL= Coal<br>CAUSE.CATEGORY=%{x}<br>count=%{y}<extra></extra>",
         "legendgroup": " Coal",
         "marker": {
          "color": "#FFA15A",
          "pattern": {
           "shape": ""
          }
         },
         "name": " Coal",
         "offsetgroup": " Coal",
         "orientation": "v",
         "showlegend": true,
         "type": "histogram",
         "x": [
          "fuel supply emergency",
          "fuel supply emergency",
          "fuel supply emergency",
          "fuel supply emergency",
          "fuel supply emergency",
          "fuel supply emergency",
          "fuel supply emergency",
          "fuel supply emergency",
          "fuel supply emergency",
          "fuel supply emergency"
         ],
         "xaxis": "x",
         "yaxis": "y"
        },
        {
         "alignmentgroup": "True",
         "bingroup": "x",
         "hovertemplate": "CAUSE.CATEGORY.DETAIL= Natural Gas<br>CAUSE.CATEGORY=%{x}<br>count=%{y}<extra></extra>",
         "legendgroup": " Natural Gas",
         "marker": {
          "color": "#19d3f3",
          "pattern": {
           "shape": ""
          }
         },
         "name": " Natural Gas",
         "offsetgroup": " Natural Gas",
         "orientation": "v",
         "showlegend": true,
         "type": "histogram",
         "x": [
          "fuel supply emergency",
          "fuel supply emergency",
          "fuel supply emergency",
          "fuel supply emergency",
          "fuel supply emergency",
          "fuel supply emergency",
          "fuel supply emergency"
         ],
         "xaxis": "x",
         "yaxis": "y"
        },
        {
         "alignmentgroup": "True",
         "bingroup": "x",
         "hovertemplate": "CAUSE.CATEGORY.DETAIL=hurricanes<br>CAUSE.CATEGORY=%{x}<br>count=%{y}<extra></extra>",
         "legendgroup": "hurricanes",
         "marker": {
          "color": "#FF6692",
          "pattern": {
           "shape": ""
          }
         },
         "name": "hurricanes",
         "offsetgroup": "hurricanes",
         "orientation": "v",
         "showlegend": true,
         "type": "histogram",
         "x": [
          "severe weather",
          "severe weather",
          "severe weather",
          "severe weather",
          "severe weather",
          "severe weather",
          "severe weather",
          "severe weather",
          "severe weather",
          "severe weather",
          "severe weather",
          "severe weather",
          "severe weather",
          "severe weather",
          "severe weather",
          "severe weather",
          "severe weather",
          "severe weather",
          "severe weather",
          "severe weather",
          "severe weather",
          "severe weather",
          "severe weather",
          "severe weather",
          "severe weather",
          "severe weather",
          "severe weather",
          "severe weather",
          "severe weather",
          "severe weather",
          "severe weather",
          "severe weather",
          "severe weather",
          "severe weather",
          "severe weather",
          "severe weather",
          "severe weather",
          "severe weather",
          "severe weather",
          "severe weather",
          "severe weather",
          "severe weather",
          "severe weather",
          "severe weather",
          "severe weather",
          "severe weather",
          "severe weather",
          "severe weather",
          "severe weather",
          "severe weather",
          "severe weather",
          "severe weather",
          "severe weather",
          "severe weather",
          "severe weather",
          "severe weather",
          "severe weather",
          "severe weather",
          "severe weather",
          "severe weather",
          "severe weather",
          "severe weather",
          "severe weather",
          "severe weather",
          "severe weather",
          "severe weather",
          "severe weather",
          "severe weather",
          "severe weather",
          "severe weather",
          "severe weather",
          "severe weather",
          "severe weather",
          "severe weather"
         ],
         "xaxis": "x",
         "yaxis": "y"
        },
        {
         "alignmentgroup": "True",
         "bingroup": "x",
         "hovertemplate": "CAUSE.CATEGORY.DETAIL=wind/rain<br>CAUSE.CATEGORY=%{x}<br>count=%{y}<extra></extra>",
         "legendgroup": "wind/rain",
         "marker": {
          "color": "#B6E880",
          "pattern": {
           "shape": ""
          }
         },
         "name": "wind/rain",
         "offsetgroup": "wind/rain",
         "orientation": "v",
         "showlegend": true,
         "type": "histogram",
         "x": [
          "severe weather",
          "severe weather",
          "severe weather",
          "severe weather",
          "severe weather",
          "severe weather",
          "severe weather",
          "severe weather",
          "severe weather",
          "severe weather",
          "severe weather",
          "severe weather"
         ],
         "xaxis": "x",
         "yaxis": "y"
        },
        {
         "alignmentgroup": "True",
         "bingroup": "x",
         "hovertemplate": "CAUSE.CATEGORY.DETAIL=snow/ice storm<br>CAUSE.CATEGORY=%{x}<br>count=%{y}<extra></extra>",
         "legendgroup": "snow/ice storm",
         "marker": {
          "color": "#FF97FF",
          "pattern": {
           "shape": ""
          }
         },
         "name": "snow/ice storm",
         "offsetgroup": "snow/ice storm",
         "orientation": "v",
         "showlegend": true,
         "type": "histogram",
         "x": [
          "severe weather"
         ],
         "xaxis": "x",
         "yaxis": "y"
        },
        {
         "alignmentgroup": "True",
         "bingroup": "x",
         "hovertemplate": "CAUSE.CATEGORY.DETAIL=snow/ice <br>CAUSE.CATEGORY=%{x}<br>count=%{y}<extra></extra>",
         "legendgroup": "snow/ice ",
         "marker": {
          "color": "#FECB52",
          "pattern": {
           "shape": ""
          }
         },
         "name": "snow/ice ",
         "offsetgroup": "snow/ice ",
         "orientation": "v",
         "showlegend": true,
         "type": "histogram",
         "x": [
          "severe weather",
          "severe weather",
          "severe weather",
          "severe weather",
          "severe weather",
          "severe weather",
          "severe weather",
          "severe weather",
          "severe weather",
          "severe weather",
          "severe weather",
          "severe weather",
          "severe weather"
         ],
         "xaxis": "x",
         "yaxis": "y"
        },
        {
         "alignmentgroup": "True",
         "bingroup": "x",
         "hovertemplate": "CAUSE.CATEGORY.DETAIL=transmission interruption<br>CAUSE.CATEGORY=%{x}<br>count=%{y}<extra></extra>",
         "legendgroup": "transmission interruption",
         "marker": {
          "color": "#636efa",
          "pattern": {
           "shape": ""
          }
         },
         "name": "transmission interruption",
         "offsetgroup": "transmission interruption",
         "orientation": "v",
         "showlegend": true,
         "type": "histogram",
         "x": [
          "equipment failure",
          "system operability disruption",
          "system operability disruption",
          "system operability disruption",
          "system operability disruption",
          "equipment failure",
          "system operability disruption",
          "system operability disruption",
          "system operability disruption",
          "system operability disruption",
          "system operability disruption",
          "system operability disruption",
          "system operability disruption",
          "system operability disruption",
          "system operability disruption",
          "system operability disruption",
          "system operability disruption",
          "system operability disruption",
          "system operability disruption"
         ],
         "xaxis": "x",
         "yaxis": "y"
        },
        {
         "alignmentgroup": "True",
         "bingroup": "x",
         "hovertemplate": "CAUSE.CATEGORY.DETAIL=flooding<br>CAUSE.CATEGORY=%{x}<br>count=%{y}<extra></extra>",
         "legendgroup": "flooding",
         "marker": {
          "color": "#EF553B",
          "pattern": {
           "shape": ""
          }
         },
         "name": "flooding",
         "offsetgroup": "flooding",
         "orientation": "v",
         "showlegend": true,
         "type": "histogram",
         "x": [
          "severe weather",
          "severe weather",
          "severe weather",
          "severe weather"
         ],
         "xaxis": "x",
         "yaxis": "y"
        },
        {
         "alignmentgroup": "True",
         "bingroup": "x",
         "hovertemplate": "CAUSE.CATEGORY.DETAIL=transformer outage<br>CAUSE.CATEGORY=%{x}<br>count=%{y}<extra></extra>",
         "legendgroup": "transformer outage",
         "marker": {
          "color": "#00cc96",
          "pattern": {
           "shape": ""
          }
         },
         "name": "transformer outage",
         "offsetgroup": "transformer outage",
         "orientation": "v",
         "showlegend": true,
         "type": "histogram",
         "x": [
          "equipment failure",
          "equipment failure",
          "equipment failure"
         ],
         "xaxis": "x",
         "yaxis": "y"
        },
        {
         "alignmentgroup": "True",
         "bingroup": "x",
         "hovertemplate": "CAUSE.CATEGORY.DETAIL=generator trip<br>CAUSE.CATEGORY=%{x}<br>count=%{y}<extra></extra>",
         "legendgroup": "generator trip",
         "marker": {
          "color": "#ab63fa",
          "pattern": {
           "shape": ""
          }
         },
         "name": "generator trip",
         "offsetgroup": "generator trip",
         "orientation": "v",
         "showlegend": true,
         "type": "histogram",
         "x": [
          "equipment failure",
          "equipment failure",
          "equipment failure",
          "equipment failure",
          "equipment failure",
          "equipment failure",
          "equipment failure",
          "equipment failure",
          "equipment failure",
          "equipment failure",
          "equipment failure",
          "equipment failure",
          "equipment failure",
          "equipment failure",
          "equipment failure",
          "equipment failure"
         ],
         "xaxis": "x",
         "yaxis": "y"
        },
        {
         "alignmentgroup": "True",
         "bingroup": "x",
         "hovertemplate": "CAUSE.CATEGORY.DETAIL=relaying malfunction<br>CAUSE.CATEGORY=%{x}<br>count=%{y}<extra></extra>",
         "legendgroup": "relaying malfunction",
         "marker": {
          "color": "#FFA15A",
          "pattern": {
           "shape": ""
          }
         },
         "name": "relaying malfunction",
         "offsetgroup": "relaying malfunction",
         "orientation": "v",
         "showlegend": true,
         "type": "histogram",
         "x": [
          "equipment failure",
          "equipment failure",
          "equipment failure"
         ],
         "xaxis": "x",
         "yaxis": "y"
        },
        {
         "alignmentgroup": "True",
         "bingroup": "x",
         "hovertemplate": "CAUSE.CATEGORY.DETAIL=transmission trip<br>CAUSE.CATEGORY=%{x}<br>count=%{y}<extra></extra>",
         "legendgroup": "transmission trip",
         "marker": {
          "color": "#19d3f3",
          "pattern": {
           "shape": ""
          }
         },
         "name": "transmission trip",
         "offsetgroup": "transmission trip",
         "orientation": "v",
         "showlegend": true,
         "type": "histogram",
         "x": [
          "equipment failure",
          "equipment failure",
          "equipment failure",
          "equipment failure",
          "equipment failure",
          "equipment failure"
         ],
         "xaxis": "x",
         "yaxis": "y"
        },
        {
         "alignmentgroup": "True",
         "bingroup": "x",
         "hovertemplate": "CAUSE.CATEGORY.DETAIL=lightning<br>CAUSE.CATEGORY=%{x}<br>count=%{y}<extra></extra>",
         "legendgroup": "lightning",
         "marker": {
          "color": "#FF6692",
          "pattern": {
           "shape": ""
          }
         },
         "name": "lightning",
         "offsetgroup": "lightning",
         "orientation": "v",
         "showlegend": true,
         "type": "histogram",
         "x": [
          "severe weather",
          "severe weather",
          "severe weather"
         ],
         "xaxis": "x",
         "yaxis": "y"
        },
        {
         "alignmentgroup": "True",
         "bingroup": "x",
         "hovertemplate": "CAUSE.CATEGORY.DETAIL=switching<br>CAUSE.CATEGORY=%{x}<br>count=%{y}<extra></extra>",
         "legendgroup": "switching",
         "marker": {
          "color": "#B6E880",
          "pattern": {
           "shape": ""
          }
         },
         "name": "switching",
         "offsetgroup": "switching",
         "orientation": "v",
         "showlegend": true,
         "type": "histogram",
         "x": [
          "equipment failure",
          "equipment failure"
         ],
         "xaxis": "x",
         "yaxis": "y"
        },
        {
         "alignmentgroup": "True",
         "bingroup": "x",
         "hovertemplate": "CAUSE.CATEGORY.DETAIL=shed load<br>CAUSE.CATEGORY=%{x}<br>count=%{y}<extra></extra>",
         "legendgroup": "shed load",
         "marker": {
          "color": "#FF97FF",
          "pattern": {
           "shape": ""
          }
         },
         "name": "shed load",
         "offsetgroup": "shed load",
         "orientation": "v",
         "showlegend": true,
         "type": "histogram",
         "x": [
          "system operability disruption"
         ],
         "xaxis": "x",
         "yaxis": "y"
        },
        {
         "alignmentgroup": "True",
         "bingroup": "x",
         "hovertemplate": "CAUSE.CATEGORY.DETAIL=line fault<br>CAUSE.CATEGORY=%{x}<br>count=%{y}<extra></extra>",
         "legendgroup": "line fault",
         "marker": {
          "color": "#FECB52",
          "pattern": {
           "shape": ""
          }
         },
         "name": "line fault",
         "offsetgroup": "line fault",
         "orientation": "v",
         "showlegend": true,
         "type": "histogram",
         "x": [
          "equipment failure",
          "equipment failure"
         ],
         "xaxis": "x",
         "yaxis": "y"
        },
        {
         "alignmentgroup": "True",
         "bingroup": "x",
         "hovertemplate": "CAUSE.CATEGORY.DETAIL=breaker trip<br>CAUSE.CATEGORY=%{x}<br>count=%{y}<extra></extra>",
         "legendgroup": "breaker trip",
         "marker": {
          "color": "#636efa",
          "pattern": {
           "shape": ""
          }
         },
         "name": "breaker trip",
         "offsetgroup": "breaker trip",
         "orientation": "v",
         "showlegend": true,
         "type": "histogram",
         "x": [
          "equipment failure",
          "equipment failure",
          "equipment failure",
          "equipment failure"
         ],
         "xaxis": "x",
         "yaxis": "y"
        },
        {
         "alignmentgroup": "True",
         "bingroup": "x",
         "hovertemplate": "CAUSE.CATEGORY.DETAIL=wildfire<br>CAUSE.CATEGORY=%{x}<br>count=%{y}<extra></extra>",
         "legendgroup": "wildfire",
         "marker": {
          "color": "#EF553B",
          "pattern": {
           "shape": ""
          }
         },
         "name": "wildfire",
         "offsetgroup": "wildfire",
         "orientation": "v",
         "showlegend": true,
         "type": "histogram",
         "x": [
          "severe weather",
          "severe weather",
          "severe weather",
          "severe weather",
          "severe weather",
          "severe weather",
          "severe weather",
          "severe weather",
          "severe weather",
          "severe weather",
          "severe weather",
          "severe weather",
          "severe weather",
          "severe weather",
          "severe weather",
          "severe weather",
          "severe weather",
          "severe weather",
          "severe weather",
          "severe weather",
          "severe weather",
          "severe weather",
          "severe weather",
          "severe weather",
          "severe weather",
          "severe weather"
         ],
         "xaxis": "x",
         "yaxis": "y"
        },
        {
         "alignmentgroup": "True",
         "bingroup": "x",
         "hovertemplate": "CAUSE.CATEGORY.DETAIL= Hydro<br>CAUSE.CATEGORY=%{x}<br>count=%{y}<extra></extra>",
         "legendgroup": " Hydro",
         "marker": {
          "color": "#00cc96",
          "pattern": {
           "shape": ""
          }
         },
         "name": " Hydro",
         "offsetgroup": " Hydro",
         "orientation": "v",
         "showlegend": true,
         "type": "histogram",
         "x": [
          "fuel supply emergency"
         ],
         "xaxis": "x",
         "yaxis": "y"
        },
        {
         "alignmentgroup": "True",
         "bingroup": "x",
         "hovertemplate": "CAUSE.CATEGORY.DETAIL=majorsystem interruption<br>CAUSE.CATEGORY=%{x}<br>count=%{y}<extra></extra>",
         "legendgroup": "majorsystem interruption",
         "marker": {
          "color": "#ab63fa",
          "pattern": {
           "shape": ""
          }
         },
         "name": "majorsystem interruption",
         "offsetgroup": "majorsystem interruption",
         "orientation": "v",
         "showlegend": true,
         "type": "histogram",
         "x": [
          "system operability disruption"
         ],
         "xaxis": "x",
         "yaxis": "y"
        },
        {
         "alignmentgroup": "True",
         "bingroup": "x",
         "hovertemplate": "CAUSE.CATEGORY.DETAIL=voltage reduction<br>CAUSE.CATEGORY=%{x}<br>count=%{y}<extra></extra>",
         "legendgroup": "voltage reduction",
         "marker": {
          "color": "#FFA15A",
          "pattern": {
           "shape": ""
          }
         },
         "name": "voltage reduction",
         "offsetgroup": "voltage reduction",
         "orientation": "v",
         "showlegend": true,
         "type": "histogram",
         "x": [
          "system operability disruption"
         ],
         "xaxis": "x",
         "yaxis": "y"
        },
        {
         "alignmentgroup": "True",
         "bingroup": "x",
         "hovertemplate": "CAUSE.CATEGORY.DETAIL=transmission<br>CAUSE.CATEGORY=%{x}<br>count=%{y}<extra></extra>",
         "legendgroup": "transmission",
         "marker": {
          "color": "#19d3f3",
          "pattern": {
           "shape": ""
          }
         },
         "name": "transmission",
         "offsetgroup": "transmission",
         "orientation": "v",
         "showlegend": true,
         "type": "histogram",
         "x": [
          "equipment failure",
          "equipment failure",
          "equipment failure"
         ],
         "xaxis": "x",
         "yaxis": "y"
        },
        {
         "alignmentgroup": "True",
         "bingroup": "x",
         "hovertemplate": "CAUSE.CATEGORY.DETAIL=Coal<br>CAUSE.CATEGORY=%{x}<br>count=%{y}<extra></extra>",
         "legendgroup": "Coal",
         "marker": {
          "color": "#FF6692",
          "pattern": {
           "shape": ""
          }
         },
         "name": "Coal",
         "offsetgroup": "Coal",
         "orientation": "v",
         "showlegend": true,
         "type": "histogram",
         "x": [
          "fuel supply emergency",
          "fuel supply emergency",
          "fuel supply emergency",
          "fuel supply emergency",
          "fuel supply emergency",
          "fuel supply emergency",
          "fuel supply emergency",
          "fuel supply emergency"
         ],
         "xaxis": "x",
         "yaxis": "y"
        },
        {
         "alignmentgroup": "True",
         "bingroup": "x",
         "hovertemplate": "CAUSE.CATEGORY.DETAIL=substation<br>CAUSE.CATEGORY=%{x}<br>count=%{y}<extra></extra>",
         "legendgroup": "substation",
         "marker": {
          "color": "#B6E880",
          "pattern": {
           "shape": ""
          }
         },
         "name": "substation",
         "offsetgroup": "substation",
         "orientation": "v",
         "showlegend": true,
         "type": "histogram",
         "x": [
          "equipment failure",
          "equipment failure"
         ],
         "xaxis": "x",
         "yaxis": "y"
        },
        {
         "alignmentgroup": "True",
         "bingroup": "x",
         "hovertemplate": "CAUSE.CATEGORY.DETAIL=heatwave<br>CAUSE.CATEGORY=%{x}<br>count=%{y}<extra></extra>",
         "legendgroup": "heatwave",
         "marker": {
          "color": "#FF97FF",
          "pattern": {
           "shape": ""
          }
         },
         "name": "heatwave",
         "offsetgroup": "heatwave",
         "orientation": "v",
         "showlegend": true,
         "type": "histogram",
         "x": [
          "severe weather",
          "severe weather",
          "severe weather",
          "severe weather",
          "severe weather",
          "severe weather",
          "severe weather",
          "severe weather",
          "severe weather",
          "severe weather"
         ],
         "xaxis": "x",
         "yaxis": "y"
        },
        {
         "alignmentgroup": "True",
         "bingroup": "x",
         "hovertemplate": "CAUSE.CATEGORY.DETAIL=distribution interruption<br>CAUSE.CATEGORY=%{x}<br>count=%{y}<extra></extra>",
         "legendgroup": "distribution interruption",
         "marker": {
          "color": "#FECB52",
          "pattern": {
           "shape": ""
          }
         },
         "name": "distribution interruption",
         "offsetgroup": "distribution interruption",
         "orientation": "v",
         "showlegend": true,
         "type": "histogram",
         "x": [
          "system operability disruption",
          "system operability disruption"
         ],
         "xaxis": "x",
         "yaxis": "y"
        },
        {
         "alignmentgroup": "True",
         "bingroup": "x",
         "hovertemplate": "CAUSE.CATEGORY.DETAIL=wind<br>CAUSE.CATEGORY=%{x}<br>count=%{y}<extra></extra>",
         "legendgroup": "wind",
         "marker": {
          "color": "#636efa",
          "pattern": {
           "shape": ""
          }
         },
         "name": "wind",
         "offsetgroup": "wind",
         "orientation": "v",
         "showlegend": true,
         "type": "histogram",
         "x": [
          "severe weather",
          "severe weather",
          "severe weather"
         ],
         "xaxis": "x",
         "yaxis": "y"
        },
        {
         "alignmentgroup": "True",
         "bingroup": "x",
         "hovertemplate": "CAUSE.CATEGORY.DETAIL=suspicious activity<br>CAUSE.CATEGORY=%{x}<br>count=%{y}<extra></extra>",
         "legendgroup": "suspicious activity",
         "marker": {
          "color": "#EF553B",
          "pattern": {
           "shape": ""
          }
         },
         "name": "suspicious activity",
         "offsetgroup": "suspicious activity",
         "orientation": "v",
         "showlegend": true,
         "type": "histogram",
         "x": [
          "intentional attack",
          "intentional attack",
          "intentional attack"
         ],
         "xaxis": "x",
         "yaxis": "y"
        },
        {
         "alignmentgroup": "True",
         "bingroup": "x",
         "hovertemplate": "CAUSE.CATEGORY.DETAIL=feeder shutdown<br>CAUSE.CATEGORY=%{x}<br>count=%{y}<extra></extra>",
         "legendgroup": "feeder shutdown",
         "marker": {
          "color": "#00cc96",
          "pattern": {
           "shape": ""
          }
         },
         "name": "feeder shutdown",
         "offsetgroup": "feeder shutdown",
         "orientation": "v",
         "showlegend": true,
         "type": "histogram",
         "x": [
          "equipment failure"
         ],
         "xaxis": "x",
         "yaxis": "y"
        },
        {
         "alignmentgroup": "True",
         "bingroup": "x",
         "hovertemplate": "CAUSE.CATEGORY.DETAIL=100 MW loadshed<br>CAUSE.CATEGORY=%{x}<br>count=%{y}<extra></extra>",
         "legendgroup": "100 MW loadshed",
         "marker": {
          "color": "#ab63fa",
          "pattern": {
           "shape": ""
          }
         },
         "name": "100 MW loadshed",
         "offsetgroup": "100 MW loadshed",
         "orientation": "v",
         "showlegend": true,
         "type": "histogram",
         "x": [
          "system operability disruption"
         ],
         "xaxis": "x",
         "yaxis": "y"
        },
        {
         "alignmentgroup": "True",
         "bingroup": "x",
         "hovertemplate": "CAUSE.CATEGORY.DETAIL=plant trip<br>CAUSE.CATEGORY=%{x}<br>count=%{y}<extra></extra>",
         "legendgroup": "plant trip",
         "marker": {
          "color": "#FFA15A",
          "pattern": {
           "shape": ""
          }
         },
         "name": "plant trip",
         "offsetgroup": "plant trip",
         "orientation": "v",
         "showlegend": true,
         "type": "histogram",
         "x": [
          "equipment failure"
         ],
         "xaxis": "x",
         "yaxis": "y"
        },
        {
         "alignmentgroup": "True",
         "bingroup": "x",
         "hovertemplate": "CAUSE.CATEGORY.DETAIL=fog<br>CAUSE.CATEGORY=%{x}<br>count=%{y}<extra></extra>",
         "legendgroup": "fog",
         "marker": {
          "color": "#19d3f3",
          "pattern": {
           "shape": ""
          }
         },
         "name": "fog",
         "offsetgroup": "fog",
         "orientation": "v",
         "showlegend": true,
         "type": "histogram",
         "x": [
          "severe weather"
         ],
         "xaxis": "x",
         "yaxis": "y"
        },
        {
         "alignmentgroup": "True",
         "bingroup": "x",
         "hovertemplate": "CAUSE.CATEGORY.DETAIL=Hydro<br>CAUSE.CATEGORY=%{x}<br>count=%{y}<extra></extra>",
         "legendgroup": "Hydro",
         "marker": {
          "color": "#FF6692",
          "pattern": {
           "shape": ""
          }
         },
         "name": "Hydro",
         "offsetgroup": "Hydro",
         "orientation": "v",
         "showlegend": true,
         "type": "histogram",
         "x": [
          "fuel supply emergency",
          "fuel supply emergency",
          "fuel supply emergency",
          "fuel supply emergency",
          "fuel supply emergency"
         ],
         "xaxis": "x",
         "yaxis": "y"
        },
        {
         "alignmentgroup": "True",
         "bingroup": "x",
         "hovertemplate": "CAUSE.CATEGORY.DETAIL=earthquake<br>CAUSE.CATEGORY=%{x}<br>count=%{y}<extra></extra>",
         "legendgroup": "earthquake",
         "marker": {
          "color": "#B6E880",
          "pattern": {
           "shape": ""
          }
         },
         "name": "earthquake",
         "offsetgroup": "earthquake",
         "orientation": "v",
         "showlegend": true,
         "type": "histogram",
         "x": [
          "severe weather",
          "severe weather",
          "severe weather",
          "severe weather"
         ],
         "xaxis": "x",
         "yaxis": "y"
        },
        {
         "alignmentgroup": "True",
         "bingroup": "x",
         "hovertemplate": "CAUSE.CATEGORY.DETAIL=HVSubstation interruption<br>CAUSE.CATEGORY=%{x}<br>count=%{y}<extra></extra>",
         "legendgroup": "HVSubstation interruption",
         "marker": {
          "color": "#FF97FF",
          "pattern": {
           "shape": ""
          }
         },
         "name": "HVSubstation interruption",
         "offsetgroup": "HVSubstation interruption",
         "orientation": "v",
         "showlegend": true,
         "type": "histogram",
         "x": [
          "system operability disruption"
         ],
         "xaxis": "x",
         "yaxis": "y"
        },
        {
         "alignmentgroup": "True",
         "bingroup": "x",
         "hovertemplate": "CAUSE.CATEGORY.DETAIL=cables<br>CAUSE.CATEGORY=%{x}<br>count=%{y}<extra></extra>",
         "legendgroup": "cables",
         "marker": {
          "color": "#FECB52",
          "pattern": {
           "shape": ""
          }
         },
         "name": "cables",
         "offsetgroup": "cables",
         "orientation": "v",
         "showlegend": true,
         "type": "histogram",
         "x": [
          "equipment failure"
         ],
         "xaxis": "x",
         "yaxis": "y"
        },
        {
         "alignmentgroup": "True",
         "bingroup": "x",
         "hovertemplate": "CAUSE.CATEGORY.DETAIL=Petroleum<br>CAUSE.CATEGORY=%{x}<br>count=%{y}<extra></extra>",
         "legendgroup": "Petroleum",
         "marker": {
          "color": "#636efa",
          "pattern": {
           "shape": ""
          }
         },
         "name": "Petroleum",
         "offsetgroup": "Petroleum",
         "orientation": "v",
         "showlegend": true,
         "type": "histogram",
         "x": [
          "fuel supply emergency"
         ],
         "xaxis": "x",
         "yaxis": "y"
        },
        {
         "alignmentgroup": "True",
         "bingroup": "x",
         "hovertemplate": "CAUSE.CATEGORY.DETAIL=thunderstorm; islanding<br>CAUSE.CATEGORY=%{x}<br>count=%{y}<extra></extra>",
         "legendgroup": "thunderstorm; islanding",
         "marker": {
          "color": "#EF553B",
          "pattern": {
           "shape": ""
          }
         },
         "name": "thunderstorm; islanding",
         "offsetgroup": "thunderstorm; islanding",
         "orientation": "v",
         "showlegend": true,
         "type": "histogram",
         "x": [
          "severe weather"
         ],
         "xaxis": "x",
         "yaxis": "y"
        },
        {
         "alignmentgroup": "True",
         "bingroup": "x",
         "hovertemplate": "CAUSE.CATEGORY.DETAIL=failure<br>CAUSE.CATEGORY=%{x}<br>count=%{y}<extra></extra>",
         "legendgroup": "failure",
         "marker": {
          "color": "#00cc96",
          "pattern": {
           "shape": ""
          }
         },
         "name": "failure",
         "offsetgroup": "failure",
         "orientation": "v",
         "showlegend": true,
         "type": "histogram",
         "x": [
          "equipment failure"
         ],
         "xaxis": "x",
         "yaxis": "y"
        }
       ],
       "layout": {
        "barmode": "relative",
        "legend": {
         "title": {
          "text": "CAUSE.CATEGORY.DETAIL"
         },
         "tracegroupgap": 0
        },
        "template": {
         "data": {
          "bar": [
           {
            "error_x": {
             "color": "#2a3f5f"
            },
            "error_y": {
             "color": "#2a3f5f"
            },
            "marker": {
             "line": {
              "color": "#E5ECF6",
              "width": 0.5
             },
             "pattern": {
              "fillmode": "overlay",
              "size": 10,
              "solidity": 0.2
             }
            },
            "type": "bar"
           }
          ],
          "barpolar": [
           {
            "marker": {
             "line": {
              "color": "#E5ECF6",
              "width": 0.5
             },
             "pattern": {
              "fillmode": "overlay",
              "size": 10,
              "solidity": 0.2
             }
            },
            "type": "barpolar"
           }
          ],
          "carpet": [
           {
            "aaxis": {
             "endlinecolor": "#2a3f5f",
             "gridcolor": "white",
             "linecolor": "white",
             "minorgridcolor": "white",
             "startlinecolor": "#2a3f5f"
            },
            "baxis": {
             "endlinecolor": "#2a3f5f",
             "gridcolor": "white",
             "linecolor": "white",
             "minorgridcolor": "white",
             "startlinecolor": "#2a3f5f"
            },
            "type": "carpet"
           }
          ],
          "choropleth": [
           {
            "colorbar": {
             "outlinewidth": 0,
             "ticks": ""
            },
            "type": "choropleth"
           }
          ],
          "contour": [
           {
            "colorbar": {
             "outlinewidth": 0,
             "ticks": ""
            },
            "colorscale": [
             [
              0,
              "#0d0887"
             ],
             [
              0.1111111111111111,
              "#46039f"
             ],
             [
              0.2222222222222222,
              "#7201a8"
             ],
             [
              0.3333333333333333,
              "#9c179e"
             ],
             [
              0.4444444444444444,
              "#bd3786"
             ],
             [
              0.5555555555555556,
              "#d8576b"
             ],
             [
              0.6666666666666666,
              "#ed7953"
             ],
             [
              0.7777777777777778,
              "#fb9f3a"
             ],
             [
              0.8888888888888888,
              "#fdca26"
             ],
             [
              1,
              "#f0f921"
             ]
            ],
            "type": "contour"
           }
          ],
          "contourcarpet": [
           {
            "colorbar": {
             "outlinewidth": 0,
             "ticks": ""
            },
            "type": "contourcarpet"
           }
          ],
          "heatmap": [
           {
            "colorbar": {
             "outlinewidth": 0,
             "ticks": ""
            },
            "colorscale": [
             [
              0,
              "#0d0887"
             ],
             [
              0.1111111111111111,
              "#46039f"
             ],
             [
              0.2222222222222222,
              "#7201a8"
             ],
             [
              0.3333333333333333,
              "#9c179e"
             ],
             [
              0.4444444444444444,
              "#bd3786"
             ],
             [
              0.5555555555555556,
              "#d8576b"
             ],
             [
              0.6666666666666666,
              "#ed7953"
             ],
             [
              0.7777777777777778,
              "#fb9f3a"
             ],
             [
              0.8888888888888888,
              "#fdca26"
             ],
             [
              1,
              "#f0f921"
             ]
            ],
            "type": "heatmap"
           }
          ],
          "heatmapgl": [
           {
            "colorbar": {
             "outlinewidth": 0,
             "ticks": ""
            },
            "colorscale": [
             [
              0,
              "#0d0887"
             ],
             [
              0.1111111111111111,
              "#46039f"
             ],
             [
              0.2222222222222222,
              "#7201a8"
             ],
             [
              0.3333333333333333,
              "#9c179e"
             ],
             [
              0.4444444444444444,
              "#bd3786"
             ],
             [
              0.5555555555555556,
              "#d8576b"
             ],
             [
              0.6666666666666666,
              "#ed7953"
             ],
             [
              0.7777777777777778,
              "#fb9f3a"
             ],
             [
              0.8888888888888888,
              "#fdca26"
             ],
             [
              1,
              "#f0f921"
             ]
            ],
            "type": "heatmapgl"
           }
          ],
          "histogram": [
           {
            "marker": {
             "pattern": {
              "fillmode": "overlay",
              "size": 10,
              "solidity": 0.2
             }
            },
            "type": "histogram"
           }
          ],
          "histogram2d": [
           {
            "colorbar": {
             "outlinewidth": 0,
             "ticks": ""
            },
            "colorscale": [
             [
              0,
              "#0d0887"
             ],
             [
              0.1111111111111111,
              "#46039f"
             ],
             [
              0.2222222222222222,
              "#7201a8"
             ],
             [
              0.3333333333333333,
              "#9c179e"
             ],
             [
              0.4444444444444444,
              "#bd3786"
             ],
             [
              0.5555555555555556,
              "#d8576b"
             ],
             [
              0.6666666666666666,
              "#ed7953"
             ],
             [
              0.7777777777777778,
              "#fb9f3a"
             ],
             [
              0.8888888888888888,
              "#fdca26"
             ],
             [
              1,
              "#f0f921"
             ]
            ],
            "type": "histogram2d"
           }
          ],
          "histogram2dcontour": [
           {
            "colorbar": {
             "outlinewidth": 0,
             "ticks": ""
            },
            "colorscale": [
             [
              0,
              "#0d0887"
             ],
             [
              0.1111111111111111,
              "#46039f"
             ],
             [
              0.2222222222222222,
              "#7201a8"
             ],
             [
              0.3333333333333333,
              "#9c179e"
             ],
             [
              0.4444444444444444,
              "#bd3786"
             ],
             [
              0.5555555555555556,
              "#d8576b"
             ],
             [
              0.6666666666666666,
              "#ed7953"
             ],
             [
              0.7777777777777778,
              "#fb9f3a"
             ],
             [
              0.8888888888888888,
              "#fdca26"
             ],
             [
              1,
              "#f0f921"
             ]
            ],
            "type": "histogram2dcontour"
           }
          ],
          "mesh3d": [
           {
            "colorbar": {
             "outlinewidth": 0,
             "ticks": ""
            },
            "type": "mesh3d"
           }
          ],
          "parcoords": [
           {
            "line": {
             "colorbar": {
              "outlinewidth": 0,
              "ticks": ""
             }
            },
            "type": "parcoords"
           }
          ],
          "pie": [
           {
            "automargin": true,
            "type": "pie"
           }
          ],
          "scatter": [
           {
            "fillpattern": {
             "fillmode": "overlay",
             "size": 10,
             "solidity": 0.2
            },
            "type": "scatter"
           }
          ],
          "scatter3d": [
           {
            "line": {
             "colorbar": {
              "outlinewidth": 0,
              "ticks": ""
             }
            },
            "marker": {
             "colorbar": {
              "outlinewidth": 0,
              "ticks": ""
             }
            },
            "type": "scatter3d"
           }
          ],
          "scattercarpet": [
           {
            "marker": {
             "colorbar": {
              "outlinewidth": 0,
              "ticks": ""
             }
            },
            "type": "scattercarpet"
           }
          ],
          "scattergeo": [
           {
            "marker": {
             "colorbar": {
              "outlinewidth": 0,
              "ticks": ""
             }
            },
            "type": "scattergeo"
           }
          ],
          "scattergl": [
           {
            "marker": {
             "colorbar": {
              "outlinewidth": 0,
              "ticks": ""
             }
            },
            "type": "scattergl"
           }
          ],
          "scattermapbox": [
           {
            "marker": {
             "colorbar": {
              "outlinewidth": 0,
              "ticks": ""
             }
            },
            "type": "scattermapbox"
           }
          ],
          "scatterpolar": [
           {
            "marker": {
             "colorbar": {
              "outlinewidth": 0,
              "ticks": ""
             }
            },
            "type": "scatterpolar"
           }
          ],
          "scatterpolargl": [
           {
            "marker": {
             "colorbar": {
              "outlinewidth": 0,
              "ticks": ""
             }
            },
            "type": "scatterpolargl"
           }
          ],
          "scatterternary": [
           {
            "marker": {
             "colorbar": {
              "outlinewidth": 0,
              "ticks": ""
             }
            },
            "type": "scatterternary"
           }
          ],
          "surface": [
           {
            "colorbar": {
             "outlinewidth": 0,
             "ticks": ""
            },
            "colorscale": [
             [
              0,
              "#0d0887"
             ],
             [
              0.1111111111111111,
              "#46039f"
             ],
             [
              0.2222222222222222,
              "#7201a8"
             ],
             [
              0.3333333333333333,
              "#9c179e"
             ],
             [
              0.4444444444444444,
              "#bd3786"
             ],
             [
              0.5555555555555556,
              "#d8576b"
             ],
             [
              0.6666666666666666,
              "#ed7953"
             ],
             [
              0.7777777777777778,
              "#fb9f3a"
             ],
             [
              0.8888888888888888,
              "#fdca26"
             ],
             [
              1,
              "#f0f921"
             ]
            ],
            "type": "surface"
           }
          ],
          "table": [
           {
            "cells": {
             "fill": {
              "color": "#EBF0F8"
             },
             "line": {
              "color": "white"
             }
            },
            "header": {
             "fill": {
              "color": "#C8D4E3"
             },
             "line": {
              "color": "white"
             }
            },
            "type": "table"
           }
          ]
         },
         "layout": {
          "annotationdefaults": {
           "arrowcolor": "#2a3f5f",
           "arrowhead": 0,
           "arrowwidth": 1
          },
          "autotypenumbers": "strict",
          "coloraxis": {
           "colorbar": {
            "outlinewidth": 0,
            "ticks": ""
           }
          },
          "colorscale": {
           "diverging": [
            [
             0,
             "#8e0152"
            ],
            [
             0.1,
             "#c51b7d"
            ],
            [
             0.2,
             "#de77ae"
            ],
            [
             0.3,
             "#f1b6da"
            ],
            [
             0.4,
             "#fde0ef"
            ],
            [
             0.5,
             "#f7f7f7"
            ],
            [
             0.6,
             "#e6f5d0"
            ],
            [
             0.7,
             "#b8e186"
            ],
            [
             0.8,
             "#7fbc41"
            ],
            [
             0.9,
             "#4d9221"
            ],
            [
             1,
             "#276419"
            ]
           ],
           "sequential": [
            [
             0,
             "#0d0887"
            ],
            [
             0.1111111111111111,
             "#46039f"
            ],
            [
             0.2222222222222222,
             "#7201a8"
            ],
            [
             0.3333333333333333,
             "#9c179e"
            ],
            [
             0.4444444444444444,
             "#bd3786"
            ],
            [
             0.5555555555555556,
             "#d8576b"
            ],
            [
             0.6666666666666666,
             "#ed7953"
            ],
            [
             0.7777777777777778,
             "#fb9f3a"
            ],
            [
             0.8888888888888888,
             "#fdca26"
            ],
            [
             1,
             "#f0f921"
            ]
           ],
           "sequentialminus": [
            [
             0,
             "#0d0887"
            ],
            [
             0.1111111111111111,
             "#46039f"
            ],
            [
             0.2222222222222222,
             "#7201a8"
            ],
            [
             0.3333333333333333,
             "#9c179e"
            ],
            [
             0.4444444444444444,
             "#bd3786"
            ],
            [
             0.5555555555555556,
             "#d8576b"
            ],
            [
             0.6666666666666666,
             "#ed7953"
            ],
            [
             0.7777777777777778,
             "#fb9f3a"
            ],
            [
             0.8888888888888888,
             "#fdca26"
            ],
            [
             1,
             "#f0f921"
            ]
           ]
          },
          "colorway": [
           "#636efa",
           "#EF553B",
           "#00cc96",
           "#ab63fa",
           "#FFA15A",
           "#19d3f3",
           "#FF6692",
           "#B6E880",
           "#FF97FF",
           "#FECB52"
          ],
          "font": {
           "color": "#2a3f5f"
          },
          "geo": {
           "bgcolor": "white",
           "lakecolor": "white",
           "landcolor": "#E5ECF6",
           "showlakes": true,
           "showland": true,
           "subunitcolor": "white"
          },
          "hoverlabel": {
           "align": "left"
          },
          "hovermode": "closest",
          "mapbox": {
           "style": "light"
          },
          "paper_bgcolor": "white",
          "plot_bgcolor": "#E5ECF6",
          "polar": {
           "angularaxis": {
            "gridcolor": "white",
            "linecolor": "white",
            "ticks": ""
           },
           "bgcolor": "#E5ECF6",
           "radialaxis": {
            "gridcolor": "white",
            "linecolor": "white",
            "ticks": ""
           }
          },
          "scene": {
           "xaxis": {
            "backgroundcolor": "#E5ECF6",
            "gridcolor": "white",
            "gridwidth": 2,
            "linecolor": "white",
            "showbackground": true,
            "ticks": "",
            "zerolinecolor": "white"
           },
           "yaxis": {
            "backgroundcolor": "#E5ECF6",
            "gridcolor": "white",
            "gridwidth": 2,
            "linecolor": "white",
            "showbackground": true,
            "ticks": "",
            "zerolinecolor": "white"
           },
           "zaxis": {
            "backgroundcolor": "#E5ECF6",
            "gridcolor": "white",
            "gridwidth": 2,
            "linecolor": "white",
            "showbackground": true,
            "ticks": "",
            "zerolinecolor": "white"
           }
          },
          "shapedefaults": {
           "line": {
            "color": "#2a3f5f"
           }
          },
          "ternary": {
           "aaxis": {
            "gridcolor": "white",
            "linecolor": "white",
            "ticks": ""
           },
           "baxis": {
            "gridcolor": "white",
            "linecolor": "white",
            "ticks": ""
           },
           "bgcolor": "#E5ECF6",
           "caxis": {
            "gridcolor": "white",
            "linecolor": "white",
            "ticks": ""
           }
          },
          "title": {
           "x": 0.05
          },
          "xaxis": {
           "automargin": true,
           "gridcolor": "white",
           "linecolor": "white",
           "ticks": "",
           "title": {
            "standoff": 15
           },
           "zerolinecolor": "white",
           "zerolinewidth": 2
          },
          "yaxis": {
           "automargin": true,
           "gridcolor": "white",
           "linecolor": "white",
           "ticks": "",
           "title": {
            "standoff": 15
           },
           "zerolinecolor": "white",
           "zerolinewidth": 2
          }
         }
        },
        "title": {
         "text": "Frequency of Categories"
        },
        "xaxis": {
         "anchor": "y",
         "domain": [
          0,
          1
         ],
         "title": {
          "text": "CAUSE.CATEGORY"
         }
        },
        "yaxis": {
         "anchor": "x",
         "domain": [
          0,
          1
         ],
         "title": {
          "text": "count"
         }
        }
       }
      },
      "text/html": [
       "<div>                            <div id=\"81210279-1252-4925-bd5f-de989e43c1cc\" class=\"plotly-graph-div\" style=\"height:525px; width:100%;\"></div>            <script type=\"text/javascript\">                require([\"plotly\"], function(Plotly) {                    window.PLOTLYENV=window.PLOTLYENV || {};                                    if (document.getElementById(\"81210279-1252-4925-bd5f-de989e43c1cc\")) {                    Plotly.newPlot(                        \"81210279-1252-4925-bd5f-de989e43c1cc\",                        [{\"alignmentgroup\":\"True\",\"bingroup\":\"x\",\"hovertemplate\":\"CAUSE.CATEGORY.DETAIL=vandalism\\u003cbr\\u003eCAUSE.CATEGORY=%{x}\\u003cbr\\u003ecount=%{y}\\u003cextra\\u003e\\u003c\\u002fextra\\u003e\",\"legendgroup\":\"vandalism\",\"marker\":{\"color\":\"#EF553B\",\"pattern\":{\"shape\":\"\"}},\"name\":\"vandalism\",\"offsetgroup\":\"vandalism\",\"orientation\":\"v\",\"showlegend\":true,\"x\":[\"intentional attack\",\"intentional attack\",\"intentional attack\",\"intentional attack\",\"intentional attack\",\"intentional attack\",\"intentional attack\",\"intentional attack\",\"intentional attack\",\"intentional attack\",\"intentional attack\",\"intentional attack\",\"intentional attack\",\"intentional attack\",\"intentional attack\",\"intentional attack\",\"intentional attack\",\"intentional attack\",\"intentional attack\",\"intentional attack\",\"intentional attack\",\"intentional attack\",\"intentional attack\",\"intentional attack\",\"intentional attack\",\"intentional attack\",\"intentional attack\",\"intentional attack\",\"intentional attack\",\"intentional attack\",\"intentional attack\",\"intentional attack\",\"intentional attack\",\"intentional attack\",\"intentional attack\",\"intentional attack\",\"intentional attack\",\"intentional attack\",\"intentional attack\",\"intentional attack\",\"intentional attack\",\"intentional attack\",\"intentional attack\",\"intentional attack\",\"intentional attack\",\"intentional attack\",\"intentional attack\",\"intentional attack\",\"intentional attack\",\"intentional attack\",\"intentional attack\",\"intentional attack\",\"intentional attack\",\"intentional attack\",\"intentional attack\",\"intentional attack\",\"intentional attack\",\"intentional attack\",\"intentional attack\",\"intentional attack\",\"intentional attack\",\"intentional attack\",\"intentional attack\",\"intentional attack\",\"intentional attack\",\"intentional attack\",\"intentional attack\",\"intentional attack\",\"intentional attack\",\"intentional attack\",\"intentional attack\",\"intentional attack\",\"intentional attack\",\"intentional attack\",\"intentional attack\",\"intentional attack\",\"intentional attack\",\"intentional attack\",\"intentional attack\",\"intentional attack\",\"intentional attack\",\"intentional attack\",\"intentional attack\",\"intentional attack\",\"intentional attack\",\"intentional attack\",\"intentional attack\",\"intentional attack\",\"intentional attack\",\"intentional attack\",\"intentional attack\",\"intentional attack\",\"intentional attack\",\"intentional attack\",\"intentional attack\",\"intentional attack\",\"intentional attack\",\"intentional attack\",\"intentional attack\",\"intentional attack\",\"intentional attack\",\"intentional attack\",\"intentional attack\",\"intentional attack\",\"intentional attack\",\"intentional attack\",\"intentional attack\",\"intentional attack\",\"intentional attack\",\"intentional attack\",\"intentional attack\",\"intentional attack\",\"intentional attack\",\"intentional attack\",\"intentional attack\",\"intentional attack\",\"intentional attack\",\"intentional attack\",\"intentional attack\",\"intentional attack\",\"intentional attack\",\"intentional attack\",\"intentional attack\",\"intentional attack\",\"intentional attack\",\"intentional attack\",\"intentional attack\",\"intentional attack\",\"intentional attack\",\"intentional attack\",\"intentional attack\",\"intentional attack\",\"intentional attack\",\"intentional attack\",\"intentional attack\",\"intentional attack\",\"intentional attack\",\"intentional attack\",\"intentional attack\",\"intentional attack\",\"intentional attack\",\"intentional attack\",\"intentional attack\",\"intentional attack\",\"intentional attack\",\"intentional attack\",\"intentional attack\",\"intentional attack\",\"intentional attack\",\"intentional attack\",\"intentional attack\",\"intentional attack\",\"intentional attack\",\"intentional attack\",\"intentional attack\",\"intentional attack\",\"intentional attack\",\"intentional attack\",\"intentional attack\",\"intentional attack\",\"intentional attack\",\"intentional attack\",\"intentional attack\",\"intentional attack\",\"intentional attack\",\"intentional attack\",\"intentional attack\",\"intentional attack\",\"intentional attack\",\"intentional attack\",\"intentional attack\",\"intentional attack\",\"intentional attack\",\"intentional attack\",\"intentional attack\",\"intentional attack\",\"intentional attack\",\"intentional attack\",\"intentional attack\",\"intentional attack\",\"intentional attack\",\"intentional attack\",\"intentional attack\",\"intentional attack\",\"intentional attack\",\"intentional attack\",\"intentional attack\",\"intentional attack\",\"intentional attack\",\"intentional attack\",\"intentional attack\",\"intentional attack\",\"intentional attack\",\"intentional attack\",\"intentional attack\",\"intentional attack\",\"intentional attack\",\"intentional attack\",\"intentional attack\",\"intentional attack\",\"intentional attack\",\"intentional attack\",\"intentional attack\",\"intentional attack\",\"intentional attack\",\"intentional attack\",\"intentional attack\",\"intentional attack\",\"intentional attack\",\"intentional attack\",\"intentional attack\",\"intentional attack\",\"intentional attack\",\"intentional attack\",\"intentional attack\",\"intentional attack\",\"intentional attack\",\"intentional attack\",\"intentional attack\",\"intentional attack\",\"intentional attack\",\"intentional attack\",\"intentional attack\",\"intentional attack\",\"intentional attack\",\"intentional attack\",\"intentional attack\",\"intentional attack\",\"intentional attack\",\"intentional attack\",\"intentional attack\",\"intentional attack\",\"intentional attack\",\"intentional attack\",\"intentional attack\",\"intentional attack\",\"intentional attack\",\"intentional attack\",\"intentional attack\",\"intentional attack\",\"intentional attack\",\"intentional attack\",\"intentional attack\",\"intentional attack\",\"intentional attack\",\"intentional attack\",\"intentional attack\",\"intentional attack\",\"intentional attack\",\"intentional attack\",\"intentional attack\",\"intentional attack\",\"intentional attack\",\"intentional attack\",\"intentional attack\",\"intentional attack\",\"intentional attack\",\"intentional attack\",\"intentional attack\",\"intentional attack\",\"intentional attack\",\"intentional attack\",\"intentional attack\",\"intentional attack\",\"intentional attack\",\"intentional attack\",\"intentional attack\",\"intentional attack\",\"intentional attack\",\"intentional attack\",\"intentional attack\",\"intentional attack\",\"intentional attack\",\"intentional attack\",\"intentional attack\",\"intentional attack\",\"intentional attack\",\"intentional attack\",\"intentional attack\",\"intentional attack\",\"intentional attack\",\"intentional attack\",\"intentional attack\",\"intentional attack\",\"intentional attack\",\"intentional attack\",\"intentional attack\",\"intentional attack\",\"intentional attack\",\"intentional attack\",\"intentional attack\",\"intentional attack\",\"intentional attack\",\"intentional attack\",\"intentional attack\",\"intentional attack\",\"intentional attack\",\"intentional attack\",\"intentional attack\",\"intentional attack\",\"intentional attack\",\"intentional attack\",\"intentional attack\",\"intentional attack\",\"intentional attack\",\"intentional attack\",\"intentional attack\",\"intentional attack\",\"intentional attack\",\"intentional attack\",\"intentional attack\",\"intentional attack\",\"intentional attack\",\"intentional attack\",\"intentional attack\",\"intentional attack\",\"intentional attack\",\"intentional attack\",\"intentional attack\",\"intentional attack\",\"intentional attack\",\"intentional attack\",\"intentional attack\",\"intentional attack\",\"intentional attack\",\"intentional attack\",\"intentional attack\",\"intentional attack\",\"intentional attack\",\"intentional attack\",\"intentional attack\",\"intentional attack\",\"intentional attack\",\"intentional attack\",\"intentional attack\"],\"xaxis\":\"x\",\"yaxis\":\"y\",\"type\":\"histogram\"},{\"alignmentgroup\":\"True\",\"bingroup\":\"x\",\"hovertemplate\":\"CAUSE.CATEGORY.DETAIL=heavy wind\\u003cbr\\u003eCAUSE.CATEGORY=%{x}\\u003cbr\\u003ecount=%{y}\\u003cextra\\u003e\\u003c\\u002fextra\\u003e\",\"legendgroup\":\"heavy wind\",\"marker\":{\"color\":\"#00cc96\",\"pattern\":{\"shape\":\"\"}},\"name\":\"heavy wind\",\"offsetgroup\":\"heavy wind\",\"orientation\":\"v\",\"showlegend\":true,\"x\":[\"severe weather\",\"severe weather\",\"severe weather\",\"severe weather\",\"severe weather\",\"severe weather\",\"severe weather\",\"severe weather\",\"severe weather\",\"severe weather\",\"severe weather\",\"severe weather\",\"severe weather\",\"severe weather\",\"severe weather\",\"severe weather\",\"severe weather\",\"severe weather\",\"severe weather\",\"severe weather\",\"severe weather\",\"severe weather\",\"severe weather\",\"severe weather\",\"severe weather\",\"severe weather\",\"severe weather\",\"severe weather\",\"severe weather\",\"severe weather\",\"severe weather\",\"severe weather\",\"severe weather\",\"severe weather\",\"severe weather\",\"severe weather\",\"severe weather\",\"severe weather\",\"severe weather\",\"severe weather\",\"severe weather\",\"severe weather\",\"severe weather\",\"severe weather\",\"severe weather\",\"severe weather\",\"severe weather\",\"severe weather\",\"severe weather\",\"severe weather\",\"severe weather\",\"severe weather\",\"severe weather\",\"severe weather\",\"severe weather\",\"severe weather\",\"severe weather\",\"severe weather\",\"severe weather\",\"severe weather\",\"severe weather\"],\"xaxis\":\"x\",\"yaxis\":\"y\",\"type\":\"histogram\"},{\"alignmentgroup\":\"True\",\"bingroup\":\"x\",\"hovertemplate\":\"CAUSE.CATEGORY.DETAIL=thunderstorm\\u003cbr\\u003eCAUSE.CATEGORY=%{x}\\u003cbr\\u003ecount=%{y}\\u003cextra\\u003e\\u003c\\u002fextra\\u003e\",\"legendgroup\":\"thunderstorm\",\"marker\":{\"color\":\"#ab63fa\",\"pattern\":{\"shape\":\"\"}},\"name\":\"thunderstorm\",\"offsetgroup\":\"thunderstorm\",\"orientation\":\"v\",\"showlegend\":true,\"x\":[\"severe weather\",\"severe weather\",\"severe weather\",\"severe weather\",\"severe weather\",\"severe weather\",\"severe weather\",\"severe weather\",\"severe weather\",\"severe weather\",\"severe weather\",\"severe weather\",\"severe weather\",\"severe weather\",\"severe weather\",\"severe weather\",\"severe weather\",\"severe weather\",\"severe weather\",\"severe weather\",\"severe weather\",\"severe weather\",\"severe weather\",\"severe weather\",\"severe weather\",\"severe weather\",\"severe weather\",\"severe weather\",\"severe weather\",\"severe weather\",\"severe weather\",\"severe weather\",\"severe weather\",\"severe weather\",\"severe weather\",\"severe weather\",\"severe weather\",\"severe weather\",\"severe weather\",\"severe weather\",\"severe weather\",\"severe weather\",\"severe weather\",\"severe weather\",\"severe weather\",\"severe weather\",\"severe weather\",\"severe weather\",\"severe weather\",\"severe weather\",\"severe weather\",\"severe weather\",\"severe weather\",\"severe weather\",\"severe weather\",\"severe weather\",\"severe weather\",\"severe weather\",\"severe weather\",\"severe weather\",\"severe weather\",\"severe weather\",\"severe weather\",\"severe weather\",\"severe weather\",\"severe weather\",\"severe weather\",\"severe weather\",\"severe weather\",\"severe weather\",\"severe weather\",\"severe weather\",\"severe weather\",\"severe weather\",\"severe weather\",\"severe weather\",\"severe weather\",\"severe weather\",\"severe weather\",\"severe weather\",\"severe weather\",\"severe weather\",\"severe weather\",\"severe weather\",\"severe weather\",\"severe weather\",\"severe weather\",\"severe weather\",\"severe weather\",\"severe weather\",\"severe weather\",\"severe weather\",\"severe weather\",\"severe weather\",\"severe weather\",\"severe weather\",\"severe weather\",\"severe weather\",\"severe weather\",\"severe weather\",\"severe weather\",\"severe weather\",\"severe weather\",\"severe weather\",\"severe weather\",\"severe weather\",\"severe weather\",\"severe weather\",\"severe weather\",\"severe weather\",\"severe weather\",\"severe weather\",\"severe weather\",\"severe weather\",\"severe weather\",\"severe weather\",\"severe weather\",\"severe weather\",\"severe weather\",\"severe weather\",\"severe weather\",\"severe weather\",\"severe weather\",\"severe weather\",\"severe weather\",\"severe weather\",\"severe weather\",\"severe weather\",\"severe weather\",\"severe weather\",\"severe weather\",\"severe weather\",\"severe weather\",\"severe weather\",\"severe weather\",\"severe weather\",\"severe weather\",\"severe weather\",\"severe weather\",\"severe weather\",\"severe weather\",\"severe weather\",\"severe weather\",\"severe weather\",\"severe weather\",\"severe weather\",\"severe weather\",\"severe weather\",\"severe weather\",\"severe weather\",\"severe weather\",\"severe weather\",\"severe weather\",\"severe weather\",\"severe weather\",\"severe weather\",\"severe weather\",\"severe weather\",\"severe weather\",\"severe weather\",\"severe weather\",\"severe weather\",\"severe weather\",\"severe weather\",\"severe weather\",\"severe weather\",\"severe weather\",\"severe weather\",\"severe weather\",\"severe weather\",\"severe weather\",\"severe weather\",\"severe weather\",\"severe weather\",\"severe weather\",\"severe weather\",\"severe weather\",\"severe weather\"],\"xaxis\":\"x\",\"yaxis\":\"y\",\"type\":\"histogram\"},{\"alignmentgroup\":\"True\",\"bingroup\":\"x\",\"hovertemplate\":\"CAUSE.CATEGORY.DETAIL=winter storm\\u003cbr\\u003eCAUSE.CATEGORY=%{x}\\u003cbr\\u003ecount=%{y}\\u003cextra\\u003e\\u003c\\u002fextra\\u003e\",\"legendgroup\":\"winter storm\",\"marker\":{\"color\":\"#FFA15A\",\"pattern\":{\"shape\":\"\"}},\"name\":\"winter storm\",\"offsetgroup\":\"winter storm\",\"orientation\":\"v\",\"showlegend\":true,\"x\":[\"severe weather\",\"severe weather\",\"severe weather\",\"severe weather\",\"severe weather\",\"severe weather\",\"severe weather\",\"severe weather\",\"severe weather\",\"severe weather\",\"severe weather\",\"severe weather\",\"severe weather\",\"severe weather\",\"severe weather\",\"severe weather\",\"severe weather\",\"severe weather\",\"severe weather\",\"severe weather\",\"severe weather\",\"severe weather\",\"severe weather\",\"severe weather\",\"severe weather\",\"severe weather\",\"severe weather\",\"severe weather\",\"severe weather\",\"severe weather\",\"severe weather\",\"severe weather\",\"severe weather\",\"severe weather\",\"severe weather\",\"severe weather\",\"severe weather\",\"severe weather\",\"severe weather\",\"severe weather\",\"severe weather\",\"severe weather\",\"severe weather\",\"severe weather\",\"severe weather\",\"severe weather\",\"severe weather\",\"severe weather\",\"severe weather\",\"severe weather\",\"severe weather\",\"severe weather\",\"severe weather\",\"severe weather\",\"severe weather\",\"severe weather\",\"severe weather\",\"severe weather\",\"severe weather\",\"severe weather\",\"severe weather\",\"severe weather\",\"severe weather\",\"severe weather\",\"severe weather\",\"severe weather\",\"severe weather\",\"severe weather\",\"severe weather\",\"severe weather\",\"severe weather\",\"severe weather\",\"severe weather\",\"severe weather\",\"severe weather\",\"severe weather\",\"severe weather\",\"severe weather\",\"severe weather\",\"severe weather\",\"severe weather\",\"severe weather\",\"severe weather\",\"severe weather\",\"severe weather\",\"severe weather\",\"severe weather\",\"severe weather\",\"severe weather\",\"severe weather\",\"severe weather\",\"severe weather\",\"severe weather\",\"severe weather\",\"severe weather\",\"severe weather\",\"severe weather\",\"severe weather\",\"severe weather\",\"severe weather\",\"severe weather\"],\"xaxis\":\"x\",\"yaxis\":\"y\",\"type\":\"histogram\"},{\"alignmentgroup\":\"True\",\"bingroup\":\"x\",\"hovertemplate\":\"CAUSE.CATEGORY.DETAIL=tornadoes\\u003cbr\\u003eCAUSE.CATEGORY=%{x}\\u003cbr\\u003ecount=%{y}\\u003cextra\\u003e\\u003c\\u002fextra\\u003e\",\"legendgroup\":\"tornadoes\",\"marker\":{\"color\":\"#19d3f3\",\"pattern\":{\"shape\":\"\"}},\"name\":\"tornadoes\",\"offsetgroup\":\"tornadoes\",\"orientation\":\"v\",\"showlegend\":true,\"x\":[\"severe weather\",\"severe weather\",\"severe weather\",\"severe weather\",\"severe weather\",\"severe weather\",\"severe weather\",\"severe weather\"],\"xaxis\":\"x\",\"yaxis\":\"y\",\"type\":\"histogram\"},{\"alignmentgroup\":\"True\",\"bingroup\":\"x\",\"hovertemplate\":\"CAUSE.CATEGORY.DETAIL=sabotage\\u003cbr\\u003eCAUSE.CATEGORY=%{x}\\u003cbr\\u003ecount=%{y}\\u003cextra\\u003e\\u003c\\u002fextra\\u003e\",\"legendgroup\":\"sabotage\",\"marker\":{\"color\":\"#FF6692\",\"pattern\":{\"shape\":\"\"}},\"name\":\"sabotage\",\"offsetgroup\":\"sabotage\",\"orientation\":\"v\",\"showlegend\":true,\"x\":[\"intentional attack\",\"intentional attack\",\"intentional attack\",\"intentional attack\",\"intentional attack\",\"intentional attack\",\"intentional attack\",\"intentional attack\",\"intentional attack\",\"intentional attack\",\"intentional attack\",\"intentional attack\",\"intentional attack\",\"intentional attack\",\"intentional attack\",\"intentional attack\",\"intentional attack\",\"intentional attack\",\"intentional attack\",\"intentional attack\",\"intentional attack\",\"intentional attack\",\"intentional attack\",\"intentional attack\",\"intentional attack\",\"intentional attack\",\"intentional attack\",\"intentional attack\",\"intentional attack\",\"intentional attack\",\"intentional attack\",\"intentional attack\"],\"xaxis\":\"x\",\"yaxis\":\"y\",\"type\":\"histogram\"},{\"alignmentgroup\":\"True\",\"bingroup\":\"x\",\"hovertemplate\":\"CAUSE.CATEGORY.DETAIL=hailstorm\\u003cbr\\u003eCAUSE.CATEGORY=%{x}\\u003cbr\\u003ecount=%{y}\\u003cextra\\u003e\\u003c\\u002fextra\\u003e\",\"legendgroup\":\"hailstorm\",\"marker\":{\"color\":\"#B6E880\",\"pattern\":{\"shape\":\"\"}},\"name\":\"hailstorm\",\"offsetgroup\":\"hailstorm\",\"orientation\":\"v\",\"showlegend\":true,\"x\":[\"severe weather\",\"severe weather\",\"severe weather\"],\"xaxis\":\"x\",\"yaxis\":\"y\",\"type\":\"histogram\"},{\"alignmentgroup\":\"True\",\"bingroup\":\"x\",\"hovertemplate\":\"CAUSE.CATEGORY.DETAIL=uncontrolled loss\\u003cbr\\u003eCAUSE.CATEGORY=%{x}\\u003cbr\\u003ecount=%{y}\\u003cextra\\u003e\\u003c\\u002fextra\\u003e\",\"legendgroup\":\"uncontrolled loss\",\"marker\":{\"color\":\"#FF97FF\",\"pattern\":{\"shape\":\"\"}},\"name\":\"uncontrolled loss\",\"offsetgroup\":\"uncontrolled loss\",\"orientation\":\"v\",\"showlegend\":true,\"x\":[\"system operability disruption\",\"system operability disruption\",\"system operability disruption\",\"system operability disruption\",\"system operability disruption\",\"severe weather\",\"system operability disruption\",\"system operability disruption\",\"system operability disruption\",\"system operability disruption\",\"system operability disruption\",\"severe weather\",\"system operability disruption\",\"system operability disruption\"],\"xaxis\":\"x\",\"yaxis\":\"y\",\"type\":\"histogram\"},{\"alignmentgroup\":\"True\",\"bingroup\":\"x\",\"hovertemplate\":\"CAUSE.CATEGORY.DETAIL=winter\\u003cbr\\u003eCAUSE.CATEGORY=%{x}\\u003cbr\\u003ecount=%{y}\\u003cextra\\u003e\\u003c\\u002fextra\\u003e\",\"legendgroup\":\"winter\",\"marker\":{\"color\":\"#FECB52\",\"pattern\":{\"shape\":\"\"}},\"name\":\"winter\",\"offsetgroup\":\"winter\",\"orientation\":\"v\",\"showlegend\":true,\"x\":[\"severe weather\",\"severe weather\",\"severe weather\",\"severe weather\",\"severe weather\",\"severe weather\",\"severe weather\",\"severe weather\",\"severe weather\",\"severe weather\",\"severe weather\",\"severe weather\",\"severe weather\",\"severe weather\",\"severe weather\",\"severe weather\",\"severe weather\",\"severe weather\",\"severe weather\",\"severe weather\",\"severe weather\",\"severe weather\",\"severe weather\"],\"xaxis\":\"x\",\"yaxis\":\"y\",\"type\":\"histogram\"},{\"alignmentgroup\":\"True\",\"bingroup\":\"x\",\"hovertemplate\":\"CAUSE.CATEGORY.DETAIL=wind storm\\u003cbr\\u003eCAUSE.CATEGORY=%{x}\\u003cbr\\u003ecount=%{y}\\u003cextra\\u003e\\u003c\\u002fextra\\u003e\",\"legendgroup\":\"wind storm\",\"marker\":{\"color\":\"#636efa\",\"pattern\":{\"shape\":\"\"}},\"name\":\"wind storm\",\"offsetgroup\":\"wind storm\",\"orientation\":\"v\",\"showlegend\":true,\"x\":[\"severe weather\",\"severe weather\",\"severe weather\",\"severe weather\",\"severe weather\",\"severe weather\"],\"xaxis\":\"x\",\"yaxis\":\"y\",\"type\":\"histogram\"},{\"alignmentgroup\":\"True\",\"bingroup\":\"x\",\"hovertemplate\":\"CAUSE.CATEGORY.DETAIL=computer hardware\\u003cbr\\u003eCAUSE.CATEGORY=%{x}\\u003cbr\\u003ecount=%{y}\\u003cextra\\u003e\\u003c\\u002fextra\\u003e\",\"legendgroup\":\"computer hardware\",\"marker\":{\"color\":\"#EF553B\",\"pattern\":{\"shape\":\"\"}},\"name\":\"computer hardware\",\"offsetgroup\":\"computer hardware\",\"orientation\":\"v\",\"showlegend\":true,\"x\":[\"equipment failure\"],\"xaxis\":\"x\",\"yaxis\":\"y\",\"type\":\"histogram\"},{\"alignmentgroup\":\"True\",\"bingroup\":\"x\",\"hovertemplate\":\"CAUSE.CATEGORY.DETAIL=public appeal\\u003cbr\\u003eCAUSE.CATEGORY=%{x}\\u003cbr\\u003ecount=%{y}\\u003cextra\\u003e\\u003c\\u002fextra\\u003e\",\"legendgroup\":\"public appeal\",\"marker\":{\"color\":\"#00cc96\",\"pattern\":{\"shape\":\"\"}},\"name\":\"public appeal\",\"offsetgroup\":\"public appeal\",\"orientation\":\"v\",\"showlegend\":true,\"x\":[\"system operability disruption\",\"severe weather\"],\"xaxis\":\"x\",\"yaxis\":\"y\",\"type\":\"histogram\"},{\"alignmentgroup\":\"True\",\"bingroup\":\"x\",\"hovertemplate\":\"CAUSE.CATEGORY.DETAIL=storm\\u003cbr\\u003eCAUSE.CATEGORY=%{x}\\u003cbr\\u003ecount=%{y}\\u003cextra\\u003e\\u003c\\u002fextra\\u003e\",\"legendgroup\":\"storm\",\"marker\":{\"color\":\"#ab63fa\",\"pattern\":{\"shape\":\"\"}},\"name\":\"storm\",\"offsetgroup\":\"storm\",\"orientation\":\"v\",\"showlegend\":true,\"x\":[\"severe weather\",\"severe weather\",\"severe weather\",\"severe weather\",\"severe weather\",\"severe weather\",\"severe weather\",\"severe weather\",\"severe weather\",\"severe weather\",\"severe weather\",\"severe weather\",\"severe weather\",\"severe weather\",\"severe weather\",\"severe weather\",\"severe weather\",\"severe weather\",\"severe weather\",\"severe weather\",\"severe weather\",\"severe weather\",\"severe weather\",\"severe weather\",\"severe weather\",\"severe weather\",\"severe weather\",\"severe weather\",\"severe weather\",\"severe weather\",\"severe weather\",\"severe weather\",\"severe weather\",\"severe weather\",\"severe weather\",\"severe weather\",\"severe weather\",\"severe weather\",\"severe weather\",\"severe weather\",\"severe weather\"],\"xaxis\":\"x\",\"yaxis\":\"y\",\"type\":\"histogram\"},{\"alignmentgroup\":\"True\",\"bingroup\":\"x\",\"hovertemplate\":\"CAUSE.CATEGORY.DETAIL= Coal\\u003cbr\\u003eCAUSE.CATEGORY=%{x}\\u003cbr\\u003ecount=%{y}\\u003cextra\\u003e\\u003c\\u002fextra\\u003e\",\"legendgroup\":\" Coal\",\"marker\":{\"color\":\"#FFA15A\",\"pattern\":{\"shape\":\"\"}},\"name\":\" Coal\",\"offsetgroup\":\" Coal\",\"orientation\":\"v\",\"showlegend\":true,\"x\":[\"fuel supply emergency\",\"fuel supply emergency\",\"fuel supply emergency\",\"fuel supply emergency\",\"fuel supply emergency\",\"fuel supply emergency\",\"fuel supply emergency\",\"fuel supply emergency\",\"fuel supply emergency\",\"fuel supply emergency\"],\"xaxis\":\"x\",\"yaxis\":\"y\",\"type\":\"histogram\"},{\"alignmentgroup\":\"True\",\"bingroup\":\"x\",\"hovertemplate\":\"CAUSE.CATEGORY.DETAIL= Natural Gas\\u003cbr\\u003eCAUSE.CATEGORY=%{x}\\u003cbr\\u003ecount=%{y}\\u003cextra\\u003e\\u003c\\u002fextra\\u003e\",\"legendgroup\":\" Natural Gas\",\"marker\":{\"color\":\"#19d3f3\",\"pattern\":{\"shape\":\"\"}},\"name\":\" Natural Gas\",\"offsetgroup\":\" Natural Gas\",\"orientation\":\"v\",\"showlegend\":true,\"x\":[\"fuel supply emergency\",\"fuel supply emergency\",\"fuel supply emergency\",\"fuel supply emergency\",\"fuel supply emergency\",\"fuel supply emergency\",\"fuel supply emergency\"],\"xaxis\":\"x\",\"yaxis\":\"y\",\"type\":\"histogram\"},{\"alignmentgroup\":\"True\",\"bingroup\":\"x\",\"hovertemplate\":\"CAUSE.CATEGORY.DETAIL=hurricanes\\u003cbr\\u003eCAUSE.CATEGORY=%{x}\\u003cbr\\u003ecount=%{y}\\u003cextra\\u003e\\u003c\\u002fextra\\u003e\",\"legendgroup\":\"hurricanes\",\"marker\":{\"color\":\"#FF6692\",\"pattern\":{\"shape\":\"\"}},\"name\":\"hurricanes\",\"offsetgroup\":\"hurricanes\",\"orientation\":\"v\",\"showlegend\":true,\"x\":[\"severe weather\",\"severe weather\",\"severe weather\",\"severe weather\",\"severe weather\",\"severe weather\",\"severe weather\",\"severe weather\",\"severe weather\",\"severe weather\",\"severe weather\",\"severe weather\",\"severe weather\",\"severe weather\",\"severe weather\",\"severe weather\",\"severe weather\",\"severe weather\",\"severe weather\",\"severe weather\",\"severe weather\",\"severe weather\",\"severe weather\",\"severe weather\",\"severe weather\",\"severe weather\",\"severe weather\",\"severe weather\",\"severe weather\",\"severe weather\",\"severe weather\",\"severe weather\",\"severe weather\",\"severe weather\",\"severe weather\",\"severe weather\",\"severe weather\",\"severe weather\",\"severe weather\",\"severe weather\",\"severe weather\",\"severe weather\",\"severe weather\",\"severe weather\",\"severe weather\",\"severe weather\",\"severe weather\",\"severe weather\",\"severe weather\",\"severe weather\",\"severe weather\",\"severe weather\",\"severe weather\",\"severe weather\",\"severe weather\",\"severe weather\",\"severe weather\",\"severe weather\",\"severe weather\",\"severe weather\",\"severe weather\",\"severe weather\",\"severe weather\",\"severe weather\",\"severe weather\",\"severe weather\",\"severe weather\",\"severe weather\",\"severe weather\",\"severe weather\",\"severe weather\",\"severe weather\",\"severe weather\",\"severe weather\"],\"xaxis\":\"x\",\"yaxis\":\"y\",\"type\":\"histogram\"},{\"alignmentgroup\":\"True\",\"bingroup\":\"x\",\"hovertemplate\":\"CAUSE.CATEGORY.DETAIL=wind\\u002frain\\u003cbr\\u003eCAUSE.CATEGORY=%{x}\\u003cbr\\u003ecount=%{y}\\u003cextra\\u003e\\u003c\\u002fextra\\u003e\",\"legendgroup\":\"wind\\u002frain\",\"marker\":{\"color\":\"#B6E880\",\"pattern\":{\"shape\":\"\"}},\"name\":\"wind\\u002frain\",\"offsetgroup\":\"wind\\u002frain\",\"orientation\":\"v\",\"showlegend\":true,\"x\":[\"severe weather\",\"severe weather\",\"severe weather\",\"severe weather\",\"severe weather\",\"severe weather\",\"severe weather\",\"severe weather\",\"severe weather\",\"severe weather\",\"severe weather\",\"severe weather\"],\"xaxis\":\"x\",\"yaxis\":\"y\",\"type\":\"histogram\"},{\"alignmentgroup\":\"True\",\"bingroup\":\"x\",\"hovertemplate\":\"CAUSE.CATEGORY.DETAIL=snow\\u002fice storm\\u003cbr\\u003eCAUSE.CATEGORY=%{x}\\u003cbr\\u003ecount=%{y}\\u003cextra\\u003e\\u003c\\u002fextra\\u003e\",\"legendgroup\":\"snow\\u002fice storm\",\"marker\":{\"color\":\"#FF97FF\",\"pattern\":{\"shape\":\"\"}},\"name\":\"snow\\u002fice storm\",\"offsetgroup\":\"snow\\u002fice storm\",\"orientation\":\"v\",\"showlegend\":true,\"x\":[\"severe weather\"],\"xaxis\":\"x\",\"yaxis\":\"y\",\"type\":\"histogram\"},{\"alignmentgroup\":\"True\",\"bingroup\":\"x\",\"hovertemplate\":\"CAUSE.CATEGORY.DETAIL=snow\\u002fice \\u003cbr\\u003eCAUSE.CATEGORY=%{x}\\u003cbr\\u003ecount=%{y}\\u003cextra\\u003e\\u003c\\u002fextra\\u003e\",\"legendgroup\":\"snow\\u002fice \",\"marker\":{\"color\":\"#FECB52\",\"pattern\":{\"shape\":\"\"}},\"name\":\"snow\\u002fice \",\"offsetgroup\":\"snow\\u002fice \",\"orientation\":\"v\",\"showlegend\":true,\"x\":[\"severe weather\",\"severe weather\",\"severe weather\",\"severe weather\",\"severe weather\",\"severe weather\",\"severe weather\",\"severe weather\",\"severe weather\",\"severe weather\",\"severe weather\",\"severe weather\",\"severe weather\"],\"xaxis\":\"x\",\"yaxis\":\"y\",\"type\":\"histogram\"},{\"alignmentgroup\":\"True\",\"bingroup\":\"x\",\"hovertemplate\":\"CAUSE.CATEGORY.DETAIL=transmission interruption\\u003cbr\\u003eCAUSE.CATEGORY=%{x}\\u003cbr\\u003ecount=%{y}\\u003cextra\\u003e\\u003c\\u002fextra\\u003e\",\"legendgroup\":\"transmission interruption\",\"marker\":{\"color\":\"#636efa\",\"pattern\":{\"shape\":\"\"}},\"name\":\"transmission interruption\",\"offsetgroup\":\"transmission interruption\",\"orientation\":\"v\",\"showlegend\":true,\"x\":[\"equipment failure\",\"system operability disruption\",\"system operability disruption\",\"system operability disruption\",\"system operability disruption\",\"equipment failure\",\"system operability disruption\",\"system operability disruption\",\"system operability disruption\",\"system operability disruption\",\"system operability disruption\",\"system operability disruption\",\"system operability disruption\",\"system operability disruption\",\"system operability disruption\",\"system operability disruption\",\"system operability disruption\",\"system operability disruption\",\"system operability disruption\"],\"xaxis\":\"x\",\"yaxis\":\"y\",\"type\":\"histogram\"},{\"alignmentgroup\":\"True\",\"bingroup\":\"x\",\"hovertemplate\":\"CAUSE.CATEGORY.DETAIL=flooding\\u003cbr\\u003eCAUSE.CATEGORY=%{x}\\u003cbr\\u003ecount=%{y}\\u003cextra\\u003e\\u003c\\u002fextra\\u003e\",\"legendgroup\":\"flooding\",\"marker\":{\"color\":\"#EF553B\",\"pattern\":{\"shape\":\"\"}},\"name\":\"flooding\",\"offsetgroup\":\"flooding\",\"orientation\":\"v\",\"showlegend\":true,\"x\":[\"severe weather\",\"severe weather\",\"severe weather\",\"severe weather\"],\"xaxis\":\"x\",\"yaxis\":\"y\",\"type\":\"histogram\"},{\"alignmentgroup\":\"True\",\"bingroup\":\"x\",\"hovertemplate\":\"CAUSE.CATEGORY.DETAIL=transformer outage\\u003cbr\\u003eCAUSE.CATEGORY=%{x}\\u003cbr\\u003ecount=%{y}\\u003cextra\\u003e\\u003c\\u002fextra\\u003e\",\"legendgroup\":\"transformer outage\",\"marker\":{\"color\":\"#00cc96\",\"pattern\":{\"shape\":\"\"}},\"name\":\"transformer outage\",\"offsetgroup\":\"transformer outage\",\"orientation\":\"v\",\"showlegend\":true,\"x\":[\"equipment failure\",\"equipment failure\",\"equipment failure\"],\"xaxis\":\"x\",\"yaxis\":\"y\",\"type\":\"histogram\"},{\"alignmentgroup\":\"True\",\"bingroup\":\"x\",\"hovertemplate\":\"CAUSE.CATEGORY.DETAIL=generator trip\\u003cbr\\u003eCAUSE.CATEGORY=%{x}\\u003cbr\\u003ecount=%{y}\\u003cextra\\u003e\\u003c\\u002fextra\\u003e\",\"legendgroup\":\"generator trip\",\"marker\":{\"color\":\"#ab63fa\",\"pattern\":{\"shape\":\"\"}},\"name\":\"generator trip\",\"offsetgroup\":\"generator trip\",\"orientation\":\"v\",\"showlegend\":true,\"x\":[\"equipment failure\",\"equipment failure\",\"equipment failure\",\"equipment failure\",\"equipment failure\",\"equipment failure\",\"equipment failure\",\"equipment failure\",\"equipment failure\",\"equipment failure\",\"equipment failure\",\"equipment failure\",\"equipment failure\",\"equipment failure\",\"equipment failure\",\"equipment failure\"],\"xaxis\":\"x\",\"yaxis\":\"y\",\"type\":\"histogram\"},{\"alignmentgroup\":\"True\",\"bingroup\":\"x\",\"hovertemplate\":\"CAUSE.CATEGORY.DETAIL=relaying malfunction\\u003cbr\\u003eCAUSE.CATEGORY=%{x}\\u003cbr\\u003ecount=%{y}\\u003cextra\\u003e\\u003c\\u002fextra\\u003e\",\"legendgroup\":\"relaying malfunction\",\"marker\":{\"color\":\"#FFA15A\",\"pattern\":{\"shape\":\"\"}},\"name\":\"relaying malfunction\",\"offsetgroup\":\"relaying malfunction\",\"orientation\":\"v\",\"showlegend\":true,\"x\":[\"equipment failure\",\"equipment failure\",\"equipment failure\"],\"xaxis\":\"x\",\"yaxis\":\"y\",\"type\":\"histogram\"},{\"alignmentgroup\":\"True\",\"bingroup\":\"x\",\"hovertemplate\":\"CAUSE.CATEGORY.DETAIL=transmission trip\\u003cbr\\u003eCAUSE.CATEGORY=%{x}\\u003cbr\\u003ecount=%{y}\\u003cextra\\u003e\\u003c\\u002fextra\\u003e\",\"legendgroup\":\"transmission trip\",\"marker\":{\"color\":\"#19d3f3\",\"pattern\":{\"shape\":\"\"}},\"name\":\"transmission trip\",\"offsetgroup\":\"transmission trip\",\"orientation\":\"v\",\"showlegend\":true,\"x\":[\"equipment failure\",\"equipment failure\",\"equipment failure\",\"equipment failure\",\"equipment failure\",\"equipment failure\"],\"xaxis\":\"x\",\"yaxis\":\"y\",\"type\":\"histogram\"},{\"alignmentgroup\":\"True\",\"bingroup\":\"x\",\"hovertemplate\":\"CAUSE.CATEGORY.DETAIL=lightning\\u003cbr\\u003eCAUSE.CATEGORY=%{x}\\u003cbr\\u003ecount=%{y}\\u003cextra\\u003e\\u003c\\u002fextra\\u003e\",\"legendgroup\":\"lightning\",\"marker\":{\"color\":\"#FF6692\",\"pattern\":{\"shape\":\"\"}},\"name\":\"lightning\",\"offsetgroup\":\"lightning\",\"orientation\":\"v\",\"showlegend\":true,\"x\":[\"severe weather\",\"severe weather\",\"severe weather\"],\"xaxis\":\"x\",\"yaxis\":\"y\",\"type\":\"histogram\"},{\"alignmentgroup\":\"True\",\"bingroup\":\"x\",\"hovertemplate\":\"CAUSE.CATEGORY.DETAIL=switching\\u003cbr\\u003eCAUSE.CATEGORY=%{x}\\u003cbr\\u003ecount=%{y}\\u003cextra\\u003e\\u003c\\u002fextra\\u003e\",\"legendgroup\":\"switching\",\"marker\":{\"color\":\"#B6E880\",\"pattern\":{\"shape\":\"\"}},\"name\":\"switching\",\"offsetgroup\":\"switching\",\"orientation\":\"v\",\"showlegend\":true,\"x\":[\"equipment failure\",\"equipment failure\"],\"xaxis\":\"x\",\"yaxis\":\"y\",\"type\":\"histogram\"},{\"alignmentgroup\":\"True\",\"bingroup\":\"x\",\"hovertemplate\":\"CAUSE.CATEGORY.DETAIL=shed load\\u003cbr\\u003eCAUSE.CATEGORY=%{x}\\u003cbr\\u003ecount=%{y}\\u003cextra\\u003e\\u003c\\u002fextra\\u003e\",\"legendgroup\":\"shed load\",\"marker\":{\"color\":\"#FF97FF\",\"pattern\":{\"shape\":\"\"}},\"name\":\"shed load\",\"offsetgroup\":\"shed load\",\"orientation\":\"v\",\"showlegend\":true,\"x\":[\"system operability disruption\"],\"xaxis\":\"x\",\"yaxis\":\"y\",\"type\":\"histogram\"},{\"alignmentgroup\":\"True\",\"bingroup\":\"x\",\"hovertemplate\":\"CAUSE.CATEGORY.DETAIL=line fault\\u003cbr\\u003eCAUSE.CATEGORY=%{x}\\u003cbr\\u003ecount=%{y}\\u003cextra\\u003e\\u003c\\u002fextra\\u003e\",\"legendgroup\":\"line fault\",\"marker\":{\"color\":\"#FECB52\",\"pattern\":{\"shape\":\"\"}},\"name\":\"line fault\",\"offsetgroup\":\"line fault\",\"orientation\":\"v\",\"showlegend\":true,\"x\":[\"equipment failure\",\"equipment failure\"],\"xaxis\":\"x\",\"yaxis\":\"y\",\"type\":\"histogram\"},{\"alignmentgroup\":\"True\",\"bingroup\":\"x\",\"hovertemplate\":\"CAUSE.CATEGORY.DETAIL=breaker trip\\u003cbr\\u003eCAUSE.CATEGORY=%{x}\\u003cbr\\u003ecount=%{y}\\u003cextra\\u003e\\u003c\\u002fextra\\u003e\",\"legendgroup\":\"breaker trip\",\"marker\":{\"color\":\"#636efa\",\"pattern\":{\"shape\":\"\"}},\"name\":\"breaker trip\",\"offsetgroup\":\"breaker trip\",\"orientation\":\"v\",\"showlegend\":true,\"x\":[\"equipment failure\",\"equipment failure\",\"equipment failure\",\"equipment failure\"],\"xaxis\":\"x\",\"yaxis\":\"y\",\"type\":\"histogram\"},{\"alignmentgroup\":\"True\",\"bingroup\":\"x\",\"hovertemplate\":\"CAUSE.CATEGORY.DETAIL=wildfire\\u003cbr\\u003eCAUSE.CATEGORY=%{x}\\u003cbr\\u003ecount=%{y}\\u003cextra\\u003e\\u003c\\u002fextra\\u003e\",\"legendgroup\":\"wildfire\",\"marker\":{\"color\":\"#EF553B\",\"pattern\":{\"shape\":\"\"}},\"name\":\"wildfire\",\"offsetgroup\":\"wildfire\",\"orientation\":\"v\",\"showlegend\":true,\"x\":[\"severe weather\",\"severe weather\",\"severe weather\",\"severe weather\",\"severe weather\",\"severe weather\",\"severe weather\",\"severe weather\",\"severe weather\",\"severe weather\",\"severe weather\",\"severe weather\",\"severe weather\",\"severe weather\",\"severe weather\",\"severe weather\",\"severe weather\",\"severe weather\",\"severe weather\",\"severe weather\",\"severe weather\",\"severe weather\",\"severe weather\",\"severe weather\",\"severe weather\",\"severe weather\"],\"xaxis\":\"x\",\"yaxis\":\"y\",\"type\":\"histogram\"},{\"alignmentgroup\":\"True\",\"bingroup\":\"x\",\"hovertemplate\":\"CAUSE.CATEGORY.DETAIL= Hydro\\u003cbr\\u003eCAUSE.CATEGORY=%{x}\\u003cbr\\u003ecount=%{y}\\u003cextra\\u003e\\u003c\\u002fextra\\u003e\",\"legendgroup\":\" Hydro\",\"marker\":{\"color\":\"#00cc96\",\"pattern\":{\"shape\":\"\"}},\"name\":\" Hydro\",\"offsetgroup\":\" Hydro\",\"orientation\":\"v\",\"showlegend\":true,\"x\":[\"fuel supply emergency\"],\"xaxis\":\"x\",\"yaxis\":\"y\",\"type\":\"histogram\"},{\"alignmentgroup\":\"True\",\"bingroup\":\"x\",\"hovertemplate\":\"CAUSE.CATEGORY.DETAIL=majorsystem interruption\\u003cbr\\u003eCAUSE.CATEGORY=%{x}\\u003cbr\\u003ecount=%{y}\\u003cextra\\u003e\\u003c\\u002fextra\\u003e\",\"legendgroup\":\"majorsystem interruption\",\"marker\":{\"color\":\"#ab63fa\",\"pattern\":{\"shape\":\"\"}},\"name\":\"majorsystem interruption\",\"offsetgroup\":\"majorsystem interruption\",\"orientation\":\"v\",\"showlegend\":true,\"x\":[\"system operability disruption\"],\"xaxis\":\"x\",\"yaxis\":\"y\",\"type\":\"histogram\"},{\"alignmentgroup\":\"True\",\"bingroup\":\"x\",\"hovertemplate\":\"CAUSE.CATEGORY.DETAIL=voltage reduction\\u003cbr\\u003eCAUSE.CATEGORY=%{x}\\u003cbr\\u003ecount=%{y}\\u003cextra\\u003e\\u003c\\u002fextra\\u003e\",\"legendgroup\":\"voltage reduction\",\"marker\":{\"color\":\"#FFA15A\",\"pattern\":{\"shape\":\"\"}},\"name\":\"voltage reduction\",\"offsetgroup\":\"voltage reduction\",\"orientation\":\"v\",\"showlegend\":true,\"x\":[\"system operability disruption\"],\"xaxis\":\"x\",\"yaxis\":\"y\",\"type\":\"histogram\"},{\"alignmentgroup\":\"True\",\"bingroup\":\"x\",\"hovertemplate\":\"CAUSE.CATEGORY.DETAIL=transmission\\u003cbr\\u003eCAUSE.CATEGORY=%{x}\\u003cbr\\u003ecount=%{y}\\u003cextra\\u003e\\u003c\\u002fextra\\u003e\",\"legendgroup\":\"transmission\",\"marker\":{\"color\":\"#19d3f3\",\"pattern\":{\"shape\":\"\"}},\"name\":\"transmission\",\"offsetgroup\":\"transmission\",\"orientation\":\"v\",\"showlegend\":true,\"x\":[\"equipment failure\",\"equipment failure\",\"equipment failure\"],\"xaxis\":\"x\",\"yaxis\":\"y\",\"type\":\"histogram\"},{\"alignmentgroup\":\"True\",\"bingroup\":\"x\",\"hovertemplate\":\"CAUSE.CATEGORY.DETAIL=Coal\\u003cbr\\u003eCAUSE.CATEGORY=%{x}\\u003cbr\\u003ecount=%{y}\\u003cextra\\u003e\\u003c\\u002fextra\\u003e\",\"legendgroup\":\"Coal\",\"marker\":{\"color\":\"#FF6692\",\"pattern\":{\"shape\":\"\"}},\"name\":\"Coal\",\"offsetgroup\":\"Coal\",\"orientation\":\"v\",\"showlegend\":true,\"x\":[\"fuel supply emergency\",\"fuel supply emergency\",\"fuel supply emergency\",\"fuel supply emergency\",\"fuel supply emergency\",\"fuel supply emergency\",\"fuel supply emergency\",\"fuel supply emergency\"],\"xaxis\":\"x\",\"yaxis\":\"y\",\"type\":\"histogram\"},{\"alignmentgroup\":\"True\",\"bingroup\":\"x\",\"hovertemplate\":\"CAUSE.CATEGORY.DETAIL=substation\\u003cbr\\u003eCAUSE.CATEGORY=%{x}\\u003cbr\\u003ecount=%{y}\\u003cextra\\u003e\\u003c\\u002fextra\\u003e\",\"legendgroup\":\"substation\",\"marker\":{\"color\":\"#B6E880\",\"pattern\":{\"shape\":\"\"}},\"name\":\"substation\",\"offsetgroup\":\"substation\",\"orientation\":\"v\",\"showlegend\":true,\"x\":[\"equipment failure\",\"equipment failure\"],\"xaxis\":\"x\",\"yaxis\":\"y\",\"type\":\"histogram\"},{\"alignmentgroup\":\"True\",\"bingroup\":\"x\",\"hovertemplate\":\"CAUSE.CATEGORY.DETAIL=heatwave\\u003cbr\\u003eCAUSE.CATEGORY=%{x}\\u003cbr\\u003ecount=%{y}\\u003cextra\\u003e\\u003c\\u002fextra\\u003e\",\"legendgroup\":\"heatwave\",\"marker\":{\"color\":\"#FF97FF\",\"pattern\":{\"shape\":\"\"}},\"name\":\"heatwave\",\"offsetgroup\":\"heatwave\",\"orientation\":\"v\",\"showlegend\":true,\"x\":[\"severe weather\",\"severe weather\",\"severe weather\",\"severe weather\",\"severe weather\",\"severe weather\",\"severe weather\",\"severe weather\",\"severe weather\",\"severe weather\"],\"xaxis\":\"x\",\"yaxis\":\"y\",\"type\":\"histogram\"},{\"alignmentgroup\":\"True\",\"bingroup\":\"x\",\"hovertemplate\":\"CAUSE.CATEGORY.DETAIL=distribution interruption\\u003cbr\\u003eCAUSE.CATEGORY=%{x}\\u003cbr\\u003ecount=%{y}\\u003cextra\\u003e\\u003c\\u002fextra\\u003e\",\"legendgroup\":\"distribution interruption\",\"marker\":{\"color\":\"#FECB52\",\"pattern\":{\"shape\":\"\"}},\"name\":\"distribution interruption\",\"offsetgroup\":\"distribution interruption\",\"orientation\":\"v\",\"showlegend\":true,\"x\":[\"system operability disruption\",\"system operability disruption\"],\"xaxis\":\"x\",\"yaxis\":\"y\",\"type\":\"histogram\"},{\"alignmentgroup\":\"True\",\"bingroup\":\"x\",\"hovertemplate\":\"CAUSE.CATEGORY.DETAIL=wind\\u003cbr\\u003eCAUSE.CATEGORY=%{x}\\u003cbr\\u003ecount=%{y}\\u003cextra\\u003e\\u003c\\u002fextra\\u003e\",\"legendgroup\":\"wind\",\"marker\":{\"color\":\"#636efa\",\"pattern\":{\"shape\":\"\"}},\"name\":\"wind\",\"offsetgroup\":\"wind\",\"orientation\":\"v\",\"showlegend\":true,\"x\":[\"severe weather\",\"severe weather\",\"severe weather\"],\"xaxis\":\"x\",\"yaxis\":\"y\",\"type\":\"histogram\"},{\"alignmentgroup\":\"True\",\"bingroup\":\"x\",\"hovertemplate\":\"CAUSE.CATEGORY.DETAIL=suspicious activity\\u003cbr\\u003eCAUSE.CATEGORY=%{x}\\u003cbr\\u003ecount=%{y}\\u003cextra\\u003e\\u003c\\u002fextra\\u003e\",\"legendgroup\":\"suspicious activity\",\"marker\":{\"color\":\"#EF553B\",\"pattern\":{\"shape\":\"\"}},\"name\":\"suspicious activity\",\"offsetgroup\":\"suspicious activity\",\"orientation\":\"v\",\"showlegend\":true,\"x\":[\"intentional attack\",\"intentional attack\",\"intentional attack\"],\"xaxis\":\"x\",\"yaxis\":\"y\",\"type\":\"histogram\"},{\"alignmentgroup\":\"True\",\"bingroup\":\"x\",\"hovertemplate\":\"CAUSE.CATEGORY.DETAIL=feeder shutdown\\u003cbr\\u003eCAUSE.CATEGORY=%{x}\\u003cbr\\u003ecount=%{y}\\u003cextra\\u003e\\u003c\\u002fextra\\u003e\",\"legendgroup\":\"feeder shutdown\",\"marker\":{\"color\":\"#00cc96\",\"pattern\":{\"shape\":\"\"}},\"name\":\"feeder shutdown\",\"offsetgroup\":\"feeder shutdown\",\"orientation\":\"v\",\"showlegend\":true,\"x\":[\"equipment failure\"],\"xaxis\":\"x\",\"yaxis\":\"y\",\"type\":\"histogram\"},{\"alignmentgroup\":\"True\",\"bingroup\":\"x\",\"hovertemplate\":\"CAUSE.CATEGORY.DETAIL=100 MW loadshed\\u003cbr\\u003eCAUSE.CATEGORY=%{x}\\u003cbr\\u003ecount=%{y}\\u003cextra\\u003e\\u003c\\u002fextra\\u003e\",\"legendgroup\":\"100 MW loadshed\",\"marker\":{\"color\":\"#ab63fa\",\"pattern\":{\"shape\":\"\"}},\"name\":\"100 MW loadshed\",\"offsetgroup\":\"100 MW loadshed\",\"orientation\":\"v\",\"showlegend\":true,\"x\":[\"system operability disruption\"],\"xaxis\":\"x\",\"yaxis\":\"y\",\"type\":\"histogram\"},{\"alignmentgroup\":\"True\",\"bingroup\":\"x\",\"hovertemplate\":\"CAUSE.CATEGORY.DETAIL=plant trip\\u003cbr\\u003eCAUSE.CATEGORY=%{x}\\u003cbr\\u003ecount=%{y}\\u003cextra\\u003e\\u003c\\u002fextra\\u003e\",\"legendgroup\":\"plant trip\",\"marker\":{\"color\":\"#FFA15A\",\"pattern\":{\"shape\":\"\"}},\"name\":\"plant trip\",\"offsetgroup\":\"plant trip\",\"orientation\":\"v\",\"showlegend\":true,\"x\":[\"equipment failure\"],\"xaxis\":\"x\",\"yaxis\":\"y\",\"type\":\"histogram\"},{\"alignmentgroup\":\"True\",\"bingroup\":\"x\",\"hovertemplate\":\"CAUSE.CATEGORY.DETAIL=fog\\u003cbr\\u003eCAUSE.CATEGORY=%{x}\\u003cbr\\u003ecount=%{y}\\u003cextra\\u003e\\u003c\\u002fextra\\u003e\",\"legendgroup\":\"fog\",\"marker\":{\"color\":\"#19d3f3\",\"pattern\":{\"shape\":\"\"}},\"name\":\"fog\",\"offsetgroup\":\"fog\",\"orientation\":\"v\",\"showlegend\":true,\"x\":[\"severe weather\"],\"xaxis\":\"x\",\"yaxis\":\"y\",\"type\":\"histogram\"},{\"alignmentgroup\":\"True\",\"bingroup\":\"x\",\"hovertemplate\":\"CAUSE.CATEGORY.DETAIL=Hydro\\u003cbr\\u003eCAUSE.CATEGORY=%{x}\\u003cbr\\u003ecount=%{y}\\u003cextra\\u003e\\u003c\\u002fextra\\u003e\",\"legendgroup\":\"Hydro\",\"marker\":{\"color\":\"#FF6692\",\"pattern\":{\"shape\":\"\"}},\"name\":\"Hydro\",\"offsetgroup\":\"Hydro\",\"orientation\":\"v\",\"showlegend\":true,\"x\":[\"fuel supply emergency\",\"fuel supply emergency\",\"fuel supply emergency\",\"fuel supply emergency\",\"fuel supply emergency\"],\"xaxis\":\"x\",\"yaxis\":\"y\",\"type\":\"histogram\"},{\"alignmentgroup\":\"True\",\"bingroup\":\"x\",\"hovertemplate\":\"CAUSE.CATEGORY.DETAIL=earthquake\\u003cbr\\u003eCAUSE.CATEGORY=%{x}\\u003cbr\\u003ecount=%{y}\\u003cextra\\u003e\\u003c\\u002fextra\\u003e\",\"legendgroup\":\"earthquake\",\"marker\":{\"color\":\"#B6E880\",\"pattern\":{\"shape\":\"\"}},\"name\":\"earthquake\",\"offsetgroup\":\"earthquake\",\"orientation\":\"v\",\"showlegend\":true,\"x\":[\"severe weather\",\"severe weather\",\"severe weather\",\"severe weather\"],\"xaxis\":\"x\",\"yaxis\":\"y\",\"type\":\"histogram\"},{\"alignmentgroup\":\"True\",\"bingroup\":\"x\",\"hovertemplate\":\"CAUSE.CATEGORY.DETAIL=HVSubstation interruption\\u003cbr\\u003eCAUSE.CATEGORY=%{x}\\u003cbr\\u003ecount=%{y}\\u003cextra\\u003e\\u003c\\u002fextra\\u003e\",\"legendgroup\":\"HVSubstation interruption\",\"marker\":{\"color\":\"#FF97FF\",\"pattern\":{\"shape\":\"\"}},\"name\":\"HVSubstation interruption\",\"offsetgroup\":\"HVSubstation interruption\",\"orientation\":\"v\",\"showlegend\":true,\"x\":[\"system operability disruption\"],\"xaxis\":\"x\",\"yaxis\":\"y\",\"type\":\"histogram\"},{\"alignmentgroup\":\"True\",\"bingroup\":\"x\",\"hovertemplate\":\"CAUSE.CATEGORY.DETAIL=cables\\u003cbr\\u003eCAUSE.CATEGORY=%{x}\\u003cbr\\u003ecount=%{y}\\u003cextra\\u003e\\u003c\\u002fextra\\u003e\",\"legendgroup\":\"cables\",\"marker\":{\"color\":\"#FECB52\",\"pattern\":{\"shape\":\"\"}},\"name\":\"cables\",\"offsetgroup\":\"cables\",\"orientation\":\"v\",\"showlegend\":true,\"x\":[\"equipment failure\"],\"xaxis\":\"x\",\"yaxis\":\"y\",\"type\":\"histogram\"},{\"alignmentgroup\":\"True\",\"bingroup\":\"x\",\"hovertemplate\":\"CAUSE.CATEGORY.DETAIL=Petroleum\\u003cbr\\u003eCAUSE.CATEGORY=%{x}\\u003cbr\\u003ecount=%{y}\\u003cextra\\u003e\\u003c\\u002fextra\\u003e\",\"legendgroup\":\"Petroleum\",\"marker\":{\"color\":\"#636efa\",\"pattern\":{\"shape\":\"\"}},\"name\":\"Petroleum\",\"offsetgroup\":\"Petroleum\",\"orientation\":\"v\",\"showlegend\":true,\"x\":[\"fuel supply emergency\"],\"xaxis\":\"x\",\"yaxis\":\"y\",\"type\":\"histogram\"},{\"alignmentgroup\":\"True\",\"bingroup\":\"x\",\"hovertemplate\":\"CAUSE.CATEGORY.DETAIL=thunderstorm; islanding\\u003cbr\\u003eCAUSE.CATEGORY=%{x}\\u003cbr\\u003ecount=%{y}\\u003cextra\\u003e\\u003c\\u002fextra\\u003e\",\"legendgroup\":\"thunderstorm; islanding\",\"marker\":{\"color\":\"#EF553B\",\"pattern\":{\"shape\":\"\"}},\"name\":\"thunderstorm; islanding\",\"offsetgroup\":\"thunderstorm; islanding\",\"orientation\":\"v\",\"showlegend\":true,\"x\":[\"severe weather\"],\"xaxis\":\"x\",\"yaxis\":\"y\",\"type\":\"histogram\"},{\"alignmentgroup\":\"True\",\"bingroup\":\"x\",\"hovertemplate\":\"CAUSE.CATEGORY.DETAIL=failure\\u003cbr\\u003eCAUSE.CATEGORY=%{x}\\u003cbr\\u003ecount=%{y}\\u003cextra\\u003e\\u003c\\u002fextra\\u003e\",\"legendgroup\":\"failure\",\"marker\":{\"color\":\"#00cc96\",\"pattern\":{\"shape\":\"\"}},\"name\":\"failure\",\"offsetgroup\":\"failure\",\"orientation\":\"v\",\"showlegend\":true,\"x\":[\"equipment failure\"],\"xaxis\":\"x\",\"yaxis\":\"y\",\"type\":\"histogram\"}],                        {\"template\":{\"data\":{\"histogram2dcontour\":[{\"type\":\"histogram2dcontour\",\"colorbar\":{\"outlinewidth\":0,\"ticks\":\"\"},\"colorscale\":[[0.0,\"#0d0887\"],[0.1111111111111111,\"#46039f\"],[0.2222222222222222,\"#7201a8\"],[0.3333333333333333,\"#9c179e\"],[0.4444444444444444,\"#bd3786\"],[0.5555555555555556,\"#d8576b\"],[0.6666666666666666,\"#ed7953\"],[0.7777777777777778,\"#fb9f3a\"],[0.8888888888888888,\"#fdca26\"],[1.0,\"#f0f921\"]]}],\"choropleth\":[{\"type\":\"choropleth\",\"colorbar\":{\"outlinewidth\":0,\"ticks\":\"\"}}],\"histogram2d\":[{\"type\":\"histogram2d\",\"colorbar\":{\"outlinewidth\":0,\"ticks\":\"\"},\"colorscale\":[[0.0,\"#0d0887\"],[0.1111111111111111,\"#46039f\"],[0.2222222222222222,\"#7201a8\"],[0.3333333333333333,\"#9c179e\"],[0.4444444444444444,\"#bd3786\"],[0.5555555555555556,\"#d8576b\"],[0.6666666666666666,\"#ed7953\"],[0.7777777777777778,\"#fb9f3a\"],[0.8888888888888888,\"#fdca26\"],[1.0,\"#f0f921\"]]}],\"heatmap\":[{\"type\":\"heatmap\",\"colorbar\":{\"outlinewidth\":0,\"ticks\":\"\"},\"colorscale\":[[0.0,\"#0d0887\"],[0.1111111111111111,\"#46039f\"],[0.2222222222222222,\"#7201a8\"],[0.3333333333333333,\"#9c179e\"],[0.4444444444444444,\"#bd3786\"],[0.5555555555555556,\"#d8576b\"],[0.6666666666666666,\"#ed7953\"],[0.7777777777777778,\"#fb9f3a\"],[0.8888888888888888,\"#fdca26\"],[1.0,\"#f0f921\"]]}],\"heatmapgl\":[{\"type\":\"heatmapgl\",\"colorbar\":{\"outlinewidth\":0,\"ticks\":\"\"},\"colorscale\":[[0.0,\"#0d0887\"],[0.1111111111111111,\"#46039f\"],[0.2222222222222222,\"#7201a8\"],[0.3333333333333333,\"#9c179e\"],[0.4444444444444444,\"#bd3786\"],[0.5555555555555556,\"#d8576b\"],[0.6666666666666666,\"#ed7953\"],[0.7777777777777778,\"#fb9f3a\"],[0.8888888888888888,\"#fdca26\"],[1.0,\"#f0f921\"]]}],\"contourcarpet\":[{\"type\":\"contourcarpet\",\"colorbar\":{\"outlinewidth\":0,\"ticks\":\"\"}}],\"contour\":[{\"type\":\"contour\",\"colorbar\":{\"outlinewidth\":0,\"ticks\":\"\"},\"colorscale\":[[0.0,\"#0d0887\"],[0.1111111111111111,\"#46039f\"],[0.2222222222222222,\"#7201a8\"],[0.3333333333333333,\"#9c179e\"],[0.4444444444444444,\"#bd3786\"],[0.5555555555555556,\"#d8576b\"],[0.6666666666666666,\"#ed7953\"],[0.7777777777777778,\"#fb9f3a\"],[0.8888888888888888,\"#fdca26\"],[1.0,\"#f0f921\"]]}],\"surface\":[{\"type\":\"surface\",\"colorbar\":{\"outlinewidth\":0,\"ticks\":\"\"},\"colorscale\":[[0.0,\"#0d0887\"],[0.1111111111111111,\"#46039f\"],[0.2222222222222222,\"#7201a8\"],[0.3333333333333333,\"#9c179e\"],[0.4444444444444444,\"#bd3786\"],[0.5555555555555556,\"#d8576b\"],[0.6666666666666666,\"#ed7953\"],[0.7777777777777778,\"#fb9f3a\"],[0.8888888888888888,\"#fdca26\"],[1.0,\"#f0f921\"]]}],\"mesh3d\":[{\"type\":\"mesh3d\",\"colorbar\":{\"outlinewidth\":0,\"ticks\":\"\"}}],\"scatter\":[{\"fillpattern\":{\"fillmode\":\"overlay\",\"size\":10,\"solidity\":0.2},\"type\":\"scatter\"}],\"parcoords\":[{\"type\":\"parcoords\",\"line\":{\"colorbar\":{\"outlinewidth\":0,\"ticks\":\"\"}}}],\"scatterpolargl\":[{\"type\":\"scatterpolargl\",\"marker\":{\"colorbar\":{\"outlinewidth\":0,\"ticks\":\"\"}}}],\"bar\":[{\"error_x\":{\"color\":\"#2a3f5f\"},\"error_y\":{\"color\":\"#2a3f5f\"},\"marker\":{\"line\":{\"color\":\"#E5ECF6\",\"width\":0.5},\"pattern\":{\"fillmode\":\"overlay\",\"size\":10,\"solidity\":0.2}},\"type\":\"bar\"}],\"scattergeo\":[{\"type\":\"scattergeo\",\"marker\":{\"colorbar\":{\"outlinewidth\":0,\"ticks\":\"\"}}}],\"scatterpolar\":[{\"type\":\"scatterpolar\",\"marker\":{\"colorbar\":{\"outlinewidth\":0,\"ticks\":\"\"}}}],\"histogram\":[{\"marker\":{\"pattern\":{\"fillmode\":\"overlay\",\"size\":10,\"solidity\":0.2}},\"type\":\"histogram\"}],\"scattergl\":[{\"type\":\"scattergl\",\"marker\":{\"colorbar\":{\"outlinewidth\":0,\"ticks\":\"\"}}}],\"scatter3d\":[{\"type\":\"scatter3d\",\"line\":{\"colorbar\":{\"outlinewidth\":0,\"ticks\":\"\"}},\"marker\":{\"colorbar\":{\"outlinewidth\":0,\"ticks\":\"\"}}}],\"scattermapbox\":[{\"type\":\"scattermapbox\",\"marker\":{\"colorbar\":{\"outlinewidth\":0,\"ticks\":\"\"}}}],\"scatterternary\":[{\"type\":\"scatterternary\",\"marker\":{\"colorbar\":{\"outlinewidth\":0,\"ticks\":\"\"}}}],\"scattercarpet\":[{\"type\":\"scattercarpet\",\"marker\":{\"colorbar\":{\"outlinewidth\":0,\"ticks\":\"\"}}}],\"carpet\":[{\"aaxis\":{\"endlinecolor\":\"#2a3f5f\",\"gridcolor\":\"white\",\"linecolor\":\"white\",\"minorgridcolor\":\"white\",\"startlinecolor\":\"#2a3f5f\"},\"baxis\":{\"endlinecolor\":\"#2a3f5f\",\"gridcolor\":\"white\",\"linecolor\":\"white\",\"minorgridcolor\":\"white\",\"startlinecolor\":\"#2a3f5f\"},\"type\":\"carpet\"}],\"table\":[{\"cells\":{\"fill\":{\"color\":\"#EBF0F8\"},\"line\":{\"color\":\"white\"}},\"header\":{\"fill\":{\"color\":\"#C8D4E3\"},\"line\":{\"color\":\"white\"}},\"type\":\"table\"}],\"barpolar\":[{\"marker\":{\"line\":{\"color\":\"#E5ECF6\",\"width\":0.5},\"pattern\":{\"fillmode\":\"overlay\",\"size\":10,\"solidity\":0.2}},\"type\":\"barpolar\"}],\"pie\":[{\"automargin\":true,\"type\":\"pie\"}]},\"layout\":{\"autotypenumbers\":\"strict\",\"colorway\":[\"#636efa\",\"#EF553B\",\"#00cc96\",\"#ab63fa\",\"#FFA15A\",\"#19d3f3\",\"#FF6692\",\"#B6E880\",\"#FF97FF\",\"#FECB52\"],\"font\":{\"color\":\"#2a3f5f\"},\"hovermode\":\"closest\",\"hoverlabel\":{\"align\":\"left\"},\"paper_bgcolor\":\"white\",\"plot_bgcolor\":\"#E5ECF6\",\"polar\":{\"bgcolor\":\"#E5ECF6\",\"angularaxis\":{\"gridcolor\":\"white\",\"linecolor\":\"white\",\"ticks\":\"\"},\"radialaxis\":{\"gridcolor\":\"white\",\"linecolor\":\"white\",\"ticks\":\"\"}},\"ternary\":{\"bgcolor\":\"#E5ECF6\",\"aaxis\":{\"gridcolor\":\"white\",\"linecolor\":\"white\",\"ticks\":\"\"},\"baxis\":{\"gridcolor\":\"white\",\"linecolor\":\"white\",\"ticks\":\"\"},\"caxis\":{\"gridcolor\":\"white\",\"linecolor\":\"white\",\"ticks\":\"\"}},\"coloraxis\":{\"colorbar\":{\"outlinewidth\":0,\"ticks\":\"\"}},\"colorscale\":{\"sequential\":[[0.0,\"#0d0887\"],[0.1111111111111111,\"#46039f\"],[0.2222222222222222,\"#7201a8\"],[0.3333333333333333,\"#9c179e\"],[0.4444444444444444,\"#bd3786\"],[0.5555555555555556,\"#d8576b\"],[0.6666666666666666,\"#ed7953\"],[0.7777777777777778,\"#fb9f3a\"],[0.8888888888888888,\"#fdca26\"],[1.0,\"#f0f921\"]],\"sequentialminus\":[[0.0,\"#0d0887\"],[0.1111111111111111,\"#46039f\"],[0.2222222222222222,\"#7201a8\"],[0.3333333333333333,\"#9c179e\"],[0.4444444444444444,\"#bd3786\"],[0.5555555555555556,\"#d8576b\"],[0.6666666666666666,\"#ed7953\"],[0.7777777777777778,\"#fb9f3a\"],[0.8888888888888888,\"#fdca26\"],[1.0,\"#f0f921\"]],\"diverging\":[[0,\"#8e0152\"],[0.1,\"#c51b7d\"],[0.2,\"#de77ae\"],[0.3,\"#f1b6da\"],[0.4,\"#fde0ef\"],[0.5,\"#f7f7f7\"],[0.6,\"#e6f5d0\"],[0.7,\"#b8e186\"],[0.8,\"#7fbc41\"],[0.9,\"#4d9221\"],[1,\"#276419\"]]},\"xaxis\":{\"gridcolor\":\"white\",\"linecolor\":\"white\",\"ticks\":\"\",\"title\":{\"standoff\":15},\"zerolinecolor\":\"white\",\"automargin\":true,\"zerolinewidth\":2},\"yaxis\":{\"gridcolor\":\"white\",\"linecolor\":\"white\",\"ticks\":\"\",\"title\":{\"standoff\":15},\"zerolinecolor\":\"white\",\"automargin\":true,\"zerolinewidth\":2},\"scene\":{\"xaxis\":{\"backgroundcolor\":\"#E5ECF6\",\"gridcolor\":\"white\",\"linecolor\":\"white\",\"showbackground\":true,\"ticks\":\"\",\"zerolinecolor\":\"white\",\"gridwidth\":2},\"yaxis\":{\"backgroundcolor\":\"#E5ECF6\",\"gridcolor\":\"white\",\"linecolor\":\"white\",\"showbackground\":true,\"ticks\":\"\",\"zerolinecolor\":\"white\",\"gridwidth\":2},\"zaxis\":{\"backgroundcolor\":\"#E5ECF6\",\"gridcolor\":\"white\",\"linecolor\":\"white\",\"showbackground\":true,\"ticks\":\"\",\"zerolinecolor\":\"white\",\"gridwidth\":2}},\"shapedefaults\":{\"line\":{\"color\":\"#2a3f5f\"}},\"annotationdefaults\":{\"arrowcolor\":\"#2a3f5f\",\"arrowhead\":0,\"arrowwidth\":1},\"geo\":{\"bgcolor\":\"white\",\"landcolor\":\"#E5ECF6\",\"subunitcolor\":\"white\",\"showland\":true,\"showlakes\":true,\"lakecolor\":\"white\"},\"title\":{\"x\":0.05},\"mapbox\":{\"style\":\"light\"}}},\"xaxis\":{\"anchor\":\"y\",\"domain\":[0.0,1.0],\"title\":{\"text\":\"CAUSE.CATEGORY\"}},\"yaxis\":{\"anchor\":\"x\",\"domain\":[0.0,1.0],\"title\":{\"text\":\"count\"}},\"legend\":{\"title\":{\"text\":\"CAUSE.CATEGORY.DETAIL\"},\"tracegroupgap\":0},\"title\":{\"text\":\"Frequency of Categories\"},\"barmode\":\"relative\"},                        {\"responsive\": true}                    ).then(function(){\n",
       "                            \n",
       "var gd = document.getElementById('81210279-1252-4925-bd5f-de989e43c1cc');\n",
       "var x = new MutationObserver(function (mutations, observer) {{\n",
       "        var display = window.getComputedStyle(gd).display;\n",
       "        if (!display || display === 'none') {{\n",
       "            console.log([gd, 'removed!']);\n",
       "            Plotly.purge(gd);\n",
       "            observer.disconnect();\n",
       "        }}\n",
       "}});\n",
       "\n",
       "// Listen for the removal of the full notebook cells\n",
       "var notebookContainer = gd.closest('#notebook-container');\n",
       "if (notebookContainer) {{\n",
       "    x.observe(notebookContainer, {childList: true});\n",
       "}}\n",
       "\n",
       "// Listen for the clearing of the current output cell\n",
       "var outputEl = gd.closest('.output');\n",
       "if (outputEl) {{\n",
       "    x.observe(outputEl, {childList: true});\n",
       "}}\n",
       "\n",
       "                        })                };                });            </script>        </div>"
      ]
     },
     "metadata": {},
     "output_type": "display_data"
    }
   ],
   "source": [
    "fig = px.histogram(df, x='CAUSE.CATEGORY', \n",
    "                   title='Frequency of Categories', \n",
    "                   color = 'CAUSE.CATEGORY.DETAIL',\n",
    "                   labels={'x': 'Cause', 'y': 'Frequency'})\n",
    "fig.show()"
   ]
  },
  {
   "cell_type": "code",
   "execution_count": 133,
   "metadata": {},
   "outputs": [
    {
     "data": {
      "application/vnd.plotly.v1+json": {
       "config": {
        "plotlyServerURL": "https://plot.ly"
       },
       "data": [
        {
         "alignmentgroup": "True",
         "bingroup": "x",
         "hovertemplate": "CAUSE.CATEGORY=severe weather<br>CLIMATE.REGION=%{x}<br>count=%{y}<extra></extra>",
         "legendgroup": "severe weather",
         "marker": {
          "color": "#636efa",
          "pattern": {
           "shape": ""
          }
         },
         "name": "severe weather",
         "offsetgroup": "severe weather",
         "orientation": "v",
         "showlegend": true,
         "type": "histogram",
         "x": [
          "East North Central",
          "East North Central",
          "East North Central",
          "East North Central",
          "East North Central",
          "East North Central",
          "East North Central",
          "East North Central",
          "East North Central",
          "East North Central",
          "East North Central",
          "Central",
          "Central",
          "Central",
          "Central",
          "Central",
          "Central",
          "Central",
          "Central",
          "Central",
          "Central",
          "Central",
          "Central",
          "Central",
          "Central",
          "Central",
          "Central",
          "Central",
          "Central",
          "Central",
          "Central",
          "East North Central",
          "East North Central",
          "East North Central",
          "East North Central",
          "East North Central",
          "East North Central",
          "East North Central",
          "Central",
          "Central",
          "Central",
          "East North Central",
          "East North Central",
          "East North Central",
          "East North Central",
          "East North Central",
          "East North Central",
          "East North Central",
          "East North Central",
          "East North Central",
          "East North Central",
          "East North Central",
          "East North Central",
          "East North Central",
          "East North Central",
          "East North Central",
          "East North Central",
          "East North Central",
          "East North Central",
          "East North Central",
          "East North Central",
          "East North Central",
          "East North Central",
          "East North Central",
          "East North Central",
          "East North Central",
          "East North Central",
          "East North Central",
          "East North Central",
          "East North Central",
          "East North Central",
          "East North Central",
          "East North Central",
          "East North Central",
          "East North Central",
          "East North Central",
          "East North Central",
          "East North Central",
          "East North Central",
          "East North Central",
          "East North Central",
          "East North Central",
          "East North Central",
          "East North Central",
          "East North Central",
          "East North Central",
          "East North Central",
          "East North Central",
          "East North Central",
          "East North Central",
          "East North Central",
          "East North Central",
          "East North Central",
          "East North Central",
          "East North Central",
          "East North Central",
          "East North Central",
          "East North Central",
          "East North Central",
          "East North Central",
          "East North Central",
          "East North Central",
          "East North Central",
          "East North Central",
          "East North Central",
          "East North Central",
          "East North Central",
          "East North Central",
          "East North Central",
          "East North Central",
          "East North Central",
          "East North Central",
          "East North Central",
          "East North Central",
          "East North Central",
          "East North Central",
          "East North Central",
          "East North Central",
          "East North Central",
          "East North Central",
          "East North Central",
          "East North Central",
          "East North Central",
          "East North Central",
          "South",
          "South",
          "South",
          "South",
          "South",
          "South",
          "South",
          "South",
          "South",
          "South",
          "South",
          "South",
          "South",
          "South",
          "South",
          "South",
          "South",
          "South",
          "South",
          "South",
          "South",
          "South",
          "South",
          "South",
          "South",
          "South",
          "South",
          "South",
          "South",
          "South",
          "South",
          "South",
          "South",
          "South",
          "South",
          "South",
          "South",
          "South",
          "South",
          "South",
          "South",
          "South",
          "South",
          "South",
          "South",
          "South",
          "South",
          "South",
          "South",
          "South",
          "South",
          "South",
          "South",
          "South",
          "South",
          "South",
          "South",
          "South",
          "South",
          "South",
          "South",
          "South",
          "South",
          "South",
          "South",
          "Central",
          "Central",
          "Central",
          "Central",
          "Central",
          "Central",
          "Central",
          "Central",
          "Central",
          "Central",
          "Central",
          "Central",
          "Central",
          "Central",
          "Central",
          "Central",
          "Central",
          "Central",
          "Central",
          "Central",
          "Central",
          "Central",
          "Central",
          "Central",
          "Southeast",
          "Southeast",
          "Southeast",
          "Southeast",
          "Southeast",
          "Central",
          "Central",
          "Central",
          "Central",
          "Central",
          "Central",
          "Central",
          "Central",
          "Central",
          "Central",
          "Central",
          "Central",
          "Central",
          "Central",
          "Central",
          "Central",
          "Central",
          "Central",
          "Central",
          "Central",
          "Central",
          "Central",
          "Central",
          "Central",
          "Central",
          "Central",
          "Central",
          "Central",
          "Central",
          "Central",
          "Central",
          "Central",
          "Central",
          "Central",
          "Central",
          "Central",
          "Central",
          "Central",
          "Central",
          "Central",
          "Central",
          "Central",
          "Northwest",
          "Northwest",
          "Northwest",
          "Northwest",
          "Northwest",
          "Northwest",
          "Northwest",
          "Northwest",
          "Northwest",
          "Northwest",
          "Northwest",
          "Northwest",
          "Northwest",
          "Northwest",
          "Northwest",
          "Northwest",
          "Northwest",
          "Northwest",
          "Northwest",
          "Northwest",
          "Northwest",
          "Northwest",
          "Northwest",
          "Northwest",
          "Southwest",
          "Southwest",
          "Southwest",
          "Southwest",
          "Northeast",
          "Northeast",
          "Northeast",
          "Northeast",
          "Northeast",
          "Northeast",
          "Northeast",
          "Northeast",
          "Northeast",
          "Northeast",
          "Northeast",
          "Northeast",
          "Northeast",
          "Northeast",
          "Northeast",
          "Northeast",
          "Northeast",
          "Northeast",
          "Northeast",
          "Northeast",
          "Northeast",
          "Northeast",
          "Northeast",
          "Northeast",
          "Northeast",
          "Northeast",
          "Northeast",
          "Northeast",
          "Northeast",
          "Northeast",
          "Northeast",
          "Northeast",
          "Northeast",
          "Northeast",
          "Northeast",
          "Northeast",
          "Northeast",
          "Northeast",
          "Northeast",
          "Northeast",
          "Northeast",
          "Northeast",
          "Northeast",
          "Northeast",
          "Northeast",
          "Northeast",
          "Northeast",
          "Northeast",
          "Northeast",
          "Northeast",
          "Northeast",
          "Northeast",
          "Northeast",
          "Northeast",
          "Northeast",
          "Northeast",
          "Northeast",
          "Northeast",
          "Northeast",
          "Northeast",
          "Northeast",
          "Northeast",
          "Northeast",
          "Northeast",
          "Northeast",
          "Northeast",
          "Northeast",
          "Northeast",
          "Northeast",
          "Northeast",
          "Northeast",
          "Northeast",
          "Northeast",
          "Northeast",
          "Northeast",
          "Northeast",
          "Northeast",
          "Northeast",
          "Northeast",
          "Northeast",
          "Central",
          "Central",
          "Central",
          "Central",
          "Central",
          "Central",
          "Central",
          "Central",
          "Central",
          "Southwest",
          "Southwest",
          "Central",
          "Central",
          "Central",
          "Central",
          "Central",
          "Central",
          "Central",
          "Central",
          "Central",
          "Central",
          "Central",
          "Central",
          "Central",
          "Central",
          "Central",
          "Central",
          "Central",
          "Central",
          "Central",
          "Central",
          "Central",
          "Central",
          "Central",
          "Central",
          "Central",
          "Central",
          "Southeast",
          "Southeast",
          "Southeast",
          "Southeast",
          "Southeast",
          "Southeast",
          "Southeast",
          "Southeast",
          "Southeast",
          "Southeast",
          "Southeast",
          "Southeast",
          "Southeast",
          "Southeast",
          "Southeast",
          "Southeast",
          "Southeast",
          "Southeast",
          "Southeast",
          "Southeast",
          "Southeast",
          "Southeast",
          "Southeast",
          "Southeast",
          "Southeast",
          "Southeast",
          "Southeast",
          "Southeast",
          "Southeast",
          "Southeast",
          "Southeast",
          "Northeast",
          "Northeast",
          "Northeast",
          "Northeast",
          "Northeast",
          "Northeast",
          "Northeast",
          "Northeast",
          "Northeast",
          "Northeast",
          "Northeast",
          "Northeast",
          "Northeast",
          "Northeast",
          "Northeast",
          "Northeast",
          "Northeast",
          "Northeast",
          "Northeast",
          "Northeast",
          "Northeast",
          "Northeast",
          "Northeast",
          "Southeast",
          "Southeast",
          "Southeast",
          "Southeast",
          "Southeast",
          "Southeast",
          "Southeast",
          "Southeast",
          "Northwest",
          "Northwest",
          "Northwest",
          "Northwest",
          "Northwest",
          "Northeast",
          "Northeast",
          "Northeast",
          "Northeast",
          "Northeast",
          "Northeast",
          "Northeast",
          "Northeast",
          "Northeast",
          "Central",
          "Central",
          "Central",
          "Central",
          "Central",
          "Central",
          "Central",
          "Central",
          "Central",
          "Central",
          "Central",
          "Northeast",
          "Northeast",
          "East North Central",
          "East North Central",
          "East North Central",
          "Northeast",
          "Northeast",
          "Northeast",
          "Northeast",
          "Northeast",
          "Northeast",
          "Northeast",
          "Northeast",
          "Northeast",
          "Northeast",
          "Northeast",
          "Northeast",
          "Northeast",
          "Northeast",
          "Northeast",
          "Northeast",
          "Northeast",
          "Northeast",
          "Northeast",
          "Northeast",
          "Northeast",
          "Northeast",
          "Northeast",
          "Northeast",
          "Northeast",
          "Northeast",
          "Northeast",
          "Northeast",
          "Northeast",
          "Northeast",
          "Northeast",
          "Northeast",
          "Northeast",
          "South",
          "South",
          "South",
          "South",
          "South",
          "South",
          "South",
          "South",
          "South",
          "South",
          "South",
          "South",
          "South",
          "South",
          "South",
          "South",
          "Southeast",
          "Southeast",
          "Southeast",
          "Southeast",
          "Southeast",
          "Southeast",
          "Southeast",
          "Southeast",
          "Southeast",
          "Southeast",
          "Southeast",
          "Southeast",
          "Southeast",
          "Southeast",
          "Southeast",
          "Southeast",
          "Southeast",
          "Southeast",
          "Southeast",
          "Southeast",
          "Southeast",
          "Southeast",
          "Southeast",
          "Southeast",
          "Southeast",
          "Southeast",
          "West",
          "West",
          "West",
          "West",
          "West",
          "West",
          "West",
          "West",
          "West",
          "West",
          "West",
          "West",
          "West",
          "West",
          "West",
          "West",
          "West",
          "West",
          "West",
          "West",
          "West",
          "West",
          "West",
          "West",
          "West",
          "West",
          "West",
          "West",
          "West",
          "West",
          "West",
          "West",
          "West",
          "West",
          "West",
          "West",
          "West",
          "West",
          "West",
          "West",
          "West",
          "West",
          "West",
          "West",
          "West",
          "West",
          "West",
          "West",
          "West",
          "West",
          "West",
          "West",
          "West",
          "West",
          "West",
          "West",
          "West",
          "West",
          "West",
          "West",
          "West",
          "West",
          "West",
          "West",
          "West",
          "West",
          "West",
          "West",
          "West",
          "West",
          "South",
          "South",
          "South",
          "South",
          "South",
          "South",
          "South",
          "South",
          "South",
          "South",
          "Southeast",
          "Southeast",
          "Southeast",
          "Southeast",
          "Southeast",
          "Southeast",
          "Southeast",
          "Southeast",
          "Southeast",
          "Southeast",
          "Southeast",
          "Southeast",
          "Southeast",
          "Southeast",
          "Southeast",
          "Southeast",
          "Southeast",
          "Southeast",
          "Southeast",
          "Southeast",
          "Southeast",
          "Southeast",
          "Southeast",
          "Southeast",
          "Southeast",
          "Southeast",
          "Southeast",
          "Southeast",
          "Southeast",
          "Southeast",
          "Southeast",
          "Southeast",
          "West North Central",
          "West North Central",
          "West North Central",
          "West North Central",
          "Southeast",
          "Southeast",
          "Southeast",
          "Southeast",
          "Southeast",
          "Southeast",
          "Southeast",
          "Southeast",
          "Southeast",
          "Southeast",
          "Southeast",
          "Southeast",
          "Southeast",
          "Southeast",
          "Southeast",
          "Southeast",
          "Northeast",
          "Northeast",
          "Northeast",
          "Northeast",
          "Northeast",
          "Northeast",
          "Northeast",
          "Northeast",
          "Northeast",
          "Northeast",
          "South",
          "South",
          "South",
          "South",
          "South",
          "South",
          "South",
          "South",
          "South",
          "South",
          "South",
          "South",
          "South",
          "South",
          "South",
          "South",
          "South",
          "Northeast",
          "Northeast",
          "Northeast",
          "Northeast",
          "Northeast",
          "Northeast",
          "Northeast",
          "Northeast",
          "Northeast",
          "Northeast",
          "Northeast",
          "Northeast",
          "Northeast",
          "Northeast",
          "Northeast",
          "Northeast",
          "Northeast",
          "Northeast",
          "Northeast",
          "Southwest",
          "Southwest",
          "Southwest",
          "Southwest",
          "South",
          "South",
          "South",
          "South",
          "South",
          null,
          null,
          null,
          null
         ],
         "xaxis": "x",
         "yaxis": "y"
        },
        {
         "alignmentgroup": "True",
         "bingroup": "x",
         "hovertemplate": "CAUSE.CATEGORY=intentional attack<br>CLIMATE.REGION=%{x}<br>count=%{y}<extra></extra>",
         "legendgroup": "intentional attack",
         "marker": {
          "color": "#EF553B",
          "pattern": {
           "shape": ""
          }
         },
         "name": "intentional attack",
         "offsetgroup": "intentional attack",
         "orientation": "v",
         "showlegend": true,
         "type": "histogram",
         "x": [
          "East North Central",
          "East North Central",
          "East North Central",
          "East North Central",
          "Central",
          "Central",
          "Central",
          "Central",
          "Central",
          "Central",
          "Central",
          "Central",
          "East North Central",
          "East North Central",
          "East North Central",
          "East North Central",
          "East North Central",
          "East North Central",
          "East North Central",
          "Central",
          "East North Central",
          "East North Central",
          "East North Central",
          "East North Central",
          "South",
          "South",
          "South",
          "South",
          "South",
          "South",
          "South",
          "South",
          "South",
          "South",
          "South",
          "South",
          "South",
          "Central",
          "Central",
          "Central",
          "Central",
          "Central",
          "Central",
          "Central",
          "Central",
          "Southeast",
          "South",
          "South",
          "South",
          "Central",
          "Northwest",
          "Northwest",
          "Northwest",
          "Northwest",
          "Northwest",
          "Northwest",
          "Northwest",
          "Northwest",
          "Northwest",
          "Northwest",
          "Northwest",
          "Northwest",
          "Northwest",
          "Northwest",
          "Northwest",
          "Northwest",
          "Northwest",
          "Northwest",
          "Northwest",
          "Northwest",
          "Northwest",
          "Northwest",
          "Northwest",
          "Northwest",
          "Northwest",
          "Northwest",
          "Northwest",
          "Northwest",
          "Northwest",
          "Northwest",
          "Northwest",
          "Northwest",
          "Northwest",
          "Northwest",
          "Northwest",
          "Northwest",
          "Northwest",
          "Northwest",
          "Northwest",
          "Northwest",
          "Northwest",
          "Northwest",
          "Northwest",
          "Northwest",
          "Northwest",
          "Northwest",
          "Northwest",
          "Northwest",
          "Northwest",
          "Northwest",
          "Northwest",
          "Northwest",
          "Northwest",
          "Northwest",
          "Northwest",
          "Northwest",
          "Northwest",
          "Northwest",
          "Northwest",
          "Northwest",
          "Northwest",
          "Northwest",
          "Northwest",
          "Northwest",
          "Southwest",
          "Southwest",
          "Southwest",
          "Southwest",
          "Southwest",
          "Southwest",
          "Southwest",
          "Southwest",
          "Southwest",
          "Southwest",
          "Southwest",
          "Southwest",
          "Southwest",
          "Southwest",
          "Southwest",
          "Southwest",
          "Southwest",
          "Southwest",
          "Northeast",
          "Northeast",
          "Northeast",
          "Northeast",
          "Northeast",
          "Northeast",
          "Northeast",
          "Northeast",
          "Northeast",
          "Northeast",
          "Northeast",
          "Northeast",
          "Northeast",
          "Northeast",
          "Northeast",
          "Northeast",
          "Northeast",
          "Northeast",
          "Northeast",
          "Northeast",
          "Northeast",
          "Northeast",
          "Northeast",
          "Northeast",
          "Northeast",
          "Northeast",
          "Northeast",
          "Northeast",
          "Northeast",
          "Northeast",
          "Northeast",
          "Central",
          "Southwest",
          "Southwest",
          "Southwest",
          "Southwest",
          "Southwest",
          "Southwest",
          "Southwest",
          "Southwest",
          "Southwest",
          "Southwest",
          "Southwest",
          "Southwest",
          "Southwest",
          "Southwest",
          "Southwest",
          "Southwest",
          "Southwest",
          "Southwest",
          "Southwest",
          "Southwest",
          "Southwest",
          "Southwest",
          "Southwest",
          "Southwest",
          "Southwest",
          "Southwest",
          "Southwest",
          "Southwest",
          "Southwest",
          "Southwest",
          "Southwest",
          "Southwest",
          "Southwest",
          "Southwest",
          "Southwest",
          "Central",
          "Central",
          "Central",
          "Central",
          "Central",
          "Central",
          "Central",
          "Central",
          "Central",
          "Central",
          "Central",
          "Central",
          "Central",
          "Central",
          "Southeast",
          "Southeast",
          "Southeast",
          "Southeast",
          "Northeast",
          "Northeast",
          "Northeast",
          "Northeast",
          "Northeast",
          "Northeast",
          "Northeast",
          "Northeast",
          "Northeast",
          "Northeast",
          "Northwest",
          "Northwest",
          "Northwest",
          "Northwest",
          "Northwest",
          "Northwest",
          "Northwest",
          "Northwest",
          "Northwest",
          "Northwest",
          "Northwest",
          "Northwest",
          "Northwest",
          "Northwest",
          "Northwest",
          "Northwest",
          "Northwest",
          "Northwest",
          "Northwest",
          "Northwest",
          "Central",
          "Central",
          "Central",
          "Central",
          "Central",
          "Northeast",
          "Northeast",
          "Northeast",
          "Northeast",
          "Northeast",
          "Northeast",
          "Northeast",
          "Northeast",
          "Northeast",
          "Northeast",
          "Northeast",
          "Northeast",
          "Northeast",
          "Northeast",
          "Northeast",
          "Northeast",
          "Northeast",
          "Northeast",
          "Northeast",
          "Northeast",
          "Northeast",
          "Northeast",
          "Northeast",
          "Northeast",
          "Northeast",
          "Northeast",
          "Northeast",
          "Northeast",
          "Northeast",
          "Northeast",
          "Northeast",
          "Northeast",
          "Northeast",
          "Northeast",
          "Northeast",
          "Northeast",
          "Northeast",
          "East North Central",
          "East North Central",
          "East North Central",
          "East North Central",
          "East North Central",
          "West North Central",
          "Northeast",
          "Northeast",
          "Northeast",
          "Northeast",
          "Northeast",
          "Northeast",
          "Northeast",
          "Northeast",
          "Northeast",
          "Northeast",
          "Northeast",
          "Northeast",
          "Northeast",
          "Southeast",
          "Southeast",
          "West",
          "West",
          "West",
          "West",
          "West",
          "West",
          "West",
          "West",
          "West",
          "West",
          "West",
          "West",
          "West",
          "West",
          "West",
          "West",
          "West",
          "West",
          "West",
          "West",
          "West",
          "West",
          "West",
          "West",
          "South",
          "South",
          "South",
          "South",
          "South",
          "South",
          "Southeast",
          "West North Central",
          "West North Central",
          "West North Central",
          "Southwest",
          "Southwest",
          "Southwest",
          "Southwest",
          "Southwest",
          "Southwest",
          "Northeast",
          "Northeast",
          "Northeast",
          "Northeast",
          "Northeast",
          "Northeast",
          "Northeast",
          "Northeast",
          "Northeast",
          "Southeast",
          "Northeast",
          "Northeast",
          "Northeast",
          "Northeast",
          "Northeast",
          "Northeast",
          "Northeast",
          "Northeast",
          "South",
          "South",
          "South",
          "Northeast",
          "Northeast",
          "Northeast",
          "Northeast",
          "Northeast",
          "Northeast",
          "Northeast",
          "Northeast",
          "Northeast",
          "Northeast",
          "Northeast",
          "Northeast",
          "Northeast",
          "Northeast",
          "Northeast",
          "Northeast",
          "Northeast",
          "Northeast",
          "Northeast",
          "Northeast",
          "Northeast",
          "Northeast",
          "Northeast",
          "Northeast",
          "Northeast",
          "Northeast",
          "Northeast",
          "West",
          "West",
          "West",
          "West",
          "West",
          "West",
          "West",
          "Southwest",
          "Southwest",
          "Southwest",
          "Southwest",
          "Southwest",
          "South",
          "South",
          "South",
          "Northwest",
          "Northwest",
          "Northwest",
          "Northwest",
          "Northwest"
         ],
         "xaxis": "x",
         "yaxis": "y"
        },
        {
         "alignmentgroup": "True",
         "bingroup": "x",
         "hovertemplate": "CAUSE.CATEGORY=system operability disruption<br>CLIMATE.REGION=%{x}<br>count=%{y}<extra></extra>",
         "legendgroup": "system operability disruption",
         "marker": {
          "color": "#00cc96",
          "pattern": {
           "shape": ""
          }
         },
         "name": "system operability disruption",
         "offsetgroup": "system operability disruption",
         "orientation": "v",
         "showlegend": true,
         "type": "histogram",
         "x": [
          "Central",
          "Central",
          "Central",
          "East North Central",
          "East North Central",
          "East North Central",
          "South",
          "South",
          "South",
          "South",
          "South",
          "South",
          "South",
          "South",
          "South",
          "South",
          "South",
          "South",
          "South",
          "South",
          "South",
          "South",
          "South",
          "South",
          "South",
          "South",
          "Central",
          "Central",
          "Central",
          "Central",
          "Central",
          "South",
          "Northwest",
          "Southwest",
          "Southwest",
          "Northeast",
          "Northeast",
          "Northeast",
          "Southwest",
          "Southwest",
          "Central",
          "Central",
          "Southeast",
          "Southeast",
          "Southeast",
          "Southeast",
          "Southeast",
          "Northeast",
          "Northeast",
          "Central",
          "Northeast",
          "Northeast",
          "Northeast",
          "Northeast",
          "Northeast",
          "Northeast",
          "Northeast",
          "Northeast",
          "South",
          "South",
          "South",
          "South",
          "South",
          "South",
          "Southeast",
          "Southeast",
          "Southeast",
          "Southeast",
          "Southeast",
          "Southeast",
          "Southeast",
          "Southeast",
          "Southeast",
          "Southeast",
          "West",
          "West",
          "West",
          "West",
          "West",
          "West",
          "West",
          "West",
          "West",
          "West",
          "West",
          "West",
          "West",
          "West",
          "West",
          "West",
          "West",
          "West",
          "West",
          "West",
          "West",
          "West",
          "West",
          "West",
          "West",
          "West",
          "West",
          "West",
          "West",
          "West",
          "West",
          "West",
          "West",
          "West",
          "West",
          "West",
          "West",
          "West",
          "West",
          "West",
          "West",
          "Southeast",
          "Southwest",
          "Northeast",
          "Northeast",
          "Southwest",
          "Southwest",
          "Southwest",
          "Southwest",
          null,
          "Northwest",
          "Northwest",
          "Northwest"
         ],
         "xaxis": "x",
         "yaxis": "y"
        },
        {
         "alignmentgroup": "True",
         "bingroup": "x",
         "hovertemplate": "CAUSE.CATEGORY=equipment failure<br>CLIMATE.REGION=%{x}<br>count=%{y}<extra></extra>",
         "legendgroup": "equipment failure",
         "marker": {
          "color": "#ab63fa",
          "pattern": {
           "shape": ""
          }
         },
         "name": "equipment failure",
         "offsetgroup": "equipment failure",
         "orientation": "v",
         "showlegend": true,
         "type": "histogram",
         "x": [
          "Central",
          "Central",
          "East North Central",
          "East North Central",
          "East North Central",
          "South",
          "South",
          "South",
          "South",
          "South",
          "South",
          "Central",
          "Central",
          "Central",
          "Northwest",
          "Southwest",
          "Southwest",
          "Southwest",
          "Southwest",
          "Northeast",
          "Central",
          "Southwest",
          "Central",
          "Northwest",
          "Northeast",
          "Northeast",
          "Northeast",
          "Northeast",
          "South",
          "South",
          "South",
          "Southeast",
          "Southeast",
          "Southeast",
          "Southeast",
          "West",
          "West",
          "West",
          "West",
          "West",
          "West",
          "West",
          "West",
          "West",
          "West",
          "West",
          "West",
          "West",
          "West",
          "West",
          "West",
          "West",
          "West",
          "West",
          "West",
          "West",
          "South",
          "Southeast",
          "West North Central",
          null
         ],
         "xaxis": "x",
         "yaxis": "y"
        },
        {
         "alignmentgroup": "True",
         "bingroup": "x",
         "hovertemplate": "CAUSE.CATEGORY=public appeal<br>CLIMATE.REGION=%{x}<br>count=%{y}<extra></extra>",
         "legendgroup": "public appeal",
         "marker": {
          "color": "#FFA15A",
          "pattern": {
           "shape": ""
          }
         },
         "name": "public appeal",
         "offsetgroup": "public appeal",
         "orientation": "v",
         "showlegend": true,
         "type": "histogram",
         "x": [
          "Central",
          "East North Central",
          "East North Central",
          "South",
          "South",
          "South",
          "South",
          "South",
          "South",
          "South",
          "South",
          "South",
          "South",
          "South",
          "South",
          "South",
          "South",
          "South",
          "South",
          "South",
          "Central",
          "Northwest",
          "Southwest",
          "Northeast",
          "Northeast",
          "Northeast",
          "Northeast",
          "South",
          "South",
          "South",
          "South",
          "South",
          "South",
          "South",
          "South",
          "South",
          "South",
          "South",
          "South",
          "South",
          "South",
          "Southeast",
          "Southeast",
          "Southeast",
          "West",
          "West",
          "West",
          "West",
          "West",
          "West",
          "West",
          "West",
          "West",
          "South",
          "South",
          "South",
          "South",
          "South",
          "South",
          "South",
          "Southeast",
          "Southeast",
          "West North Central",
          "South",
          "South",
          "South",
          "South",
          "Northwest",
          "West North Central"
         ],
         "xaxis": "x",
         "yaxis": "y"
        },
        {
         "alignmentgroup": "True",
         "bingroup": "x",
         "hovertemplate": "CAUSE.CATEGORY=fuel supply emergency<br>CLIMATE.REGION=%{x}<br>count=%{y}<extra></extra>",
         "legendgroup": "fuel supply emergency",
         "marker": {
          "color": "#19d3f3",
          "pattern": {
           "shape": ""
          }
         },
         "name": "fuel supply emergency",
         "offsetgroup": "fuel supply emergency",
         "orientation": "v",
         "showlegend": true,
         "type": "histogram",
         "x": [
          "East North Central",
          "East North Central",
          "East North Central",
          "East North Central",
          "East North Central",
          "South",
          "South",
          "South",
          "South",
          "South",
          "South",
          "Central",
          "Central",
          "Northwest",
          "Central",
          "Central",
          "Northeast",
          "Northeast",
          "Northeast",
          "Northeast",
          "Northeast",
          "Northeast",
          "Northeast",
          "Northeast",
          "Northeast",
          "Northeast",
          "Northeast",
          "Northeast",
          "South",
          "West",
          "West",
          "West",
          "West",
          "West",
          "West",
          "West",
          "West",
          "West",
          "West",
          "West",
          "West",
          "West",
          "West",
          "West",
          "West",
          "West",
          "Southwest",
          "Northeast",
          "Northeast",
          "Southwest",
          "West North Central"
         ],
         "xaxis": "x",
         "yaxis": "y"
        },
        {
         "alignmentgroup": "True",
         "bingroup": "x",
         "hovertemplate": "CAUSE.CATEGORY=islanding<br>CLIMATE.REGION=%{x}<br>count=%{y}<extra></extra>",
         "legendgroup": "islanding",
         "marker": {
          "color": "#FF6692",
          "pattern": {
           "shape": ""
          }
         },
         "name": "islanding",
         "offsetgroup": "islanding",
         "orientation": "v",
         "showlegend": true,
         "type": "histogram",
         "x": [
          "East North Central",
          "Central",
          "Central",
          "Central",
          "Northwest",
          "Northwest",
          "Northwest",
          "Northwest",
          "Northwest",
          "West North Central",
          "West North Central",
          "West",
          "West",
          "West",
          "West",
          "West",
          "West",
          "West",
          "West",
          "West",
          "West",
          "West",
          "West",
          "West",
          "West",
          "West",
          "West",
          "West",
          "West",
          "West",
          "West",
          "West",
          "West",
          "West",
          "West",
          "West",
          "West",
          "West",
          "West",
          "South",
          "West North Central",
          "South",
          "Northeast",
          "Southwest",
          "West North Central",
          "West North Central"
         ],
         "xaxis": "x",
         "yaxis": "y"
        }
       ],
       "layout": {
        "barmode": "group",
        "legend": {
         "title": {
          "text": "CAUSE.CATEGORY"
         },
         "tracegroupgap": 0
        },
        "template": {
         "data": {
          "bar": [
           {
            "error_x": {
             "color": "#2a3f5f"
            },
            "error_y": {
             "color": "#2a3f5f"
            },
            "marker": {
             "line": {
              "color": "#E5ECF6",
              "width": 0.5
             },
             "pattern": {
              "fillmode": "overlay",
              "size": 10,
              "solidity": 0.2
             }
            },
            "type": "bar"
           }
          ],
          "barpolar": [
           {
            "marker": {
             "line": {
              "color": "#E5ECF6",
              "width": 0.5
             },
             "pattern": {
              "fillmode": "overlay",
              "size": 10,
              "solidity": 0.2
             }
            },
            "type": "barpolar"
           }
          ],
          "carpet": [
           {
            "aaxis": {
             "endlinecolor": "#2a3f5f",
             "gridcolor": "white",
             "linecolor": "white",
             "minorgridcolor": "white",
             "startlinecolor": "#2a3f5f"
            },
            "baxis": {
             "endlinecolor": "#2a3f5f",
             "gridcolor": "white",
             "linecolor": "white",
             "minorgridcolor": "white",
             "startlinecolor": "#2a3f5f"
            },
            "type": "carpet"
           }
          ],
          "choropleth": [
           {
            "colorbar": {
             "outlinewidth": 0,
             "ticks": ""
            },
            "type": "choropleth"
           }
          ],
          "contour": [
           {
            "colorbar": {
             "outlinewidth": 0,
             "ticks": ""
            },
            "colorscale": [
             [
              0,
              "#0d0887"
             ],
             [
              0.1111111111111111,
              "#46039f"
             ],
             [
              0.2222222222222222,
              "#7201a8"
             ],
             [
              0.3333333333333333,
              "#9c179e"
             ],
             [
              0.4444444444444444,
              "#bd3786"
             ],
             [
              0.5555555555555556,
              "#d8576b"
             ],
             [
              0.6666666666666666,
              "#ed7953"
             ],
             [
              0.7777777777777778,
              "#fb9f3a"
             ],
             [
              0.8888888888888888,
              "#fdca26"
             ],
             [
              1,
              "#f0f921"
             ]
            ],
            "type": "contour"
           }
          ],
          "contourcarpet": [
           {
            "colorbar": {
             "outlinewidth": 0,
             "ticks": ""
            },
            "type": "contourcarpet"
           }
          ],
          "heatmap": [
           {
            "colorbar": {
             "outlinewidth": 0,
             "ticks": ""
            },
            "colorscale": [
             [
              0,
              "#0d0887"
             ],
             [
              0.1111111111111111,
              "#46039f"
             ],
             [
              0.2222222222222222,
              "#7201a8"
             ],
             [
              0.3333333333333333,
              "#9c179e"
             ],
             [
              0.4444444444444444,
              "#bd3786"
             ],
             [
              0.5555555555555556,
              "#d8576b"
             ],
             [
              0.6666666666666666,
              "#ed7953"
             ],
             [
              0.7777777777777778,
              "#fb9f3a"
             ],
             [
              0.8888888888888888,
              "#fdca26"
             ],
             [
              1,
              "#f0f921"
             ]
            ],
            "type": "heatmap"
           }
          ],
          "heatmapgl": [
           {
            "colorbar": {
             "outlinewidth": 0,
             "ticks": ""
            },
            "colorscale": [
             [
              0,
              "#0d0887"
             ],
             [
              0.1111111111111111,
              "#46039f"
             ],
             [
              0.2222222222222222,
              "#7201a8"
             ],
             [
              0.3333333333333333,
              "#9c179e"
             ],
             [
              0.4444444444444444,
              "#bd3786"
             ],
             [
              0.5555555555555556,
              "#d8576b"
             ],
             [
              0.6666666666666666,
              "#ed7953"
             ],
             [
              0.7777777777777778,
              "#fb9f3a"
             ],
             [
              0.8888888888888888,
              "#fdca26"
             ],
             [
              1,
              "#f0f921"
             ]
            ],
            "type": "heatmapgl"
           }
          ],
          "histogram": [
           {
            "marker": {
             "pattern": {
              "fillmode": "overlay",
              "size": 10,
              "solidity": 0.2
             }
            },
            "type": "histogram"
           }
          ],
          "histogram2d": [
           {
            "colorbar": {
             "outlinewidth": 0,
             "ticks": ""
            },
            "colorscale": [
             [
              0,
              "#0d0887"
             ],
             [
              0.1111111111111111,
              "#46039f"
             ],
             [
              0.2222222222222222,
              "#7201a8"
             ],
             [
              0.3333333333333333,
              "#9c179e"
             ],
             [
              0.4444444444444444,
              "#bd3786"
             ],
             [
              0.5555555555555556,
              "#d8576b"
             ],
             [
              0.6666666666666666,
              "#ed7953"
             ],
             [
              0.7777777777777778,
              "#fb9f3a"
             ],
             [
              0.8888888888888888,
              "#fdca26"
             ],
             [
              1,
              "#f0f921"
             ]
            ],
            "type": "histogram2d"
           }
          ],
          "histogram2dcontour": [
           {
            "colorbar": {
             "outlinewidth": 0,
             "ticks": ""
            },
            "colorscale": [
             [
              0,
              "#0d0887"
             ],
             [
              0.1111111111111111,
              "#46039f"
             ],
             [
              0.2222222222222222,
              "#7201a8"
             ],
             [
              0.3333333333333333,
              "#9c179e"
             ],
             [
              0.4444444444444444,
              "#bd3786"
             ],
             [
              0.5555555555555556,
              "#d8576b"
             ],
             [
              0.6666666666666666,
              "#ed7953"
             ],
             [
              0.7777777777777778,
              "#fb9f3a"
             ],
             [
              0.8888888888888888,
              "#fdca26"
             ],
             [
              1,
              "#f0f921"
             ]
            ],
            "type": "histogram2dcontour"
           }
          ],
          "mesh3d": [
           {
            "colorbar": {
             "outlinewidth": 0,
             "ticks": ""
            },
            "type": "mesh3d"
           }
          ],
          "parcoords": [
           {
            "line": {
             "colorbar": {
              "outlinewidth": 0,
              "ticks": ""
             }
            },
            "type": "parcoords"
           }
          ],
          "pie": [
           {
            "automargin": true,
            "type": "pie"
           }
          ],
          "scatter": [
           {
            "fillpattern": {
             "fillmode": "overlay",
             "size": 10,
             "solidity": 0.2
            },
            "type": "scatter"
           }
          ],
          "scatter3d": [
           {
            "line": {
             "colorbar": {
              "outlinewidth": 0,
              "ticks": ""
             }
            },
            "marker": {
             "colorbar": {
              "outlinewidth": 0,
              "ticks": ""
             }
            },
            "type": "scatter3d"
           }
          ],
          "scattercarpet": [
           {
            "marker": {
             "colorbar": {
              "outlinewidth": 0,
              "ticks": ""
             }
            },
            "type": "scattercarpet"
           }
          ],
          "scattergeo": [
           {
            "marker": {
             "colorbar": {
              "outlinewidth": 0,
              "ticks": ""
             }
            },
            "type": "scattergeo"
           }
          ],
          "scattergl": [
           {
            "marker": {
             "colorbar": {
              "outlinewidth": 0,
              "ticks": ""
             }
            },
            "type": "scattergl"
           }
          ],
          "scattermapbox": [
           {
            "marker": {
             "colorbar": {
              "outlinewidth": 0,
              "ticks": ""
             }
            },
            "type": "scattermapbox"
           }
          ],
          "scatterpolar": [
           {
            "marker": {
             "colorbar": {
              "outlinewidth": 0,
              "ticks": ""
             }
            },
            "type": "scatterpolar"
           }
          ],
          "scatterpolargl": [
           {
            "marker": {
             "colorbar": {
              "outlinewidth": 0,
              "ticks": ""
             }
            },
            "type": "scatterpolargl"
           }
          ],
          "scatterternary": [
           {
            "marker": {
             "colorbar": {
              "outlinewidth": 0,
              "ticks": ""
             }
            },
            "type": "scatterternary"
           }
          ],
          "surface": [
           {
            "colorbar": {
             "outlinewidth": 0,
             "ticks": ""
            },
            "colorscale": [
             [
              0,
              "#0d0887"
             ],
             [
              0.1111111111111111,
              "#46039f"
             ],
             [
              0.2222222222222222,
              "#7201a8"
             ],
             [
              0.3333333333333333,
              "#9c179e"
             ],
             [
              0.4444444444444444,
              "#bd3786"
             ],
             [
              0.5555555555555556,
              "#d8576b"
             ],
             [
              0.6666666666666666,
              "#ed7953"
             ],
             [
              0.7777777777777778,
              "#fb9f3a"
             ],
             [
              0.8888888888888888,
              "#fdca26"
             ],
             [
              1,
              "#f0f921"
             ]
            ],
            "type": "surface"
           }
          ],
          "table": [
           {
            "cells": {
             "fill": {
              "color": "#EBF0F8"
             },
             "line": {
              "color": "white"
             }
            },
            "header": {
             "fill": {
              "color": "#C8D4E3"
             },
             "line": {
              "color": "white"
             }
            },
            "type": "table"
           }
          ]
         },
         "layout": {
          "annotationdefaults": {
           "arrowcolor": "#2a3f5f",
           "arrowhead": 0,
           "arrowwidth": 1
          },
          "autotypenumbers": "strict",
          "coloraxis": {
           "colorbar": {
            "outlinewidth": 0,
            "ticks": ""
           }
          },
          "colorscale": {
           "diverging": [
            [
             0,
             "#8e0152"
            ],
            [
             0.1,
             "#c51b7d"
            ],
            [
             0.2,
             "#de77ae"
            ],
            [
             0.3,
             "#f1b6da"
            ],
            [
             0.4,
             "#fde0ef"
            ],
            [
             0.5,
             "#f7f7f7"
            ],
            [
             0.6,
             "#e6f5d0"
            ],
            [
             0.7,
             "#b8e186"
            ],
            [
             0.8,
             "#7fbc41"
            ],
            [
             0.9,
             "#4d9221"
            ],
            [
             1,
             "#276419"
            ]
           ],
           "sequential": [
            [
             0,
             "#0d0887"
            ],
            [
             0.1111111111111111,
             "#46039f"
            ],
            [
             0.2222222222222222,
             "#7201a8"
            ],
            [
             0.3333333333333333,
             "#9c179e"
            ],
            [
             0.4444444444444444,
             "#bd3786"
            ],
            [
             0.5555555555555556,
             "#d8576b"
            ],
            [
             0.6666666666666666,
             "#ed7953"
            ],
            [
             0.7777777777777778,
             "#fb9f3a"
            ],
            [
             0.8888888888888888,
             "#fdca26"
            ],
            [
             1,
             "#f0f921"
            ]
           ],
           "sequentialminus": [
            [
             0,
             "#0d0887"
            ],
            [
             0.1111111111111111,
             "#46039f"
            ],
            [
             0.2222222222222222,
             "#7201a8"
            ],
            [
             0.3333333333333333,
             "#9c179e"
            ],
            [
             0.4444444444444444,
             "#bd3786"
            ],
            [
             0.5555555555555556,
             "#d8576b"
            ],
            [
             0.6666666666666666,
             "#ed7953"
            ],
            [
             0.7777777777777778,
             "#fb9f3a"
            ],
            [
             0.8888888888888888,
             "#fdca26"
            ],
            [
             1,
             "#f0f921"
            ]
           ]
          },
          "colorway": [
           "#636efa",
           "#EF553B",
           "#00cc96",
           "#ab63fa",
           "#FFA15A",
           "#19d3f3",
           "#FF6692",
           "#B6E880",
           "#FF97FF",
           "#FECB52"
          ],
          "font": {
           "color": "#2a3f5f"
          },
          "geo": {
           "bgcolor": "white",
           "lakecolor": "white",
           "landcolor": "#E5ECF6",
           "showlakes": true,
           "showland": true,
           "subunitcolor": "white"
          },
          "hoverlabel": {
           "align": "left"
          },
          "hovermode": "closest",
          "mapbox": {
           "style": "light"
          },
          "paper_bgcolor": "white",
          "plot_bgcolor": "#E5ECF6",
          "polar": {
           "angularaxis": {
            "gridcolor": "white",
            "linecolor": "white",
            "ticks": ""
           },
           "bgcolor": "#E5ECF6",
           "radialaxis": {
            "gridcolor": "white",
            "linecolor": "white",
            "ticks": ""
           }
          },
          "scene": {
           "xaxis": {
            "backgroundcolor": "#E5ECF6",
            "gridcolor": "white",
            "gridwidth": 2,
            "linecolor": "white",
            "showbackground": true,
            "ticks": "",
            "zerolinecolor": "white"
           },
           "yaxis": {
            "backgroundcolor": "#E5ECF6",
            "gridcolor": "white",
            "gridwidth": 2,
            "linecolor": "white",
            "showbackground": true,
            "ticks": "",
            "zerolinecolor": "white"
           },
           "zaxis": {
            "backgroundcolor": "#E5ECF6",
            "gridcolor": "white",
            "gridwidth": 2,
            "linecolor": "white",
            "showbackground": true,
            "ticks": "",
            "zerolinecolor": "white"
           }
          },
          "shapedefaults": {
           "line": {
            "color": "#2a3f5f"
           }
          },
          "ternary": {
           "aaxis": {
            "gridcolor": "white",
            "linecolor": "white",
            "ticks": ""
           },
           "baxis": {
            "gridcolor": "white",
            "linecolor": "white",
            "ticks": ""
           },
           "bgcolor": "#E5ECF6",
           "caxis": {
            "gridcolor": "white",
            "linecolor": "white",
            "ticks": ""
           }
          },
          "title": {
           "x": 0.05
          },
          "xaxis": {
           "automargin": true,
           "gridcolor": "white",
           "linecolor": "white",
           "ticks": "",
           "title": {
            "standoff": 15
           },
           "zerolinecolor": "white",
           "zerolinewidth": 2
          },
          "yaxis": {
           "automargin": true,
           "gridcolor": "white",
           "linecolor": "white",
           "ticks": "",
           "title": {
            "standoff": 15
           },
           "zerolinecolor": "white",
           "zerolinewidth": 2
          }
         }
        },
        "title": {
         "text": "Cause by Region"
        },
        "xaxis": {
         "anchor": "y",
         "domain": [
          0,
          1
         ],
         "title": {
          "text": "CLIMATE.REGION"
         }
        },
        "yaxis": {
         "anchor": "x",
         "domain": [
          0,
          1
         ],
         "title": {
          "text": "count"
         }
        }
       }
      },
      "text/html": [
       "<div>                            <div id=\"99e0aef2-c942-4cc8-92a4-c3c046229ceb\" class=\"plotly-graph-div\" style=\"height:525px; width:100%;\"></div>            <script type=\"text/javascript\">                require([\"plotly\"], function(Plotly) {                    window.PLOTLYENV=window.PLOTLYENV || {};                                    if (document.getElementById(\"99e0aef2-c942-4cc8-92a4-c3c046229ceb\")) {                    Plotly.newPlot(                        \"99e0aef2-c942-4cc8-92a4-c3c046229ceb\",                        [{\"alignmentgroup\":\"True\",\"bingroup\":\"x\",\"hovertemplate\":\"CAUSE.CATEGORY=severe weather\\u003cbr\\u003eCLIMATE.REGION=%{x}\\u003cbr\\u003ecount=%{y}\\u003cextra\\u003e\\u003c\\u002fextra\\u003e\",\"legendgroup\":\"severe weather\",\"marker\":{\"color\":\"#636efa\",\"pattern\":{\"shape\":\"\"}},\"name\":\"severe weather\",\"offsetgroup\":\"severe weather\",\"orientation\":\"v\",\"showlegend\":true,\"x\":[\"East North Central\",\"East North Central\",\"East North Central\",\"East North Central\",\"East North Central\",\"East North Central\",\"East North Central\",\"East North Central\",\"East North Central\",\"East North Central\",\"East North Central\",\"Central\",\"Central\",\"Central\",\"Central\",\"Central\",\"Central\",\"Central\",\"Central\",\"Central\",\"Central\",\"Central\",\"Central\",\"Central\",\"Central\",\"Central\",\"Central\",\"Central\",\"Central\",\"Central\",\"Central\",\"East North Central\",\"East North Central\",\"East North Central\",\"East North Central\",\"East North Central\",\"East North Central\",\"East North Central\",\"Central\",\"Central\",\"Central\",\"East North Central\",\"East North Central\",\"East North Central\",\"East North Central\",\"East North Central\",\"East North Central\",\"East North Central\",\"East North Central\",\"East North Central\",\"East North Central\",\"East North Central\",\"East North Central\",\"East North Central\",\"East North Central\",\"East North Central\",\"East North Central\",\"East North Central\",\"East North Central\",\"East North Central\",\"East North Central\",\"East North Central\",\"East North Central\",\"East North Central\",\"East North Central\",\"East North Central\",\"East North Central\",\"East North Central\",\"East North Central\",\"East North Central\",\"East North Central\",\"East North Central\",\"East North Central\",\"East North Central\",\"East North Central\",\"East North Central\",\"East North Central\",\"East North Central\",\"East North Central\",\"East North Central\",\"East North Central\",\"East North Central\",\"East North Central\",\"East North Central\",\"East North Central\",\"East North Central\",\"East North Central\",\"East North Central\",\"East North Central\",\"East North Central\",\"East North Central\",\"East North Central\",\"East North Central\",\"East North Central\",\"East North Central\",\"East North Central\",\"East North Central\",\"East North Central\",\"East North Central\",\"East North Central\",\"East North Central\",\"East North Central\",\"East North Central\",\"East North Central\",\"East North Central\",\"East North Central\",\"East North Central\",\"East North Central\",\"East North Central\",\"East North Central\",\"East North Central\",\"East North Central\",\"East North Central\",\"East North Central\",\"East North Central\",\"East North Central\",\"East North Central\",\"East North Central\",\"East North Central\",\"East North Central\",\"East North Central\",\"East North Central\",\"East North Central\",\"East North Central\",\"South\",\"South\",\"South\",\"South\",\"South\",\"South\",\"South\",\"South\",\"South\",\"South\",\"South\",\"South\",\"South\",\"South\",\"South\",\"South\",\"South\",\"South\",\"South\",\"South\",\"South\",\"South\",\"South\",\"South\",\"South\",\"South\",\"South\",\"South\",\"South\",\"South\",\"South\",\"South\",\"South\",\"South\",\"South\",\"South\",\"South\",\"South\",\"South\",\"South\",\"South\",\"South\",\"South\",\"South\",\"South\",\"South\",\"South\",\"South\",\"South\",\"South\",\"South\",\"South\",\"South\",\"South\",\"South\",\"South\",\"South\",\"South\",\"South\",\"South\",\"South\",\"South\",\"South\",\"South\",\"South\",\"Central\",\"Central\",\"Central\",\"Central\",\"Central\",\"Central\",\"Central\",\"Central\",\"Central\",\"Central\",\"Central\",\"Central\",\"Central\",\"Central\",\"Central\",\"Central\",\"Central\",\"Central\",\"Central\",\"Central\",\"Central\",\"Central\",\"Central\",\"Central\",\"Southeast\",\"Southeast\",\"Southeast\",\"Southeast\",\"Southeast\",\"Central\",\"Central\",\"Central\",\"Central\",\"Central\",\"Central\",\"Central\",\"Central\",\"Central\",\"Central\",\"Central\",\"Central\",\"Central\",\"Central\",\"Central\",\"Central\",\"Central\",\"Central\",\"Central\",\"Central\",\"Central\",\"Central\",\"Central\",\"Central\",\"Central\",\"Central\",\"Central\",\"Central\",\"Central\",\"Central\",\"Central\",\"Central\",\"Central\",\"Central\",\"Central\",\"Central\",\"Central\",\"Central\",\"Central\",\"Central\",\"Central\",\"Central\",\"Northwest\",\"Northwest\",\"Northwest\",\"Northwest\",\"Northwest\",\"Northwest\",\"Northwest\",\"Northwest\",\"Northwest\",\"Northwest\",\"Northwest\",\"Northwest\",\"Northwest\",\"Northwest\",\"Northwest\",\"Northwest\",\"Northwest\",\"Northwest\",\"Northwest\",\"Northwest\",\"Northwest\",\"Northwest\",\"Northwest\",\"Northwest\",\"Southwest\",\"Southwest\",\"Southwest\",\"Southwest\",\"Northeast\",\"Northeast\",\"Northeast\",\"Northeast\",\"Northeast\",\"Northeast\",\"Northeast\",\"Northeast\",\"Northeast\",\"Northeast\",\"Northeast\",\"Northeast\",\"Northeast\",\"Northeast\",\"Northeast\",\"Northeast\",\"Northeast\",\"Northeast\",\"Northeast\",\"Northeast\",\"Northeast\",\"Northeast\",\"Northeast\",\"Northeast\",\"Northeast\",\"Northeast\",\"Northeast\",\"Northeast\",\"Northeast\",\"Northeast\",\"Northeast\",\"Northeast\",\"Northeast\",\"Northeast\",\"Northeast\",\"Northeast\",\"Northeast\",\"Northeast\",\"Northeast\",\"Northeast\",\"Northeast\",\"Northeast\",\"Northeast\",\"Northeast\",\"Northeast\",\"Northeast\",\"Northeast\",\"Northeast\",\"Northeast\",\"Northeast\",\"Northeast\",\"Northeast\",\"Northeast\",\"Northeast\",\"Northeast\",\"Northeast\",\"Northeast\",\"Northeast\",\"Northeast\",\"Northeast\",\"Northeast\",\"Northeast\",\"Northeast\",\"Northeast\",\"Northeast\",\"Northeast\",\"Northeast\",\"Northeast\",\"Northeast\",\"Northeast\",\"Northeast\",\"Northeast\",\"Northeast\",\"Northeast\",\"Northeast\",\"Northeast\",\"Northeast\",\"Northeast\",\"Northeast\",\"Northeast\",\"Central\",\"Central\",\"Central\",\"Central\",\"Central\",\"Central\",\"Central\",\"Central\",\"Central\",\"Southwest\",\"Southwest\",\"Central\",\"Central\",\"Central\",\"Central\",\"Central\",\"Central\",\"Central\",\"Central\",\"Central\",\"Central\",\"Central\",\"Central\",\"Central\",\"Central\",\"Central\",\"Central\",\"Central\",\"Central\",\"Central\",\"Central\",\"Central\",\"Central\",\"Central\",\"Central\",\"Central\",\"Central\",\"Southeast\",\"Southeast\",\"Southeast\",\"Southeast\",\"Southeast\",\"Southeast\",\"Southeast\",\"Southeast\",\"Southeast\",\"Southeast\",\"Southeast\",\"Southeast\",\"Southeast\",\"Southeast\",\"Southeast\",\"Southeast\",\"Southeast\",\"Southeast\",\"Southeast\",\"Southeast\",\"Southeast\",\"Southeast\",\"Southeast\",\"Southeast\",\"Southeast\",\"Southeast\",\"Southeast\",\"Southeast\",\"Southeast\",\"Southeast\",\"Southeast\",\"Northeast\",\"Northeast\",\"Northeast\",\"Northeast\",\"Northeast\",\"Northeast\",\"Northeast\",\"Northeast\",\"Northeast\",\"Northeast\",\"Northeast\",\"Northeast\",\"Northeast\",\"Northeast\",\"Northeast\",\"Northeast\",\"Northeast\",\"Northeast\",\"Northeast\",\"Northeast\",\"Northeast\",\"Northeast\",\"Northeast\",\"Southeast\",\"Southeast\",\"Southeast\",\"Southeast\",\"Southeast\",\"Southeast\",\"Southeast\",\"Southeast\",\"Northwest\",\"Northwest\",\"Northwest\",\"Northwest\",\"Northwest\",\"Northeast\",\"Northeast\",\"Northeast\",\"Northeast\",\"Northeast\",\"Northeast\",\"Northeast\",\"Northeast\",\"Northeast\",\"Central\",\"Central\",\"Central\",\"Central\",\"Central\",\"Central\",\"Central\",\"Central\",\"Central\",\"Central\",\"Central\",\"Northeast\",\"Northeast\",\"East North Central\",\"East North Central\",\"East North Central\",\"Northeast\",\"Northeast\",\"Northeast\",\"Northeast\",\"Northeast\",\"Northeast\",\"Northeast\",\"Northeast\",\"Northeast\",\"Northeast\",\"Northeast\",\"Northeast\",\"Northeast\",\"Northeast\",\"Northeast\",\"Northeast\",\"Northeast\",\"Northeast\",\"Northeast\",\"Northeast\",\"Northeast\",\"Northeast\",\"Northeast\",\"Northeast\",\"Northeast\",\"Northeast\",\"Northeast\",\"Northeast\",\"Northeast\",\"Northeast\",\"Northeast\",\"Northeast\",\"Northeast\",\"South\",\"South\",\"South\",\"South\",\"South\",\"South\",\"South\",\"South\",\"South\",\"South\",\"South\",\"South\",\"South\",\"South\",\"South\",\"South\",\"Southeast\",\"Southeast\",\"Southeast\",\"Southeast\",\"Southeast\",\"Southeast\",\"Southeast\",\"Southeast\",\"Southeast\",\"Southeast\",\"Southeast\",\"Southeast\",\"Southeast\",\"Southeast\",\"Southeast\",\"Southeast\",\"Southeast\",\"Southeast\",\"Southeast\",\"Southeast\",\"Southeast\",\"Southeast\",\"Southeast\",\"Southeast\",\"Southeast\",\"Southeast\",\"West\",\"West\",\"West\",\"West\",\"West\",\"West\",\"West\",\"West\",\"West\",\"West\",\"West\",\"West\",\"West\",\"West\",\"West\",\"West\",\"West\",\"West\",\"West\",\"West\",\"West\",\"West\",\"West\",\"West\",\"West\",\"West\",\"West\",\"West\",\"West\",\"West\",\"West\",\"West\",\"West\",\"West\",\"West\",\"West\",\"West\",\"West\",\"West\",\"West\",\"West\",\"West\",\"West\",\"West\",\"West\",\"West\",\"West\",\"West\",\"West\",\"West\",\"West\",\"West\",\"West\",\"West\",\"West\",\"West\",\"West\",\"West\",\"West\",\"West\",\"West\",\"West\",\"West\",\"West\",\"West\",\"West\",\"West\",\"West\",\"West\",\"West\",\"South\",\"South\",\"South\",\"South\",\"South\",\"South\",\"South\",\"South\",\"South\",\"South\",\"Southeast\",\"Southeast\",\"Southeast\",\"Southeast\",\"Southeast\",\"Southeast\",\"Southeast\",\"Southeast\",\"Southeast\",\"Southeast\",\"Southeast\",\"Southeast\",\"Southeast\",\"Southeast\",\"Southeast\",\"Southeast\",\"Southeast\",\"Southeast\",\"Southeast\",\"Southeast\",\"Southeast\",\"Southeast\",\"Southeast\",\"Southeast\",\"Southeast\",\"Southeast\",\"Southeast\",\"Southeast\",\"Southeast\",\"Southeast\",\"Southeast\",\"Southeast\",\"West North Central\",\"West North Central\",\"West North Central\",\"West North Central\",\"Southeast\",\"Southeast\",\"Southeast\",\"Southeast\",\"Southeast\",\"Southeast\",\"Southeast\",\"Southeast\",\"Southeast\",\"Southeast\",\"Southeast\",\"Southeast\",\"Southeast\",\"Southeast\",\"Southeast\",\"Southeast\",\"Northeast\",\"Northeast\",\"Northeast\",\"Northeast\",\"Northeast\",\"Northeast\",\"Northeast\",\"Northeast\",\"Northeast\",\"Northeast\",\"South\",\"South\",\"South\",\"South\",\"South\",\"South\",\"South\",\"South\",\"South\",\"South\",\"South\",\"South\",\"South\",\"South\",\"South\",\"South\",\"South\",\"Northeast\",\"Northeast\",\"Northeast\",\"Northeast\",\"Northeast\",\"Northeast\",\"Northeast\",\"Northeast\",\"Northeast\",\"Northeast\",\"Northeast\",\"Northeast\",\"Northeast\",\"Northeast\",\"Northeast\",\"Northeast\",\"Northeast\",\"Northeast\",\"Northeast\",\"Southwest\",\"Southwest\",\"Southwest\",\"Southwest\",\"South\",\"South\",\"South\",\"South\",\"South\",null,null,null,null],\"xaxis\":\"x\",\"yaxis\":\"y\",\"type\":\"histogram\"},{\"alignmentgroup\":\"True\",\"bingroup\":\"x\",\"hovertemplate\":\"CAUSE.CATEGORY=intentional attack\\u003cbr\\u003eCLIMATE.REGION=%{x}\\u003cbr\\u003ecount=%{y}\\u003cextra\\u003e\\u003c\\u002fextra\\u003e\",\"legendgroup\":\"intentional attack\",\"marker\":{\"color\":\"#EF553B\",\"pattern\":{\"shape\":\"\"}},\"name\":\"intentional attack\",\"offsetgroup\":\"intentional attack\",\"orientation\":\"v\",\"showlegend\":true,\"x\":[\"East North Central\",\"East North Central\",\"East North Central\",\"East North Central\",\"Central\",\"Central\",\"Central\",\"Central\",\"Central\",\"Central\",\"Central\",\"Central\",\"East North Central\",\"East North Central\",\"East North Central\",\"East North Central\",\"East North Central\",\"East North Central\",\"East North Central\",\"Central\",\"East North Central\",\"East North Central\",\"East North Central\",\"East North Central\",\"South\",\"South\",\"South\",\"South\",\"South\",\"South\",\"South\",\"South\",\"South\",\"South\",\"South\",\"South\",\"South\",\"Central\",\"Central\",\"Central\",\"Central\",\"Central\",\"Central\",\"Central\",\"Central\",\"Southeast\",\"South\",\"South\",\"South\",\"Central\",\"Northwest\",\"Northwest\",\"Northwest\",\"Northwest\",\"Northwest\",\"Northwest\",\"Northwest\",\"Northwest\",\"Northwest\",\"Northwest\",\"Northwest\",\"Northwest\",\"Northwest\",\"Northwest\",\"Northwest\",\"Northwest\",\"Northwest\",\"Northwest\",\"Northwest\",\"Northwest\",\"Northwest\",\"Northwest\",\"Northwest\",\"Northwest\",\"Northwest\",\"Northwest\",\"Northwest\",\"Northwest\",\"Northwest\",\"Northwest\",\"Northwest\",\"Northwest\",\"Northwest\",\"Northwest\",\"Northwest\",\"Northwest\",\"Northwest\",\"Northwest\",\"Northwest\",\"Northwest\",\"Northwest\",\"Northwest\",\"Northwest\",\"Northwest\",\"Northwest\",\"Northwest\",\"Northwest\",\"Northwest\",\"Northwest\",\"Northwest\",\"Northwest\",\"Northwest\",\"Northwest\",\"Northwest\",\"Northwest\",\"Northwest\",\"Northwest\",\"Northwest\",\"Northwest\",\"Northwest\",\"Northwest\",\"Northwest\",\"Northwest\",\"Northwest\",\"Southwest\",\"Southwest\",\"Southwest\",\"Southwest\",\"Southwest\",\"Southwest\",\"Southwest\",\"Southwest\",\"Southwest\",\"Southwest\",\"Southwest\",\"Southwest\",\"Southwest\",\"Southwest\",\"Southwest\",\"Southwest\",\"Southwest\",\"Southwest\",\"Northeast\",\"Northeast\",\"Northeast\",\"Northeast\",\"Northeast\",\"Northeast\",\"Northeast\",\"Northeast\",\"Northeast\",\"Northeast\",\"Northeast\",\"Northeast\",\"Northeast\",\"Northeast\",\"Northeast\",\"Northeast\",\"Northeast\",\"Northeast\",\"Northeast\",\"Northeast\",\"Northeast\",\"Northeast\",\"Northeast\",\"Northeast\",\"Northeast\",\"Northeast\",\"Northeast\",\"Northeast\",\"Northeast\",\"Northeast\",\"Northeast\",\"Central\",\"Southwest\",\"Southwest\",\"Southwest\",\"Southwest\",\"Southwest\",\"Southwest\",\"Southwest\",\"Southwest\",\"Southwest\",\"Southwest\",\"Southwest\",\"Southwest\",\"Southwest\",\"Southwest\",\"Southwest\",\"Southwest\",\"Southwest\",\"Southwest\",\"Southwest\",\"Southwest\",\"Southwest\",\"Southwest\",\"Southwest\",\"Southwest\",\"Southwest\",\"Southwest\",\"Southwest\",\"Southwest\",\"Southwest\",\"Southwest\",\"Southwest\",\"Southwest\",\"Southwest\",\"Southwest\",\"Southwest\",\"Central\",\"Central\",\"Central\",\"Central\",\"Central\",\"Central\",\"Central\",\"Central\",\"Central\",\"Central\",\"Central\",\"Central\",\"Central\",\"Central\",\"Southeast\",\"Southeast\",\"Southeast\",\"Southeast\",\"Northeast\",\"Northeast\",\"Northeast\",\"Northeast\",\"Northeast\",\"Northeast\",\"Northeast\",\"Northeast\",\"Northeast\",\"Northeast\",\"Northwest\",\"Northwest\",\"Northwest\",\"Northwest\",\"Northwest\",\"Northwest\",\"Northwest\",\"Northwest\",\"Northwest\",\"Northwest\",\"Northwest\",\"Northwest\",\"Northwest\",\"Northwest\",\"Northwest\",\"Northwest\",\"Northwest\",\"Northwest\",\"Northwest\",\"Northwest\",\"Central\",\"Central\",\"Central\",\"Central\",\"Central\",\"Northeast\",\"Northeast\",\"Northeast\",\"Northeast\",\"Northeast\",\"Northeast\",\"Northeast\",\"Northeast\",\"Northeast\",\"Northeast\",\"Northeast\",\"Northeast\",\"Northeast\",\"Northeast\",\"Northeast\",\"Northeast\",\"Northeast\",\"Northeast\",\"Northeast\",\"Northeast\",\"Northeast\",\"Northeast\",\"Northeast\",\"Northeast\",\"Northeast\",\"Northeast\",\"Northeast\",\"Northeast\",\"Northeast\",\"Northeast\",\"Northeast\",\"Northeast\",\"Northeast\",\"Northeast\",\"Northeast\",\"Northeast\",\"Northeast\",\"East North Central\",\"East North Central\",\"East North Central\",\"East North Central\",\"East North Central\",\"West North Central\",\"Northeast\",\"Northeast\",\"Northeast\",\"Northeast\",\"Northeast\",\"Northeast\",\"Northeast\",\"Northeast\",\"Northeast\",\"Northeast\",\"Northeast\",\"Northeast\",\"Northeast\",\"Southeast\",\"Southeast\",\"West\",\"West\",\"West\",\"West\",\"West\",\"West\",\"West\",\"West\",\"West\",\"West\",\"West\",\"West\",\"West\",\"West\",\"West\",\"West\",\"West\",\"West\",\"West\",\"West\",\"West\",\"West\",\"West\",\"West\",\"South\",\"South\",\"South\",\"South\",\"South\",\"South\",\"Southeast\",\"West North Central\",\"West North Central\",\"West North Central\",\"Southwest\",\"Southwest\",\"Southwest\",\"Southwest\",\"Southwest\",\"Southwest\",\"Northeast\",\"Northeast\",\"Northeast\",\"Northeast\",\"Northeast\",\"Northeast\",\"Northeast\",\"Northeast\",\"Northeast\",\"Southeast\",\"Northeast\",\"Northeast\",\"Northeast\",\"Northeast\",\"Northeast\",\"Northeast\",\"Northeast\",\"Northeast\",\"South\",\"South\",\"South\",\"Northeast\",\"Northeast\",\"Northeast\",\"Northeast\",\"Northeast\",\"Northeast\",\"Northeast\",\"Northeast\",\"Northeast\",\"Northeast\",\"Northeast\",\"Northeast\",\"Northeast\",\"Northeast\",\"Northeast\",\"Northeast\",\"Northeast\",\"Northeast\",\"Northeast\",\"Northeast\",\"Northeast\",\"Northeast\",\"Northeast\",\"Northeast\",\"Northeast\",\"Northeast\",\"Northeast\",\"West\",\"West\",\"West\",\"West\",\"West\",\"West\",\"West\",\"Southwest\",\"Southwest\",\"Southwest\",\"Southwest\",\"Southwest\",\"South\",\"South\",\"South\",\"Northwest\",\"Northwest\",\"Northwest\",\"Northwest\",\"Northwest\"],\"xaxis\":\"x\",\"yaxis\":\"y\",\"type\":\"histogram\"},{\"alignmentgroup\":\"True\",\"bingroup\":\"x\",\"hovertemplate\":\"CAUSE.CATEGORY=system operability disruption\\u003cbr\\u003eCLIMATE.REGION=%{x}\\u003cbr\\u003ecount=%{y}\\u003cextra\\u003e\\u003c\\u002fextra\\u003e\",\"legendgroup\":\"system operability disruption\",\"marker\":{\"color\":\"#00cc96\",\"pattern\":{\"shape\":\"\"}},\"name\":\"system operability disruption\",\"offsetgroup\":\"system operability disruption\",\"orientation\":\"v\",\"showlegend\":true,\"x\":[\"Central\",\"Central\",\"Central\",\"East North Central\",\"East North Central\",\"East North Central\",\"South\",\"South\",\"South\",\"South\",\"South\",\"South\",\"South\",\"South\",\"South\",\"South\",\"South\",\"South\",\"South\",\"South\",\"South\",\"South\",\"South\",\"South\",\"South\",\"South\",\"Central\",\"Central\",\"Central\",\"Central\",\"Central\",\"South\",\"Northwest\",\"Southwest\",\"Southwest\",\"Northeast\",\"Northeast\",\"Northeast\",\"Southwest\",\"Southwest\",\"Central\",\"Central\",\"Southeast\",\"Southeast\",\"Southeast\",\"Southeast\",\"Southeast\",\"Northeast\",\"Northeast\",\"Central\",\"Northeast\",\"Northeast\",\"Northeast\",\"Northeast\",\"Northeast\",\"Northeast\",\"Northeast\",\"Northeast\",\"South\",\"South\",\"South\",\"South\",\"South\",\"South\",\"Southeast\",\"Southeast\",\"Southeast\",\"Southeast\",\"Southeast\",\"Southeast\",\"Southeast\",\"Southeast\",\"Southeast\",\"Southeast\",\"West\",\"West\",\"West\",\"West\",\"West\",\"West\",\"West\",\"West\",\"West\",\"West\",\"West\",\"West\",\"West\",\"West\",\"West\",\"West\",\"West\",\"West\",\"West\",\"West\",\"West\",\"West\",\"West\",\"West\",\"West\",\"West\",\"West\",\"West\",\"West\",\"West\",\"West\",\"West\",\"West\",\"West\",\"West\",\"West\",\"West\",\"West\",\"West\",\"West\",\"West\",\"Southeast\",\"Southwest\",\"Northeast\",\"Northeast\",\"Southwest\",\"Southwest\",\"Southwest\",\"Southwest\",null,\"Northwest\",\"Northwest\",\"Northwest\"],\"xaxis\":\"x\",\"yaxis\":\"y\",\"type\":\"histogram\"},{\"alignmentgroup\":\"True\",\"bingroup\":\"x\",\"hovertemplate\":\"CAUSE.CATEGORY=equipment failure\\u003cbr\\u003eCLIMATE.REGION=%{x}\\u003cbr\\u003ecount=%{y}\\u003cextra\\u003e\\u003c\\u002fextra\\u003e\",\"legendgroup\":\"equipment failure\",\"marker\":{\"color\":\"#ab63fa\",\"pattern\":{\"shape\":\"\"}},\"name\":\"equipment failure\",\"offsetgroup\":\"equipment failure\",\"orientation\":\"v\",\"showlegend\":true,\"x\":[\"Central\",\"Central\",\"East North Central\",\"East North Central\",\"East North Central\",\"South\",\"South\",\"South\",\"South\",\"South\",\"South\",\"Central\",\"Central\",\"Central\",\"Northwest\",\"Southwest\",\"Southwest\",\"Southwest\",\"Southwest\",\"Northeast\",\"Central\",\"Southwest\",\"Central\",\"Northwest\",\"Northeast\",\"Northeast\",\"Northeast\",\"Northeast\",\"South\",\"South\",\"South\",\"Southeast\",\"Southeast\",\"Southeast\",\"Southeast\",\"West\",\"West\",\"West\",\"West\",\"West\",\"West\",\"West\",\"West\",\"West\",\"West\",\"West\",\"West\",\"West\",\"West\",\"West\",\"West\",\"West\",\"West\",\"West\",\"West\",\"West\",\"South\",\"Southeast\",\"West North Central\",null],\"xaxis\":\"x\",\"yaxis\":\"y\",\"type\":\"histogram\"},{\"alignmentgroup\":\"True\",\"bingroup\":\"x\",\"hovertemplate\":\"CAUSE.CATEGORY=public appeal\\u003cbr\\u003eCLIMATE.REGION=%{x}\\u003cbr\\u003ecount=%{y}\\u003cextra\\u003e\\u003c\\u002fextra\\u003e\",\"legendgroup\":\"public appeal\",\"marker\":{\"color\":\"#FFA15A\",\"pattern\":{\"shape\":\"\"}},\"name\":\"public appeal\",\"offsetgroup\":\"public appeal\",\"orientation\":\"v\",\"showlegend\":true,\"x\":[\"Central\",\"East North Central\",\"East North Central\",\"South\",\"South\",\"South\",\"South\",\"South\",\"South\",\"South\",\"South\",\"South\",\"South\",\"South\",\"South\",\"South\",\"South\",\"South\",\"South\",\"South\",\"Central\",\"Northwest\",\"Southwest\",\"Northeast\",\"Northeast\",\"Northeast\",\"Northeast\",\"South\",\"South\",\"South\",\"South\",\"South\",\"South\",\"South\",\"South\",\"South\",\"South\",\"South\",\"South\",\"South\",\"South\",\"Southeast\",\"Southeast\",\"Southeast\",\"West\",\"West\",\"West\",\"West\",\"West\",\"West\",\"West\",\"West\",\"West\",\"South\",\"South\",\"South\",\"South\",\"South\",\"South\",\"South\",\"Southeast\",\"Southeast\",\"West North Central\",\"South\",\"South\",\"South\",\"South\",\"Northwest\",\"West North Central\"],\"xaxis\":\"x\",\"yaxis\":\"y\",\"type\":\"histogram\"},{\"alignmentgroup\":\"True\",\"bingroup\":\"x\",\"hovertemplate\":\"CAUSE.CATEGORY=fuel supply emergency\\u003cbr\\u003eCLIMATE.REGION=%{x}\\u003cbr\\u003ecount=%{y}\\u003cextra\\u003e\\u003c\\u002fextra\\u003e\",\"legendgroup\":\"fuel supply emergency\",\"marker\":{\"color\":\"#19d3f3\",\"pattern\":{\"shape\":\"\"}},\"name\":\"fuel supply emergency\",\"offsetgroup\":\"fuel supply emergency\",\"orientation\":\"v\",\"showlegend\":true,\"x\":[\"East North Central\",\"East North Central\",\"East North Central\",\"East North Central\",\"East North Central\",\"South\",\"South\",\"South\",\"South\",\"South\",\"South\",\"Central\",\"Central\",\"Northwest\",\"Central\",\"Central\",\"Northeast\",\"Northeast\",\"Northeast\",\"Northeast\",\"Northeast\",\"Northeast\",\"Northeast\",\"Northeast\",\"Northeast\",\"Northeast\",\"Northeast\",\"Northeast\",\"South\",\"West\",\"West\",\"West\",\"West\",\"West\",\"West\",\"West\",\"West\",\"West\",\"West\",\"West\",\"West\",\"West\",\"West\",\"West\",\"West\",\"West\",\"Southwest\",\"Northeast\",\"Northeast\",\"Southwest\",\"West North Central\"],\"xaxis\":\"x\",\"yaxis\":\"y\",\"type\":\"histogram\"},{\"alignmentgroup\":\"True\",\"bingroup\":\"x\",\"hovertemplate\":\"CAUSE.CATEGORY=islanding\\u003cbr\\u003eCLIMATE.REGION=%{x}\\u003cbr\\u003ecount=%{y}\\u003cextra\\u003e\\u003c\\u002fextra\\u003e\",\"legendgroup\":\"islanding\",\"marker\":{\"color\":\"#FF6692\",\"pattern\":{\"shape\":\"\"}},\"name\":\"islanding\",\"offsetgroup\":\"islanding\",\"orientation\":\"v\",\"showlegend\":true,\"x\":[\"East North Central\",\"Central\",\"Central\",\"Central\",\"Northwest\",\"Northwest\",\"Northwest\",\"Northwest\",\"Northwest\",\"West North Central\",\"West North Central\",\"West\",\"West\",\"West\",\"West\",\"West\",\"West\",\"West\",\"West\",\"West\",\"West\",\"West\",\"West\",\"West\",\"West\",\"West\",\"West\",\"West\",\"West\",\"West\",\"West\",\"West\",\"West\",\"West\",\"West\",\"West\",\"West\",\"West\",\"West\",\"South\",\"West North Central\",\"South\",\"Northeast\",\"Southwest\",\"West North Central\",\"West North Central\"],\"xaxis\":\"x\",\"yaxis\":\"y\",\"type\":\"histogram\"}],                        {\"template\":{\"data\":{\"histogram2dcontour\":[{\"type\":\"histogram2dcontour\",\"colorbar\":{\"outlinewidth\":0,\"ticks\":\"\"},\"colorscale\":[[0.0,\"#0d0887\"],[0.1111111111111111,\"#46039f\"],[0.2222222222222222,\"#7201a8\"],[0.3333333333333333,\"#9c179e\"],[0.4444444444444444,\"#bd3786\"],[0.5555555555555556,\"#d8576b\"],[0.6666666666666666,\"#ed7953\"],[0.7777777777777778,\"#fb9f3a\"],[0.8888888888888888,\"#fdca26\"],[1.0,\"#f0f921\"]]}],\"choropleth\":[{\"type\":\"choropleth\",\"colorbar\":{\"outlinewidth\":0,\"ticks\":\"\"}}],\"histogram2d\":[{\"type\":\"histogram2d\",\"colorbar\":{\"outlinewidth\":0,\"ticks\":\"\"},\"colorscale\":[[0.0,\"#0d0887\"],[0.1111111111111111,\"#46039f\"],[0.2222222222222222,\"#7201a8\"],[0.3333333333333333,\"#9c179e\"],[0.4444444444444444,\"#bd3786\"],[0.5555555555555556,\"#d8576b\"],[0.6666666666666666,\"#ed7953\"],[0.7777777777777778,\"#fb9f3a\"],[0.8888888888888888,\"#fdca26\"],[1.0,\"#f0f921\"]]}],\"heatmap\":[{\"type\":\"heatmap\",\"colorbar\":{\"outlinewidth\":0,\"ticks\":\"\"},\"colorscale\":[[0.0,\"#0d0887\"],[0.1111111111111111,\"#46039f\"],[0.2222222222222222,\"#7201a8\"],[0.3333333333333333,\"#9c179e\"],[0.4444444444444444,\"#bd3786\"],[0.5555555555555556,\"#d8576b\"],[0.6666666666666666,\"#ed7953\"],[0.7777777777777778,\"#fb9f3a\"],[0.8888888888888888,\"#fdca26\"],[1.0,\"#f0f921\"]]}],\"heatmapgl\":[{\"type\":\"heatmapgl\",\"colorbar\":{\"outlinewidth\":0,\"ticks\":\"\"},\"colorscale\":[[0.0,\"#0d0887\"],[0.1111111111111111,\"#46039f\"],[0.2222222222222222,\"#7201a8\"],[0.3333333333333333,\"#9c179e\"],[0.4444444444444444,\"#bd3786\"],[0.5555555555555556,\"#d8576b\"],[0.6666666666666666,\"#ed7953\"],[0.7777777777777778,\"#fb9f3a\"],[0.8888888888888888,\"#fdca26\"],[1.0,\"#f0f921\"]]}],\"contourcarpet\":[{\"type\":\"contourcarpet\",\"colorbar\":{\"outlinewidth\":0,\"ticks\":\"\"}}],\"contour\":[{\"type\":\"contour\",\"colorbar\":{\"outlinewidth\":0,\"ticks\":\"\"},\"colorscale\":[[0.0,\"#0d0887\"],[0.1111111111111111,\"#46039f\"],[0.2222222222222222,\"#7201a8\"],[0.3333333333333333,\"#9c179e\"],[0.4444444444444444,\"#bd3786\"],[0.5555555555555556,\"#d8576b\"],[0.6666666666666666,\"#ed7953\"],[0.7777777777777778,\"#fb9f3a\"],[0.8888888888888888,\"#fdca26\"],[1.0,\"#f0f921\"]]}],\"surface\":[{\"type\":\"surface\",\"colorbar\":{\"outlinewidth\":0,\"ticks\":\"\"},\"colorscale\":[[0.0,\"#0d0887\"],[0.1111111111111111,\"#46039f\"],[0.2222222222222222,\"#7201a8\"],[0.3333333333333333,\"#9c179e\"],[0.4444444444444444,\"#bd3786\"],[0.5555555555555556,\"#d8576b\"],[0.6666666666666666,\"#ed7953\"],[0.7777777777777778,\"#fb9f3a\"],[0.8888888888888888,\"#fdca26\"],[1.0,\"#f0f921\"]]}],\"mesh3d\":[{\"type\":\"mesh3d\",\"colorbar\":{\"outlinewidth\":0,\"ticks\":\"\"}}],\"scatter\":[{\"fillpattern\":{\"fillmode\":\"overlay\",\"size\":10,\"solidity\":0.2},\"type\":\"scatter\"}],\"parcoords\":[{\"type\":\"parcoords\",\"line\":{\"colorbar\":{\"outlinewidth\":0,\"ticks\":\"\"}}}],\"scatterpolargl\":[{\"type\":\"scatterpolargl\",\"marker\":{\"colorbar\":{\"outlinewidth\":0,\"ticks\":\"\"}}}],\"bar\":[{\"error_x\":{\"color\":\"#2a3f5f\"},\"error_y\":{\"color\":\"#2a3f5f\"},\"marker\":{\"line\":{\"color\":\"#E5ECF6\",\"width\":0.5},\"pattern\":{\"fillmode\":\"overlay\",\"size\":10,\"solidity\":0.2}},\"type\":\"bar\"}],\"scattergeo\":[{\"type\":\"scattergeo\",\"marker\":{\"colorbar\":{\"outlinewidth\":0,\"ticks\":\"\"}}}],\"scatterpolar\":[{\"type\":\"scatterpolar\",\"marker\":{\"colorbar\":{\"outlinewidth\":0,\"ticks\":\"\"}}}],\"histogram\":[{\"marker\":{\"pattern\":{\"fillmode\":\"overlay\",\"size\":10,\"solidity\":0.2}},\"type\":\"histogram\"}],\"scattergl\":[{\"type\":\"scattergl\",\"marker\":{\"colorbar\":{\"outlinewidth\":0,\"ticks\":\"\"}}}],\"scatter3d\":[{\"type\":\"scatter3d\",\"line\":{\"colorbar\":{\"outlinewidth\":0,\"ticks\":\"\"}},\"marker\":{\"colorbar\":{\"outlinewidth\":0,\"ticks\":\"\"}}}],\"scattermapbox\":[{\"type\":\"scattermapbox\",\"marker\":{\"colorbar\":{\"outlinewidth\":0,\"ticks\":\"\"}}}],\"scatterternary\":[{\"type\":\"scatterternary\",\"marker\":{\"colorbar\":{\"outlinewidth\":0,\"ticks\":\"\"}}}],\"scattercarpet\":[{\"type\":\"scattercarpet\",\"marker\":{\"colorbar\":{\"outlinewidth\":0,\"ticks\":\"\"}}}],\"carpet\":[{\"aaxis\":{\"endlinecolor\":\"#2a3f5f\",\"gridcolor\":\"white\",\"linecolor\":\"white\",\"minorgridcolor\":\"white\",\"startlinecolor\":\"#2a3f5f\"},\"baxis\":{\"endlinecolor\":\"#2a3f5f\",\"gridcolor\":\"white\",\"linecolor\":\"white\",\"minorgridcolor\":\"white\",\"startlinecolor\":\"#2a3f5f\"},\"type\":\"carpet\"}],\"table\":[{\"cells\":{\"fill\":{\"color\":\"#EBF0F8\"},\"line\":{\"color\":\"white\"}},\"header\":{\"fill\":{\"color\":\"#C8D4E3\"},\"line\":{\"color\":\"white\"}},\"type\":\"table\"}],\"barpolar\":[{\"marker\":{\"line\":{\"color\":\"#E5ECF6\",\"width\":0.5},\"pattern\":{\"fillmode\":\"overlay\",\"size\":10,\"solidity\":0.2}},\"type\":\"barpolar\"}],\"pie\":[{\"automargin\":true,\"type\":\"pie\"}]},\"layout\":{\"autotypenumbers\":\"strict\",\"colorway\":[\"#636efa\",\"#EF553B\",\"#00cc96\",\"#ab63fa\",\"#FFA15A\",\"#19d3f3\",\"#FF6692\",\"#B6E880\",\"#FF97FF\",\"#FECB52\"],\"font\":{\"color\":\"#2a3f5f\"},\"hovermode\":\"closest\",\"hoverlabel\":{\"align\":\"left\"},\"paper_bgcolor\":\"white\",\"plot_bgcolor\":\"#E5ECF6\",\"polar\":{\"bgcolor\":\"#E5ECF6\",\"angularaxis\":{\"gridcolor\":\"white\",\"linecolor\":\"white\",\"ticks\":\"\"},\"radialaxis\":{\"gridcolor\":\"white\",\"linecolor\":\"white\",\"ticks\":\"\"}},\"ternary\":{\"bgcolor\":\"#E5ECF6\",\"aaxis\":{\"gridcolor\":\"white\",\"linecolor\":\"white\",\"ticks\":\"\"},\"baxis\":{\"gridcolor\":\"white\",\"linecolor\":\"white\",\"ticks\":\"\"},\"caxis\":{\"gridcolor\":\"white\",\"linecolor\":\"white\",\"ticks\":\"\"}},\"coloraxis\":{\"colorbar\":{\"outlinewidth\":0,\"ticks\":\"\"}},\"colorscale\":{\"sequential\":[[0.0,\"#0d0887\"],[0.1111111111111111,\"#46039f\"],[0.2222222222222222,\"#7201a8\"],[0.3333333333333333,\"#9c179e\"],[0.4444444444444444,\"#bd3786\"],[0.5555555555555556,\"#d8576b\"],[0.6666666666666666,\"#ed7953\"],[0.7777777777777778,\"#fb9f3a\"],[0.8888888888888888,\"#fdca26\"],[1.0,\"#f0f921\"]],\"sequentialminus\":[[0.0,\"#0d0887\"],[0.1111111111111111,\"#46039f\"],[0.2222222222222222,\"#7201a8\"],[0.3333333333333333,\"#9c179e\"],[0.4444444444444444,\"#bd3786\"],[0.5555555555555556,\"#d8576b\"],[0.6666666666666666,\"#ed7953\"],[0.7777777777777778,\"#fb9f3a\"],[0.8888888888888888,\"#fdca26\"],[1.0,\"#f0f921\"]],\"diverging\":[[0,\"#8e0152\"],[0.1,\"#c51b7d\"],[0.2,\"#de77ae\"],[0.3,\"#f1b6da\"],[0.4,\"#fde0ef\"],[0.5,\"#f7f7f7\"],[0.6,\"#e6f5d0\"],[0.7,\"#b8e186\"],[0.8,\"#7fbc41\"],[0.9,\"#4d9221\"],[1,\"#276419\"]]},\"xaxis\":{\"gridcolor\":\"white\",\"linecolor\":\"white\",\"ticks\":\"\",\"title\":{\"standoff\":15},\"zerolinecolor\":\"white\",\"automargin\":true,\"zerolinewidth\":2},\"yaxis\":{\"gridcolor\":\"white\",\"linecolor\":\"white\",\"ticks\":\"\",\"title\":{\"standoff\":15},\"zerolinecolor\":\"white\",\"automargin\":true,\"zerolinewidth\":2},\"scene\":{\"xaxis\":{\"backgroundcolor\":\"#E5ECF6\",\"gridcolor\":\"white\",\"linecolor\":\"white\",\"showbackground\":true,\"ticks\":\"\",\"zerolinecolor\":\"white\",\"gridwidth\":2},\"yaxis\":{\"backgroundcolor\":\"#E5ECF6\",\"gridcolor\":\"white\",\"linecolor\":\"white\",\"showbackground\":true,\"ticks\":\"\",\"zerolinecolor\":\"white\",\"gridwidth\":2},\"zaxis\":{\"backgroundcolor\":\"#E5ECF6\",\"gridcolor\":\"white\",\"linecolor\":\"white\",\"showbackground\":true,\"ticks\":\"\",\"zerolinecolor\":\"white\",\"gridwidth\":2}},\"shapedefaults\":{\"line\":{\"color\":\"#2a3f5f\"}},\"annotationdefaults\":{\"arrowcolor\":\"#2a3f5f\",\"arrowhead\":0,\"arrowwidth\":1},\"geo\":{\"bgcolor\":\"white\",\"landcolor\":\"#E5ECF6\",\"subunitcolor\":\"white\",\"showland\":true,\"showlakes\":true,\"lakecolor\":\"white\"},\"title\":{\"x\":0.05},\"mapbox\":{\"style\":\"light\"}}},\"xaxis\":{\"anchor\":\"y\",\"domain\":[0.0,1.0],\"title\":{\"text\":\"CLIMATE.REGION\"}},\"yaxis\":{\"anchor\":\"x\",\"domain\":[0.0,1.0],\"title\":{\"text\":\"count\"}},\"legend\":{\"title\":{\"text\":\"CAUSE.CATEGORY\"},\"tracegroupgap\":0},\"title\":{\"text\":\"Cause by Region\"},\"barmode\":\"group\"},                        {\"responsive\": true}                    ).then(function(){\n",
       "                            \n",
       "var gd = document.getElementById('99e0aef2-c942-4cc8-92a4-c3c046229ceb');\n",
       "var x = new MutationObserver(function (mutations, observer) {{\n",
       "        var display = window.getComputedStyle(gd).display;\n",
       "        if (!display || display === 'none') {{\n",
       "            console.log([gd, 'removed!']);\n",
       "            Plotly.purge(gd);\n",
       "            observer.disconnect();\n",
       "        }}\n",
       "}});\n",
       "\n",
       "// Listen for the removal of the full notebook cells\n",
       "var notebookContainer = gd.closest('#notebook-container');\n",
       "if (notebookContainer) {{\n",
       "    x.observe(notebookContainer, {childList: true});\n",
       "}}\n",
       "\n",
       "// Listen for the clearing of the current output cell\n",
       "var outputEl = gd.closest('.output');\n",
       "if (outputEl) {{\n",
       "    x.observe(outputEl, {childList: true});\n",
       "}}\n",
       "\n",
       "                        })                };                });            </script>        </div>"
      ]
     },
     "metadata": {},
     "output_type": "display_data"
    }
   ],
   "source": [
    "fig1 = px.histogram(df, x='CLIMATE.REGION', \n",
    "                   title='Cause by Region', \n",
    "                   color = 'CAUSE.CATEGORY',\n",
    "                   barmode = 'group',\n",
    "                   labels={'x': 'Region', 'y': 'Frequency'})\n",
    "fig1.show()"
   ]
  },
  {
   "cell_type": "markdown",
   "metadata": {},
   "source": [
    "## Step 3: Assessment of Missingness"
   ]
  },
  {
   "cell_type": "code",
   "execution_count": null,
   "metadata": {
    "ExecuteTime": {
     "end_time": "2019-10-31T23:36:28.662099Z",
     "start_time": "2019-10-31T23:36:28.660016Z"
    }
   },
   "outputs": [],
   "source": [
    "# TODO"
   ]
  },
  {
   "cell_type": "markdown",
   "metadata": {},
   "source": [
    "## Step 4: Hypothesis Testing"
   ]
  },
  {
   "cell_type": "code",
   "execution_count": null,
   "metadata": {
    "ExecuteTime": {
     "end_time": "2019-10-31T23:36:28.666489Z",
     "start_time": "2019-10-31T23:36:28.664381Z"
    }
   },
   "outputs": [],
   "source": [
    "# TODO"
   ]
  },
  {
   "cell_type": "markdown",
   "metadata": {},
   "source": [
    "## Step 5: Framing a Prediction Problem"
   ]
  },
  {
   "cell_type": "code",
   "execution_count": null,
   "metadata": {
    "ExecuteTime": {
     "end_time": "2019-10-31T23:36:28.657068Z",
     "start_time": "2019-10-31T23:36:28.654650Z"
    }
   },
   "outputs": [],
   "source": [
    "# TODO"
   ]
  },
  {
   "cell_type": "markdown",
   "metadata": {},
   "source": [
    "## Step 6: Baseline Model"
   ]
  },
  {
   "cell_type": "code",
   "execution_count": null,
   "metadata": {
    "ExecuteTime": {
     "end_time": "2019-10-31T23:36:28.662099Z",
     "start_time": "2019-10-31T23:36:28.660016Z"
    }
   },
   "outputs": [],
   "source": [
    "# TODO"
   ]
  },
  {
   "cell_type": "markdown",
   "metadata": {},
   "source": [
    "## Step 7: Final Model"
   ]
  },
  {
   "cell_type": "code",
   "execution_count": null,
   "metadata": {
    "ExecuteTime": {
     "end_time": "2019-10-31T23:36:28.662099Z",
     "start_time": "2019-10-31T23:36:28.660016Z"
    }
   },
   "outputs": [],
   "source": [
    "# TODO"
   ]
  },
  {
   "cell_type": "markdown",
   "metadata": {},
   "source": [
    "## Step 8: Fairness Analysis"
   ]
  },
  {
   "cell_type": "code",
   "execution_count": null,
   "metadata": {
    "ExecuteTime": {
     "end_time": "2019-10-31T23:36:28.666489Z",
     "start_time": "2019-10-31T23:36:28.664381Z"
    }
   },
   "outputs": [],
   "source": [
    "# TODO"
   ]
  }
 ],
 "metadata": {
  "kernelspec": {
   "display_name": "Python 3 (ipykernel)",
   "language": "python",
   "name": "python3"
  },
  "language_info": {
   "codemirror_mode": {
    "name": "ipython",
    "version": 3
   },
   "file_extension": ".py",
   "mimetype": "text/x-python",
   "name": "python",
   "nbconvert_exporter": "python",
   "pygments_lexer": "ipython3",
   "version": "3.8.19"
  }
 },
 "nbformat": 4,
 "nbformat_minor": 2
}
